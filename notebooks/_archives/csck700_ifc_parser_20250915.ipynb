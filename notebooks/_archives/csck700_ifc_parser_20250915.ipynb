{
 "cells": [
  {
   "cell_type": "markdown",
   "id": "9fc2e2b4-33ed-45d7-af4b-964dae4971a1",
   "metadata": {},
   "source": [
    "# Title: csck700_ifc_parser"
   ]
  },
  {
   "cell_type": "markdown",
   "id": "97740413-1bd3-4438-afeb-4f2abf7760cf",
   "metadata": {},
   "source": [
    "### The module parses an IFC model to extract the IFcElements, their properties and relationships and loads them to nodes and edges into Neo4J."
   ]
  },
  {
   "cell_type": "markdown",
   "id": "7344a75e-b155-48d8-a350-db5f42b002a0",
   "metadata": {},
   "source": [
    "# 0. Table of content:"
   ]
  },
  {
   "cell_type": "markdown",
   "id": "904105a4-1938-4749-a674-dbaf1b90425b",
   "metadata": {},
   "source": [
    "- [1. Settings:](#1.-Settings:)  \n",
    "- [2. Imports:](#2.-Imports:)  \n",
    "- [3. Helper functions:](#3.-Helper-functions:)  \n",
    "    - [3.1. Proxy entities handling:](#3.1.-Proxy-entities-handling:)  \n",
    "    - [3.2. IfcRelationships - Edges:](#3.2.-IfcRelationships---Edges:)  \n",
    "    - [3.3. IfcEntities - Nodes:](#3.3.-IfcEntities---Nodes:)  \n",
    "    - [3.4. Sanity Checks:](#3.3.-Sanity-Checks:)\n",
    "    - [3.5. Graph schema definition:](#3.5.-Graph-schema-definition:)  \n",
    "    - [3.6. Nodes insertion & Relationshsips/edges insertion:](#3.6.-Nodes-insertion-&-Relationshsips/edges-insertion:)\n",
    "    - [3.7. Graph integrity:](#3.7.-Graph-integrity:)\n",
    "- [4. Data load:](#4.-Data-load:)\n",
    "- [5. Proxy entities handling:](#5.-Proxy-entities-handling:)  \n",
    "- [6. IFC Parsing:](#5.-IFC-Parsing:)  \n",
    "    - [6.1. IfcRelationships - Edges Preparation:](#6.1.-IfcRelationships---Edges-Preparation:)  \n",
    "    - [6.2. IfcEntities - Nodes Preparation:](#6.2.-IfcEntities---Nodes-Preparation:)  \n",
    "    - [6.3. Sanity Checks:](#6.3.-Sanity-Checks:)  \n",
    "- [7. Neo4J graph:](#7.-Neo4J-graph:)\n",
    "    - [7.1. Graph schema definition:](#7.1.-Graph-schema-definition:)\n",
    "    - [7.2. Graph creation:](#7.2.-Graph-creation:)  \n",
    "    - [7.3. Graph integrity:](#7.3.-Graph-integrity:)\n",
    "    - [7.4. Exploration & visualization:](#7.4.-Exploration-&-visualization:)\n",
    "    - [7.5. Graph summary:](#7.5.-Graph-summary:)      "
   ]
  },
  {
   "cell_type": "markdown",
   "id": "62008d32-c40c-472b-a1cb-d4a975892ffd",
   "metadata": {},
   "source": [
    "# 1. Settings:"
   ]
  },
  {
   "cell_type": "code",
   "execution_count": 1,
   "id": "27b591f4-2277-45a7-8c04-ea87b8fb0a07",
   "metadata": {},
   "outputs": [],
   "source": [
    "IFC_PATH = r\"..\\data\\raw\\Building-Structural.ifc\"\n",
    "\n",
    "NEO4J_URI = \"bolt://localhost:7687\"\n",
    "NEO4J_USER = \"neo4j\"\n",
    "NEO4J_PASSWORD = \"TitineTiteFiro@1952\"\n",
    "DATABASE = \"capstone\""
   ]
  },
  {
   "cell_type": "code",
   "execution_count": 2,
   "id": "2d693dc5-6e28-4bd9-9fc4-cd504cd45307",
   "metadata": {},
   "outputs": [],
   "source": [
    "REL_MAP ={\n",
    "    \"IfcRelDefinesByProperties\": (\"RelatingPropertyDefinition\", \"RelatedObjects\", None),\n",
    "    \"IfcRelDefinesByType\": (\"RelatingType\", \"RelatedObjects\", \"DEFINED_BY_TYPE\"),\n",
    "    \"IfcRelAssociatesMaterial\": (\"RelatingMaterial\", \"RelatedObjects\", \"ASSOCIATED_MATERIAL\"),\n",
    "    \"IfcRelContainedInSpatialStructure\": (\"RelatingStructure\", \"RelatedElements\", \"CONTAINED_IN\"),\n",
    "    \"IfcRelAggregates\": (\"RelatingObject\", \"RelatedObjects\", \"AGGREGATES\"),\n",
    "    \"IfcRelAssociatesClassification\": (\"RelatingClassification\", \"RelatedObjects\", \"ASSOCIATED_CLASSIFICATION\")\n",
    "} "
   ]
  },
  {
   "cell_type": "markdown",
   "id": "a35a9c22-6640-4d92-a41e-05df562afeb9",
   "metadata": {},
   "source": [
    "# 2. Imports:"
   ]
  },
  {
   "cell_type": "code",
   "execution_count": 3,
   "id": "ea7c2f06-2f88-4f66-afa6-8793e5f7d349",
   "metadata": {},
   "outputs": [],
   "source": [
    "import ifcopenshell\n",
    "import ifcopenshell.util.element as util\n",
    "from neo4j import GraphDatabase\n",
    "from collections import Counter, defaultdict\n",
    "# !pip install yfiles-jupyter-graphs-for-neo4j\n",
    "from yfiles_jupyter_graphs_for_neo4j import Neo4jGraphWidget\n",
    "import json\n",
    "from IPython.display import JSON, display"
   ]
  },
  {
   "cell_type": "markdown",
   "id": "6c2bef45-a675-4ddf-b80e-f977cf088940",
   "metadata": {},
   "source": [
    "# 3. Helper functions:"
   ]
  },
  {
   "cell_type": "markdown",
   "id": "05aae793-5611-4f0a-bfd6-d1dd34035034",
   "metadata": {},
   "source": [
    "## 3.1. Proxy entities handling:"
   ]
  },
  {
   "cell_type": "code",
   "execution_count": 4,
   "id": "81bcf367-3648-4878-a7a1-e677528ad84e",
   "metadata": {},
   "outputs": [],
   "source": [
    "def proxies_analysis(model):\n",
    "    \"\"\"\n",
    "    Identify proxy elements, their related relationships, and dependent entities\n",
    "    that only exist through those relationships.\n",
    "    \"\"\"\n",
    "\n",
    "    # proxies identification:\n",
    "    proxies = {ent for ent in model if \"Proxy\" in ent.is_a()}\n",
    "\n",
    "    # relationships involved in proxies:\n",
    "    proxies_rels = {\n",
    "        r\n",
    "        for p in proxies\n",
    "        for r in model.get_inverse(p)\n",
    "        if hasattr(r, \"is_a\") and r.is_a(\"IfcRelationship\")\n",
    "    }\n",
    "\n",
    "    # other-side entities, non-proxy, non-relationship:\n",
    "    others = {\n",
    "        e \n",
    "        for r in proxies_rels\n",
    "        for v in r.get_info().values()\n",
    "        for e in (v if isinstance(v, (list, tuple, set)) else [v])\n",
    "        if hasattr(e, \"is_a\") and not e.is_a(\"IfcRelationship\") and e not in proxies\n",
    "    }\n",
    "\n",
    "    # isolated: no other relationship beyond proxy_rels:\n",
    "    isolated = {\n",
    "        o for o in others\n",
    "        if not any(r for r in model.get_inverse(o)\n",
    "                  if hasattr(r, \"is_a\") and r.is_a(\"IfcRelationship\") and r not in proxies_rels)\n",
    "    }\n",
    "\n",
    "    return proxies, proxies_rels, isolated"
   ]
  },
  {
   "cell_type": "code",
   "execution_count": 5,
   "id": "e725e7dd-5ff2-4f1d-be25-90d706079938",
   "metadata": {},
   "outputs": [],
   "source": [
    "def proxies_drop(model):\n",
    "    \"\"\"\n",
    "    Remove proxy elements, their associated relationships, and dependent isolated entities\n",
    "    from the IFC model to produce a cleaned version.\n",
    "    \"\"\"\n",
    "\n",
    "    proxies, proxies_rels, isolated = proxies_analysis(model)\n",
    "\n",
    "    # remove relationships that touch proxies:\n",
    "    for r in proxies_rels:\n",
    "        # run(\"entity.remove\", model, entity=r)\n",
    "        model.remove(r)\n",
    "\n",
    "    # remove ensuing isolated nodes:\n",
    "    for i in isolated:\n",
    "        # # run(\"entity.remove\", model, entity=i)\n",
    "        try:\n",
    "            model.remove(e)\n",
    "        except Exception:\n",
    "            pass\n",
    "\n",
    "    # remove proxies:\n",
    "    for p in proxies:\n",
    "        # run(\"entity.remove\", model, entity=p)\n",
    "        try:\n",
    "            model.remove(p)\n",
    "        except Exception:\n",
    "            pass\n",
    "\n",
    "    print(\"\\n====PROXIES REMOVAL COUNTS:====\\n\")\n",
    "    print(f\"relationships: {len(proxies_rels)}\")\n",
    "    print(f\"isolated nodes: {len(isolated)}\")\n",
    "    print(f\"proxies: {len(proxies)}\") \n",
    "\n",
    "    return model"
   ]
  },
  {
   "cell_type": "markdown",
   "id": "78d3829a-e361-4f1e-b269-0bd0b783d942",
   "metadata": {},
   "source": [
    "## 3.2. IfcRelationships - Edges:"
   ]
  },
  {
   "cell_type": "code",
   "execution_count": 6,
   "id": "781fbab0-84bd-41ca-b3c5-a9f0492707a5",
   "metadata": {},
   "outputs": [],
   "source": [
    "def identify_rel(model):\n",
    "    \"\"\"\n",
    "    Identify all distinct IfcRelationship classes present in the model.\n",
    "    \"\"\"\n",
    "\n",
    "    rel_classes = set()\n",
    "\n",
    "    rels = model.by_type(\"IfcRelationship\")\n",
    "\n",
    "    for rel in rels:\n",
    "        rel_classes.add(rel.is_a())\n",
    "\n",
    "    print(\"Identified relationship classes:\")  \n",
    "    for r in rel_classes:\n",
    "        print(f\"- {r}.\")\n",
    "        \n",
    "    return rel_classes"
   ]
  },
  {
   "cell_type": "code",
   "execution_count": 7,
   "id": "698d3c83-a658-4565-ae5a-6b90632cde98",
   "metadata": {},
   "outputs": [],
   "source": [
    "def obj_id(o):\n",
    "    \"\"\"\n",
    "    Returns the GUID of the given object, if present, else synthetic ClassName:step_id.\n",
    "\n",
    "    Non-IfcRoot entities (e.g. IfcMaterial, IfcClassificationReference)\n",
    "    do not have a GlobalId, so the fallback ensures uniqueness.\n",
    "    \"\"\"\n",
    "    return getattr(o, \"GlobalId\", f\"{o.is_a()}:{o.id()}\")"
   ]
  },
  {
   "cell_type": "code",
   "execution_count": 8,
   "id": "9db862f9-e5bf-47ba-8140-2500e4496500",
   "metadata": {},
   "outputs": [],
   "source": [
    "def as_list(v):\n",
    "    \"\"\"\n",
    "    Ensures the value is returned as a list.\n",
    "    \"\"\"\n",
    "    if v is None:\n",
    "        return []\n",
    "    return v if isinstance(v, (list, tuple)) else [v]"
   ]
  },
  {
   "cell_type": "code",
   "execution_count": 9,
   "id": "c2d8b711-29e8-4bed-8b3e-a3333305c08a",
   "metadata": {},
   "outputs": [],
   "source": [
    "def edges_maker(model, rel_map=REL_MAP, pset_qto=True):\n",
    "    \"\"\"\n",
    "    For a given model, creates a dictionary of edges (IfcRelationships exploded into from -> to pairs.\n",
    "    Returns:\n",
    "        - edges: a dictionary of edges with keys:\n",
    "            - id, labels, rel_class, rel_id, from, to.\n",
    "    \"\"\"\n",
    "\n",
    "    edges = dict()\n",
    "    pairs = set()\n",
    "\n",
    "    for rel_class, (relating_attr, related_attr, label) in rel_map.items():\n",
    "        for rel in model.by_type(rel_class):\n",
    "            relating = getattr(rel, relating_attr, None)\n",
    "            related = getattr(rel, related_attr, None)\n",
    "            if relating is None:\n",
    "                continue\n",
    "            \n",
    "            # distinction property set vs quantity set:\n",
    "            if rel_class == \"IfcRelDefinesByProperties\":\n",
    "                if pset_qto and relating.is_a(\"IfcElementQuantity\"):\n",
    "                    edge_label = \"DEFINED_BY_QUANTITIES\"\n",
    "                else:\n",
    "                    edge_label = \"DEFINED_BY_PROPERTIES\"\n",
    "            else:\n",
    "                edge_label = label\n",
    "\n",
    "            frm = obj_id(relating)\n",
    "            rel_gid = obj_id(rel)\n",
    "\n",
    "            # one-to-many relationships:\n",
    "            for r in as_list(related):\n",
    "                if r is None:\n",
    "                    continue\n",
    "                to  = obj_id(r)\n",
    "                \n",
    "                # sanity check:\n",
    "                pairs.add((rel_gid, frm, to))\n",
    "                \n",
    "                edge_id = f\"{rel_gid}:{frm}->{to}\"\n",
    "                edges[edge_id]={\n",
    "                    \"id\": edge_id,\n",
    "                    \"labels\": edge_label,\n",
    "                    \"rel_class\": rel_class,\n",
    "                    \"rel_id\": rel_gid,\n",
    "                    \"from\": frm,\n",
    "                    \"to\": to\n",
    "                }\n",
    "\n",
    "    expected = len(pairs)\n",
    "    actual = len(edges)\n",
    "    \n",
    "    # print(f\"Expected number of edges: {expected}.\")\n",
    "    # print(f\"Number of edges: {actual}.\")\n",
    "    \n",
    "    return expected, actual, edges"
   ]
  },
  {
   "cell_type": "markdown",
   "id": "7d981202-d014-40b7-be43-da4b8b2d2198",
   "metadata": {},
   "source": [
    "## 3.3. IfcEntities - Nodes:"
   ]
  },
  {
   "cell_type": "code",
   "execution_count": 10,
   "id": "42667233-2fff-46a6-b2b2-5d3d79b13bfb",
   "metadata": {},
   "outputs": [],
   "source": [
    "def get_entity_from_id(model, oid):\n",
    "    \"\"\"\n",
    "    Returns the Ifc entity from the given id or GUID.\n",
    "    \"\"\"\n",
    "\n",
    "    if isinstance(oid, str) and (len(oid) == 22) and (\":\" not in oid):\n",
    "        return model.by_guid(oid)\n",
    "\n",
    "    elif \":\" in oid:\n",
    "        try:\n",
    "            step_id = int(oid.split(\":\")[-1])\n",
    "            return model.by_id(step_id)\n",
    "        except Exception:\n",
    "            return None\n",
    "\n",
    "    return None"
   ]
  },
  {
   "cell_type": "code",
   "execution_count": 11,
   "id": "2b9a8bb9-7838-4334-8872-bc3b4ef4cf20",
   "metadata": {},
   "outputs": [],
   "source": [
    "def get_entities_from_edges(model, edges, typ):\n",
    "    \"\"\"\n",
    "    Returns the relating or related Ifc entities from a dict of edges.\n",
    "    \"\"\"\n",
    "\n",
    "    entities_from_edges = []\n",
    "    \n",
    "    for edge in edges.values():\n",
    "        obj = get_entity_from_id(model, edge[typ])\n",
    "        if obj:\n",
    "            entities_from_edges.append(obj) \n",
    "\n",
    "    return entities_from_edges"
   ]
  },
  {
   "cell_type": "code",
   "execution_count": 12,
   "id": "197319f5-5631-459a-91b9-6103be5c24c9",
   "metadata": {},
   "outputs": [],
   "source": [
    "def merge_unique(obj1, obj2):\n",
    "    \"\"\"\n",
    "    Returns a list of unique Ifc entities from two lists of Ifc entities.\n",
    "    \"\"\"\n",
    "    merged = dict()\n",
    "    for o in obj1 + obj2:\n",
    "        if o:\n",
    "            merged[obj_id(o)] = o\n",
    "    return list(merged.values())"
   ]
  },
  {
   "cell_type": "code",
   "execution_count": 13,
   "id": "5b2b4128-99c9-4d1e-9f8b-c9db9ae4199d",
   "metadata": {},
   "outputs": [],
   "source": [
    "def entities_classes_identify(all_objects):\n",
    "    \"\"\"\n",
    "    Identifies the Ifc entity classes present in the model.\n",
    "    All IfcElements subtypes collapse to 'IfcElement'.\n",
    "    All *Type classes collapse to 'IfcTypeObject'.\n",
    "    \"\"\"\n",
    "\n",
    "    clss = set()\n",
    "    \n",
    "    for o in all_objects:\n",
    "        if o.is_a(\"IfcElement\"):\n",
    "            clss.add(\"IfcElement\")\n",
    "        elif \"Type\" in o.is_a():\n",
    "            clss.add(\"IfcTypeObject\")\n",
    "        else:\n",
    "            clss.add(o.is_a())\n",
    "\n",
    "    return clss"
   ]
  },
  {
   "cell_type": "code",
   "execution_count": 14,
   "id": "c3f9100f-fddf-4f47-8616-0f54d6ae6f4f",
   "metadata": {},
   "outputs": [],
   "source": [
    "def props_identify(all_objects):\n",
    "\n",
    "    props = {}\n",
    "\n",
    "    pset = \"IfcPropertySet\"\n",
    "    qset = \"IfcElementQuantity\"\n",
    "\n",
    "    for o in all_objects:\n",
    "        if o.is_a(pset):\n",
    "            props.setdefault(pset, dict())\n",
    "            for p in o.HasProperties:\n",
    "                props[pset][p.Name] = {\n",
    "                    \"property_type\": p.is_a()\n",
    "                }\n",
    "                \n",
    "        elif o.is_a(qset):\n",
    "            props.setdefault(qset, dict())\n",
    "            for q in o.Quantities:\n",
    "                props[qset][q.Name] = {\n",
    "                    \"property_type\": q.is_a()\n",
    "                }\n",
    "\n",
    "    # only IfcMaterial class, no specific material properties to extract beyond the material name.\n",
    "                \n",
    "    return props"
   ]
  },
  {
   "cell_type": "code",
   "execution_count": 15,
   "id": "227d9d1c-04c1-41ca-aa9f-8872bb8f2020",
   "metadata": {},
   "outputs": [],
   "source": [
    "def pset_props_collect(o):\n",
    "    \"\"\"\n",
    "    Extracts the properties from an IfcPropertySet entity. \n",
    "    \"\"\"\n",
    "\n",
    "    def unwrap(v):\n",
    "        \"\"\"\n",
    "        Converts an Ifc value wrapper to a plain Python type.\n",
    "        \"\"\"\n",
    "        if v is None:\n",
    "            return None\n",
    "        else:\n",
    "            return getattr(v, \"wrappedValue\", v)\n",
    "\n",
    "    props = {}\n",
    "    \n",
    "    for p in o.HasProperties:\n",
    "        if p.is_a(\"IfcPropertySingleValue\"):\n",
    "            nv = getattr(p, \"NominalValue\", None)\n",
    "            props[p.Name] = {\n",
    "                \"kind\": \"SingleValue\",\n",
    "                \"value\": unwrap(nv)\n",
    "            }\n",
    "        elif p.is_a(\"IfcPropertyEnumeratedValue\"):\n",
    "            vals = [unwrap(v) for v in (getattr(p, \"EnumerationValues\", []) or [])]\n",
    "            enum_ref = getattr(p, \"EnumerationReference\", None)\n",
    "            domain = (\n",
    "                [unwrap(v) for v in (getattr(enum_ref, \"EnumerationValues\", []) or [])]\n",
    "                if enum_ref else None\n",
    "            )\n",
    "            props[p.Name] = {\n",
    "                \"kind\": \"EnumeratedValue\",\n",
    "                \"value\": vals if len(vals) != 1 else vals[0],\n",
    "                \"enumeration_name\": getattr(enum_ref, \"Name\", None) if enum_ref else None,\n",
    "                \"domain\": domain\n",
    "            }\n",
    "\n",
    "    # if needed, to be developed to handle other kinds of properties.\n",
    "        \n",
    "    return props"
   ]
  },
  {
   "cell_type": "code",
   "execution_count": 16,
   "id": "ce996f9a-086c-4070-82bb-600d91aeab7f",
   "metadata": {},
   "outputs": [],
   "source": [
    "def qset_props_collect(o, include_none=False):\n",
    "    \"\"\"\n",
    "    Extracts the quantitiy properties from an IfcElementQuantity. \n",
    "    \"\"\"\n",
    "\n",
    "    props = {}\n",
    "    \n",
    "    for q in getattr(o, \"Quantities\", []) or []:\n",
    "        val = None\n",
    "        if q.is_a(\"IfcQuantityLength\"):\n",
    "            val = q.LengthValue\n",
    "        elif q.is_a(\"IfcQuantityArea\"):\n",
    "            val = q.AreaValue\n",
    "        elif q.is_a(\"IfcQuantityVolume\"):\n",
    "            val = q.VolumeValue\n",
    "        elif q.is_a(\"IfcQuantityCount\"):\n",
    "            val = q.CountValue\n",
    "        elif q.is_a(\"IfcQuantityWeight\"):\n",
    "            val = q.WeightValue\n",
    "\n",
    "        if include_none or val is not None:  \n",
    "            props[q.Name] = {\n",
    "                \"kind\": q.is_a(),\n",
    "                \"value\": val\n",
    "            }\n",
    "\n",
    "    return props"
   ]
  },
  {
   "cell_type": "code",
   "execution_count": 17,
   "id": "6a94ef54-c879-4cc1-89a2-9fb5d431e291",
   "metadata": {},
   "outputs": [],
   "source": [
    "def node_set(o):\n",
    "    \"\"\"\n",
    "    Extract the node information for a single Ifc entity.\n",
    "    \"\"\"\n",
    "\n",
    "    node = dict()\n",
    "\n",
    "    # helpers:\n",
    "    def g_n(o, name, default=None):\n",
    "        \"\"\"\n",
    "        Extract an attribute for an Ifc entity.\n",
    "        \"\"\"\n",
    "        return getattr(o, name, default)\n",
    "\n",
    "    def basic_props(label, addition=None):\n",
    "        \"\"\"\n",
    "        Set the base node dictionary for an Ifc entity and add it to \"node\".\n",
    "        \"\"\"\n",
    "        node_id = obj_id(o)\n",
    "        base = {\n",
    "            \"id\": node_id,\n",
    "            \"labels\": [label, o.is_a()],\n",
    "            \"name\": g_n(o, \"Name\")\n",
    "        }\n",
    "        if addition:\n",
    "            base.update(addition)\n",
    "        node[node_id] = base\n",
    "\n",
    "    \n",
    "    cls = o.is_a()\n",
    "\n",
    "    if cls == \"IfcProject\":\n",
    "        basic_props(\"PROJECT\")\n",
    "        \n",
    "    elif o.is_a(\"IfcElement\"):\n",
    "        # ObjectType fallback:\n",
    "        basic_props(\"ELEMENT\", {\n",
    "            \"predefined_type\": g_n(o, \"PredefinedType\", g_n(o, \"ObjectType\"))\n",
    "        })\n",
    "        \n",
    "    elif cls == \"IfcPropertySet\":\n",
    "        basic_props(\"PSET\", {\n",
    "            \"properties\": pset_props_collect(o)\n",
    "        })\n",
    "        \n",
    "    elif cls == \"IfcElementQuantity\":\n",
    "        basic_props(\"QSET\", {\n",
    "            \"quantities\": qset_props_collect(o)\n",
    "        })\n",
    "        \n",
    "    elif \"Type\" in cls:\n",
    "        basic_props(\"TYPE\")\n",
    "        \n",
    "    elif cls == \"IfcMaterial\":\n",
    "        basic_props(\"MATERIAL\")\n",
    "        \n",
    "    elif cls in (\"IfcSite\", \"IfcBuilding\", \"IfcBuildingStorey\", \"IfcSpace\"):\n",
    "        basic_props(\"SPATIAL\")\n",
    "        \n",
    "    elif cls == \"IfcClassificationReference\":\n",
    "        scheme = g_n(o, \"ReferencedSource\") # IfcClassification\n",
    "        basic_props(\"CLASSIFICATION_REF\",{\n",
    "            \"code\": g_n(o, \"Identification\"),\n",
    "            \"uri\": g_n(o, \"Location\"),\n",
    "            # link to IfcClassification by id:\n",
    "            \"scheme_id\": obj_id(scheme) if scheme else None,\n",
    "        })\n",
    "\n",
    "    return node        "
   ]
  },
  {
   "cell_type": "code",
   "execution_count": 18,
   "id": "48f424a4-16b1-41fe-ac59-2d08931ae163",
   "metadata": {},
   "outputs": [],
   "source": [
    "def nodes_maker(all_objects):\n",
    "    \"\"\"\n",
    "    For a given model, creates a dictionary of nodes from a list of Ifc entities.\n",
    "    \"\"\"\n",
    "\n",
    "    nodes = {}\n",
    "\n",
    "    for o in all_objects:\n",
    "        nodes.update(node_set(o))\n",
    "\n",
    "    return nodes"
   ]
  },
  {
   "cell_type": "code",
   "execution_count": 19,
   "id": "0e6249a4-e77b-4a0d-8582-a1ccd4c0fbc8",
   "metadata": {},
   "outputs": [],
   "source": [
    "def flatten_dict(d, parent_key=\"\", sep=\"_\"):\n",
    "    \"\"\"\n",
    "    Recursively flatten a nested dictionary.\n",
    "    \"\"\"\n",
    "    items = {}\n",
    "    for k, v in d.items():\n",
    "        new_key = f\"{parent_key}{sep}{k}\" if parent_key else k\n",
    "        if isinstance(v, dict):\n",
    "            items.update(flatten_dict(v, new_key, sep=sep))\n",
    "        else:\n",
    "            items[new_key] = v\n",
    "    return items"
   ]
  },
  {
   "cell_type": "code",
   "execution_count": 20,
   "id": "b77a71de-ada7-45e0-86dd-210b6a3b7f77",
   "metadata": {},
   "outputs": [],
   "source": [
    "def nodes_flatten(nodes):\n",
    "    \"\"\"\n",
    "    Flatten nested dictionaries in node attributes for Neo4J comptability.\n",
    "    \"\"\"\n",
    "\n",
    "    def flatten_dict(d, parent_key=\"\", sep=\"::\"):\n",
    "        \"\"\"\n",
    "        Recursively flatten a nested dictionary.\n",
    "        \"\"\"\n",
    "        items = {}\n",
    "        for k, v in d.items():\n",
    "            new_key = f\"{parent_key}{sep}{k}\" if parent_key else k\n",
    "            if isinstance(v, dict):\n",
    "                items.update(flatten_dict(v, new_key, sep=sep))\n",
    "            else:\n",
    "                items[new_key] = v\n",
    "        return items\n",
    "\n",
    "    nodes_ready = dict()\n",
    "    \n",
    "    for node in nodes.values():\n",
    "        # preserve \"labels\"\n",
    "        base = {k: v for k, v in node.items() if k != \"labels\"}\n",
    "        flat = flatten_dict(base)\n",
    "        flat[\"labels\"] = node[\"labels\"]\n",
    "        nodes_ready[node[\"id\"]] = flat\n",
    "\n",
    "    return nodes_ready"
   ]
  },
  {
   "cell_type": "markdown",
   "id": "a1bc0d2a-195f-463a-a4e1-d52ecd3cdd03",
   "metadata": {},
   "source": [
    "## 3.4. Sanity Checks:  "
   ]
  },
  {
   "cell_type": "code",
   "execution_count": 21,
   "id": "6b79927c-6072-4f43-9bc6-67e285a9de49",
   "metadata": {},
   "outputs": [],
   "source": [
    "def elements_inspection(model, ifc_type=\"IfcProduct\"):\n",
    "    \"\"\"\n",
    "    Counts and lists IfcElements (excluding proxies in this case) grouped by class.\n",
    "    Returns:\n",
    "        - elements: list.\n",
    "        - classes_counter: Counter.\n",
    "    \"\"\"\n",
    "    \n",
    "    products = model.by_type(ifc_type)\n",
    "    elements = [p for p in products if (p.is_a(\"IfcElement\")) and not (p.is_a(\"IfcBuildingElementProxy\"))]\n",
    "    elements_classes = [el.is_a() for el in elements]\n",
    "    classes_counter = Counter(elements_classes)\n",
    "\n",
    "    print(f\"Total number of elements: {len(elements)}\")\n",
    "    for cl, count in classes_counter.items():\n",
    "        print(f\"{cl}: {count}.\")\n",
    "\n",
    "    return classes_counter"
   ]
  },
  {
   "cell_type": "code",
   "execution_count": 22,
   "id": "8eb8dcd8-acf4-4feb-9af9-e10441b43329",
   "metadata": {},
   "outputs": [],
   "source": [
    "def sanity(expected, actual, relating, related):\n",
    "    \"\"\"\n",
    "    Sanity checks:\n",
    "        - Proxies presence.\n",
    "        - Edge count.\n",
    "        - Relating entities count.\n",
    "        - Related entities count.\n",
    "        - Union nodes.\n",
    "    Returns:\n",
    "        bool: True if all checks pass, else False.\n",
    "    \"\"\"\n",
    "    passed = True\n",
    "\n",
    "    proxies = []\n",
    "    \n",
    "    for e in all_ents:\n",
    "        if \"Proxy\" in e.is_a():\n",
    "            proxies.append(e.id())\n",
    "\n",
    "    if len(proxies) == 0:\n",
    "        print(\"Proxy check passed, there is no Proxy entity.\")\n",
    "    else:\n",
    "        print(f\"ERROR: Presence of Proxy entities: {proxies}\")\n",
    "        passed = False \n",
    "            \n",
    "    if expected == actual:\n",
    "        print(f\"Edge count check passed: expected and actual are consistent ({actual}).\")\n",
    "    else:\n",
    "        print(f\"ERROR: edges count mismatch - expected {expected} but got {actual}.\")\n",
    "        passed = False\n",
    "        \n",
    "    if len(relating) == actual:\n",
    "        print(f\"Relating entities count check passed: {len(relating)} = number of edges ({actual}).\")\n",
    "    else:\n",
    "        print(f\"ERROR: relating entities count mismatch - edges {actual}, relating entities {len(relating)}.\")\n",
    "        passed = False\n",
    "        \n",
    "    if len(related) == actual:\n",
    "        print(f\"Related entities count check passed: {len(related)} = number of edges ({actual}).\")\n",
    "    else:\n",
    "        print(f\"ERROR: related entities count mismatch - edges {actual}, related entities {len(related)}.\")\n",
    "        passed = False\n",
    "\n",
    "    relating_set = set(relating)\n",
    "    related_set = set(related)\n",
    "    union_nodes = relating_set | related_set\n",
    "\n",
    "    if len(union_nodes) >= max(len(relating_set), len(related_set)):\n",
    "        print(f\"Unique node union check passed: |union|={len(union_nodes)}, |relating|={len(relating_set)}, |related|={len(related_set)}\")\n",
    "    else:\n",
    "        print(f\"ERROR: union size invalind - |union|={len(union_nodes)}, |relating|={len(relating_set)}, |related|={len(related_set)}\")\n",
    "\n",
    "    print(f\"The overall sanity check has been succesfully passed: {passed}.\")"
   ]
  },
  {
   "cell_type": "markdown",
   "id": "d815fafa-ae9e-4c59-aa1b-6856f1a4adc2",
   "metadata": {},
   "source": [
    "## 3.5. Graph schema definition:"
   ]
  },
  {
   "cell_type": "code",
   "execution_count": 23,
   "id": "d03b44ff-6370-4227-98ac-7909ead53334",
   "metadata": {},
   "outputs": [],
   "source": [
    "def ent_labels(ent_type, input, verbose=False):\n",
    "    \"\"\"\n",
    "    Returns:\n",
    "    - if ent_type == \"nodes\": (labels, categories, types).\n",
    "    - if ent_type == \"edges\": edges types.\n",
    "    \"\"\"\n",
    "    if ent_type == \"edges\":\n",
    "        \n",
    "        input_types = set()\n",
    "        type_counter = Counter()\n",
    "    \n",
    "        for i in input.values():\n",
    "            label = i[\"labels\"]\n",
    "            input_types.add(label)\n",
    "            type_counter[label] += 1 \n",
    "            \n",
    "        print(f\"Number of edge types: {len(input_types)}.\")\n",
    "\n",
    "        if verbose:\n",
    "                print()\n",
    "                print(f\"TOTAL NUMBER OF NODES: {len(input)}\")\n",
    "                print()\n",
    "                print(\"EDGE TYPES:\")\n",
    "                for t in sorted(type_counter):\n",
    "                    print(f\" - {t}: {type_counter[t]}.\")\n",
    "            \n",
    "        return type_counter\n",
    "    \n",
    "    elif ent_type == \"nodes\":\n",
    "        \n",
    "        input_labels = set()\n",
    "        input_cats = set()\n",
    "        input_types = set()\n",
    "        cat_counter = Counter()\n",
    "        type_counter = Counter()\n",
    "        \n",
    "        for i in input.values():\n",
    "            labels = i[\"labels\"]\n",
    "            cat, typ = labels\n",
    "            input_labels.add((cat, typ))\n",
    "            input_cats.add(cat)\n",
    "            input_types.add(typ)\n",
    "            cat_counter[cat] += 1\n",
    "            type_counter[typ] += 1\n",
    "        \n",
    "        print(f\"Number of node categories: {len(input_cats)}.\")\n",
    "        print(f\"Number of node types: {len(input_types)}.\")\n",
    "    \n",
    "        if verbose:\n",
    "            print()\n",
    "            print(f\"TOTAL NUMBER OF NODES: {len(input)}\")\n",
    "            print()\n",
    "            print(\"NODE CATEGORIES:\")\n",
    "            for c in sorted(cat_counter):\n",
    "                print(f\" - {c}: {cat_counter[c]}.\")\n",
    "            print()\n",
    "            print(\"NODE TYPES:\")\n",
    "            for t in sorted(type_counter):\n",
    "                print(f\" - {t}: {type_counter[t]}.\")\n",
    "        \n",
    "        return cat_counter, type_counter"
   ]
  },
  {
   "cell_type": "code",
   "execution_count": 24,
   "id": "963f27a6-ef14-4d7a-af80-cdeb66c6c890",
   "metadata": {},
   "outputs": [],
   "source": [
    "def search_attr(ents, verbose=False, entity=None):\n",
    "    \"\"\"\n",
    "    Analyse the node or edge attributes by category and collect the schema profiles.\n",
    "    \"\"\"\n",
    "\n",
    "    vals = ents.values()\n",
    "    \n",
    "    # CATEGORY: top level attributes per category\n",
    "    cat_attr = defaultdict(set)\n",
    "    cat_attr_counts = defaultdict(Counter)\n",
    "    cat_totals = Counter()\n",
    "\n",
    "    if entity == \"edge\":\n",
    "        skip_keys = {\"labels\", \"from\", \"to\"}\n",
    "    else:\n",
    "        skip_keys = {\"labels\"}\n",
    "    \n",
    "    for v in vals:\n",
    "        if entity == \"node\":\n",
    "            cat = v[\"labels\"][0]\n",
    "        else:\n",
    "            cat = v[\"labels\"]\n",
    "        cat_totals[cat] += 1\n",
    "        for a in v.keys():\n",
    "            if a in skip_keys:\n",
    "                continue\n",
    "            cat_attr[cat].add(a)\n",
    "            cat_attr_counts[cat][a] += 1\n",
    "\n",
    "    if entity == \"node\":\n",
    "\n",
    "        # helpers for flattened dictionaries:\n",
    "        def prefixed_keys(d, prefix=\"properties\", sep=\"::\"):\n",
    "            \"\"\"\n",
    "            Yield flattened keys in the given dictionary.\n",
    "            \"\"\"\n",
    "            for k in d.keys():\n",
    "                if k==prefix or k.startswith(prefix + sep):\n",
    "                    yield k\n",
    "                        \n",
    "        # PSET: property names per PSET\n",
    "        pset_prop = defaultdict(set)\n",
    "        pset_prop_counts = defaultdict(Counter)\n",
    "        pset_missing = []\n",
    "        \n",
    "        for v in vals:\n",
    "            if v[\"labels\"][0] != \"PSET\":\n",
    "                continue\n",
    "            name = v.get(\"name\")\n",
    "            keys = list(prefixed_keys(v))\n",
    "            if \"id\" in v:\n",
    "                keys.append(\"id\")\n",
    "            if \"name\" in v:\n",
    "                keys.append(\"name\")\n",
    "                \n",
    "            if not keys:\n",
    "                pset_missing.append(name)\n",
    "            for k in keys:\n",
    "                pset_prop[name].add(k)\n",
    "                pset_prop_counts[name][k] += 1\n",
    "        \n",
    "        # QSET: quantity names per Qset\n",
    "        qset_prop = defaultdict(set)\n",
    "        qset_prop_counts = defaultdict(Counter)\n",
    "        qset_missing = []\n",
    "        \n",
    "        for v in vals:\n",
    "            if v[\"labels\"][0] != \"QSET\":\n",
    "                continue\n",
    "            name = v.get(\"name\")\n",
    "            keys = list(prefixed_keys(v, prefix=\"quantities\"))\n",
    "            if \"id\" in v:\n",
    "                keys.append(\"id\")\n",
    "            if \"name\" in v:\n",
    "                keys.append(\"name\")\n",
    "            \n",
    "            if not keys:\n",
    "                qset_missing.append(name)\n",
    "            for k in keys:\n",
    "                qset_prop[name].add(k)\n",
    "                qset_prop_counts[name][k] += 1\n",
    "\n",
    "    if not verbose:\n",
    "\n",
    "        print(f\"\\n==={entity.upper()} ATTRIBUTE ANALYSIS===\\n\")\n",
    "        print(\"Top-level attributes per category:\")\n",
    "        print(cat_attr)\n",
    "        print(cat_attr_counts)\n",
    "        print(cat_totals)\n",
    "        print()\n",
    "        \n",
    "        if entity == \"node\":\n",
    "            \n",
    "            print(\"Property names per Pset:\")\n",
    "            print(pset_prop)\n",
    "            if pset_missing:\n",
    "                print(\"Missing PSET keys for:\", pset_missing)\n",
    "            print()\n",
    "            print(\"Quantities names per Qset:\")\n",
    "            print(qset_prop)\n",
    "            print(qset_prop_counts)\n",
    "            if qset_missing:   # NEW\n",
    "                print(\"Missing QSET keys for:\", qset_missing)\n",
    "\n",
    "    if verbose:\n",
    "\n",
    "        print(f\"\\n==={entity.upper()} ATTRIBUTE ANALYSIS===\\n\")\n",
    "        print(\"Top-level attributes per category:\")\n",
    "        for cat in sorted(cat_attr):\n",
    "            print(f\" - {cat} ({cat_totals[cat]} nodes): {sorted(cat_attr[cat])}\")\n",
    "            for a, c in cat_attr_counts[cat].most_common():\n",
    "                print(f\"    • {a}: {c}/{cat_totals[cat]}\")\n",
    "            print()\n",
    "\n",
    "        if entity == \"node\":\n",
    "    \n",
    "            print(\"\\n PSET property keys per set:\")\n",
    "            for pset in sorted(pset_prop):\n",
    "                print(f\" - {pset}: {sorted(pset_prop[pset])}\")\n",
    "                for k, c in pset_prop_counts[pset].most_common():\n",
    "                    print(f\"    • {k}: {c}\")\n",
    "                print()\n",
    "            if pset_missing:\n",
    "                print(\"Missing PSET keys for:\", pset_missing)\n",
    "        \n",
    "            print(\"\\n QSET quantity keys per set:\")\n",
    "            for qset in sorted(qset_prop):\n",
    "                print(f\" - {qset}: {sorted(qset_prop[qset])}\")\n",
    "                for k, c in qset_prop_counts[qset].most_common():\n",
    "                    print(f\"    • {k}: {c}\")\n",
    "                print()\n",
    "            if qset_missing:\n",
    "                print(\"Missing QSET keys for:\", qset_missing)\n",
    "\n",
    "    if entity == \"node\":\n",
    "    \n",
    "        return (\n",
    "            cat_attr_counts, cat_totals, \n",
    "            pset_prop_counts, \n",
    "            qset_prop_counts\n",
    "        )\n",
    "\n",
    "    if entity == \"edge\":\n",
    "\n",
    "        return (\n",
    "            cat_attr_counts, cat_totals\n",
    "        )"
   ]
  },
  {
   "cell_type": "markdown",
   "id": "49306d21-094b-4eb0-9ef2-e1fda90ac885",
   "metadata": {},
   "source": [
    "## 3.6. Nodes insertion & Relationshsips/edges insertion:"
   ]
  },
  {
   "cell_type": "code",
   "execution_count": 25,
   "id": "ea418eb7-8da2-4bc9-9e96-9b032f5655d5",
   "metadata": {},
   "outputs": [],
   "source": [
    "def flatten_dict(dico, parent_key = \"\", sep=\"_\"):\n",
    "    \"\"\"Flatten a nested dictionary recursively.\"\"\"\n",
    "\n",
    "    flattened = dict()\n",
    "\n",
    "    for k, v in dico.items():\n",
    "        new_key = f\"{parent_key}{sep}{k}\" if parent_key else k\n",
    "        if isinstance(v, dict):\n",
    "            flattened.update(flatten_dict(v, new_key, sep=sep))\n",
    "        else:\n",
    "            flattened[new_key] = v\n",
    "\n",
    "    return flattened"
   ]
  },
  {
   "cell_type": "code",
   "execution_count": 26,
   "id": "eccb6cf3-bdfd-46bd-97c7-717b3eea9df4",
   "metadata": {},
   "outputs": [],
   "source": [
    "def driver_merge(ents, entity=None):\n",
    "    \"\"\"\n",
    "    Merge nodes or edges into Neo4J from prepared dictionaries.\n",
    "    \"\"\"\n",
    "\n",
    "    with driver.session(database=DATABASE) as session:\n",
    "\n",
    "        if entity == \"node\":\n",
    "\n",
    "            for node in ents.values():\n",
    "                labels = \":\"+\":\".join(node[\"labels\"])\n",
    "                \n",
    "                def _normalize(v):\n",
    "                    \"\"\"\n",
    "                    In Neo4J, attributes/properties cannot be null,\n",
    "                    \"\"\"\n",
    "                    return \"MISSING\" if v is None else v\n",
    "\n",
    "                attr = {k: _normalize(v) for k, v in node.items() if k not in (\"labels\", \"id\")}\n",
    "        \n",
    "                cypher_node = f\"\"\"\n",
    "                MERGE (n{labels}{{id: $id}})\n",
    "                SET n += $attr\n",
    "                \"\"\"\n",
    "        \n",
    "                session.run(cypher_node, {\"id\": node[\"id\"], \"attr\": attr}) \n",
    "\n",
    "        elif entity == \"edge\":\n",
    "\n",
    "            for edge in ents.values():\n",
    "                attr = {k: v for k, v in edge.items() if k not in (\"from\", \"to\", \"labels\", \"rel_id\")}\n",
    "        \n",
    "                cypher_edge = f\"\"\"\n",
    "                MATCH (a {{id: $from_id }}), (b {{id: $to_id}})\n",
    "                MERGE (a)-[r:{edge[\"labels\"]}{{rel_id: $rel_id}}]->(b)\n",
    "                SET r += $attr\n",
    "                \"\"\"\n",
    "        \n",
    "                session.run(cypher_edge, {\n",
    "                    \"from_id\": edge[\"from\"],\n",
    "                    \"to_id\": edge[\"to\"],\n",
    "                    \"rel_id\": edge[\"rel_id\"],\n",
    "                    \"attr\": attr\n",
    "                        })  "
   ]
  },
  {
   "cell_type": "markdown",
   "id": "25cc3f39-46cb-42c1-840b-cfe106004113",
   "metadata": {},
   "source": [
    "## 3.7. Graph integrity:"
   ]
  },
  {
   "cell_type": "code",
   "execution_count": 27,
   "id": "414eba5e-c5ba-4c6c-bc24-4680e38cdc36",
   "metadata": {},
   "outputs": [],
   "source": [
    "def check_labels(expected, dico, entities=None, label_kind=None):\n",
    "    \"\"\"\n",
    "    Compare the expected vs the actual counts in Neo4J:\n",
    "        - Node categories/types (if entities == \"nodes\")\n",
    "        - Edge types (if entities == \"edges\")\n",
    "    \"\"\"\n",
    "\n",
    "    exp_k = list(expected.keys())\n",
    "\n",
    "    if entities == \"nodes\":\n",
    "        cypher = \"\"\"\n",
    "        UNWIND $exp_k AS k\n",
    "        MATCH (n)\n",
    "        WHERE k IN labels(n)\n",
    "        RETURN k AS item, count(*) AS c\n",
    "        \"\"\"\n",
    "        \n",
    "    elif entities == \"edges\":\n",
    "        cypher = \"\"\"\n",
    "        UNWIND $exp_k AS k\n",
    "        MATCH ()-[r]->()\n",
    "        WHERE type(r) = k\n",
    "        RETURN k AS item, count(*) As c\n",
    "        \"\"\"\n",
    "        \n",
    "    else:\n",
    "        raise ValueError(\"entities must be 'nodes' or 'edges'.\")\n",
    "    \n",
    "    with driver.session(database=DATABASE) as session:\n",
    "        results = session.run(cypher, {\"exp_k\": exp_k}).data()\n",
    "\n",
    "    actual = { r[\"item\"]: r[\"c\"] for r in results}\n",
    "    \n",
    "    # check:\n",
    "    all_keys = sorted(set(expected) | set(actual))\n",
    "    passed = True\n",
    "    \n",
    "    for a in all_keys:\n",
    "        exp = expected.get(a, 0)\n",
    "        act = actual.get(a, 0)\n",
    "        if exp != act:\n",
    "            print(f\"{a}, expected = {exp}, actual = {act}, difference = {abs(exp - act)}.\")\n",
    "            passed = False\n",
    "            \n",
    "    print(f\"The {entities} {label_kind} match: {passed}.\")\n",
    "\n",
    "    dico[f\"{entities}_{label_kind}\"] = passed\n",
    "\n",
    "    return dico"
   ]
  },
  {
   "cell_type": "code",
   "execution_count": 28,
   "id": "b6f2b634-febe-40ab-920b-a180bd03708c",
   "metadata": {},
   "outputs": [],
   "source": [
    "def compare_counters_ifc_neo(ifc, neo, dico, key=None):\n",
    "    \"\"\"\n",
    "    Compare defaultdict(Counter) from IFC parsing vs Neo4J extraction.\n",
    "    \"\"\"\n",
    "\n",
    "    diffs = []\n",
    "    labels = set(ifc) | set(neo)\n",
    "    \n",
    "    for label in sorted(labels):\n",
    "        a = ifc.get(label, Counter())\n",
    "        b = neo.get(label, Counter())\n",
    "        keys = set(a.keys()) | set(b.keys())\n",
    "        for k in sorted(keys):\n",
    "            x = a.get(k, 0)\n",
    "            y = b.get(k, 0)\n",
    "            if x != y:\n",
    "                diffs.append((label, k, x, y))\n",
    "\n",
    "    passed = (len(diffs) == 0)\n",
    "# \n",
    "    if passed:\n",
    "        print(\"The IFC and the Neo4J defaultdict(Counter) match: True.\")\n",
    "\n",
    "    else:\n",
    "        for label, k, x, y in diffs:\n",
    "            print(f\"[{label}] key {k}: IFC={x}, NEO={y}\")\n",
    "        print(f\"The IFC and the Neo4J defaultdict(Counter) match: False ({len(diffs)} differences).\")\n",
    "\n",
    "    dico[key] = passed\n",
    "\n",
    "    return dico"
   ]
  },
  {
   "cell_type": "code",
   "execution_count": 29,
   "id": "24a3b5a2-2b2e-402d-bd0c-8c3f27d4f679",
   "metadata": {},
   "outputs": [],
   "source": [
    "def graph_integrity_conclusion(graph):\n",
    "    \"\"\"\n",
    "    Print and evaluate the overall grapch integrity tests.\n",
    "    \"\"\"\n",
    "\n",
    "    results = []\n",
    "\n",
    "    for key, value in graph.items():\n",
    "        label = \" \".join(key.split(\"_\")).capitalize()\n",
    "        print(f\"{label} integrity test passed: {value}.\")\n",
    "        results.append(value)\n",
    "\n",
    "    if all(results):\n",
    "        print()\n",
    "        print(\"The graph integrity is assured.\")\n",
    "        return True\n",
    "\n",
    "    else:\n",
    "        print()\n",
    "        print(\"The graph integrity CANNOT be assured.\")\n",
    "        return False "
   ]
  },
  {
   "cell_type": "code",
   "execution_count": null,
   "id": "ee4a29af-f5f8-4ba1-b4b4-3f62608bc0c9",
   "metadata": {},
   "outputs": [],
   "source": []
  },
  {
   "cell_type": "code",
   "execution_count": null,
   "id": "04de39db-9d10-4cd7-9880-f37a342176dc",
   "metadata": {},
   "outputs": [],
   "source": []
  },
  {
   "cell_type": "code",
   "execution_count": null,
   "id": "61e77178-c1c2-4f1c-83b0-4684a556bee8",
   "metadata": {},
   "outputs": [],
   "source": []
  },
  {
   "cell_type": "code",
   "execution_count": null,
   "id": "c47ce1c4-4458-4ac0-93c6-a4087e8d72cd",
   "metadata": {},
   "outputs": [],
   "source": []
  },
  {
   "cell_type": "markdown",
   "id": "fe3f578c-c5a0-402e-8888-46d2a19962e6",
   "metadata": {},
   "source": [
    "# 4. Data load:"
   ]
  },
  {
   "cell_type": "code",
   "execution_count": 30,
   "id": "50286e9a-dbf7-421e-8908-156e8d8a129e",
   "metadata": {},
   "outputs": [],
   "source": [
    "model = ifcopenshell.open(IFC_PATH)"
   ]
  },
  {
   "cell_type": "code",
   "execution_count": 31,
   "id": "d94ac786-274b-4a84-b40a-33ad43a4bc1a",
   "metadata": {},
   "outputs": [],
   "source": [
    "driver = GraphDatabase.driver(NEO4J_URI, auth=(NEO4J_USER, NEO4J_PASSWORD))"
   ]
  },
  {
   "cell_type": "markdown",
   "id": "739dc056-c74f-4d66-8145-0d8c32637f3f",
   "metadata": {},
   "source": [
    "# 5. Proxy entities handling:"
   ]
  },
  {
   "cell_type": "markdown",
   "id": "77773f6e-ca0f-48a2-b165-c97f3010f06d",
   "metadata": {},
   "source": [
    "## Proxy Cleanup Strategy\n",
    "\n",
    "Proxy elements are removed at the start of the workflow to maintain a clean and semantically consistent graph.\n",
    "\n",
    "1. **Dropping proxies**  \n",
    "   In this dataset, proxies represent geolocation artifacts or placeholders. They provide no analytical value but increase noise and graph size.\n",
    "\n",
    "2. **Early removal**  \n",
    "   Performing the cleanup at the beginning simplifies the workflow by eliminating the need for repeated exclusions later and by preventing dangling references in subsequent steps.\n",
    "\n",
    "3. **Related relationships and dependent entities**  \n",
    "   Proxies are often connected through relationships (e.g., `IfcRelDefines*`, `IfcRelAssociates*`) and may reference entities that exist only through those links. Removing both the relationships and such dependent entities avoids the presence of isolated nodes.\n",
    "\n",
    "4. **Deletion order**  \n",
    "   - Relationships connected to proxies are deleted first to ensure a clean break.  \n",
    "   - Dependent isolated entities are removed next, as they then have degree zero.  \n",
    "   - Finally, the proxies themselves are removed.  \n",
    "\n",
    "This sequence ensures a compact, consistent model without dangling edges or orphaned entities."
   ]
  },
  {
   "cell_type": "code",
   "execution_count": 32,
   "id": "12d57a90-bc4e-4c86-aacf-cd7a21f45ae4",
   "metadata": {},
   "outputs": [
    {
     "name": "stdout",
     "output_type": "stream",
     "text": [
      "\n",
      "====PROXIES REMOVAL COUNTS:====\n",
      "\n",
      "relationships: 8\n",
      "isolated nodes: 3\n",
      "proxies: 5\n"
     ]
    }
   ],
   "source": [
    "model = proxies_drop(model)"
   ]
  },
  {
   "cell_type": "markdown",
   "id": "6ce5faaa-864b-4285-9e08-26ebe6e12848",
   "metadata": {},
   "source": [
    "# 6. IFC Parsing:"
   ]
  },
  {
   "cell_type": "markdown",
   "id": "6f278f33-fdb3-41fe-a9bf-313108a54101",
   "metadata": {},
   "source": [
    "The parsing process begins with the IfcRelationships, from which a dictionary of Edges is created to support Neo4j graph construction. Each edge captures the \"from\" and \"to\" attributes that define the connected IFC entities. Based on these connections, all distinct entities can be identified and represented in a dictionary of Nodes. Inverse relationships are not included, as Neo4j inherently supports bidirectional traversal of edges; storing them explicitly would only duplicate information and increase memory usage. Proxy entities are removed in this model, as they are not significant building elements but instead geolocation artifacts.   \n",
    "\n",
    "To ensure consistency, node identifiers are normalized (e.g. through unique obj_id values), and key metadata such as IFC class labels and relevant properties are attached to nodes and edges. This guarantees that the resulting graph remains both semantically clear and efficient for querying.  "
   ]
  },
  {
   "cell_type": "markdown",
   "id": "66a957a1-61ad-453d-b0f6-641dbd4e16d6",
   "metadata": {},
   "source": [
    "## 6.1. IfcRelationships - Edges Preparation:"
   ]
  },
  {
   "cell_type": "markdown",
   "id": "15f50d7a-7c39-43be-b87d-241a53741efa",
   "metadata": {},
   "source": [
    "### 6.1.1. Functions Building Guidance:"
   ]
  },
  {
   "cell_type": "markdown",
   "id": "fa786b20-0dd3-4112-a216-d9ec7bb168ef",
   "metadata": {},
   "source": [
    "**edges_maker:**"
   ]
  },
  {
   "cell_type": "code",
   "execution_count": 33,
   "id": "80cd2090-4d6a-4b2c-adfa-7631ec57398c",
   "metadata": {},
   "outputs": [
    {
     "name": "stdout",
     "output_type": "stream",
     "text": [
      "Identified relationship classes:\n",
      "- IfcRelContainedInSpatialStructure.\n",
      "- IfcRelDefinesByType.\n",
      "- IfcRelAggregates.\n",
      "- IfcRelAssociatesMaterial.\n",
      "- IfcRelDefinesByProperties.\n",
      "- IfcRelAssociatesClassification.\n"
     ]
    },
    {
     "data": {
      "text/plain": [
       "{'IfcRelAggregates',\n",
       " 'IfcRelAssociatesClassification',\n",
       " 'IfcRelAssociatesMaterial',\n",
       " 'IfcRelContainedInSpatialStructure',\n",
       " 'IfcRelDefinesByProperties',\n",
       " 'IfcRelDefinesByType'}"
      ]
     },
     "execution_count": 33,
     "metadata": {},
     "output_type": "execute_result"
    }
   ],
   "source": [
    "identify_rel(model)"
   ]
  },
  {
   "cell_type": "markdown",
   "id": "605ffa18-653d-4eac-b3e8-bb620632d40e",
   "metadata": {},
   "source": [
    "### 6.1.2. Edges Dictionary:"
   ]
  },
  {
   "cell_type": "code",
   "execution_count": 34,
   "id": "786ae565-6fd8-4964-b279-5fdace1ea22b",
   "metadata": {},
   "outputs": [],
   "source": [
    "expected, actual, edges = edges_maker(model)"
   ]
  },
  {
   "cell_type": "code",
   "execution_count": 35,
   "id": "96fdb45c-2f9c-46db-9650-d5945d90f79c",
   "metadata": {
    "scrolled": true
   },
   "outputs": [],
   "source": [
    "# edges"
   ]
  },
  {
   "cell_type": "markdown",
   "id": "7d283d2b-644f-455d-9a7b-1fcf7568e27f",
   "metadata": {},
   "source": [
    "## 6.2. IfcEntities - Nodes Preparation:"
   ]
  },
  {
   "cell_type": "markdown",
   "id": "17b70331-f847-4b72-9b5e-ee0c1d354e1a",
   "metadata": {},
   "source": [
    "### 6.2.1. Collect IfcEntities:"
   ]
  },
  {
   "cell_type": "code",
   "execution_count": 36,
   "id": "a4067ba6-111d-4b30-94dc-0905ef4a10d3",
   "metadata": {},
   "outputs": [],
   "source": [
    "relating_ents = get_entities_from_edges(model, edges, \"from\")"
   ]
  },
  {
   "cell_type": "code",
   "execution_count": 37,
   "id": "2d36a7b9-64a4-4145-8b6f-ff5e8e141e78",
   "metadata": {},
   "outputs": [],
   "source": [
    "related_ents = get_entities_from_edges(model, edges, \"to\")"
   ]
  },
  {
   "cell_type": "code",
   "execution_count": 38,
   "id": "fa90c2c7-baa7-4a8c-b392-6bf42a2b337b",
   "metadata": {},
   "outputs": [],
   "source": [
    "all_ents = merge_unique(relating_ents, related_ents)"
   ]
  },
  {
   "cell_type": "markdown",
   "id": "a3de85f1-6002-4d62-9ab4-d4692d745bf6",
   "metadata": {},
   "source": [
    "### 6.2.2. Functions Building Guidance:"
   ]
  },
  {
   "cell_type": "markdown",
   "id": "a8704e3a-b31d-496d-b861-d64d46f0adc1",
   "metadata": {},
   "source": [
    "**node_set:**"
   ]
  },
  {
   "cell_type": "code",
   "execution_count": 39,
   "id": "ed47825a-16e3-43c1-84a7-826aae2557b0",
   "metadata": {},
   "outputs": [
    {
     "data": {
      "text/plain": [
       "{'IfcBuilding',\n",
       " 'IfcBuildingStorey',\n",
       " 'IfcClassificationReference',\n",
       " 'IfcElement',\n",
       " 'IfcElementQuantity',\n",
       " 'IfcMaterial',\n",
       " 'IfcProject',\n",
       " 'IfcPropertySet',\n",
       " 'IfcSite',\n",
       " 'IfcTypeObject'}"
      ]
     },
     "execution_count": 39,
     "metadata": {},
     "output_type": "execute_result"
    }
   ],
   "source": [
    "entities_classes_identify(all_ents)"
   ]
  },
  {
   "cell_type": "markdown",
   "id": "64005188-bda1-4b50-8581-24496ed8b415",
   "metadata": {},
   "source": [
    "**pset_props_collect & qset_props_collect:**"
   ]
  },
  {
   "cell_type": "code",
   "execution_count": 40,
   "id": "d404503a-a17e-4c8f-9c9a-48453b497c68",
   "metadata": {},
   "outputs": [
    {
     "data": {
      "text/plain": [
       "{'IfcPropertySet': {'ConstructionMethod': {'property_type': 'IfcPropertySingleValue'},\n",
       "  'Status': {'property_type': 'IfcPropertyEnumeratedValue'},\n",
       "  'IsExternal': {'property_type': 'IfcPropertySingleValue'},\n",
       "  'LoadBearing': {'property_type': 'IfcPropertySingleValue'}},\n",
       " 'IfcElementQuantity': {'NetVolume': {'property_type': 'IfcQuantityVolume'},\n",
       "  'Width': {'property_type': 'IfcQuantityLength'},\n",
       "  'Length': {'property_type': 'IfcQuantityLength'},\n",
       "  'NetSideArea': {'property_type': 'IfcQuantityArea'},\n",
       "  'CrossSectionArea': {'property_type': 'IfcQuantityArea'}}}"
      ]
     },
     "execution_count": 40,
     "metadata": {},
     "output_type": "execute_result"
    }
   ],
   "source": [
    "props = props_identify(all_ents)\n",
    "props"
   ]
  },
  {
   "cell_type": "markdown",
   "id": "d93b81bf-4f42-49c4-8d45-1e2523c9fdec",
   "metadata": {},
   "source": [
    "### 6.2.3. Nodes dictionary:"
   ]
  },
  {
   "cell_type": "code",
   "execution_count": 41,
   "id": "ea193e91-1539-435f-8873-70a3cba0da7a",
   "metadata": {},
   "outputs": [],
   "source": [
    "nodes = nodes_maker(all_ents)"
   ]
  },
  {
   "cell_type": "markdown",
   "id": "45d9ab34-2bed-4e74-9f2e-54a1bb907087",
   "metadata": {},
   "source": [
    "### 6.2.4. Nodes dictionary flattening:"
   ]
  },
  {
   "cell_type": "markdown",
   "id": "783a1bc4-65a5-483f-829c-185843b820cf",
   "metadata": {},
   "source": [
    "### Flattening the Nodes Dictionary\n",
    "\n",
    "Neo4j node properties must be stored as **primitive types** (strings, numbers, booleans, lists).  \n",
    "Nested dictionaries or maps are **not supported** as property values.  \n",
    "\n",
    "The IFC parsing stage produces a `nodes` dictionary where attributes such as property sets or quantities may be stored as nested structures. To make these compatible with Neo4j:\n",
    "\n",
    "- Each nested dictionary is **flattened** into key–value pairs (e.g., `{\"Pset_WallCommon\": {\"FireRating\": \"2h\"}}` becomes `{\"Pset_WallCommon_FireRating\": \"2h\"}`).\n",
    "- The `\"labels\"` field is preserved separately to define the node categories in Neo4j.\n",
    "\n",
    "This flattening step ensures that all node attributes can be safely inserted as Neo4j properties without loss of information or structural conflicts."
   ]
  },
  {
   "cell_type": "code",
   "execution_count": 42,
   "id": "164c89fe-3df9-443e-bb90-227ba16227dc",
   "metadata": {},
   "outputs": [],
   "source": [
    "nodes = nodes_flatten(nodes)"
   ]
  },
  {
   "cell_type": "markdown",
   "id": "17e5b461-1b45-4b48-88b1-433bf9a24d9d",
   "metadata": {},
   "source": [
    "## 6.3. Sanity Checks:"
   ]
  },
  {
   "cell_type": "code",
   "execution_count": 43,
   "id": "12cd67ff-dd30-4ba8-b2a4-08c58677f6c5",
   "metadata": {},
   "outputs": [
    {
     "name": "stdout",
     "output_type": "stream",
     "text": [
      "Total number of elements: 15\n",
      "IfcBeam: 6.\n",
      "IfcChimney: 1.\n",
      "IfcFooting: 1.\n",
      "IfcRoof: 1.\n",
      "IfcWall: 4.\n",
      "IfcDiscreteAccessory: 2.\n"
     ]
    }
   ],
   "source": [
    "elements_distribution = elements_inspection(model)\n",
    "# elements_distribution"
   ]
  },
  {
   "cell_type": "code",
   "execution_count": 44,
   "id": "e95a140a-ba1a-4363-8585-491039d503f6",
   "metadata": {},
   "outputs": [
    {
     "name": "stdout",
     "output_type": "stream",
     "text": [
      "Proxy check passed, there is no Proxy entity.\n",
      "Edge count check passed: expected and actual are consistent (65).\n",
      "Relating entities count check passed: 65 = number of edges (65).\n",
      "Related entities count check passed: 65 = number of edges (65).\n",
      "Unique node union check passed: |union|=56, |relating|=41, |related|=19\n",
      "The overall sanity check has been succesfully passed: True.\n"
     ]
    }
   ],
   "source": [
    "sanity(expected, actual, relating_ents, related_ents)"
   ]
  },
  {
   "cell_type": "markdown",
   "id": "17c12f93-b616-402a-a0db-5a4ecf34a2a0",
   "metadata": {},
   "source": [
    "# 7. Neo4J graph:"
   ]
  },
  {
   "cell_type": "markdown",
   "id": "14561b03-9537-4eae-bc00-bbc03a891d3d",
   "metadata": {},
   "source": [
    "## 7.1. Graph schema definition:"
   ]
  },
  {
   "cell_type": "markdown",
   "id": "5b8c3310-3a32-4c4f-93d9-109256efc09a",
   "metadata": {},
   "source": [
    "By collecting node labels, categories, types, edge types, and the attributes and properties of both nodes and edges during IFC parsing, a baseline schema profile of the model is established. Once the data is imported into Neo4j, the same metrics can be recomputed with Cypher and compared against this baseline. This provides a sanity check to confirm that the Neo4j graph faithfully reflects the IFC structure, preserves attributes and relationships, and has not lost or altered information during transformation. In this way, the metrics act as a fingerprint of the IFC dataset, supporting the integrity and consistency of the final graph.  "
   ]
  },
  {
   "cell_type": "markdown",
   "id": "8ac77259-592b-45d5-a6f2-f3bcf04be529",
   "metadata": {},
   "source": [
    "### 7.1.1. Nodes labels, categories and types:"
   ]
  },
  {
   "cell_type": "code",
   "execution_count": 45,
   "id": "fbc753b4-f022-4cb3-ab95-30b3d6aae7cb",
   "metadata": {},
   "outputs": [
    {
     "name": "stdout",
     "output_type": "stream",
     "text": [
      "Number of node categories: 8.\n",
      "Number of node types: 20.\n",
      "\n",
      "TOTAL NUMBER OF NODES: 56\n",
      "\n",
      "NODE CATEGORIES:\n",
      " - CLASSIFICATION_REF: 1.\n",
      " - ELEMENT: 15.\n",
      " - MATERIAL: 4.\n",
      " - PROJECT: 1.\n",
      " - PSET: 12.\n",
      " - QSET: 10.\n",
      " - SPATIAL: 4.\n",
      " - TYPE: 9.\n",
      "\n",
      "NODE TYPES:\n",
      " - IfcBeam: 6.\n",
      " - IfcBeamType: 1.\n",
      " - IfcBuilding: 1.\n",
      " - IfcBuildingStorey: 1.\n",
      " - IfcChimney: 1.\n",
      " - IfcChimneyType: 1.\n",
      " - IfcClassificationReference: 1.\n",
      " - IfcDiscreteAccessory: 2.\n",
      " - IfcDiscreteAccessoryType: 1.\n",
      " - IfcElementQuantity: 10.\n",
      " - IfcFooting: 1.\n",
      " - IfcFootingType: 1.\n",
      " - IfcMaterial: 4.\n",
      " - IfcProject: 1.\n",
      " - IfcPropertySet: 12.\n",
      " - IfcRoof: 1.\n",
      " - IfcRoofType: 1.\n",
      " - IfcSite: 2.\n",
      " - IfcWall: 4.\n",
      " - IfcWallType: 4.\n"
     ]
    }
   ],
   "source": [
    "n_cat_counter, n_type_counter = ent_labels(\"nodes\", nodes, True)"
   ]
  },
  {
   "cell_type": "markdown",
   "id": "0991cd6a-5b95-4b5c-959f-926775b9b760",
   "metadata": {},
   "source": [
    "### 7.1.2. Relationships/edges types:"
   ]
  },
  {
   "cell_type": "code",
   "execution_count": 46,
   "id": "7ca54d8b-e820-4589-9804-7b78e35195ad",
   "metadata": {},
   "outputs": [
    {
     "name": "stdout",
     "output_type": "stream",
     "text": [
      "Number of edge types: 7.\n",
      "\n",
      "TOTAL NUMBER OF NODES: 65\n",
      "\n",
      "EDGE TYPES:\n",
      " - AGGREGATES: 12.\n",
      " - ASSOCIATED_CLASSIFICATION: 1.\n",
      " - ASSOCIATED_MATERIAL: 14.\n",
      " - CONTAINED_IN: 1.\n",
      " - DEFINED_BY_PROPERTIES: 12.\n",
      " - DEFINED_BY_QUANTITIES: 10.\n",
      " - DEFINED_BY_TYPE: 15.\n"
     ]
    }
   ],
   "source": [
    "e_type_counter = ent_labels(\"edges\", edges, True)"
   ]
  },
  {
   "cell_type": "markdown",
   "id": "490a62c0-0937-4260-9ac4-d46d2259bbc8",
   "metadata": {},
   "source": [
    "### 7.1.3. Nodes & edges attributes:"
   ]
  },
  {
   "cell_type": "markdown",
   "id": "d54ed334-0c2e-42cb-860e-dc5fa8bfa466",
   "metadata": {},
   "source": [
    "**NODES ATTRIBUTES & PROPERTIES:**"
   ]
  },
  {
   "cell_type": "code",
   "execution_count": 47,
   "id": "72b8eabd-adb1-489d-8c4c-b53a77affdcb",
   "metadata": {
    "scrolled": true
   },
   "outputs": [
    {
     "name": "stdout",
     "output_type": "stream",
     "text": [
      "\n",
      "===NODE ATTRIBUTE ANALYSIS===\n",
      "\n",
      "Top-level attributes per category:\n",
      " - CLASSIFICATION_REF (1 nodes): ['code', 'id', 'name', 'scheme_id', 'uri']\n",
      "    • id: 1/1\n",
      "    • name: 1/1\n",
      "    • code: 1/1\n",
      "    • uri: 1/1\n",
      "    • scheme_id: 1/1\n",
      "\n",
      " - ELEMENT (15 nodes): ['id', 'name', 'predefined_type']\n",
      "    • id: 15/15\n",
      "    • name: 15/15\n",
      "    • predefined_type: 15/15\n",
      "\n",
      " - MATERIAL (4 nodes): ['id', 'name']\n",
      "    • id: 4/4\n",
      "    • name: 4/4\n",
      "\n",
      " - PROJECT (1 nodes): ['id', 'name']\n",
      "    • id: 1/1\n",
      "    • name: 1/1\n",
      "\n",
      " - PSET (12 nodes): ['id', 'name', 'properties::ConstructionMethod::kind', 'properties::ConstructionMethod::value', 'properties::IsExternal::kind', 'properties::IsExternal::value', 'properties::LoadBearing::kind', 'properties::LoadBearing::value', 'properties::Status::domain', 'properties::Status::enumeration_name', 'properties::Status::kind', 'properties::Status::value']\n",
      "    • id: 12/12\n",
      "    • name: 12/12\n",
      "    • properties::Status::kind: 11/12\n",
      "    • properties::Status::value: 11/12\n",
      "    • properties::Status::enumeration_name: 11/12\n",
      "    • properties::Status::domain: 11/12\n",
      "    • properties::IsExternal::kind: 11/12\n",
      "    • properties::IsExternal::value: 11/12\n",
      "    • properties::LoadBearing::kind: 9/12\n",
      "    • properties::LoadBearing::value: 9/12\n",
      "    • properties::ConstructionMethod::kind: 1/12\n",
      "    • properties::ConstructionMethod::value: 1/12\n",
      "\n",
      " - QSET (10 nodes): ['id', 'name', 'quantities::CrossSectionArea::kind', 'quantities::CrossSectionArea::value', 'quantities::Length::kind', 'quantities::Length::value', 'quantities::NetSideArea::kind', 'quantities::NetSideArea::value', 'quantities::NetVolume::kind', 'quantities::NetVolume::value', 'quantities::Width::kind', 'quantities::Width::value']\n",
      "    • id: 10/10\n",
      "    • name: 10/10\n",
      "    • quantities::NetVolume::kind: 10/10\n",
      "    • quantities::NetVolume::value: 10/10\n",
      "    • quantities::Length::kind: 10/10\n",
      "    • quantities::Length::value: 10/10\n",
      "    • quantities::CrossSectionArea::kind: 6/10\n",
      "    • quantities::CrossSectionArea::value: 6/10\n",
      "    • quantities::Width::kind: 4/10\n",
      "    • quantities::Width::value: 4/10\n",
      "    • quantities::NetSideArea::kind: 4/10\n",
      "    • quantities::NetSideArea::value: 4/10\n",
      "\n",
      " - SPATIAL (4 nodes): ['id', 'name']\n",
      "    • id: 4/4\n",
      "    • name: 4/4\n",
      "\n",
      " - TYPE (9 nodes): ['id', 'name']\n",
      "    • id: 9/9\n",
      "    • name: 9/9\n",
      "\n",
      "\n",
      " PSET property keys per set:\n",
      " - Pset_BeamCommon: ['id', 'name', 'properties::IsExternal::kind', 'properties::IsExternal::value', 'properties::LoadBearing::kind', 'properties::LoadBearing::value', 'properties::Status::domain', 'properties::Status::enumeration_name', 'properties::Status::kind', 'properties::Status::value']\n",
      "    • properties::Status::kind: 6\n",
      "    • properties::Status::value: 6\n",
      "    • properties::Status::enumeration_name: 6\n",
      "    • properties::Status::domain: 6\n",
      "    • properties::IsExternal::kind: 6\n",
      "    • properties::IsExternal::value: 6\n",
      "    • properties::LoadBearing::kind: 6\n",
      "    • properties::LoadBearing::value: 6\n",
      "    • id: 6\n",
      "    • name: 6\n",
      "\n",
      " - Pset_BuildingCommon: ['id', 'name', 'properties::ConstructionMethod::kind', 'properties::ConstructionMethod::value']\n",
      "    • properties::ConstructionMethod::kind: 1\n",
      "    • properties::ConstructionMethod::value: 1\n",
      "    • id: 1\n",
      "    • name: 1\n",
      "\n",
      " - Pset_RoofCommon: ['id', 'name', 'properties::IsExternal::kind', 'properties::IsExternal::value', 'properties::Status::domain', 'properties::Status::enumeration_name', 'properties::Status::kind', 'properties::Status::value']\n",
      "    • properties::Status::kind: 1\n",
      "    • properties::Status::value: 1\n",
      "    • properties::Status::enumeration_name: 1\n",
      "    • properties::Status::domain: 1\n",
      "    • properties::IsExternal::kind: 1\n",
      "    • properties::IsExternal::value: 1\n",
      "    • id: 1\n",
      "    • name: 1\n",
      "\n",
      " - Pset_WallCommon: ['id', 'name', 'properties::IsExternal::kind', 'properties::IsExternal::value', 'properties::LoadBearing::kind', 'properties::LoadBearing::value', 'properties::Status::domain', 'properties::Status::enumeration_name', 'properties::Status::kind', 'properties::Status::value']\n",
      "    • properties::Status::kind: 4\n",
      "    • properties::Status::value: 4\n",
      "    • properties::Status::enumeration_name: 4\n",
      "    • properties::Status::domain: 4\n",
      "    • properties::IsExternal::kind: 4\n",
      "    • properties::IsExternal::value: 4\n",
      "    • id: 4\n",
      "    • name: 4\n",
      "    • properties::LoadBearing::kind: 3\n",
      "    • properties::LoadBearing::value: 3\n",
      "\n",
      "\n",
      " QSET quantity keys per set:\n",
      " - Qto_BeamBaseQuantities: ['id', 'name', 'quantities::CrossSectionArea::kind', 'quantities::CrossSectionArea::value', 'quantities::Length::kind', 'quantities::Length::value', 'quantities::NetVolume::kind', 'quantities::NetVolume::value']\n",
      "    • quantities::NetVolume::kind: 6\n",
      "    • quantities::NetVolume::value: 6\n",
      "    • quantities::Length::kind: 6\n",
      "    • quantities::Length::value: 6\n",
      "    • quantities::CrossSectionArea::kind: 6\n",
      "    • quantities::CrossSectionArea::value: 6\n",
      "    • id: 6\n",
      "    • name: 6\n",
      "\n",
      " - Qto_WallBaseQuantities: ['id', 'name', 'quantities::Length::kind', 'quantities::Length::value', 'quantities::NetSideArea::kind', 'quantities::NetSideArea::value', 'quantities::NetVolume::kind', 'quantities::NetVolume::value', 'quantities::Width::kind', 'quantities::Width::value']\n",
      "    • quantities::NetVolume::kind: 4\n",
      "    • quantities::NetVolume::value: 4\n",
      "    • quantities::Width::kind: 4\n",
      "    • quantities::Width::value: 4\n",
      "    • quantities::Length::kind: 4\n",
      "    • quantities::Length::value: 4\n",
      "    • quantities::NetSideArea::kind: 4\n",
      "    • quantities::NetSideArea::value: 4\n",
      "    • id: 4\n",
      "    • name: 4\n",
      "\n"
     ]
    }
   ],
   "source": [
    "n_cat_attr_counts, n_cat_totals, n_pset_prop_counts, n_qset_prop_counts = search_attr(nodes, True, \"node\")"
   ]
  },
  {
   "cell_type": "markdown",
   "id": "d43aa26e-60b9-4fd2-b4a6-9cc7e475a2b9",
   "metadata": {},
   "source": [
    "**EDGES ATTRIBUTES:**"
   ]
  },
  {
   "cell_type": "code",
   "execution_count": 48,
   "id": "e5710992-0cae-4ad9-8208-1368c8941b5b",
   "metadata": {
    "scrolled": true
   },
   "outputs": [
    {
     "name": "stdout",
     "output_type": "stream",
     "text": [
      "\n",
      "===EDGE ATTRIBUTE ANALYSIS===\n",
      "\n",
      "Top-level attributes per category:\n",
      " - AGGREGATES (12 nodes): ['id', 'rel_class', 'rel_id']\n",
      "    • id: 12/12\n",
      "    • rel_class: 12/12\n",
      "    • rel_id: 12/12\n",
      "\n",
      " - ASSOCIATED_CLASSIFICATION (1 nodes): ['id', 'rel_class', 'rel_id']\n",
      "    • id: 1/1\n",
      "    • rel_class: 1/1\n",
      "    • rel_id: 1/1\n",
      "\n",
      " - ASSOCIATED_MATERIAL (14 nodes): ['id', 'rel_class', 'rel_id']\n",
      "    • id: 14/14\n",
      "    • rel_class: 14/14\n",
      "    • rel_id: 14/14\n",
      "\n",
      " - CONTAINED_IN (1 nodes): ['id', 'rel_class', 'rel_id']\n",
      "    • id: 1/1\n",
      "    • rel_class: 1/1\n",
      "    • rel_id: 1/1\n",
      "\n",
      " - DEFINED_BY_PROPERTIES (12 nodes): ['id', 'rel_class', 'rel_id']\n",
      "    • id: 12/12\n",
      "    • rel_class: 12/12\n",
      "    • rel_id: 12/12\n",
      "\n",
      " - DEFINED_BY_QUANTITIES (10 nodes): ['id', 'rel_class', 'rel_id']\n",
      "    • id: 10/10\n",
      "    • rel_class: 10/10\n",
      "    • rel_id: 10/10\n",
      "\n",
      " - DEFINED_BY_TYPE (15 nodes): ['id', 'rel_class', 'rel_id']\n",
      "    • id: 15/15\n",
      "    • rel_class: 15/15\n",
      "    • rel_id: 15/15\n",
      "\n"
     ]
    }
   ],
   "source": [
    "e_cat_attr_counts, e_cat_totals = search_attr(edges, True, \"edge\")"
   ]
  },
  {
   "cell_type": "markdown",
   "id": "c739f469-26bc-418e-8622-1930572a07a6",
   "metadata": {},
   "source": [
    "## 7.2. Graph creation:"
   ]
  },
  {
   "cell_type": "markdown",
   "id": "12220158-4f87-4d8a-911f-280a65044357",
   "metadata": {},
   "source": [
    "To set up the Neo4j graph, both the **\"nodes\"** dictionary and the **\"edges\"** dictionary generated during the IFC parsing stage will serve as the input. These dictionaries represent the essential building blocks of the graph:  \n",
    "- the **\"nodes\"** (with their labels, categories, types, attributes and properties/quantities)  \n",
    "- the **\"edges\"** (with their relationship categories and endpoints)\n",
    "\n",
    "They will be passed into Neo4j through the **Neo4j Python driver**, which manages the connection and Cypher queries used to create the graph."
   ]
  },
  {
   "cell_type": "markdown",
   "id": "1810e53a-94aa-46b4-bb36-11d21954bcdc",
   "metadata": {},
   "source": [
    "### 7.2.1. Nodes insertion:"
   ]
  },
  {
   "cell_type": "code",
   "execution_count": 49,
   "id": "1eea165b-527d-428f-8762-535840adb193",
   "metadata": {},
   "outputs": [],
   "source": [
    "driver_merge(nodes, \"node\")"
   ]
  },
  {
   "cell_type": "markdown",
   "id": "7050ba0d-3ddf-40af-9204-61083b477f17",
   "metadata": {},
   "source": [
    "### 7.2.2. Relationships/edges insertion:"
   ]
  },
  {
   "cell_type": "code",
   "execution_count": 50,
   "id": "f164f6d3-2069-4921-9d1f-5ae0fb9bf3b2",
   "metadata": {},
   "outputs": [],
   "source": [
    "driver_merge(edges, \"edge\")"
   ]
  },
  {
   "cell_type": "markdown",
   "id": "55424773-ec19-409d-9403-b02d4b5e1c82",
   "metadata": {},
   "source": [
    "## 7.3. Graph integrity:"
   ]
  },
  {
   "cell_type": "code",
   "execution_count": 51,
   "id": "08909d1f-e861-4d4c-93f1-f3b00b2ccc47",
   "metadata": {},
   "outputs": [],
   "source": [
    "graph_integrity = dict()"
   ]
  },
  {
   "cell_type": "markdown",
   "id": "31c3de1f-4656-40f0-8e01-411c88ca84c2",
   "metadata": {},
   "source": [
    "### 7.3.1. Nodes labels, categories and types:"
   ]
  },
  {
   "cell_type": "code",
   "execution_count": 52,
   "id": "fe5be2b5-5292-4210-92aa-79592540575e",
   "metadata": {},
   "outputs": [
    {
     "name": "stdout",
     "output_type": "stream",
     "text": [
      "The nodes categories match: True.\n"
     ]
    }
   ],
   "source": [
    "graph_integrity = check_labels(n_cat_counter, graph_integrity, \"nodes\", \"categories\")"
   ]
  },
  {
   "cell_type": "code",
   "execution_count": 53,
   "id": "767f6b78-0220-4102-84cb-4c19fbd0d7d4",
   "metadata": {},
   "outputs": [
    {
     "name": "stdout",
     "output_type": "stream",
     "text": [
      "The nodes types match: True.\n"
     ]
    }
   ],
   "source": [
    "graph_integrity = check_labels(n_type_counter, graph_integrity, \"nodes\", \"types\")"
   ]
  },
  {
   "cell_type": "markdown",
   "id": "f71355c4-bdf8-476a-90db-f35ab3ebc708",
   "metadata": {},
   "source": [
    "### 7.3.2. Edges labels:"
   ]
  },
  {
   "cell_type": "code",
   "execution_count": 54,
   "id": "6ce569a9-1fc8-43bf-95f6-8e4872be7ac0",
   "metadata": {},
   "outputs": [
    {
     "name": "stdout",
     "output_type": "stream",
     "text": [
      "The edges types match: True.\n"
     ]
    }
   ],
   "source": [
    "graph_integrity = check_labels(e_type_counter, graph_integrity, \"edges\", \"types\")"
   ]
  },
  {
   "cell_type": "markdown",
   "id": "e9c1b61f-d9b1-4fc8-827d-b6eeb6ff5634",
   "metadata": {},
   "source": [
    "### 7.3.3. Nodes attributes and properties:"
   ]
  },
  {
   "cell_type": "markdown",
   "id": "78aec144-664f-4490-bbd3-960b0e101653",
   "metadata": {},
   "source": [
    "**PER CATEGORY:**"
   ]
  },
  {
   "cell_type": "code",
   "execution_count": 55,
   "id": "cb63324a-546b-44cd-9c2f-2530bf8c3ed5",
   "metadata": {},
   "outputs": [],
   "source": [
    "neo_cat_attr_counts = defaultdict(Counter)\n",
    "\n",
    "with driver.session(database=DATABASE) as session:\n",
    "    results = session.run(\n",
    "        \"\"\"\n",
    "        MATCH (n)\n",
    "        UNWIND keys(n) AS k\n",
    "        RETURN head(labels(n)) AS label, k, count(*) AS c\n",
    "        ORDER BY label, k\n",
    "        \"\"\"\n",
    "    )\n",
    "    for r in results:\n",
    "        label = r[\"label\"]\n",
    "        key = r[\"k\"]\n",
    "        c = r[\"c\"]\n",
    "        neo_cat_attr_counts[label][key] = c"
   ]
  },
  {
   "cell_type": "code",
   "execution_count": 56,
   "id": "60fbcd95-ef13-4f2a-a128-65a4fb14feec",
   "metadata": {},
   "outputs": [
    {
     "name": "stdout",
     "output_type": "stream",
     "text": [
      "The IFC and the Neo4J defaultdict(Counter) match: True.\n"
     ]
    }
   ],
   "source": [
    "graph_integrity = compare_counters_ifc_neo(n_cat_attr_counts, neo_cat_attr_counts, graph_integrity, \"nodes_categories_attributes\")"
   ]
  },
  {
   "cell_type": "markdown",
   "id": "f787dbe9-111c-4d43-8ddf-d8ed2cb6d3aa",
   "metadata": {},
   "source": [
    "**PER PSET:**"
   ]
  },
  {
   "cell_type": "code",
   "execution_count": 57,
   "id": "06f48c0c-d213-4cbd-9103-792e920e6fa4",
   "metadata": {},
   "outputs": [],
   "source": [
    "neo_pset_prop_counts = defaultdict(Counter)\n",
    "\n",
    "with driver.session(database=DATABASE) as session:\n",
    "\n",
    "    results = session.run(\n",
    "        \"\"\"\n",
    "        MATCH (n:PSET)\n",
    "        WHERE n.name IS NOT NULL\n",
    "        UNWIND keys(n) AS k\n",
    "        RETURN n.name AS pname, k, count(*) AS c\n",
    "        ORDER BY pname, k\n",
    "        \"\"\"\n",
    "    )\n",
    "\n",
    "    for r in results:\n",
    "        pname = r[\"pname\"]\n",
    "        key = r[\"k\"]\n",
    "        c = r[\"c\"]\n",
    "        neo_pset_prop_counts[pname][key] = c"
   ]
  },
  {
   "cell_type": "code",
   "execution_count": 58,
   "id": "222a530d-d6d6-4e49-9518-9ea88fa34643",
   "metadata": {},
   "outputs": [
    {
     "name": "stdout",
     "output_type": "stream",
     "text": [
      "The IFC and the Neo4J defaultdict(Counter) match: True.\n"
     ]
    }
   ],
   "source": [
    "graph_integrity = compare_counters_ifc_neo(n_pset_prop_counts, neo_pset_prop_counts, graph_integrity, \"PSET_properties\")"
   ]
  },
  {
   "cell_type": "markdown",
   "id": "955a80dd-4aac-4b15-9b7a-454c7e305d9e",
   "metadata": {},
   "source": [
    "**PER QSET:**"
   ]
  },
  {
   "cell_type": "code",
   "execution_count": 59,
   "id": "0061c914-9697-43c6-bce9-342bdc132184",
   "metadata": {},
   "outputs": [],
   "source": [
    "neo_qset_prop_counts = defaultdict(Counter)\n",
    "\n",
    "with driver.session(database=DATABASE) as session:\n",
    "\n",
    "    results = session.run(\n",
    "        \"\"\"\n",
    "        MATCH (n:QSET)\n",
    "        WHERE n.name IS NOT NULL\n",
    "        UNWIND keys(n) AS k\n",
    "        RETURN n.name AS qname, k, count(*) AS c\n",
    "        ORDER BY qname, k\n",
    "        \"\"\"\n",
    "    )\n",
    "\n",
    "    for r in results:\n",
    "        qname = r[\"qname\"]\n",
    "        key = r[\"k\"]\n",
    "        c = r[\"c\"]\n",
    "        neo_qset_prop_counts[qname][key] = c"
   ]
  },
  {
   "cell_type": "code",
   "execution_count": 60,
   "id": "a105b237-a069-4936-9ebf-daeed5b359e4",
   "metadata": {},
   "outputs": [
    {
     "name": "stdout",
     "output_type": "stream",
     "text": [
      "The IFC and the Neo4J defaultdict(Counter) match: True.\n"
     ]
    }
   ],
   "source": [
    "graph_integrity = compare_counters_ifc_neo(n_qset_prop_counts, neo_qset_prop_counts, graph_integrity, \"QSET_properties\")"
   ]
  },
  {
   "cell_type": "markdown",
   "id": "28be0289-8e04-4f02-a79e-1678f3bd4031",
   "metadata": {},
   "source": [
    "### 7.3.4. Edges attributes:"
   ]
  },
  {
   "cell_type": "code",
   "execution_count": 61,
   "id": "b1a1204a-2d14-4dd5-bb1a-759dbbf04061",
   "metadata": {},
   "outputs": [],
   "source": [
    "neo_e_cat_attr_counts = defaultdict(Counter)\n",
    "\n",
    "with driver.session(database=DATABASE) as session:\n",
    "    \n",
    "    results = session.run(\n",
    "        \"\"\"\n",
    "        MATCH ()-[r]-()\n",
    "        UNWIND keys(r) AS k\n",
    "        RETURN type(r) AS rel_type, k, count(DISTINCT r) As c\n",
    "        ORDER BY rel_type, k\n",
    "        \"\"\"\n",
    "    )\n",
    "\n",
    "    for r in results:\n",
    "        rel_type = r[\"rel_type\"]\n",
    "        key = r[\"k\"]\n",
    "        c = r[\"c\"]\n",
    "        neo_e_cat_attr_counts[rel_type][key] = c"
   ]
  },
  {
   "cell_type": "code",
   "execution_count": 62,
   "id": "e6f0716b-6593-4985-8117-19221b78ecee",
   "metadata": {},
   "outputs": [
    {
     "name": "stdout",
     "output_type": "stream",
     "text": [
      "The IFC and the Neo4J defaultdict(Counter) match: True.\n"
     ]
    }
   ],
   "source": [
    "graph_integrity = compare_counters_ifc_neo(e_cat_attr_counts, neo_e_cat_attr_counts, graph_integrity, \"edges_attributes\")"
   ]
  },
  {
   "cell_type": "markdown",
   "id": "2a5f6ff6-1df0-4d46-a699-42a5919387f8",
   "metadata": {},
   "source": [
    "### 7.3.5. Graph integrity conclusion:"
   ]
  },
  {
   "cell_type": "code",
   "execution_count": 63,
   "id": "ececdf6d-27ff-49c1-803b-8c95d6193bb6",
   "metadata": {},
   "outputs": [
    {
     "name": "stdout",
     "output_type": "stream",
     "text": [
      "Nodes categories integrity test passed: True.\n",
      "Nodes types integrity test passed: True.\n",
      "Edges types integrity test passed: True.\n",
      "Nodes categories attributes integrity test passed: True.\n",
      "Pset properties integrity test passed: True.\n",
      "Qset properties integrity test passed: True.\n",
      "Edges attributes integrity test passed: True.\n",
      "\n",
      "The graph integrity is assured.\n"
     ]
    }
   ],
   "source": [
    "graph_integrity_final = graph_integrity_conclusion(graph_integrity)"
   ]
  },
  {
   "cell_type": "markdown",
   "id": "57ea0579-4f4e-4280-b062-af6451d34696",
   "metadata": {},
   "source": [
    "## 7.4. Exploration & visualization:"
   ]
  },
  {
   "cell_type": "markdown",
   "id": "3b3de244-9ebd-4516-aa56-57d93aa98074",
   "metadata": {},
   "source": [
    "**Important:** The visualization cells in this notebook rely on `ipywidgets` (e.g., `Neo4jGraphWidget`). On classic **Jupyter Notebook 7**, widget rendering is unreliable, so the canvas may appear empty. Please open this notebook in **JupyterLab** to ensure the graph renders."
   ]
  },
  {
   "cell_type": "code",
   "execution_count": 64,
   "id": "1eec80c8-09a4-4ca8-9b3f-503c63270236",
   "metadata": {},
   "outputs": [
    {
     "data": {
      "application/vnd.jupyter.widget-view+json": {
       "model_id": "2c1df51ab2dd4f05867d1b29cbd3639c",
       "version_major": 2,
       "version_minor": 0
      },
      "text/plain": [
       "GraphWidget(layout=Layout(height='800px', width='100%'))"
      ]
     },
     "metadata": {},
     "output_type": "display_data"
    }
   ],
   "source": [
    "widget = Neo4jGraphWidget(driver)\n",
    "\n",
    "with driver.session(database=DATABASE) as session:\n",
    "\n",
    "    widget._session = session                      # point widget to session\n",
    "    widget.show_cypher(\n",
    "        \"\"\"\n",
    "        MATCH (n)-[r]->(m) \n",
    "        RETURN n, r, m\n",
    "        \"\"\"\n",
    "    )"
   ]
  },
  {
   "cell_type": "markdown",
   "id": "5cca96b9-91d8-4cb3-b878-8e6a422928fb",
   "metadata": {},
   "source": [
    "## 7.5. Graph summary:"
   ]
  },
  {
   "cell_type": "code",
   "execution_count": 65,
   "id": "16663658-f7e9-4301-8f9d-7d6931008dbd",
   "metadata": {},
   "outputs": [
    {
     "data": {
      "application/json": {
       "GRAPH COUNTS": {
        "constraints": [],
        "indexes": [
         {
          "estimatedUniqueSize": 0,
          "indexProvider": "token-lookup-1.0",
          "indexType": "LOOKUP",
          "labels": [],
          "properties": [],
          "totalSize": 0,
          "updatesSinceEstimation": 0
         },
         {
          "estimatedUniqueSize": 0,
          "indexProvider": "token-lookup-1.0",
          "indexType": "LOOKUP",
          "properties": [],
          "relationshipTypes": [],
          "totalSize": 0,
          "updatesSinceEstimation": 0
         }
        ],
        "nodes": [
         {
          "count": 56
         },
         {
          "count": 0,
          "label": "_Bloom_Scene_"
         },
         {
          "count": 0,
          "label": "_Bloom_Perspective_"
         },
         {
          "count": 12,
          "label": "PSET"
         },
         {
          "count": 12,
          "label": "IfcPropertySet"
         },
         {
          "count": 10,
          "label": "QSET"
         },
         {
          "count": 10,
          "label": "IfcElementQuantity"
         },
         {
          "count": 9,
          "label": "TYPE"
         },
         {
          "count": 1,
          "label": "IfcFootingType"
         },
         {
          "count": 4,
          "label": "IfcWallType"
         },
         {
          "count": 1,
          "label": "IfcChimneyType"
         },
         {
          "count": 1,
          "label": "IfcRoofType"
         },
         {
          "count": 1,
          "label": "IfcBeamType"
         },
         {
          "count": 1,
          "label": "IfcDiscreteAccessoryType"
         },
         {
          "count": 4,
          "label": "MATERIAL"
         },
         {
          "count": 4,
          "label": "IfcMaterial"
         },
         {
          "count": 4,
          "label": "SPATIAL"
         },
         {
          "count": 1,
          "label": "IfcBuildingStorey"
         },
         {
          "count": 1,
          "label": "IfcBuilding"
         },
         {
          "count": 2,
          "label": "IfcSite"
         },
         {
          "count": 1,
          "label": "PROJECT"
         },
         {
          "count": 1,
          "label": "IfcProject"
         },
         {
          "count": 15,
          "label": "ELEMENT"
         },
         {
          "count": 1,
          "label": "IfcRoof"
         },
         {
          "count": 1,
          "label": "CLASSIFICATION_REF"
         },
         {
          "count": 1,
          "label": "IfcClassificationReference"
         },
         {
          "count": 4,
          "label": "IfcWall"
         },
         {
          "count": 6,
          "label": "IfcBeam"
         },
         {
          "count": 1,
          "label": "IfcFooting"
         },
         {
          "count": 1,
          "label": "IfcChimney"
         },
         {
          "count": 2,
          "label": "IfcDiscreteAccessory"
         },
         {
          "count": 0,
          "label": "IfcBuildingElementProxyType"
         },
         {
          "count": 0,
          "label": "IfcBuildingElementProxy"
         }
        ],
        "relationships": [
         {
          "count": 65
         },
         {
          "count": 12,
          "relationshipType": "DEFINED_BY_PROPERTIES"
         },
         {
          "count": 12,
          "relationshipType": "DEFINED_BY_PROPERTIES",
          "startLabel": "PSET"
         },
         {
          "count": 12,
          "relationshipType": "DEFINED_BY_PROPERTIES",
          "startLabel": "IfcPropertySet"
         },
         {
          "count": 1,
          "endLabel": "SPATIAL",
          "relationshipType": "DEFINED_BY_PROPERTIES"
         },
         {
          "count": 1,
          "endLabel": "IfcBuilding",
          "relationshipType": "DEFINED_BY_PROPERTIES"
         },
         {
          "count": 11,
          "endLabel": "ELEMENT",
          "relationshipType": "DEFINED_BY_PROPERTIES"
         },
         {
          "count": 1,
          "endLabel": "IfcRoof",
          "relationshipType": "DEFINED_BY_PROPERTIES"
         },
         {
          "count": 4,
          "endLabel": "IfcWall",
          "relationshipType": "DEFINED_BY_PROPERTIES"
         },
         {
          "count": 6,
          "endLabel": "IfcBeam",
          "relationshipType": "DEFINED_BY_PROPERTIES"
         },
         {
          "count": 10,
          "relationshipType": "DEFINED_BY_QUANTITIES"
         },
         {
          "count": 10,
          "relationshipType": "DEFINED_BY_QUANTITIES",
          "startLabel": "QSET"
         },
         {
          "count": 10,
          "relationshipType": "DEFINED_BY_QUANTITIES",
          "startLabel": "IfcElementQuantity"
         },
         {
          "count": 10,
          "endLabel": "ELEMENT",
          "relationshipType": "DEFINED_BY_QUANTITIES"
         },
         {
          "count": 4,
          "endLabel": "IfcWall",
          "relationshipType": "DEFINED_BY_QUANTITIES"
         },
         {
          "count": 6,
          "endLabel": "IfcBeam",
          "relationshipType": "DEFINED_BY_QUANTITIES"
         },
         {
          "count": 15,
          "relationshipType": "DEFINED_BY_TYPE"
         },
         {
          "count": 15,
          "relationshipType": "DEFINED_BY_TYPE",
          "startLabel": "TYPE"
         },
         {
          "count": 1,
          "relationshipType": "DEFINED_BY_TYPE",
          "startLabel": "IfcFootingType"
         },
         {
          "count": 4,
          "relationshipType": "DEFINED_BY_TYPE",
          "startLabel": "IfcWallType"
         },
         {
          "count": 1,
          "relationshipType": "DEFINED_BY_TYPE",
          "startLabel": "IfcChimneyType"
         },
         {
          "count": 1,
          "relationshipType": "DEFINED_BY_TYPE",
          "startLabel": "IfcRoofType"
         },
         {
          "count": 6,
          "relationshipType": "DEFINED_BY_TYPE",
          "startLabel": "IfcBeamType"
         },
         {
          "count": 2,
          "relationshipType": "DEFINED_BY_TYPE",
          "startLabel": "IfcDiscreteAccessoryType"
         },
         {
          "count": 15,
          "endLabel": "ELEMENT",
          "relationshipType": "DEFINED_BY_TYPE"
         },
         {
          "count": 1,
          "endLabel": "IfcRoof",
          "relationshipType": "DEFINED_BY_TYPE"
         },
         {
          "count": 4,
          "endLabel": "IfcWall",
          "relationshipType": "DEFINED_BY_TYPE"
         },
         {
          "count": 6,
          "endLabel": "IfcBeam",
          "relationshipType": "DEFINED_BY_TYPE"
         },
         {
          "count": 1,
          "endLabel": "IfcFooting",
          "relationshipType": "DEFINED_BY_TYPE"
         },
         {
          "count": 1,
          "endLabel": "IfcChimney",
          "relationshipType": "DEFINED_BY_TYPE"
         },
         {
          "count": 2,
          "endLabel": "IfcDiscreteAccessory",
          "relationshipType": "DEFINED_BY_TYPE"
         },
         {
          "count": 14,
          "relationshipType": "ASSOCIATED_MATERIAL"
         },
         {
          "count": 14,
          "relationshipType": "ASSOCIATED_MATERIAL",
          "startLabel": "MATERIAL"
         },
         {
          "count": 14,
          "relationshipType": "ASSOCIATED_MATERIAL",
          "startLabel": "IfcMaterial"
         },
         {
          "count": 14,
          "endLabel": "ELEMENT",
          "relationshipType": "ASSOCIATED_MATERIAL"
         },
         {
          "count": 4,
          "endLabel": "IfcWall",
          "relationshipType": "ASSOCIATED_MATERIAL"
         },
         {
          "count": 6,
          "endLabel": "IfcBeam",
          "relationshipType": "ASSOCIATED_MATERIAL"
         },
         {
          "count": 1,
          "endLabel": "IfcFooting",
          "relationshipType": "ASSOCIATED_MATERIAL"
         },
         {
          "count": 1,
          "endLabel": "IfcChimney",
          "relationshipType": "ASSOCIATED_MATERIAL"
         },
         {
          "count": 2,
          "endLabel": "IfcDiscreteAccessory",
          "relationshipType": "ASSOCIATED_MATERIAL"
         },
         {
          "count": 1,
          "relationshipType": "CONTAINED_IN"
         },
         {
          "count": 1,
          "relationshipType": "CONTAINED_IN",
          "startLabel": "SPATIAL"
         },
         {
          "count": 1,
          "relationshipType": "CONTAINED_IN",
          "startLabel": "IfcBuilding"
         },
         {
          "count": 1,
          "endLabel": "ELEMENT",
          "relationshipType": "CONTAINED_IN"
         },
         {
          "count": 1,
          "endLabel": "IfcRoof",
          "relationshipType": "CONTAINED_IN"
         },
         {
          "count": 12,
          "relationshipType": "AGGREGATES"
         },
         {
          "count": 3,
          "relationshipType": "AGGREGATES",
          "startLabel": "SPATIAL"
         },
         {
          "count": 4,
          "endLabel": "SPATIAL",
          "relationshipType": "AGGREGATES"
         },
         {
          "count": 1,
          "endLabel": "IfcBuildingStorey",
          "relationshipType": "AGGREGATES"
         },
         {
          "count": 1,
          "relationshipType": "AGGREGATES",
          "startLabel": "IfcBuilding"
         },
         {
          "count": 1,
          "endLabel": "IfcBuilding",
          "relationshipType": "AGGREGATES"
         },
         {
          "count": 2,
          "relationshipType": "AGGREGATES",
          "startLabel": "IfcSite"
         },
         {
          "count": 2,
          "endLabel": "IfcSite",
          "relationshipType": "AGGREGATES"
         },
         {
          "count": 1,
          "relationshipType": "AGGREGATES",
          "startLabel": "PROJECT"
         },
         {
          "count": 1,
          "relationshipType": "AGGREGATES",
          "startLabel": "IfcProject"
         },
         {
          "count": 8,
          "relationshipType": "AGGREGATES",
          "startLabel": "ELEMENT"
         },
         {
          "count": 8,
          "endLabel": "ELEMENT",
          "relationshipType": "AGGREGATES"
         },
         {
          "count": 8,
          "relationshipType": "AGGREGATES",
          "startLabel": "IfcRoof"
         },
         {
          "count": 6,
          "endLabel": "IfcBeam",
          "relationshipType": "AGGREGATES"
         },
         {
          "count": 2,
          "endLabel": "IfcDiscreteAccessory",
          "relationshipType": "AGGREGATES"
         },
         {
          "count": 1,
          "relationshipType": "ASSOCIATED_CLASSIFICATION"
         },
         {
          "count": 1,
          "endLabel": "SPATIAL",
          "relationshipType": "ASSOCIATED_CLASSIFICATION"
         },
         {
          "count": 1,
          "endLabel": "IfcBuilding",
          "relationshipType": "ASSOCIATED_CLASSIFICATION"
         },
         {
          "count": 1,
          "relationshipType": "ASSOCIATED_CLASSIFICATION",
          "startLabel": "CLASSIFICATION_REF"
         },
         {
          "count": 1,
          "relationshipType": "ASSOCIATED_CLASSIFICATION",
          "startLabel": "IfcClassificationReference"
         }
        ]
       },
       "META": {
        "graphToken": null,
        "internal": {
         "numSilentQueryCollectionMisses": 0
        },
        "labelCount": 32,
        "propertyKeyCount": 53,
        "relationshipTypeCount": 7,
        "retrieveTime": "2025-09-13T17:08:48.114706100+04:00",
        "system": {
         "availableProcessors": 20,
         "byteOrder": "LITTLE_ENDIAN",
         "fileEncoding": "UTF-8",
         "jvmJITCompiler": "HotSpot 64-Bit Tiered Compilers",
         "jvmMemoryFree": 212926736,
         "jvmMemoryMax": 1073741824,
         "jvmMemoryTotal": 536870912,
         "jvmName": "OpenJDK 64-Bit Server VM",
         "jvmVendor": "Azul Systems, Inc.",
         "jvmVersion": "21.0.6+7-LTS",
         "osArch": "amd64",
         "osName": "Windows 11",
         "osVersion": "10.0",
         "systemCommittedVirtualMemory": 1361891328,
         "systemFreePhysicalMemory": 17665269760,
         "systemFreeSwapSpace": 10756153344,
         "systemTotalPhysicalMemory": 34003582976,
         "systemTotalSwapSpace": 39909163008,
         "userCountry": "US",
         "userLanguage": "en",
         "userTimezone": "Indian/Mauritius"
        }
       },
       "TOKENS": {
        "labels": [
         "_Bloom_Scene_",
         "_Bloom_Perspective_",
         "PSET",
         "IfcPropertySet",
         "QSET",
         "IfcElementQuantity",
         "TYPE",
         "IfcFootingType",
         "IfcWallType",
         "IfcChimneyType",
         "IfcRoofType",
         "IfcBeamType",
         "IfcDiscreteAccessoryType",
         "MATERIAL",
         "IfcMaterial",
         "SPATIAL",
         "IfcBuildingStorey",
         "IfcBuilding",
         "IfcSite",
         "PROJECT",
         "IfcProject",
         "ELEMENT",
         "IfcRoof",
         "CLASSIFICATION_REF",
         "IfcClassificationReference",
         "IfcWall",
         "IfcBeam",
         "IfcFooting",
         "IfcChimney",
         "IfcDiscreteAccessory",
         "IfcBuildingElementProxyType",
         "IfcBuildingElementProxy"
        ],
        "propertyKeys": [
         "id",
         "data",
         "name",
         "nodes",
         "relationships",
         "style",
         "visualisation",
         "properties_ConstructionMethod_value",
         "properties_ConstructionMethod_kind",
         "properties_Status_domain",
         "properties_Status_enumeration_name",
         "properties_IsExternal_value",
         "properties_Status_kind",
         "properties_LoadBearing_kind",
         "properties_Status_value",
         "properties_IsExternal_kind",
         "properties_LoadBearing_value",
         "properties_NetVolume_kind",
         "properties_NetVolume_value",
         "properties_NetSideArea_kind",
         "properties_Length_value",
         "properties_NetSideArea_value",
         "properties_Width_kind",
         "properties_Width_value",
         "properties_Length_kind",
         "properties_CrossSectionArea_value",
         "properties_CrossSectionArea_kind",
         "code",
         "uri",
         "scheme_id",
         "rel_id",
         "rel_class",
         "properties::ConstructionMethod::value",
         "properties::ConstructionMethod::kind",
         "properties::LoadBearing::kind",
         "properties::Status::kind",
         "properties::IsExternal::kind",
         "properties::Status::enumeration_name",
         "properties::LoadBearing::value",
         "properties::IsExternal::value",
         "properties::Status::domain",
         "properties::Status::value",
         "quantities::NetVolume::kind",
         "quantities::Length::kind",
         "quantities::Width::value",
         "quantities::NetSideArea::value",
         "quantities::NetVolume::value",
         "quantities::Width::kind",
         "quantities::NetSideArea::kind",
         "quantities::Length::value",
         "quantities::CrossSectionArea::kind",
         "quantities::CrossSectionArea::value",
         "predefined_type"
        ],
        "relationshipTypes": [
         "DEFINED_BY_PROPERTIES",
         "DEFINED_BY_QUANTITIES",
         "DEFINED_BY_TYPE",
         "ASSOCIATED_MATERIAL",
         "CONTAINED_IN",
         "AGGREGATES",
         "ASSOCIATED_CLASSIFICATION"
        ]
       }
      },
      "text/plain": [
       "<IPython.core.display.JSON object>"
      ]
     },
     "metadata": {
      "application/json": {
       "expanded": false,
       "root": "root"
      }
     },
     "output_type": "display_data"
    }
   ],
   "source": [
    "with driver.session(database=DATABASE) as s:\n",
    "    sections = [\"GRAPH COUNTS\", \"TOKENS\", \"META\"]\n",
    "    stats = {\n",
    "        sec: s.run(\"CALL db.stats.retrieve($sec) YIELD data RETURN data\", sec=sec).single()[\"data\"]\n",
    "        for sec in sections\n",
    "    }\n",
    "\n",
    "# Coerce Neo4j temporal/spatial values to strings so JSON can render\n",
    "stats_clean = json.loads(json.dumps(stats, default=str))\n",
    "display(JSON(stats_clean))"
   ]
  },
  {
   "cell_type": "code",
   "execution_count": 66,
   "id": "a0a9854c-080f-4995-bb5a-5f3581de359c",
   "metadata": {},
   "outputs": [],
   "source": [
    "with driver.session(database=\"capstone\") as s:\n",
    "    rec = s.run(\"\"\"\n",
    "        CALL apoc.meta.stats()\n",
    "        YIELD nodeCount, relCount, labels, relTypes, propertyKeyCount\n",
    "        RETURN nodeCount, relCount, labels, relTypes, propertyKeyCount\n",
    "    \"\"\").single()"
   ]
  },
  {
   "cell_type": "code",
   "execution_count": 67,
   "id": "6420565e-6fba-4823-bf72-22d76a485444",
   "metadata": {},
   "outputs": [
    {
     "data": {
      "text/plain": [
       "<Record nodeCount=56 relCount=65 labels={'IfcElementQuantity': 10, 'IfcFooting': 1, 'IfcFootingType': 1, 'PROJECT': 1, 'IfcWallType': 4, 'SPATIAL': 4, 'IfcMaterial': 4, 'QSET': 10, 'CLASSIFICATION_REF': 1, 'IfcBeam': 6, 'TYPE': 9, 'IfcRoofType': 1, 'IfcChimney': 1, 'IfcProject': 1, 'IfcWall': 4, 'IfcChimneyType': 1, 'IfcRoof': 1, 'IfcPropertySet': 12, 'IfcClassificationReference': 1, 'IfcDiscreteAccessory': 2, 'PSET': 12, 'IfcBuildingStorey': 1, 'ELEMENT': 15, 'IfcBuilding': 1, 'IfcDiscreteAccessoryType': 1, 'MATERIAL': 4, 'IfcBeamType': 1, 'IfcSite': 2} relTypes={'(:CLASSIFICATION_REF)-[:ASSOCIATED_CLASSIFICATION]->()': 1, '(:IfcChimneyType)-[:DEFINED_BY_TYPE]->()': 1, '()-[:AGGREGATES]->(:SPATIAL)': 4, '(:PSET)-[:DEFINED_BY_PROPERTIES]->()': 12, '()-[:AGGREGATES]->(:IfcDiscreteAccessory)': 2, '(:IfcBuilding)-[:AGGREGATES]->()': 1, '()-[:AGGREGATES]->(:IfcBuildingStorey)': 1, '(:IfcFootingType)-[:DEFINED_BY_TYPE]->()': 1, '()-[:AGGREGATES]->()': 12, '(:QSET)-[:DEFINED_BY_QUANTITIES]->()': 10, '()-[:ASSOCIATED_CLASSIFICATION]->(:SPATIAL)': 1, '()-[:AGGREGATES]->(:IfcBeam)': 6, '()-[:AGGREGATES]->(:ELEMENT)': 8, '()-[:CONTAINED_IN]->(:ELEMENT)': 1, '()-[:DEFINED_BY_PROPERTIES]->()': 12, '()-[:DEFINED_BY_PROPERTIES]->(:IfcRoof)': 1, '()-[:DEFINED_BY_QUANTITIES]->(:IfcWall)': 4, '()-[:AGGREGATES]->(:IfcSite)': 2, '(:IfcPropertySet)-[:DEFINED_BY_PROPERTIES]->()': 12, '(:IfcRoof)-[:AGGREGATES]->()': 8, '()-[:DEFINED_BY_PROPERTIES]->(:IfcBuilding)': 1, '()-[:DEFINED_BY_QUANTITIES]->(:ELEMENT)': 10, '()-[:DEFINED_BY_QUANTITIES]->(:IfcBeam)': 6, '(:IfcSite)-[:AGGREGATES]->()': 2, '()-[:DEFINED_BY_TYPE]->(:IfcFooting)': 1, '()-[:CONTAINED_IN]->(:IfcRoof)': 1, '()-[:ASSOCIATED_CLASSIFICATION]->(:IfcBuilding)': 1, '(:IfcMaterial)-[:ASSOCIATED_MATERIAL]->()': 14, '()-[:DEFINED_BY_PROPERTIES]->(:SPATIAL)': 1, '()-[:DEFINED_BY_TYPE]->(:IfcDiscreteAccessory)': 2, '(:IfcBuilding)-[:CONTAINED_IN]->()': 1, '()-[:DEFINED_BY_TYPE]->(:IfcChimney)': 1, '(:PROJECT)-[:AGGREGATES]->()': 1, '()-[:ASSOCIATED_CLASSIFICATION]->()': 1, '()-[:DEFINED_BY_QUANTITIES]->()': 10, '()-[:DEFINED_BY_PROPERTIES]->(:ELEMENT)': 11, '()-[:ASSOCIATED_MATERIAL]->(:IfcBeam)': 6, '()-[:DEFINED_BY_PROPERTIES]->(:IfcBeam)': 6, '()-[:CONTAINED_IN]->()': 1, '()-[:DEFINED_BY_PROPERTIES]->(:IfcWall)': 4, '(:IfcElementQuantity)-[:DEFINED_BY_QUANTITIES]->()': 10, '(:ELEMENT)-[:AGGREGATES]->()': 8, '()-[:ASSOCIATED_MATERIAL]->(:IfcDiscreteAccessory)': 2, '()-[:DEFINED_BY_TYPE]->(:ELEMENT)': 15, '(:TYPE)-[:DEFINED_BY_TYPE]->()': 15, '(:IfcClassificationReference)-[:ASSOCIATED_CLASSIFICATION]->()': 1, '()-[:ASSOCIATED_MATERIAL]->()': 14, '()-[:DEFINED_BY_TYPE]->(:IfcRoof)': 1, '(:IfcProject)-[:AGGREGATES]->()': 1, '()-[:ASSOCIATED_MATERIAL]->(:IfcChimney)': 1, '()-[:DEFINED_BY_TYPE]->()': 15, '(:MATERIAL)-[:ASSOCIATED_MATERIAL]->()': 14, '()-[:DEFINED_BY_TYPE]->(:IfcBeam)': 6, '(:SPATIAL)-[:CONTAINED_IN]->()': 1, '(:SPATIAL)-[:AGGREGATES]->()': 3, '()-[:ASSOCIATED_MATERIAL]->(:IfcWall)': 4, '(:IfcWallType)-[:DEFINED_BY_TYPE]->()': 4, '()-[:AGGREGATES]->(:IfcBuilding)': 1, '()-[:DEFINED_BY_TYPE]->(:IfcWall)': 4, '(:IfcRoofType)-[:DEFINED_BY_TYPE]->()': 1, '(:IfcBeamType)-[:DEFINED_BY_TYPE]->()': 6, '()-[:ASSOCIATED_MATERIAL]->(:ELEMENT)': 14, '(:IfcDiscreteAccessoryType)-[:DEFINED_BY_TYPE]->()': 2, '()-[:ASSOCIATED_MATERIAL]->(:IfcFooting)': 1} propertyKeyCount=53>"
      ]
     },
     "execution_count": 67,
     "metadata": {},
     "output_type": "execute_result"
    }
   ],
   "source": [
    "rec"
   ]
  },
  {
   "cell_type": "code",
   "execution_count": 68,
   "id": "3c4af5e2-a00d-420a-843c-1207b0ff04d8",
   "metadata": {},
   "outputs": [],
   "source": [
    "driver.close()"
   ]
  }
 ],
 "metadata": {
  "kernelspec": {
   "display_name": "Python (capstone_env)",
   "language": "python",
   "name": "capstone_env"
  },
  "language_info": {
   "codemirror_mode": {
    "name": "ipython",
    "version": 3
   },
   "file_extension": ".py",
   "mimetype": "text/x-python",
   "name": "python",
   "nbconvert_exporter": "python",
   "pygments_lexer": "ipython3",
   "version": "3.11.13"
  }
 },
 "nbformat": 4,
 "nbformat_minor": 5
}

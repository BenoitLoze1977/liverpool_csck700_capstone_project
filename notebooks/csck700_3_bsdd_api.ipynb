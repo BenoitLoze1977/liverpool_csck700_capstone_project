{
 "cells": [
  {
   "cell_type": "markdown",
   "id": "d73f7850-f6b7-472b-b46a-1e7a63177d8f",
   "metadata": {},
   "source": [
    "# Title: csck700_bsdd_api"
   ]
  },
  {
   "cell_type": "markdown",
   "id": "81800571-aa67-4369-9fb0-c695a2b39ed5",
   "metadata": {},
   "source": [
    "### This notebook automates the semantic enrichment of construction asset parameters using the buildingSMART Data Dictionary (bsDD). It processes technical parameters derived from UFGS tables, matches them with IFC 4.3 and ETIM properties and property sets or classes retrieved through the bsDD API, and populates the corresponding URIs, codes, and names in the dataset.  \n",
    "### The notebook then generates deterministic UUIDv5-based GUIDs for each IFC and ETIM entity to ensure reproducibility and traceability, while creating placeholder entries when a property lacks its related set or class. After verifying the consistency of GUIDs to detect any conflicts, the enriched DataFrames are exported into a single Excel file, with one sheet per asset type.   \n",
    "### This workflow produces a consistent and reproducible dataset linking UFGS parameters with bsDD concepts, ready for integration into the graph-based BIM model enrichment process.  "
   ]
  },
  {
   "cell_type": "markdown",
   "id": "509af019-92ca-4b76-87bf-709c40a46951",
   "metadata": {},
   "source": [
    "# 0. Table of content:"
   ]
  },
  {
   "cell_type": "markdown",
   "id": "5913b263-9404-4606-89f2-70c72e839673",
   "metadata": {},
   "source": [
    "- [1. Settings:](#1.-Settings:)\n",
    "- [2. Imports:](#2.-Imports:)\n",
    "- [3. Helper functions:](#3.-Helper-functions:)  \n",
    "        - [3.1. bsDD API:](#3.1.-bsDD-API:)   \n",
    "        - [3.2. Fill bsDD datasets columns:](#3.2.-Fill-bsDD-datasets-columns:)   \n",
    "        - [3.3. Global unique identifier (GUID) generation and missing IFC Pset and ETIM Class placeholders:](#3.3.-Global-unique-identifier-(GUID)-generation-and-missing-IFC-Pset-and-ETIM-Class-placeholders:)       \n",
    "- [4. Data load:](#4.-Data-load:)  \n",
    "- [5. bsDD API:](#5.-bsDD-APIn:)  \n",
    "        - [5.1. Mapping UFGS Technical properties to IFC/bsDD:](#5.1.-Mapping-UFGS-Technical-properties-to-IFC/bsDD:)   \n",
    "        - [5.2. Mapping UFGS Technical properties to ETIM/bsDD:](#5.2.-Mapping-UFGS-Technical-properties-to-ETIM/bsDD:)   \n",
    "- [6. Fill bsDD datasets columns:](#6.-Fill-bsDD-datasets-columns:)  \n",
    "- [7. Global unique identifier (GUID) generation and missing IFC Pset and ETIM Class placeholders:](#7.-Global-unique-identifier-(GUID)-generation-and-missing-IFC-Pset-and-ETIM-Class-placeholders:)    \n",
    "- [8. Data save:](#8.-Data-save:)      "
   ]
  },
  {
   "cell_type": "markdown",
   "id": "b7eeaf48-f37b-4e98-a223-fe8a673f6e0e",
   "metadata": {},
   "source": [
    "# 1. Settings:"
   ]
  },
  {
   "cell_type": "code",
   "execution_count": 52,
   "id": "ae992def-627b-4998-b5b8-b9e2c7136128",
   "metadata": {},
   "outputs": [],
   "source": [
    "BASE = \"https://api.bsdd.buildingsmart.org\"\n",
    "IFC43 = \"https://identifier.buildingsmart.org/uri/buildingsmart/ifc/4.3\"\n",
    "ETIM = \"https://identifier.buildingsmart.org/uri/etim/etim/10.0\"\n",
    "HEADERS = {\n",
    "    \"accept\": \"application/json\",\n",
    "    \"user-agent\": \"BenoitCapstone/1.0\"\n",
    "}\n",
    "TIMEOUT = 30\n",
    "PROJECT_NAMESPACE = uuid.NAMESPACE_URL"
   ]
  },
  {
   "cell_type": "markdown",
   "id": "cc637606-0c5a-4fe0-bf3a-36821febe54a",
   "metadata": {},
   "source": [
    "# 2. Imports:"
   ]
  },
  {
   "cell_type": "code",
   "execution_count": 41,
   "id": "21bc4511-02fd-4314-98a0-ada5901c3be9",
   "metadata": {},
   "outputs": [],
   "source": [
    "# !pip install pandas\n",
    "import pandas as pd\n",
    "from pandas import StringDtype\n",
    "# !pip install openpyxl\n",
    "import openpyxl\n",
    "import warnings\n",
    "warnings.simplefilter(\"ignore\", UserWarning)\n",
    "import requests\n",
    "from requests.adapters import HTTPAdapter, Retry\n",
    "import time\n",
    "import re\n",
    "# !pip install rapidfuzz\n",
    "from rapidfuzz import fuzz\n",
    "import json\n",
    "import uuid"
   ]
  },
  {
   "cell_type": "code",
   "execution_count": null,
   "id": "d273137d-dae3-4ac8-a72c-592cd20688ca",
   "metadata": {},
   "outputs": [],
   "source": []
  },
  {
   "cell_type": "markdown",
   "id": "a91e3bf0-0f7e-4c12-9467-046cc7521bda",
   "metadata": {},
   "source": [
    "# 3. Helper functions:"
   ]
  },
  {
   "cell_type": "markdown",
   "id": "a3243f45-0794-4b1b-8770-b993aad73eb8",
   "metadata": {},
   "source": [
    "## 3.1. bsDD API:"
   ]
  },
  {
   "cell_type": "markdown",
   "id": "98d802c1-851e-4df1-b5e0-bc7e1edb315d",
   "metadata": {},
   "source": [
    "### 3.1.1. Requests session:"
   ]
  },
  {
   "cell_type": "code",
   "execution_count": 3,
   "id": "3523ad2c-848d-41a3-be52-0b10fcc611f8",
   "metadata": {},
   "outputs": [],
   "source": [
    "#robust GET helper with retries/backoff\n",
    "session = requests.Session()\n",
    "retry = Retry(\n",
    "    total=5,                   # up to 5 attempts\n",
    "    backoff_factor=0.6,        # 0.6, 1.2, 2.4, ...\n",
    "    status_forcelist=[429, 500, 502, 503, 504],\n",
    "    allowed_methods=[\"GET\"]\n",
    ")\n",
    "session.mount(\"https://\", HTTPAdapter(max_retries=retry))\n",
    "\n",
    "def _get(path, params, timeout=(5, 30)):  # (connect, read) seconds\n",
    "    r = session.get(\n",
    "        f\"{BASE}{path}\",\n",
    "        params=params,\n",
    "        headers={\"Accept\": \"application/json\", \"Accept-Encoding\": \"gzip, deflate\"},\n",
    "        timeout=timeout,\n",
    "    )\n",
    "    r.raise_for_status()\n",
    "    return r.json()"
   ]
  },
  {
   "cell_type": "markdown",
   "id": "acbbb32a-eb1a-4c33-a97b-b36bfca11c7a",
   "metadata": {},
   "source": [
    "### 3.1.2. IFC properties - ETIM properties:"
   ]
  },
  {
   "cell_type": "markdown",
   "id": "7a50d0ac-8076-40d7-8134-1d2944d44e79",
   "metadata": {},
   "source": [
    "**STEP 1 - TARGETS SELECTION:**"
   ]
  },
  {
   "cell_type": "code",
   "execution_count": 4,
   "id": "f2f05a4a-b974-4bc2-aa98-abfcf59b7380",
   "metadata": {},
   "outputs": [],
   "source": [
    "def _select_params_from_df(df):\n",
    "    \"\"\"\n",
    "    From UFGS to list of technical parameters to search.\n",
    "    \"\"\"\n",
    "    return list(df[\"parameter_name_input\"])"
   ]
  },
  {
   "cell_type": "code",
   "execution_count": 5,
   "id": "81547aaa-445d-49d4-a41d-bd6312d11437",
   "metadata": {},
   "outputs": [],
   "source": [
    "def _align_to_length(n, maybe_list):\n",
    "    \"\"\"\n",
    "    Pad/trim a list to length n with None.\n",
    "    \"\"\"\n",
    "    if maybe_list is None:\n",
    "        return [None] * n\n",
    "    if len(maybe_list) == n:\n",
    "        return maybe_list\n",
    "    return (maybe_list + [None] * (n - len(maybe_list)))[:n]"
   ]
  },
  {
   "cell_type": "markdown",
   "id": "0407a65f-7cb8-4e3e-a943-2d3ec91fb495",
   "metadata": {},
   "source": [
    "**STEP 2 - bsDD QUERY:**"
   ]
  },
  {
   "cell_type": "code",
   "execution_count": 6,
   "id": "8445211d-cb4a-4af8-a42d-8e2de06a04ee",
   "metadata": {},
   "outputs": [],
   "source": [
    "def _bsd_textsearch_properties(text, dictionary_uri):\n",
    "    \"\"\"\n",
    "    From /api/TextSearch/v2 (Property) to list of candidate property dicts.\n",
    "    \"\"\"\n",
    "    if text is None:\n",
    "        return []\n",
    "    q = str(text).strip()\n",
    "    if not q or q.lower() in {\"nan\", \"none\"}:\n",
    "        return []\n",
    "    try:\n",
    "        data = _get(\n",
    "            \"/api/TextSearch/v2\",\n",
    "            params={\n",
    "                \"SearchText\": q,\n",
    "                \"DictionaryUris\": [dictionary_uri],\n",
    "                \"TypeFilter\": \"Property\",\n",
    "                \"IncludeInactive\": True,\n",
    "                \"IncludePreview\": True,\n",
    "            }\n",
    "        )\n",
    "        return data.get(\"properties\") or []\n",
    "    except Exception as e:\n",
    "        print(f\"{q} - TextSearch error: {e}\")\n",
    "        return []"
   ]
  },
  {
   "cell_type": "markdown",
   "id": "e51d9130-a820-40e8-9dca-cd0e15c6ed45",
   "metadata": {},
   "source": [
    "**STEP 3 - USER CHOICE:**"
   ]
  },
  {
   "cell_type": "code",
   "execution_count": 7,
   "id": "03a96f5c-5e87-4a11-b97e-7d74eb8ba3a5",
   "metadata": {},
   "outputs": [],
   "source": [
    "def _print_and_choose(asset_name, topic_text, candidates, label, code_key=\"code\"):\n",
    "    \"\"\"\n",
    "    Show candidates, ask for an index, return normalized {uri, code, name} or None.\n",
    "    \"\"\"\n",
    "    if not candidates:\n",
    "        print(f\"{topic_text} - No {label} candidates found.\")\n",
    "        return None\n",
    "\n",
    "    print(f\"\\n{asset_name.upper()} - {topic_text.upper()} - CANDIDATE {label}:\")\n",
    "    for i, c in enumerate(candidates):\n",
    "        n = c.get(\"name\") or \"(no name)\"\n",
    "        d = c.get(\"description\") or \"\"\n",
    "        print(f\"[{i}] - {n}: ({d}).\")\n",
    "    print(f\"[{len(candidates)}] - None / Not applicable.\")\n",
    "\n",
    "    while True:\n",
    "        try:\n",
    "            choice = int(input(\"Select the index of the best match: \"))\n",
    "            if 0 <= choice <= len(candidates):\n",
    "                if choice == len(candidates):\n",
    "                    return None\n",
    "                pick = candidates[choice]\n",
    "                return {\n",
    "                    \"uri\":  pick.get(\"uri\"),\n",
    "                    \"code\": pick.get(code_key) or pick.get(\"code\"),\n",
    "                    \"name\": pick.get(\"name\"),\n",
    "                }\n",
    "            print(\"Invalid choice. Try again.\")\n",
    "        except ValueError:\n",
    "            print(\"Please enter a number.\")"
   ]
  },
  {
   "cell_type": "markdown",
   "id": "0c7b1ded-ed35-427d-826d-f222e8f1ca6c",
   "metadata": {},
   "source": [
    "**FROM UFGS TO IFC PROPERTIES:**"
   ]
  },
  {
   "cell_type": "code",
   "execution_count": 8,
   "id": "68008ce9-8ec6-4977-ae5f-5b2d76782ce2",
   "metadata": {},
   "outputs": [],
   "source": [
    "def map_ufgs_to_ifc(dfs, df_names, IFC43):\n",
    "    \"\"\"\n",
    "    Map UFGS technical parameters to IFC properties (IFC 4.3 bSDD).\n",
    "    Returns dict[df_name] -> list[{uri, code, name} | None], aligned to parameter_name_input.\n",
    "    \"\"\"\n",
    "    out = {}\n",
    "\n",
    "    for df_name in df_names:\n",
    "        df_asset   = dfs[df_name]\n",
    "        asset_name = \" \".join(df_name.split(\"_\"))\n",
    "\n",
    "        # STEP 1 - TARGETS SELECTION:\n",
    "        params = _select_params_from_df(df_asset)\n",
    "        print(params)  # keep your original visibility\n",
    "\n",
    "        picks = []\n",
    "        for p in params:\n",
    "            # STEP 2 - bsDD QUERY:\n",
    "            candidates = _bsd_textsearch_properties(p, IFC43)\n",
    "            # STEP 3 - USER CHOICE:\n",
    "            sel = _print_and_choose(asset_name, str(p), candidates, label=\"IFC PROPERTIES\", code_key=\"code\")\n",
    "            picks.append(sel)\n",
    "\n",
    "        out[df_name] = picks\n",
    "\n",
    "    return out"
   ]
  },
  {
   "cell_type": "markdown",
   "id": "7f10784d-29b8-4bb9-bbc8-da2f3551cd63",
   "metadata": {},
   "source": [
    "**FILL IFC GAPS WITH ETIM:**"
   ]
  },
  {
   "cell_type": "code",
   "execution_count": 9,
   "id": "7cb227bf-ff2e-45ac-b7ac-4b10363e6807",
   "metadata": {},
   "outputs": [],
   "source": [
    "def select_etim_props_for_ifc_gaps(dfs, df_names, ifc_props_dict):\n",
    "    \"\"\"\n",
    "    Populate ETIM equivalents only where IFC mappings are missing.\n",
    "    Returns dict[df_name] -> list[{uri, code, name} | None], aligned 1:1 with UFGS parameters.\n",
    "    \"\"\"\n",
    "    etim_out = {}\n",
    "\n",
    "    for df_name in df_names:\n",
    "        print(df_name)\n",
    "        df_asset   = dfs[df_name]\n",
    "        asset_name = \" \".join(df_name.split(\"_\"))\n",
    "\n",
    "        # STEP 1 - TARGETS SELECTION:\n",
    "        params = _select_params_from_df(df_asset)\n",
    "        ifc_aligned = _align_to_length(len(params), ifc_props_dict.get(df_name))\n",
    "        etim_list   = [None] * len(params)\n",
    "\n",
    "        for i, p in enumerate(params):\n",
    "            # skip if IFC exists at this index\n",
    "            if ifc_aligned[i]:\n",
    "                print(f\"{p} - IFC equivalent property already found.\")\n",
    "                continue\n",
    "\n",
    "            # STEP 2 - bsDD QUERY:\n",
    "            candidates = _bsd_textsearch_properties(p, ETIM)\n",
    "\n",
    "            # STEP 3 - USER CHOICE:\n",
    "            sel = _print_and_choose(asset_name, str(p), candidates, label=\"ETIM PROPERTIES\", code_key=\"referenceCode\")\n",
    "            etim_list[i] = sel\n",
    "\n",
    "        etim_out[df_name] = etim_list\n",
    "\n",
    "    return etim_out"
   ]
  },
  {
   "cell_type": "markdown",
   "id": "e81d0684-8072-423e-b12b-df101c75d08f",
   "metadata": {},
   "source": [
    "### 3.1.3. IFC properties sets - ETIM classes:"
   ]
  },
  {
   "cell_type": "markdown",
   "id": "3cea212c-a40a-4318-937d-9f60783b1ff1",
   "metadata": {},
   "source": [
    "**STEP 1 - TARGETS SELECTION:**"
   ]
  },
  {
   "cell_type": "code",
   "execution_count": 10,
   "id": "6d93183a-5c0c-4f67-ba66-769274f5283d",
   "metadata": {},
   "outputs": [],
   "source": [
    "def _step1_select_targets(props_list):\n",
    "    \"\"\"\n",
    "    Keep alignment; each entry becomes {'name','uri'} or None.\n",
    "    \"\"\"\n",
    "    out = []\n",
    "    for p in props_list:\n",
    "        if not p:\n",
    "            out.append(None)\n",
    "        else:\n",
    "            out.append({\n",
    "                \"name\": p.get(\"name\") or \"(unnamed)\",\n",
    "                \"uri\":  p.get(\"uri\")  or \"\"\n",
    "            })\n",
    "    return out"
   ]
  },
  {
   "cell_type": "markdown",
   "id": "f6550814-139c-41f7-9c82-0b9c2bba0a9a",
   "metadata": {},
   "source": [
    "**STEP 2 - bsDD QUERY:**"
   ]
  },
  {
   "cell_type": "code",
   "execution_count": 11,
   "id": "67105b8c-7e0d-494d-8278-d8e7053a1c13",
   "metadata": {},
   "outputs": [],
   "source": [
    "def _step2_query_property_classes(property_uri):\n",
    "    \"\"\"\n",
    "    From /api/Property/Classes/v1 to list of candidates.\n",
    "    Handles both 'propertyClasses' or 'classes' keys.\n",
    "    \"\"\"\n",
    "    if not property_uri:\n",
    "        return []\n",
    "    try:\n",
    "        data = _get(\"/api/Property/Classes/v1\", params={\"PropertyUri\": property_uri})\n",
    "        return data.get(\"propertyClasses\") or data.get(\"classes\") or []\n",
    "    except Exception as e:\n",
    "        print(f\"{property_uri or '(no uri)'} - Property/Classes error: {e}\")\n",
    "        return []"
   ]
  },
  {
   "cell_type": "markdown",
   "id": "1d5719a8-acc9-4402-befe-30693664705e",
   "metadata": {},
   "source": [
    "**STEP 3 - USER CHOICE:**"
   ]
  },
  {
   "cell_type": "code",
   "execution_count": 13,
   "id": "200ef659-74a5-43b3-8ba8-79515fd05f64",
   "metadata": {},
   "outputs": [],
   "source": [
    "def _step3_pick_and_pack(asset_name, topic, candidates, mode):\n",
    "    \"\"\"\n",
    "    Print candidates, ask for an index, and return the packed dict or None.\n",
    "    mode: \n",
    "    - 'pset' for IFC Psets returns {'uri','code', 'name'}\n",
    "    - 'etim' for ETIM class returns {'uri','code','name'}\n",
    "    \"\"\"\n",
    "    if not candidates:\n",
    "        print(f\"{topic} - No candidates found ({mode}).\")\n",
    "        return None\n",
    "\n",
    "    print(f\"\\n{asset_name.upper()} - {topic.upper()} - CANDIDATES ({mode.upper()}):\")\n",
    "    for i, c in enumerate(candidates):\n",
    "        if mode == \"pset\":\n",
    "            label = c.get(\"propertySet\") or \"(no code)\"\n",
    "            desc  = c.get(\"description\") or \"\"\n",
    "            line  = f\"{label}: ({desc}).\"\n",
    "        else:  # mode == \"etim\"\n",
    "            uri  = c.get(\"uri\") or \"\"\n",
    "            code = c.get(\"code\") or (uri.rsplit(\"/\", 1)[-1] if uri else \"(no code)\")\n",
    "            name = c.get(\"name\") or \"(no name)\"\n",
    "            desc = c.get(\"description\") or \"\"\n",
    "            line = f\"{code} — {name} ({desc})\"\n",
    "        print(f\"[{i}] - {line}\")\n",
    "    print(f\"[{len(candidates)}] - None / Not applicable.\")\n",
    "\n",
    "    while True:\n",
    "        try:\n",
    "            k = int(input(\"Select the index of the best match: \"))\n",
    "            if 0 <= k <= len(candidates):\n",
    "                if k == len(candidates):\n",
    "                    return None\n",
    "                hit = candidates[k]\n",
    "                if mode == \"pset\":\n",
    "                    return {\"uri\": hit.get(\"uri\"), \"code\": hit.get(\"propertySet\"), \"name\": hit.get(\"name\")}\n",
    "                else:  # mode == \"etim\"\n",
    "                    uri  = hit.get(\"uri\") or \"\"\n",
    "                    code = hit.get(\"code\") or (uri.rsplit(\"/\", 1)[-1] if uri else None)\n",
    "                    return {\"uri\": uri, \"code\": code, \"name\": hit.get(\"name\")}\n",
    "            print(\"Invalid choice. Try again.\")\n",
    "        except ValueError:\n",
    "            print(\"Please enter a number.\")"
   ]
  },
  {
   "cell_type": "markdown",
   "id": "0aec4613-54ec-4c8c-a2d8-9377a74cc30a",
   "metadata": {},
   "source": [
    "**IFC PROPERTY SET - ETIM CLASSES COMMON BASIS:**"
   ]
  },
  {
   "cell_type": "code",
   "execution_count": 16,
   "id": "636e2d85-a43c-48ee-9a17-eebf593656db",
   "metadata": {},
   "outputs": [],
   "source": [
    "def _select_related_for_properties(props_dict, mode):\n",
    "    \"\"\"\n",
    "    Shared 3-step flow: filter, bSDD query, user pick.\n",
    "    mode: 'pset' (IFC Property Sets) or 'etim' (ETIM Classes)\n",
    "    Returns:\n",
    "      - mode='pset': dict[df_name] -> list[{uri, code} | None]\n",
    "      - mode='etim': dict[df_name] -> list[{uri, code, name} | None]\n",
    "    \"\"\"\n",
    "    out = {}\n",
    "    for df_name, properties in props_dict.items():\n",
    "        asset_name = \" \".join(df_name.split(\"_\"))\n",
    "        # STEP 1 - FILTERING:\n",
    "        targets = _step1_select_targets(properties)\n",
    "        picks = []\n",
    "        for t in targets:\n",
    "            if not t:\n",
    "                picks.append(None); continue\n",
    "            if not t[\"uri\"]:\n",
    "                print(f\"{t['name']} - Missing Property URI, skipping.\")\n",
    "                picks.append(None); continue\n",
    "\n",
    "            # STEP 2 - bsDD QUERY:\n",
    "            candidates = _step2_query_property_classes(t[\"uri\"])\n",
    "            # STEP 3 - USER CHOICE:\n",
    "            sel = _step3_pick_and_pack(asset_name, t[\"name\"], candidates, mode=mode)\n",
    "            picks.append(sel)\n",
    "        out[df_name] = picks\n",
    "    return out"
   ]
  },
  {
   "cell_type": "markdown",
   "id": "f9c191eb-5fc2-47e9-99ae-a7db2c26000e",
   "metadata": {},
   "source": [
    "**IFC PROPERTY SET:**"
   ]
  },
  {
   "cell_type": "code",
   "execution_count": 17,
   "id": "90ab75d7-f5fb-46a7-9705-8451453b16f0",
   "metadata": {},
   "outputs": [],
   "source": [
    "def select_psets_for_properties(ifc_props_dict):\n",
    "    \"\"\"\n",
    "    From IFC property to IFC Property Sets.\n",
    "    \"\"\"\n",
    "    return _select_related_for_properties(ifc_props_dict, mode=\"pset\")"
   ]
  },
  {
   "cell_type": "markdown",
   "id": "1ce789fb-55c6-48fa-9b7f-5e1dbdb18d75",
   "metadata": {},
   "source": [
    "**ETIM CLASSES:**"
   ]
  },
  {
   "cell_type": "code",
   "execution_count": 18,
   "id": "27f42366-88d0-4049-bd84-6b4f877837d1",
   "metadata": {},
   "outputs": [],
   "source": [
    "def select_etim_classes_for_properties(etim_props_dict):\n",
    "    \"\"\"\n",
    "    From ETIM property to ETIM Classes.\n",
    "    \"\"\"\n",
    "    return _select_related_for_properties(etim_props_dict, mode=\"etim\")"
   ]
  },
  {
   "cell_type": "markdown",
   "id": "e04a64eb-318d-48cc-a0a2-84e9cd8b77c8",
   "metadata": {},
   "source": [
    "## 3.2. Fill bsDD datasets columns:"
   ]
  },
  {
   "cell_type": "code",
   "execution_count": 19,
   "id": "b2f50145-e7d6-429c-85e6-204fbfa9e7a9",
   "metadata": {},
   "outputs": [],
   "source": [
    "def apply_property_mapping(dfs, df_names, mapping_dict, col_prefix, exists_col=None):\n",
    "    \"\"\"\n",
    "    Fill {col_prefix}_uri / _code / _name in each df from mapping_dict[df_name].\n",
    "    Overwrites entire columns (None in mapping_dict → <NA> in df).\n",
    "    \"\"\"\n",
    "    uri_col  = f\"{col_prefix}_uri\"\n",
    "    code_col = f\"{col_prefix}_code\"\n",
    "    name_col = f\"{col_prefix}_name\"\n",
    "\n",
    "    for df_name in df_names:\n",
    "        df   = dfs[df_name]\n",
    "        data = mapping_dict.get(df_name, [])\n",
    "        \n",
    "        if len(data) != len(df):\n",
    "            raise ValueError(\n",
    "                f\"Length mismatch for '{df_name}': len(data)={len(data)} vs len(df)={len(df)}\"\n",
    "            )\n",
    "\n",
    "        # Build new series (aligned to row order), using None where no match\n",
    "        uris  = [d.get(\"uri\")  if d else None for d in data]\n",
    "        codes = [d.get(\"code\") if d else None for d in data]\n",
    "        names = [d.get(\"name\") if d else None for d in data]\n",
    "\n",
    "        # Assign with string-friendly dtype to avoid FutureWarning\n",
    "        df[uri_col]  = pd.Series(uris,  dtype=StringDtype())\n",
    "        df[code_col] = pd.Series(codes, dtype=StringDtype())\n",
    "        df[name_col] = pd.Series(names, dtype=StringDtype())\n",
    "\n",
    "        # Optional exists flag (boolean), set True where a mapping exists\n",
    "        if exists_col:\n",
    "            df[exists_col] = pd.Series([bool(d) for d in data], dtype=\"boolean\")\n",
    "\n",
    "        dfs[df_name] = df  # write back"
   ]
  },
  {
   "cell_type": "markdown",
   "id": "1004b5a6-ad62-46f2-ac6a-9ae37fac7107",
   "metadata": {},
   "source": [
    "## 3.3. Global unique identifier (GUID) generation and missing IFC Pset and ETIM Class placeholders:"
   ]
  },
  {
   "cell_type": "code",
   "execution_count": 98,
   "id": "438de909-4c99-4284-89e6-d09010175614",
   "metadata": {},
   "outputs": [],
   "source": [
    "def make_guid(*parts, kind=\"\", asset=\"\", row_index=None, namespace=PROJECT_NAMESPACE):\n",
    "    \"\"\"\n",
    "    Always returns a GUID string.\n",
    "    - Primary: UUIDv5 from non-empty `parts`\n",
    "    - Fallback: UUIDv5 from deterministic seed: (asset|kind|row_index)\n",
    "    \"\"\"\n",
    "    name = \"|\".join(str(p) for p in parts if p not in (None, \"\"))\n",
    "    if not name:\n",
    "        name = f\"{asset}|{kind}|{row_index}\"\n",
    "    return str(uuid.uuid5(namespace, name))"
   ]
  },
  {
   "cell_type": "code",
   "execution_count": 99,
   "id": "e0b9b6ab-f8a9-46b8-a430-db8c1eb5c310",
   "metadata": {},
   "outputs": [],
   "source": [
    "def ensure_string_columns(df, columns=None):\n",
    "    \"\"\"\n",
    "    Ensure each column in `columns` exists on `df` with pandas 'string' dtype.\n",
    "    Creates missing columns and casts existing ones if needed. Modifies df in place.\n",
    "    \"\"\"\n",
    "    if columns is None:\n",
    "        columns = [\n",
    "            \"ifc_property_guid\", \"ifc_pset_guid\",\n",
    "            \"etim_property_guid\", \"etim_class_guid\",\n",
    "            \"ifc_pset_code\", \"etim_class_code\",\n",
    "        ]\n",
    "\n",
    "    for col in columns:\n",
    "        if col not in df.columns:\n",
    "            df[col] = pd.Series(index=df.index, dtype=StringDtype())\n",
    "        elif df[col].dtype != \"string\":\n",
    "            df[col] = df[col].astype(StringDtype())\n",
    "    return df"
   ]
  },
  {
   "cell_type": "code",
   "execution_count": 100,
   "id": "094ad56e-cbf5-4a3b-ae57-88522c3d9c17",
   "metadata": {},
   "outputs": [],
   "source": [
    "def df_guid_placeholders(dfs2):\n",
    "    \"\"\"\n",
    "    Populate GUID columns for IFC/ETIM properties and sets/classes across a dict of DataFrames.\n",
    "    For each DataFrame (keyed by asset name), assigns deterministic GUIDs (via make_guid)\n",
    "    to: ifc_property_guid, ifc_pset_guid, etim_property_guid, etim_class_guid.\n",
    "    If an IFC property lacks an IFC pset, sets ifc_pset_code=\"Pset_PlaceHolder\" and its GUID;\n",
    "    if an ETIM property lacks an ETIM class, sets etim_class_code=\"Class_PlaceHolder\" and its GUID.\n",
    "    Modifies DataFrames in place and returns the updated dict.\n",
    "    \"\"\"\n",
    "\n",
    "    for name, df in dfs2.items():\n",
    "    \n",
    "        if df is None or df.empty:\n",
    "            continue\n",
    "            \n",
    "        # Ensure target columns are present and string-typed:\n",
    "        df = ensure_string_columns(df)\n",
    "\n",
    "        # Precompute placeholders once per DF:\n",
    "        PSET_PLACEHOLDER_CODE  = \"Pset_PlaceHolder\"\n",
    "        CLASS_PLACEHOLDER_CODE = \"Class_PlaceHolder\"\n",
    "    \n",
    "        pset_placeholder_guid = make_guid(\n",
    "            PSET_PLACEHOLDER_CODE,\n",
    "            kind=\"IFC_PSET\", asset=name, row_index=\"__placeholder__\"\n",
    "        )\n",
    "        class_placeholder_guid = make_guid(\n",
    "            CLASS_PLACEHOLDER_CODE,\n",
    "            kind=\"ETIM_CLASS\", asset=name, row_index=\"__placeholder__\"\n",
    "        )\n",
    "            \n",
    "        for index, row in df.iterrows():\n",
    "                \n",
    "            # IFC property:\n",
    "            if \"ifc_property_uri\" in row and pd.notna(row[\"ifc_property_uri\"]):\n",
    "                df.at[index, \"ifc_property_guid\"] = make_guid(\n",
    "                    row.get(\"ifc_property_uri\"), row.get(\"ifc_property_code\"),\n",
    "                    kind=\"IFC_PROP\", asset=name, row_index=index\n",
    "                )\n",
    "                # if IFC Pset is empty -> placeholder:\n",
    "                if (\"ifc_pset_uri\" not in row) or pd.isna(row[\"ifc_pset_uri\"]) or not str(row[\"ifc_pset_uri\"]).strip():\n",
    "                    df.at[index, \"ifc_pset_code\"] = PSET_PLACEHOLDER_CODE\n",
    "                    df.at[index, \"ifc_pset_guid\"] = pset_placeholder_guid \n",
    "    \n",
    "            # IFC Property Set\n",
    "            if \"ifc_pset_uri\" in row and pd.notna(row[\"ifc_pset_uri\"]):\n",
    "                df.at[index, \"ifc_pset_guid\"] = make_guid(\n",
    "                    row.get(\"ifc_pset_uri\"), row.get(\"ifc_pset_code\"),\n",
    "                    kind=\"IFC_PSET\", asset=name, row_index=index\n",
    "                )      \n",
    "    \n",
    "            # ETIM Property\n",
    "            if \"etim_property_uri\" in row and pd.notna(row[\"etim_property_uri\"]):\n",
    "                df.at[index, \"etim_property_guid\"] = make_guid(\n",
    "                    row.get(\"etim_property_uri\"), row.get(\"etim_property_code\"),\n",
    "                    kind=\"ETIM_PROP\", asset=name, row_index=index\n",
    "                )\n",
    "                # If ETIM class is empty -> placeholder:\n",
    "                if (\"etim_class_uri\" not in row) or pd.isna(row[\"etim_class_uri\"]) or not str(row[\"etim_class_uri\"]).strip():\n",
    "                    df.at[index, \"etim_class_code\"] = CLASS_PLACEHOLDER_CODE\n",
    "                    df.at[index, \"etim_class_guid\"] = class_placeholder_guid\n",
    "    \n",
    "            # ETIM Class\n",
    "            if \"etim_class_uri\" in row and pd.notna(row[\"etim_class_uri\"]):\n",
    "                df.at[index, \"etim_class_guid\"] = make_guid(\n",
    "                    row.get(\"etim_class_uri\"), row.get(\"etim_class_code\"),\n",
    "                    kind=\"ETIM_CLASS\", asset=name, row_index=index\n",
    "                )\n",
    "\n",
    "    return dfs2        "
   ]
  },
  {
   "cell_type": "code",
   "execution_count": 101,
   "id": "64d533c7-f092-4d82-bd0d-98d3988d9503",
   "metadata": {},
   "outputs": [],
   "source": [
    "def guid_check(dfs):\n",
    "    \"\"\"\n",
    "    {df_name: True/False}. True iff each GUID maps to a single (uri,code,name).\n",
    "    Repeats allowed; placeholders ignored.\n",
    "    \"\"\"\n",
    "    specs = [\n",
    "        (\"ifc_property\", None),\n",
    "        (\"ifc_pset\", (\"ifc_pset_code\", \"Pset_PlaceHolder\")),\n",
    "        (\"etim_property\", None),\n",
    "        (\"etim_class\", (\"etim_class_code\", \"Class_PlaceHolder\")),\n",
    "    ]\n",
    "    out = {}\n",
    "    for name, df in dfs.items():\n",
    "        if df is None or df.empty:\n",
    "            out[name] = True; continue\n",
    "            \n",
    "        ok, seen = True, {}\n",
    "        \n",
    "        for pref, ph in specs:\n",
    "            g,u,c,n = f\"{pref}_guid\", f\"{pref}_uri\", f\"{pref}_code\", f\"{pref}_name\"\n",
    "            if g not in df.columns: continue\n",
    "            for _, r in df.iterrows():\n",
    "                v = r.get(g)\n",
    "                guid = \"\" if pd.isna(v) else str(v).strip()\n",
    "                if not guid: continue\n",
    "\n",
    "                # Check if the row corresponds to a placeholder (Pset or Class):\n",
    "                is_ph = False\n",
    "                if ph:\n",
    "                    pv = r.get(ph[0])\n",
    "                    is_ph = (not pd.isna(pv)) and (str(pv).strip() == ph[1])\n",
    "                if is_ph: \n",
    "                    # skip placeholder GUIDs from uniqueness check:\n",
    "                    continue\n",
    "                    \n",
    "                # build a unique identity (uri, code, name):    \n",
    "                ident = tuple(\"\" if pd.isna(r.get(k)) else str(r.get(k)).strip() for k in (u,c,n))\n",
    "                # if same GUID seen before but with different (uri, code, name) → error:\n",
    "                if guid in seen and seen[guid] != ident: \n",
    "                    ok = False \n",
    "                    break\n",
    "                # otherwise store it:\n",
    "                seen[guid] = ident\n",
    "                \n",
    "            # stop early if inconsistency found:    \n",
    "            if not ok: \n",
    "                break\n",
    "                \n",
    "        out[name] = ok\n",
    "\n",
    "    for k, v in out.items():\n",
    "        k_split = k.split(\"_\")\n",
    "        k_text = \" \".join(k_split)\n",
    "        print(f\"{k_text.upper()} has no GUID duplicate value: {v}.\")\n",
    "        \n",
    "    return out"
   ]
  },
  {
   "cell_type": "markdown",
   "id": "31ac62d0-81a8-452f-8165-0438f88510c1",
   "metadata": {},
   "source": [
    "## 3.4. Data save:"
   ]
  },
  {
   "cell_type": "code",
   "execution_count": 102,
   "id": "b7517aa5-5608-44e6-9e26-dccd90dc8bd1",
   "metadata": {},
   "outputs": [],
   "source": [
    "def write_multi_df_to_excel(dfs, output_path):\n",
    "    \"\"\"\n",
    "    Write multiple DataFrames to a single Excel file, one sheet per key in `dfs`.\n",
    "    Parameters:\n",
    "        dfs (dict): Mapping of sheet names to pandas DataFrames.\n",
    "        output_path (str): Path to the output .xlsx file.\n",
    "    Each DataFrame is written to a sheet named after its dict key with index disabled.\n",
    "    \"\"\"\n",
    "    with pd.ExcelWriter(output_path, engine=\"openpyxl\") as writer:\n",
    "        for df_name, df in dfs.items():\n",
    "            # Each df will go to a sheet named after df_name\n",
    "            df.to_excel(writer, sheet_name=df_name, index=False)"
   ]
  },
  {
   "cell_type": "markdown",
   "id": "51586296-7f37-4cc4-a479-039ba34fc516",
   "metadata": {},
   "source": [
    "# 4. Data load:"
   ]
  },
  {
   "cell_type": "code",
   "execution_count": 20,
   "id": "fd241540-4458-4f4b-aa09-0061de2a315f",
   "metadata": {},
   "outputs": [],
   "source": [
    "file_path = r\"..\\data\\raw\\ufgs_authoring.xlsx\""
   ]
  },
  {
   "cell_type": "code",
   "execution_count": 21,
   "id": "d949a256-4be3-43a1-8e2d-9ddff25fa722",
   "metadata": {},
   "outputs": [
    {
     "name": "stdout",
     "output_type": "stream",
     "text": [
      "['description', 'dictionary_keys', 'data_validation', 'stone_wall_chimney', 'roof_wood_beam', 'strip_footing', 'beam_shoe']\n"
     ]
    }
   ],
   "source": [
    "xls = pd.ExcelFile(file_path)\n",
    "sheet_names = xls.sheet_names\n",
    "print(sheet_names)"
   ]
  },
  {
   "cell_type": "code",
   "execution_count": 22,
   "id": "d32ace47-8e30-405a-b267-72dea1096ad0",
   "metadata": {},
   "outputs": [],
   "source": [
    "df_names = sheet_names[3:]"
   ]
  },
  {
   "cell_type": "code",
   "execution_count": 23,
   "id": "0ba75ebc-87e1-4b9a-8eae-f0189719f4d5",
   "metadata": {},
   "outputs": [],
   "source": [
    "dfs = dict()\n",
    "for df_name in df_names:\n",
    "    dfs[df_name] = pd.read_excel(file_path, sheet_name=df_name)"
   ]
  },
  {
   "cell_type": "code",
   "execution_count": 24,
   "id": "cb1b74a4-f847-4d74-a190-6ffdb627d667",
   "metadata": {},
   "outputs": [
    {
     "name": "stdout",
     "output_type": "stream",
     "text": [
      "\n",
      "### Dataframe: stone_wall_chimney ###\n"
     ]
    },
    {
     "data": {
      "text/html": [
       "<div>\n",
       "<style scoped>\n",
       "    .dataframe tbody tr th:only-of-type {\n",
       "        vertical-align: middle;\n",
       "    }\n",
       "\n",
       "    .dataframe tbody tr th {\n",
       "        vertical-align: top;\n",
       "    }\n",
       "\n",
       "    .dataframe thead th {\n",
       "        text-align: right;\n",
       "    }\n",
       "</style>\n",
       "<table border=\"1\" class=\"dataframe\">\n",
       "  <thead>\n",
       "    <tr style=\"text-align: right;\">\n",
       "      <th></th>\n",
       "      <th>id</th>\n",
       "      <th>asset_type</th>\n",
       "      <th>ifc_class</th>\n",
       "      <th>parameter_name_input</th>\n",
       "      <th>value_raw</th>\n",
       "      <th>operator</th>\n",
       "      <th>value_normalized</th>\n",
       "      <th>unit</th>\n",
       "      <th>target_label</th>\n",
       "      <th>ifc_exists</th>\n",
       "      <th>...</th>\n",
       "      <th>etim_class_code</th>\n",
       "      <th>etim_class_name</th>\n",
       "      <th>etim_class_guid</th>\n",
       "      <th>bsdd_dictionary_key</th>\n",
       "      <th>source_doc</th>\n",
       "      <th>source_clause</th>\n",
       "      <th>value_standard</th>\n",
       "      <th>mapping_confidence</th>\n",
       "      <th>roundtrip_action</th>\n",
       "      <th>notes</th>\n",
       "    </tr>\n",
       "  </thead>\n",
       "  <tbody>\n",
       "    <tr>\n",
       "      <th>0</th>\n",
       "      <td>stone_001</td>\n",
       "      <td>Stone Wall</td>\n",
       "      <td>IfcWall;IfcChimney</td>\n",
       "      <td>compressive strength</td>\n",
       "      <td>≥ 14 MPa (at 28 days minimum for masonry assem...</td>\n",
       "      <td>≥</td>\n",
       "      <td>14</td>\n",
       "      <td>MPa</td>\n",
       "      <td>Material</td>\n",
       "      <td>NaN</td>\n",
       "      <td>...</td>\n",
       "      <td>NaN</td>\n",
       "      <td>NaN</td>\n",
       "      <td>NaN</td>\n",
       "      <td>NaN</td>\n",
       "      <td>UFGS 04 20 00</td>\n",
       "      <td>§2.1.1 / §2.1.2 / §3.6.1.2</td>\n",
       "      <td>ASTM C1314 / ASTM C476 / TMS 402</td>\n",
       "      <td>NaN</td>\n",
       "      <td>NaN</td>\n",
       "      <td>NaN</td>\n",
       "    </tr>\n",
       "    <tr>\n",
       "      <th>1</th>\n",
       "      <td>stone_002</td>\n",
       "      <td>Stone Wall</td>\n",
       "      <td>IfcWall;IfcChimney</td>\n",
       "      <td>density</td>\n",
       "      <td>lightweight / medium / normal weight (ASTM C90...</td>\n",
       "      <td>enum</td>\n",
       "      <td>{lightweight, medium, normal}</td>\n",
       "      <td>NaN</td>\n",
       "      <td>Material</td>\n",
       "      <td>NaN</td>\n",
       "      <td>...</td>\n",
       "      <td>NaN</td>\n",
       "      <td>NaN</td>\n",
       "      <td>NaN</td>\n",
       "      <td>NaN</td>\n",
       "      <td>UFGS 04 20 00</td>\n",
       "      <td>§2.2.3.2.6</td>\n",
       "      <td>ASTM C90 / ASTM C129</td>\n",
       "      <td>NaN</td>\n",
       "      <td>NaN</td>\n",
       "      <td>NaN</td>\n",
       "    </tr>\n",
       "    <tr>\n",
       "      <th>2</th>\n",
       "      <td>stone_003</td>\n",
       "      <td>Stone Wall</td>\n",
       "      <td>IfcWall;IfcChimney</td>\n",
       "      <td>weather exposure</td>\n",
       "      <td>units to include water-repellent admixture for...</td>\n",
       "      <td>=</td>\n",
       "      <td>water-repellent required for exterior use</td>\n",
       "      <td>NaN</td>\n",
       "      <td>Type</td>\n",
       "      <td>NaN</td>\n",
       "      <td>...</td>\n",
       "      <td>NaN</td>\n",
       "      <td>NaN</td>\n",
       "      <td>NaN</td>\n",
       "      <td>NaN</td>\n",
       "      <td>UFGS 04 20 00</td>\n",
       "      <td>§2.2.3.2.5</td>\n",
       "      <td>ASTM C216 / TMS 402</td>\n",
       "      <td>NaN</td>\n",
       "      <td>NaN</td>\n",
       "      <td>NaN</td>\n",
       "    </tr>\n",
       "    <tr>\n",
       "      <th>3</th>\n",
       "      <td>stone_004</td>\n",
       "      <td>Stone Wall</td>\n",
       "      <td>IfcWall;IfcChimney</td>\n",
       "      <td>fire rating</td>\n",
       "      <td>equivalent thickness 68–157 mm for 2–4 hour ra...</td>\n",
       "      <td>range</td>\n",
       "      <td>68–157</td>\n",
       "      <td>mm</td>\n",
       "      <td>Type</td>\n",
       "      <td>NaN</td>\n",
       "      <td>...</td>\n",
       "      <td>NaN</td>\n",
       "      <td>NaN</td>\n",
       "      <td>NaN</td>\n",
       "      <td>NaN</td>\n",
       "      <td>UFGS 04 20 00</td>\n",
       "      <td>§2.2.3.5</td>\n",
       "      <td>ACI 216.1</td>\n",
       "      <td>NaN</td>\n",
       "      <td>NaN</td>\n",
       "      <td>NaN</td>\n",
       "    </tr>\n",
       "    <tr>\n",
       "      <th>4</th>\n",
       "      <td>stone_005</td>\n",
       "      <td>Stone Wall</td>\n",
       "      <td>IfcWall;IfcChimney</td>\n",
       "      <td>mortar type</td>\n",
       "      <td>ASTM C270 Type M / S / N (as specified for use)</td>\n",
       "      <td>enum</td>\n",
       "      <td>{M, S, N}</td>\n",
       "      <td>NaN</td>\n",
       "      <td>Material</td>\n",
       "      <td>NaN</td>\n",
       "      <td>...</td>\n",
       "      <td>NaN</td>\n",
       "      <td>NaN</td>\n",
       "      <td>NaN</td>\n",
       "      <td>NaN</td>\n",
       "      <td>UFGS 04 20 00</td>\n",
       "      <td>§2.5.1</td>\n",
       "      <td>ASTM C270 / ASTM C1714</td>\n",
       "      <td>NaN</td>\n",
       "      <td>NaN</td>\n",
       "      <td>NaN</td>\n",
       "    </tr>\n",
       "    <tr>\n",
       "      <th>5</th>\n",
       "      <td>stone_006</td>\n",
       "      <td>Stone Wall</td>\n",
       "      <td>IfcWall;IfcChimney</td>\n",
       "      <td>grout compressive strength</td>\n",
       "      <td>≥ 14 MPa (minimum per ASTM C476 / C1019)</td>\n",
       "      <td>≥</td>\n",
       "      <td>14</td>\n",
       "      <td>MPa</td>\n",
       "      <td>Material</td>\n",
       "      <td>NaN</td>\n",
       "      <td>...</td>\n",
       "      <td>NaN</td>\n",
       "      <td>NaN</td>\n",
       "      <td>NaN</td>\n",
       "      <td>NaN</td>\n",
       "      <td>UFGS 04 20 00</td>\n",
       "      <td>§2.5.2</td>\n",
       "      <td>ASTM C476 / ASTM C1019</td>\n",
       "      <td>NaN</td>\n",
       "      <td>NaN</td>\n",
       "      <td>NaN</td>\n",
       "    </tr>\n",
       "    <tr>\n",
       "      <th>6</th>\n",
       "      <td>stone_007</td>\n",
       "      <td>Stone Wall</td>\n",
       "      <td>IfcWall;IfcChimney</td>\n",
       "      <td>thermal resistance</td>\n",
       "      <td>typical assembly R-value ≈ 0.2–0.3 m²·K/W per ...</td>\n",
       "      <td>range</td>\n",
       "      <td>0.2–0.3</td>\n",
       "      <td>m²·K/W</td>\n",
       "      <td>Type</td>\n",
       "      <td>NaN</td>\n",
       "      <td>...</td>\n",
       "      <td>NaN</td>\n",
       "      <td>NaN</td>\n",
       "      <td>NaN</td>\n",
       "      <td>NaN</td>\n",
       "      <td>UFGS 04 20 00</td>\n",
       "      <td>§2.2.3.2 / §2.2.3.5</td>\n",
       "      <td>ACI 216.1 / ASHRAE 90.1</td>\n",
       "      <td>NaN</td>\n",
       "      <td>NaN</td>\n",
       "      <td>NaN</td>\n",
       "    </tr>\n",
       "    <tr>\n",
       "      <th>7</th>\n",
       "      <td>stone_008</td>\n",
       "      <td>Stone Wall</td>\n",
       "      <td>IfcWall;IfcChimney</td>\n",
       "      <td>flexural strength</td>\n",
       "      <td>≥ 7 MP</td>\n",
       "      <td>≥</td>\n",
       "      <td>7</td>\n",
       "      <td>MPa</td>\n",
       "      <td>Material</td>\n",
       "      <td>NaN</td>\n",
       "      <td>...</td>\n",
       "      <td>NaN</td>\n",
       "      <td>NaN</td>\n",
       "      <td>NaN</td>\n",
       "      <td>NaN</td>\n",
       "      <td>UFGS 04 20 00</td>\n",
       "      <td>§ 2.2.5</td>\n",
       "      <td>ASTM C880</td>\n",
       "      <td>NaN</td>\n",
       "      <td>NaN</td>\n",
       "      <td>NaN</td>\n",
       "    </tr>\n",
       "  </tbody>\n",
       "</table>\n",
       "<p>8 rows × 34 columns</p>\n",
       "</div>"
      ],
      "text/plain": [
       "          id  asset_type           ifc_class        parameter_name_input  \\\n",
       "0  stone_001  Stone Wall  IfcWall;IfcChimney        compressive strength   \n",
       "1  stone_002  Stone Wall  IfcWall;IfcChimney                     density   \n",
       "2  stone_003  Stone Wall  IfcWall;IfcChimney            weather exposure   \n",
       "3  stone_004  Stone Wall  IfcWall;IfcChimney                 fire rating   \n",
       "4  stone_005  Stone Wall  IfcWall;IfcChimney                 mortar type   \n",
       "5  stone_006  Stone Wall  IfcWall;IfcChimney  grout compressive strength   \n",
       "6  stone_007  Stone Wall  IfcWall;IfcChimney          thermal resistance   \n",
       "7  stone_008  Stone Wall  IfcWall;IfcChimney           flexural strength   \n",
       "\n",
       "                                           value_raw operator  \\\n",
       "0  ≥ 14 MPa (at 28 days minimum for masonry assem...        ≥   \n",
       "1  lightweight / medium / normal weight (ASTM C90...     enum   \n",
       "2  units to include water-repellent admixture for...        =   \n",
       "3  equivalent thickness 68–157 mm for 2–4 hour ra...    range   \n",
       "4    ASTM C270 Type M / S / N (as specified for use)     enum   \n",
       "5           ≥ 14 MPa (minimum per ASTM C476 / C1019)        ≥   \n",
       "6  typical assembly R-value ≈ 0.2–0.3 m²·K/W per ...    range   \n",
       "7                                             ≥ 7 MP        ≥   \n",
       "\n",
       "                            value_normalized    unit target_label  ifc_exists  \\\n",
       "0                                         14     MPa     Material         NaN   \n",
       "1              {lightweight, medium, normal}     NaN     Material         NaN   \n",
       "2  water-repellent required for exterior use     NaN         Type         NaN   \n",
       "3                                     68–157      mm         Type         NaN   \n",
       "4                                  {M, S, N}     NaN     Material         NaN   \n",
       "5                                         14     MPa     Material         NaN   \n",
       "6                                    0.2–0.3  m²·K/W         Type         NaN   \n",
       "7                                          7     MPa     Material         NaN   \n",
       "\n",
       "   ...  etim_class_code  etim_class_name  etim_class_guid  \\\n",
       "0  ...              NaN              NaN              NaN   \n",
       "1  ...              NaN              NaN              NaN   \n",
       "2  ...              NaN              NaN              NaN   \n",
       "3  ...              NaN              NaN              NaN   \n",
       "4  ...              NaN              NaN              NaN   \n",
       "5  ...              NaN              NaN              NaN   \n",
       "6  ...              NaN              NaN              NaN   \n",
       "7  ...              NaN              NaN              NaN   \n",
       "\n",
       "   bsdd_dictionary_key     source_doc               source_clause  \\\n",
       "0                  NaN  UFGS 04 20 00  §2.1.1 / §2.1.2 / §3.6.1.2   \n",
       "1                  NaN  UFGS 04 20 00                  §2.2.3.2.6   \n",
       "2                  NaN  UFGS 04 20 00                  §2.2.3.2.5   \n",
       "3                  NaN  UFGS 04 20 00                    §2.2.3.5   \n",
       "4                  NaN  UFGS 04 20 00                      §2.5.1   \n",
       "5                  NaN  UFGS 04 20 00                      §2.5.2   \n",
       "6                  NaN  UFGS 04 20 00         §2.2.3.2 / §2.2.3.5   \n",
       "7                  NaN  UFGS 04 20 00                     § 2.2.5   \n",
       "\n",
       "                     value_standard  mapping_confidence  roundtrip_action  \\\n",
       "0  ASTM C1314 / ASTM C476 / TMS 402                 NaN               NaN   \n",
       "1              ASTM C90 / ASTM C129                 NaN               NaN   \n",
       "2               ASTM C216 / TMS 402                 NaN               NaN   \n",
       "3                         ACI 216.1                 NaN               NaN   \n",
       "4            ASTM C270 / ASTM C1714                 NaN               NaN   \n",
       "5            ASTM C476 / ASTM C1019                 NaN               NaN   \n",
       "6           ACI 216.1 / ASHRAE 90.1                 NaN               NaN   \n",
       "7                         ASTM C880                 NaN               NaN   \n",
       "\n",
       "   notes  \n",
       "0    NaN  \n",
       "1    NaN  \n",
       "2    NaN  \n",
       "3    NaN  \n",
       "4    NaN  \n",
       "5    NaN  \n",
       "6    NaN  \n",
       "7    NaN  \n",
       "\n",
       "[8 rows x 34 columns]"
      ]
     },
     "metadata": {},
     "output_type": "display_data"
    },
    {
     "name": "stdout",
     "output_type": "stream",
     "text": [
      "\n",
      "### Dataframe: roof_wood_beam ###\n"
     ]
    },
    {
     "data": {
      "text/html": [
       "<div>\n",
       "<style scoped>\n",
       "    .dataframe tbody tr th:only-of-type {\n",
       "        vertical-align: middle;\n",
       "    }\n",
       "\n",
       "    .dataframe tbody tr th {\n",
       "        vertical-align: top;\n",
       "    }\n",
       "\n",
       "    .dataframe thead th {\n",
       "        text-align: right;\n",
       "    }\n",
       "</style>\n",
       "<table border=\"1\" class=\"dataframe\">\n",
       "  <thead>\n",
       "    <tr style=\"text-align: right;\">\n",
       "      <th></th>\n",
       "      <th>id</th>\n",
       "      <th>asset_type</th>\n",
       "      <th>ifc_class</th>\n",
       "      <th>parameter_name_input</th>\n",
       "      <th>value_raw</th>\n",
       "      <th>operator</th>\n",
       "      <th>value_normalized</th>\n",
       "      <th>unit</th>\n",
       "      <th>target_label</th>\n",
       "      <th>ifc_exists</th>\n",
       "      <th>...</th>\n",
       "      <th>etim_class_code</th>\n",
       "      <th>etim_class_name</th>\n",
       "      <th>etim_class_guid</th>\n",
       "      <th>bsdd_dictionary_key</th>\n",
       "      <th>source_doc</th>\n",
       "      <th>source_clause</th>\n",
       "      <th>value_standard</th>\n",
       "      <th>mapping_confidence</th>\n",
       "      <th>roundtrip_action</th>\n",
       "      <th>notes</th>\n",
       "    </tr>\n",
       "  </thead>\n",
       "  <tbody>\n",
       "    <tr>\n",
       "      <th>0</th>\n",
       "      <td>beam_001</td>\n",
       "      <td>Roof Wood Beam</td>\n",
       "      <td>IfcBeam</td>\n",
       "      <td>bending strength</td>\n",
       "      <td>7,200 – 8,300 kPa (Fb)</td>\n",
       "      <td>range</td>\n",
       "      <td>7.2 – 8.3</td>\n",
       "      <td>MPa</td>\n",
       "      <td>Material</td>\n",
       "      <td>NaN</td>\n",
       "      <td>...</td>\n",
       "      <td>NaN</td>\n",
       "      <td>NaN</td>\n",
       "      <td>NaN</td>\n",
       "      <td>NaN</td>\n",
       "      <td>UFGS 06 10 00</td>\n",
       "      <td>§2.2.1</td>\n",
       "      <td>AWC NDS</td>\n",
       "      <td>NaN</td>\n",
       "      <td>NaN</td>\n",
       "      <td>NaN</td>\n",
       "    </tr>\n",
       "    <tr>\n",
       "      <th>1</th>\n",
       "      <td>beam_002</td>\n",
       "      <td>Roof Wood Beam</td>\n",
       "      <td>IfcBeam</td>\n",
       "      <td>tensile strength</td>\n",
       "      <td>4,800 kPa (Ft)</td>\n",
       "      <td>=</td>\n",
       "      <td>4.8</td>\n",
       "      <td>MPa</td>\n",
       "      <td>Material</td>\n",
       "      <td>NaN</td>\n",
       "      <td>...</td>\n",
       "      <td>NaN</td>\n",
       "      <td>NaN</td>\n",
       "      <td>NaN</td>\n",
       "      <td>NaN</td>\n",
       "      <td>UFGS 06 10 00</td>\n",
       "      <td>§2.2.1</td>\n",
       "      <td>AWC NDS</td>\n",
       "      <td>NaN</td>\n",
       "      <td>NaN</td>\n",
       "      <td>NaN</td>\n",
       "    </tr>\n",
       "    <tr>\n",
       "      <th>2</th>\n",
       "      <td>beam_003</td>\n",
       "      <td>Roof Wood Beam</td>\n",
       "      <td>IfcBeam</td>\n",
       "      <td>compressive strength</td>\n",
       "      <td>5,400 kPa (Fc)</td>\n",
       "      <td>=</td>\n",
       "      <td>5.4</td>\n",
       "      <td>MPa</td>\n",
       "      <td>Material</td>\n",
       "      <td>NaN</td>\n",
       "      <td>...</td>\n",
       "      <td>NaN</td>\n",
       "      <td>NaN</td>\n",
       "      <td>NaN</td>\n",
       "      <td>NaN</td>\n",
       "      <td>UFGS 06 10 00</td>\n",
       "      <td>§2.2.1</td>\n",
       "      <td>AWC NDS</td>\n",
       "      <td>NaN</td>\n",
       "      <td>NaN</td>\n",
       "      <td>NaN</td>\n",
       "    </tr>\n",
       "    <tr>\n",
       "      <th>3</th>\n",
       "      <td>beam_004</td>\n",
       "      <td>Roof Wood Beam</td>\n",
       "      <td>IfcBeam</td>\n",
       "      <td>modulus of elasticity</td>\n",
       "      <td>8,300 MPa (E)</td>\n",
       "      <td>=</td>\n",
       "      <td>8,300</td>\n",
       "      <td>MPa</td>\n",
       "      <td>Material</td>\n",
       "      <td>NaN</td>\n",
       "      <td>...</td>\n",
       "      <td>NaN</td>\n",
       "      <td>NaN</td>\n",
       "      <td>NaN</td>\n",
       "      <td>NaN</td>\n",
       "      <td>UFGS 06 10 00</td>\n",
       "      <td>§2.2.1</td>\n",
       "      <td>AWC NDS</td>\n",
       "      <td>NaN</td>\n",
       "      <td>NaN</td>\n",
       "      <td>NaN</td>\n",
       "    </tr>\n",
       "    <tr>\n",
       "      <th>4</th>\n",
       "      <td>beam_005</td>\n",
       "      <td>Roof Wood Beam</td>\n",
       "      <td>IfcBeam</td>\n",
       "      <td>shear strength</td>\n",
       "      <td>1,550 kPa (Fv)</td>\n",
       "      <td>=</td>\n",
       "      <td>1.55</td>\n",
       "      <td>MPa</td>\n",
       "      <td>Material</td>\n",
       "      <td>NaN</td>\n",
       "      <td>...</td>\n",
       "      <td>NaN</td>\n",
       "      <td>NaN</td>\n",
       "      <td>NaN</td>\n",
       "      <td>NaN</td>\n",
       "      <td>UFGS 06 10 00</td>\n",
       "      <td>§2.1.5.1 + §2.2.3</td>\n",
       "      <td>ASTM D2344 / ANSI AITC A190.1</td>\n",
       "      <td>NaN</td>\n",
       "      <td>NaN</td>\n",
       "      <td>NaN</td>\n",
       "    </tr>\n",
       "    <tr>\n",
       "      <th>5</th>\n",
       "      <td>beam_007</td>\n",
       "      <td>Roof Wood Beam</td>\n",
       "      <td>IfcBeam</td>\n",
       "      <td>fire rating</td>\n",
       "      <td>Fire-retardant treated; ASTM E84</td>\n",
       "      <td>=</td>\n",
       "      <td>Pass</td>\n",
       "      <td>NaN</td>\n",
       "      <td>Material</td>\n",
       "      <td>NaN</td>\n",
       "      <td>...</td>\n",
       "      <td>NaN</td>\n",
       "      <td>NaN</td>\n",
       "      <td>NaN</td>\n",
       "      <td>NaN</td>\n",
       "      <td>UFGS 06 10 00</td>\n",
       "      <td>§1.8 / §2.2</td>\n",
       "      <td>ASTM E84</td>\n",
       "      <td>NaN</td>\n",
       "      <td>NaN</td>\n",
       "      <td>NaN</td>\n",
       "    </tr>\n",
       "    <tr>\n",
       "      <th>6</th>\n",
       "      <td>beam_008</td>\n",
       "      <td>Roof Wood Beam</td>\n",
       "      <td>IfcBeam</td>\n",
       "      <td>preservative retention</td>\n",
       "      <td>CCA, AWPA U1</td>\n",
       "      <td>=</td>\n",
       "      <td>CCA</td>\n",
       "      <td>NaN</td>\n",
       "      <td>Material</td>\n",
       "      <td>NaN</td>\n",
       "      <td>...</td>\n",
       "      <td>NaN</td>\n",
       "      <td>NaN</td>\n",
       "      <td>NaN</td>\n",
       "      <td>NaN</td>\n",
       "      <td>UFGS 06 10 00</td>\n",
       "      <td>§1.7 / §2.2</td>\n",
       "      <td>AWPA U1 / T1</td>\n",
       "      <td>NaN</td>\n",
       "      <td>NaN</td>\n",
       "      <td>NaN</td>\n",
       "    </tr>\n",
       "    <tr>\n",
       "      <th>7</th>\n",
       "      <td>beam_009</td>\n",
       "      <td>Roof Wood Beam</td>\n",
       "      <td>IfcBeam</td>\n",
       "      <td>durability</td>\n",
       "      <td>Natural decay-resistant wood – redwood, cedar,...</td>\n",
       "      <td>=</td>\n",
       "      <td>Durable species</td>\n",
       "      <td>NaN</td>\n",
       "      <td>Material</td>\n",
       "      <td>NaN</td>\n",
       "      <td>...</td>\n",
       "      <td>NaN</td>\n",
       "      <td>NaN</td>\n",
       "      <td>NaN</td>\n",
       "      <td>NaN</td>\n",
       "      <td>UFGS 06 10 00</td>\n",
       "      <td>§2.1.4</td>\n",
       "      <td>AWPA U1 / EN 350</td>\n",
       "      <td>NaN</td>\n",
       "      <td>NaN</td>\n",
       "      <td>NaN</td>\n",
       "    </tr>\n",
       "  </tbody>\n",
       "</table>\n",
       "<p>8 rows × 34 columns</p>\n",
       "</div>"
      ],
      "text/plain": [
       "         id      asset_type ifc_class    parameter_name_input  \\\n",
       "0  beam_001  Roof Wood Beam   IfcBeam        bending strength   \n",
       "1  beam_002  Roof Wood Beam   IfcBeam        tensile strength   \n",
       "2  beam_003  Roof Wood Beam   IfcBeam    compressive strength   \n",
       "3  beam_004  Roof Wood Beam   IfcBeam   modulus of elasticity   \n",
       "4  beam_005  Roof Wood Beam   IfcBeam          shear strength   \n",
       "5  beam_007  Roof Wood Beam   IfcBeam             fire rating   \n",
       "6  beam_008  Roof Wood Beam   IfcBeam  preservative retention   \n",
       "7  beam_009  Roof Wood Beam   IfcBeam              durability   \n",
       "\n",
       "                                           value_raw operator  \\\n",
       "0                             7,200 – 8,300 kPa (Fb)    range   \n",
       "1                                     4,800 kPa (Ft)        =   \n",
       "2                                     5,400 kPa (Fc)        =   \n",
       "3                                      8,300 MPa (E)        =   \n",
       "4                                     1,550 kPa (Fv)        =   \n",
       "5                   Fire-retardant treated; ASTM E84        =   \n",
       "6                                       CCA, AWPA U1        =   \n",
       "7  Natural decay-resistant wood – redwood, cedar,...        =   \n",
       "\n",
       "  value_normalized unit target_label  ifc_exists  ...  etim_class_code  \\\n",
       "0        7.2 – 8.3  MPa     Material         NaN  ...              NaN   \n",
       "1              4.8  MPa     Material         NaN  ...              NaN   \n",
       "2              5.4  MPa     Material         NaN  ...              NaN   \n",
       "3            8,300  MPa     Material         NaN  ...              NaN   \n",
       "4             1.55  MPa     Material         NaN  ...              NaN   \n",
       "5             Pass  NaN     Material         NaN  ...              NaN   \n",
       "6              CCA  NaN     Material         NaN  ...              NaN   \n",
       "7  Durable species  NaN     Material         NaN  ...              NaN   \n",
       "\n",
       "   etim_class_name  etim_class_guid  bsdd_dictionary_key     source_doc  \\\n",
       "0              NaN              NaN                  NaN  UFGS 06 10 00   \n",
       "1              NaN              NaN                  NaN  UFGS 06 10 00   \n",
       "2              NaN              NaN                  NaN  UFGS 06 10 00   \n",
       "3              NaN              NaN                  NaN  UFGS 06 10 00   \n",
       "4              NaN              NaN                  NaN  UFGS 06 10 00   \n",
       "5              NaN              NaN                  NaN  UFGS 06 10 00   \n",
       "6              NaN              NaN                  NaN  UFGS 06 10 00   \n",
       "7              NaN              NaN                  NaN  UFGS 06 10 00   \n",
       "\n",
       "       source_clause                 value_standard  mapping_confidence  \\\n",
       "0             §2.2.1                        AWC NDS                 NaN   \n",
       "1             §2.2.1                        AWC NDS                 NaN   \n",
       "2             §2.2.1                        AWC NDS                 NaN   \n",
       "3             §2.2.1                        AWC NDS                 NaN   \n",
       "4  §2.1.5.1 + §2.2.3  ASTM D2344 / ANSI AITC A190.1                 NaN   \n",
       "5        §1.8 / §2.2                       ASTM E84                 NaN   \n",
       "6        §1.7 / §2.2                   AWPA U1 / T1                 NaN   \n",
       "7             §2.1.4               AWPA U1 / EN 350                 NaN   \n",
       "\n",
       "   roundtrip_action  notes  \n",
       "0               NaN    NaN  \n",
       "1               NaN    NaN  \n",
       "2               NaN    NaN  \n",
       "3               NaN    NaN  \n",
       "4               NaN    NaN  \n",
       "5               NaN    NaN  \n",
       "6               NaN    NaN  \n",
       "7               NaN    NaN  \n",
       "\n",
       "[8 rows x 34 columns]"
      ]
     },
     "metadata": {},
     "output_type": "display_data"
    },
    {
     "name": "stdout",
     "output_type": "stream",
     "text": [
      "\n",
      "### Dataframe: strip_footing ###\n"
     ]
    },
    {
     "data": {
      "text/html": [
       "<div>\n",
       "<style scoped>\n",
       "    .dataframe tbody tr th:only-of-type {\n",
       "        vertical-align: middle;\n",
       "    }\n",
       "\n",
       "    .dataframe tbody tr th {\n",
       "        vertical-align: top;\n",
       "    }\n",
       "\n",
       "    .dataframe thead th {\n",
       "        text-align: right;\n",
       "    }\n",
       "</style>\n",
       "<table border=\"1\" class=\"dataframe\">\n",
       "  <thead>\n",
       "    <tr style=\"text-align: right;\">\n",
       "      <th></th>\n",
       "      <th>id</th>\n",
       "      <th>asset_type</th>\n",
       "      <th>ifc_class</th>\n",
       "      <th>parameter_name_input</th>\n",
       "      <th>value_raw</th>\n",
       "      <th>operator</th>\n",
       "      <th>value_normalized</th>\n",
       "      <th>unit</th>\n",
       "      <th>target_label</th>\n",
       "      <th>ifc_exists</th>\n",
       "      <th>...</th>\n",
       "      <th>etim_class_code</th>\n",
       "      <th>etim_class_name</th>\n",
       "      <th>etim_class_guid</th>\n",
       "      <th>bsdd_dictionary_key</th>\n",
       "      <th>source_doc</th>\n",
       "      <th>source_clause</th>\n",
       "      <th>value_standard</th>\n",
       "      <th>mapping_confidence</th>\n",
       "      <th>roundtrip_action</th>\n",
       "      <th>notes</th>\n",
       "    </tr>\n",
       "  </thead>\n",
       "  <tbody>\n",
       "    <tr>\n",
       "      <th>0</th>\n",
       "      <td>footing_001</td>\n",
       "      <td>Strip Footing</td>\n",
       "      <td>IfcFooting</td>\n",
       "      <td>compressive strength</td>\n",
       "      <td>25 – 35 MPa (@ 28 days)</td>\n",
       "      <td>=</td>\n",
       "      <td>30</td>\n",
       "      <td>MPa</td>\n",
       "      <td>Material</td>\n",
       "      <td>NaN</td>\n",
       "      <td>...</td>\n",
       "      <td>NaN</td>\n",
       "      <td>NaN</td>\n",
       "      <td>NaN</td>\n",
       "      <td>NaN</td>\n",
       "      <td>UFGS 03 30 01</td>\n",
       "      <td>§ 2.5.2.2 / § 3.14.3.4</td>\n",
       "      <td>ASTM C39</td>\n",
       "      <td>NaN</td>\n",
       "      <td>NaN</td>\n",
       "      <td>NaN</td>\n",
       "    </tr>\n",
       "    <tr>\n",
       "      <th>1</th>\n",
       "      <td>footing_003</td>\n",
       "      <td>Strip Footing</td>\n",
       "      <td>IfcFooting</td>\n",
       "      <td>water cement ratio</td>\n",
       "      <td>≤ 0.45</td>\n",
       "      <td>≤</td>\n",
       "      <td>0.45</td>\n",
       "      <td>w/cm</td>\n",
       "      <td>Material</td>\n",
       "      <td>NaN</td>\n",
       "      <td>...</td>\n",
       "      <td>NaN</td>\n",
       "      <td>NaN</td>\n",
       "      <td>NaN</td>\n",
       "      <td>NaN</td>\n",
       "      <td>UFGS 03 30 00</td>\n",
       "      <td>§ 2.5.2.2</td>\n",
       "      <td>ACI 211.1 / ACI 211.2</td>\n",
       "      <td>NaN</td>\n",
       "      <td>NaN</td>\n",
       "      <td>NaN</td>\n",
       "    </tr>\n",
       "    <tr>\n",
       "      <th>2</th>\n",
       "      <td>footing_004</td>\n",
       "      <td>Strip Footing</td>\n",
       "      <td>IfcFooting</td>\n",
       "      <td>maximum aggregate size</td>\n",
       "      <td>19 – 25 mm</td>\n",
       "      <td>≤</td>\n",
       "      <td>25</td>\n",
       "      <td>mm</td>\n",
       "      <td>Material</td>\n",
       "      <td>NaN</td>\n",
       "      <td>...</td>\n",
       "      <td>NaN</td>\n",
       "      <td>NaN</td>\n",
       "      <td>NaN</td>\n",
       "      <td>NaN</td>\n",
       "      <td>UFGS 03 30 00</td>\n",
       "      <td>§ 2.3.3.1</td>\n",
       "      <td>ASTM C33</td>\n",
       "      <td>NaN</td>\n",
       "      <td>NaN</td>\n",
       "      <td>NaN</td>\n",
       "    </tr>\n",
       "    <tr>\n",
       "      <th>3</th>\n",
       "      <td>footing_006</td>\n",
       "      <td>Strip Footing</td>\n",
       "      <td>IfcFooting</td>\n",
       "      <td>reinforcement grade</td>\n",
       "      <td>Grade 60 (typ.)</td>\n",
       "      <td>=</td>\n",
       "      <td>60</td>\n",
       "      <td>NaN</td>\n",
       "      <td>Material</td>\n",
       "      <td>NaN</td>\n",
       "      <td>...</td>\n",
       "      <td>NaN</td>\n",
       "      <td>NaN</td>\n",
       "      <td>NaN</td>\n",
       "      <td>NaN</td>\n",
       "      <td>UFGS 03 30 00</td>\n",
       "      <td>§ 2.6.1</td>\n",
       "      <td>ASTM A615</td>\n",
       "      <td>NaN</td>\n",
       "      <td>NaN</td>\n",
       "      <td>NaN</td>\n",
       "    </tr>\n",
       "    <tr>\n",
       "      <th>4</th>\n",
       "      <td>footing_007</td>\n",
       "      <td>Strip Footing</td>\n",
       "      <td>IfcFooting</td>\n",
       "      <td>reinforcement coating</td>\n",
       "      <td>Epoxy-coated / uncoated</td>\n",
       "      <td>=</td>\n",
       "      <td>epoxy / none</td>\n",
       "      <td>NaN</td>\n",
       "      <td>Material</td>\n",
       "      <td>NaN</td>\n",
       "      <td>...</td>\n",
       "      <td>NaN</td>\n",
       "      <td>NaN</td>\n",
       "      <td>NaN</td>\n",
       "      <td>NaN</td>\n",
       "      <td>UFGS 03 30 00</td>\n",
       "      <td>§ 2.6.1.2 / § 2.6.1.3 / § 2.6.1.4</td>\n",
       "      <td>ASTM A775 / A934 / A1055 / A955</td>\n",
       "      <td>NaN</td>\n",
       "      <td>NaN</td>\n",
       "      <td>NaN</td>\n",
       "    </tr>\n",
       "    <tr>\n",
       "      <th>5</th>\n",
       "      <td>footing_008</td>\n",
       "      <td>Strip Footing</td>\n",
       "      <td>IfcFooting</td>\n",
       "      <td>reinforcement spacing</td>\n",
       "      <td>≤ 150 mm (o.c.)</td>\n",
       "      <td>≤</td>\n",
       "      <td>150</td>\n",
       "      <td>mm</td>\n",
       "      <td>Type</td>\n",
       "      <td>NaN</td>\n",
       "      <td>...</td>\n",
       "      <td>NaN</td>\n",
       "      <td>NaN</td>\n",
       "      <td>NaN</td>\n",
       "      <td>NaN</td>\n",
       "      <td>UFGS 03 30 00</td>\n",
       "      <td>§ 3.5.11</td>\n",
       "      <td>ACI 315</td>\n",
       "      <td>NaN</td>\n",
       "      <td>NaN</td>\n",
       "      <td>NaN</td>\n",
       "    </tr>\n",
       "    <tr>\n",
       "      <th>6</th>\n",
       "      <td>footing_009</td>\n",
       "      <td>Strip Footing</td>\n",
       "      <td>IfcFooting</td>\n",
       "      <td>concrete cover to reinforcement</td>\n",
       "      <td>≥ 75 mm</td>\n",
       "      <td>≥</td>\n",
       "      <td>75</td>\n",
       "      <td>mm</td>\n",
       "      <td>Type</td>\n",
       "      <td>NaN</td>\n",
       "      <td>...</td>\n",
       "      <td>NaN</td>\n",
       "      <td>NaN</td>\n",
       "      <td>NaN</td>\n",
       "      <td>NaN</td>\n",
       "      <td>UFGS 03 30 00</td>\n",
       "      <td>§ 3.5.12</td>\n",
       "      <td>ACI 318 Tbl 20.6.1.3.1</td>\n",
       "      <td>NaN</td>\n",
       "      <td>NaN</td>\n",
       "      <td>NaN</td>\n",
       "    </tr>\n",
       "    <tr>\n",
       "      <th>7</th>\n",
       "      <td>footing_010</td>\n",
       "      <td>Strip Footing</td>\n",
       "      <td>IfcFooting</td>\n",
       "      <td>curing period</td>\n",
       "      <td>≥ 7 days (normal cement)</td>\n",
       "      <td>≥</td>\n",
       "      <td>7</td>\n",
       "      <td>days</td>\n",
       "      <td>Material</td>\n",
       "      <td>NaN</td>\n",
       "      <td>...</td>\n",
       "      <td>NaN</td>\n",
       "      <td>NaN</td>\n",
       "      <td>NaN</td>\n",
       "      <td>NaN</td>\n",
       "      <td>UFGS 03 30 00</td>\n",
       "      <td>§ 3.13.2</td>\n",
       "      <td>ACI 301 § 5.3</td>\n",
       "      <td>NaN</td>\n",
       "      <td>NaN</td>\n",
       "      <td>NaN</td>\n",
       "    </tr>\n",
       "  </tbody>\n",
       "</table>\n",
       "<p>8 rows × 34 columns</p>\n",
       "</div>"
      ],
      "text/plain": [
       "            id     asset_type   ifc_class             parameter_name_input  \\\n",
       "0  footing_001  Strip Footing  IfcFooting             compressive strength   \n",
       "1  footing_003  Strip Footing  IfcFooting               water cement ratio   \n",
       "2  footing_004  Strip Footing  IfcFooting           maximum aggregate size   \n",
       "3  footing_006  Strip Footing  IfcFooting              reinforcement grade   \n",
       "4  footing_007  Strip Footing  IfcFooting            reinforcement coating   \n",
       "5  footing_008  Strip Footing  IfcFooting            reinforcement spacing   \n",
       "6  footing_009  Strip Footing  IfcFooting  concrete cover to reinforcement   \n",
       "7  footing_010  Strip Footing  IfcFooting                    curing period   \n",
       "\n",
       "                  value_raw operator value_normalized  unit target_label  \\\n",
       "0   25 – 35 MPa (@ 28 days)        =               30   MPa     Material   \n",
       "1                    ≤ 0.45        ≤             0.45  w/cm     Material   \n",
       "2                19 – 25 mm        ≤               25    mm     Material   \n",
       "3           Grade 60 (typ.)        =               60   NaN     Material   \n",
       "4   Epoxy-coated / uncoated        =     epoxy / none   NaN     Material   \n",
       "5           ≤ 150 mm (o.c.)        ≤              150    mm         Type   \n",
       "6                   ≥ 75 mm        ≥               75    mm         Type   \n",
       "7  ≥ 7 days (normal cement)        ≥                7  days     Material   \n",
       "\n",
       "   ifc_exists  ...  etim_class_code  etim_class_name  etim_class_guid  \\\n",
       "0         NaN  ...              NaN              NaN              NaN   \n",
       "1         NaN  ...              NaN              NaN              NaN   \n",
       "2         NaN  ...              NaN              NaN              NaN   \n",
       "3         NaN  ...              NaN              NaN              NaN   \n",
       "4         NaN  ...              NaN              NaN              NaN   \n",
       "5         NaN  ...              NaN              NaN              NaN   \n",
       "6         NaN  ...              NaN              NaN              NaN   \n",
       "7         NaN  ...              NaN              NaN              NaN   \n",
       "\n",
       "   bsdd_dictionary_key     source_doc                      source_clause  \\\n",
       "0                  NaN  UFGS 03 30 01             § 2.5.2.2 / § 3.14.3.4   \n",
       "1                  NaN  UFGS 03 30 00                          § 2.5.2.2   \n",
       "2                  NaN  UFGS 03 30 00                          § 2.3.3.1   \n",
       "3                  NaN  UFGS 03 30 00                            § 2.6.1   \n",
       "4                  NaN  UFGS 03 30 00  § 2.6.1.2 / § 2.6.1.3 / § 2.6.1.4   \n",
       "5                  NaN  UFGS 03 30 00                           § 3.5.11   \n",
       "6                  NaN  UFGS 03 30 00                           § 3.5.12   \n",
       "7                  NaN  UFGS 03 30 00                           § 3.13.2   \n",
       "\n",
       "                    value_standard  mapping_confidence  roundtrip_action  \\\n",
       "0                         ASTM C39                 NaN               NaN   \n",
       "1            ACI 211.1 / ACI 211.2                 NaN               NaN   \n",
       "2                         ASTM C33                 NaN               NaN   \n",
       "3                        ASTM A615                 NaN               NaN   \n",
       "4  ASTM A775 / A934 / A1055 / A955                 NaN               NaN   \n",
       "5                          ACI 315                 NaN               NaN   \n",
       "6           ACI 318 Tbl 20.6.1.3.1                 NaN               NaN   \n",
       "7                    ACI 301 § 5.3                 NaN               NaN   \n",
       "\n",
       "   notes  \n",
       "0    NaN  \n",
       "1    NaN  \n",
       "2    NaN  \n",
       "3    NaN  \n",
       "4    NaN  \n",
       "5    NaN  \n",
       "6    NaN  \n",
       "7    NaN  \n",
       "\n",
       "[8 rows x 34 columns]"
      ]
     },
     "metadata": {},
     "output_type": "display_data"
    },
    {
     "name": "stdout",
     "output_type": "stream",
     "text": [
      "\n",
      "### Dataframe: beam_shoe ###\n"
     ]
    },
    {
     "data": {
      "text/html": [
       "<div>\n",
       "<style scoped>\n",
       "    .dataframe tbody tr th:only-of-type {\n",
       "        vertical-align: middle;\n",
       "    }\n",
       "\n",
       "    .dataframe tbody tr th {\n",
       "        vertical-align: top;\n",
       "    }\n",
       "\n",
       "    .dataframe thead th {\n",
       "        text-align: right;\n",
       "    }\n",
       "</style>\n",
       "<table border=\"1\" class=\"dataframe\">\n",
       "  <thead>\n",
       "    <tr style=\"text-align: right;\">\n",
       "      <th></th>\n",
       "      <th>id</th>\n",
       "      <th>asset_type</th>\n",
       "      <th>ifc_class</th>\n",
       "      <th>parameter_name_input</th>\n",
       "      <th>value_raw</th>\n",
       "      <th>operator</th>\n",
       "      <th>value_normalized</th>\n",
       "      <th>unit</th>\n",
       "      <th>target_label</th>\n",
       "      <th>ifc_exists</th>\n",
       "      <th>...</th>\n",
       "      <th>etim_class_code</th>\n",
       "      <th>etim_class_name</th>\n",
       "      <th>etim_class_guid</th>\n",
       "      <th>bsdd_dictionary_key</th>\n",
       "      <th>source_doc</th>\n",
       "      <th>source_clause</th>\n",
       "      <th>value_standard</th>\n",
       "      <th>mapping_confidence</th>\n",
       "      <th>roundtrip_action</th>\n",
       "      <th>notes</th>\n",
       "    </tr>\n",
       "  </thead>\n",
       "  <tbody>\n",
       "    <tr>\n",
       "      <th>0</th>\n",
       "      <td>beamshoe_001</td>\n",
       "      <td>Beam Shoe</td>\n",
       "      <td>IfcDiscreetAccessory</td>\n",
       "      <td>material designation</td>\n",
       "      <td>ASTM A36/A36M structural carbon steel</td>\n",
       "      <td>=</td>\n",
       "      <td>A36</td>\n",
       "      <td>NaN</td>\n",
       "      <td>Material</td>\n",
       "      <td>NaN</td>\n",
       "      <td>...</td>\n",
       "      <td>NaN</td>\n",
       "      <td>NaN</td>\n",
       "      <td>NaN</td>\n",
       "      <td>NaN</td>\n",
       "      <td>UFGS 05 50 13</td>\n",
       "      <td>§2.2.1</td>\n",
       "      <td>ASTM A36/A36M</td>\n",
       "      <td>NaN</td>\n",
       "      <td>NaN</td>\n",
       "      <td>NaN</td>\n",
       "    </tr>\n",
       "    <tr>\n",
       "      <th>1</th>\n",
       "      <td>beamshoe_002</td>\n",
       "      <td>Beam Shoe</td>\n",
       "      <td>IfcDiscreetAccessory</td>\n",
       "      <td>coating type</td>\n",
       "      <td>Hot-dip galvanized, Z275 (G90)</td>\n",
       "      <td>=</td>\n",
       "      <td>Z275 (G90)</td>\n",
       "      <td>NaN</td>\n",
       "      <td>Material</td>\n",
       "      <td>NaN</td>\n",
       "      <td>...</td>\n",
       "      <td>NaN</td>\n",
       "      <td>NaN</td>\n",
       "      <td>NaN</td>\n",
       "      <td>NaN</td>\n",
       "      <td>UFGS 05 50 13</td>\n",
       "      <td>§2.3.1</td>\n",
       "      <td>ASTM A123/A153/A653/A924</td>\n",
       "      <td>NaN</td>\n",
       "      <td>NaN</td>\n",
       "      <td>NaN</td>\n",
       "    </tr>\n",
       "    <tr>\n",
       "      <th>2</th>\n",
       "      <td>beamshoe_003</td>\n",
       "      <td>Beam Shoe</td>\n",
       "      <td>IfcDiscreetAccessory</td>\n",
       "      <td>strength grade</td>\n",
       "      <td>Anchor bolts: F1554 Grade 55</td>\n",
       "      <td>=</td>\n",
       "      <td>F1554 Gr 55</td>\n",
       "      <td>ksi</td>\n",
       "      <td>Type</td>\n",
       "      <td>NaN</td>\n",
       "      <td>...</td>\n",
       "      <td>NaN</td>\n",
       "      <td>NaN</td>\n",
       "      <td>NaN</td>\n",
       "      <td>NaN</td>\n",
       "      <td>UFGS 05 50 13</td>\n",
       "      <td>§2.2.8</td>\n",
       "      <td>ASTM F1554</td>\n",
       "      <td>NaN</td>\n",
       "      <td>NaN</td>\n",
       "      <td>NaN</td>\n",
       "    </tr>\n",
       "    <tr>\n",
       "      <th>3</th>\n",
       "      <td>beamshoe_004</td>\n",
       "      <td>Beam Shoe</td>\n",
       "      <td>IfcDiscreetAccessory</td>\n",
       "      <td>weld type</td>\n",
       "      <td>Per AWS D1.1/D1.1M – Structural Welding Code (...</td>\n",
       "      <td>=</td>\n",
       "      <td>AWS D1.1/D1.1M</td>\n",
       "      <td>NaN</td>\n",
       "      <td>Type</td>\n",
       "      <td>NaN</td>\n",
       "      <td>...</td>\n",
       "      <td>NaN</td>\n",
       "      <td>NaN</td>\n",
       "      <td>NaN</td>\n",
       "      <td>NaN</td>\n",
       "      <td>UFGS 05 50 13</td>\n",
       "      <td>§3.5</td>\n",
       "      <td>AWS D1.1/D1.1M</td>\n",
       "      <td>NaN</td>\n",
       "      <td>NaN</td>\n",
       "      <td>NaN</td>\n",
       "    </tr>\n",
       "  </tbody>\n",
       "</table>\n",
       "<p>4 rows × 34 columns</p>\n",
       "</div>"
      ],
      "text/plain": [
       "             id asset_type             ifc_class  parameter_name_input  \\\n",
       "0  beamshoe_001  Beam Shoe  IfcDiscreetAccessory  material designation   \n",
       "1  beamshoe_002  Beam Shoe  IfcDiscreetAccessory          coating type   \n",
       "2  beamshoe_003  Beam Shoe  IfcDiscreetAccessory        strength grade   \n",
       "3  beamshoe_004  Beam Shoe  IfcDiscreetAccessory             weld type   \n",
       "\n",
       "                                           value_raw operator  \\\n",
       "0              ASTM A36/A36M structural carbon steel        =   \n",
       "1                     Hot-dip galvanized, Z275 (G90)        =   \n",
       "2                       Anchor bolts: F1554 Grade 55        =   \n",
       "3  Per AWS D1.1/D1.1M – Structural Welding Code (...        =   \n",
       "\n",
       "  value_normalized unit target_label  ifc_exists  ...  etim_class_code  \\\n",
       "0              A36  NaN     Material         NaN  ...              NaN   \n",
       "1       Z275 (G90)  NaN     Material         NaN  ...              NaN   \n",
       "2      F1554 Gr 55  ksi         Type         NaN  ...              NaN   \n",
       "3   AWS D1.1/D1.1M  NaN         Type         NaN  ...              NaN   \n",
       "\n",
       "   etim_class_name  etim_class_guid  bsdd_dictionary_key     source_doc  \\\n",
       "0              NaN              NaN                  NaN  UFGS 05 50 13   \n",
       "1              NaN              NaN                  NaN  UFGS 05 50 13   \n",
       "2              NaN              NaN                  NaN  UFGS 05 50 13   \n",
       "3              NaN              NaN                  NaN  UFGS 05 50 13   \n",
       "\n",
       "   source_clause            value_standard  mapping_confidence  \\\n",
       "0         §2.2.1             ASTM A36/A36M                 NaN   \n",
       "1         §2.3.1  ASTM A123/A153/A653/A924                 NaN   \n",
       "2         §2.2.8                ASTM F1554                 NaN   \n",
       "3           §3.5            AWS D1.1/D1.1M                 NaN   \n",
       "\n",
       "   roundtrip_action  notes  \n",
       "0               NaN    NaN  \n",
       "1               NaN    NaN  \n",
       "2               NaN    NaN  \n",
       "3               NaN    NaN  \n",
       "\n",
       "[4 rows x 34 columns]"
      ]
     },
     "metadata": {},
     "output_type": "display_data"
    }
   ],
   "source": [
    "for name, df in dfs.items():\n",
    "    print(f\"\\n### Dataframe: {name} ###\")\n",
    "    display(df.head(10))"
   ]
  },
  {
   "cell_type": "markdown",
   "id": "cbc6a8d1-e980-4ff6-bd90-de6bfc70cab4",
   "metadata": {},
   "source": [
    "# 5. bsDD API:"
   ]
  },
  {
   "cell_type": "markdown",
   "id": "d2905228-75e4-4ebd-aeb7-26db6ded933a",
   "metadata": {},
   "source": [
    "## 5.1. Mapping UFGS Technical properties to IFC/bsDD:"
   ]
  },
  {
   "cell_type": "markdown",
   "id": "1a15b0e8-a0f4-4807-ba21-e18b2be1baa8",
   "metadata": {},
   "source": [
    "#### Introduction to the Mapping Methodology:  \n",
    "\n",
    "This step establishes correspondences between UFGS technical properties and IFC/bSDD definitions to support semantic enrichment of IFC-based graphs. The approach is semi-automated, combining automated retrieval from the buildingSMART Data Dictionary (bSDD) with manual validation.  \n",
    "\n",
    "While bSDD provides authoritative URIs, names, and definitions, it does not encode applicability rules linking property sets to specific IfcClass. These rules are instead defined in separate IFC Property Set Definition (PSD) templates. For example, Pset_WallCommon applies to IfcWall and IfcWallType, but this link is absent in the bSDD API.  \n",
    "\n",
    "Accordingly, this work follows a two-stage process:  \n",
    "\n",
    "- Automated retrieval using /api/TextSearch/v2 and /api/Property/Classes/v1 to obtain candidate IFC properties, their property sets, and URIs.  \n",
    "\n",
    "- Manual validation to select the semantically most appropriate property and property set for the target IfcClass.  \n",
    "\n",
    "This process is used to check whether a UFGS property already exists in the IFC 4.3 dictionary. If a match is found, the corresponding IfcProperty and IfcPropertySet (URI, code, and name) are captured for graph construction. If no equivalent exists in IFC, the search continues in the ETIM dictionary as an alternative source."
   ]
  },
  {
   "cell_type": "markdown",
   "id": "ac2ee9ff-0717-4ad2-92a9-a8895b011b29",
   "metadata": {},
   "source": [
    "### 5.1.1. Properties automated retrieval and manual equivalence selection (IFC 4.3 Dictionary Search):"
   ]
  },
  {
   "cell_type": "markdown",
   "id": "4ec0bf5d-6854-470d-b59e-964c0bc0c3a9",
   "metadata": {},
   "source": [
    "For each UFGS property, an automated query to the bSDD /api/TextSearch/v2 endpoint (IFC 4.3 dictionary) retrieves candidate IFC property definitions. The user then selects the most appropriate match from the returned candidates, capturing its URI, code, and name."
   ]
  },
  {
   "cell_type": "code",
   "execution_count": 25,
   "id": "ce5cf399-ba14-43c7-b531-c50514907db6",
   "metadata": {
    "scrolled": true
   },
   "outputs": [
    {
     "name": "stdout",
     "output_type": "stream",
     "text": [
      "['compressive strength', 'density', 'weather exposure', 'fire rating', 'mortar type', 'grout compressive strength', 'thermal resistance', 'flexural strength']\n",
      "\n",
      "STONE WALL CHIMNEY - COMPRESSIVE STRENGTH - CANDIDATE IFC PROPERTIES:\n",
      "[0] - Compressive Strength: (The compressive strength of the object or material.).\n",
      "[1] - Raised Compressive Strength: (Alternative value for compressive strength which may be used under material and code dependent conditions (e.g. if deformation is tolerable, or far from ends of the member); conditions should be stated in IfcProperty.[[Description]].).\n",
      "[2] - None / Not applicable.\n"
     ]
    },
    {
     "name": "stdin",
     "output_type": "stream",
     "text": [
      "Select the index of the best match:  0\n"
     ]
    },
    {
     "name": "stdout",
     "output_type": "stream",
     "text": [
      "\n",
      "STONE WALL CHIMNEY - DENSITY - CANDIDATE IFC PROPERTIES:\n",
      "[0] - Mass Density: (Material mass density.).\n",
      "[1] - None / Not applicable.\n"
     ]
    },
    {
     "name": "stdin",
     "output_type": "stream",
     "text": [
      "Select the index of the best match:  0\n"
     ]
    },
    {
     "name": "stdout",
     "output_type": "stream",
     "text": [
      "weather exposure - No IFC PROPERTIES candidates found.\n",
      "\n",
      "STONE WALL CHIMNEY - FIRE RATING - CANDIDATE IFC PROPERTIES:\n",
      "[0] - Fire Rating: (Fire rating for this object. It is given according to the national fire safety classification.).\n",
      "[1] - Fire Resistance Rating: (Measure of the fire resistance rating in hours (e.g., 1.5 hours, 2 hours, etc.).).\n",
      "[2] - None / Not applicable.\n"
     ]
    },
    {
     "name": "stdin",
     "output_type": "stream",
     "text": [
      "Select the index of the best match:  1\n"
     ]
    },
    {
     "name": "stdout",
     "output_type": "stream",
     "text": [
      "mortar type - No IFC PROPERTIES candidates found.\n",
      "grout compressive strength - No IFC PROPERTIES candidates found.\n",
      "thermal resistance - No IFC PROPERTIES candidates found.\n",
      "flexural strength - No IFC PROPERTIES candidates found.\n",
      "['bending strength', 'tensile strength', 'compressive strength', 'modulus of elasticity', 'shear strength', 'fire rating', 'preservative retention', 'durability']\n",
      "\n",
      "ROOF WOOD BEAM - BENDING STRENGTH - CANDIDATE IFC PROPERTIES:\n",
      "[0] - Bending Strength: (Bending strength.).\n",
      "[1] - None / Not applicable.\n"
     ]
    },
    {
     "name": "stdin",
     "output_type": "stream",
     "text": [
      "Select the index of the best match:  0\n"
     ]
    },
    {
     "name": "stdout",
     "output_type": "stream",
     "text": [
      "\n",
      "ROOF WOOD BEAM - TENSILE STRENGTH - CANDIDATE IFC PROPERTIES:\n",
      "[0] - Tensile Strength: (Indicates the ability to withstand breakage apart under applied force.).\n",
      "[1] - Minimum Tensile Strength: (Indicates the minimum tensile strength.).\n",
      "[2] - Tensile Strength Perp: (Tensile strength, α=90°.).\n",
      "[3] - Ultimate Tensile Strength: (Indicates the maximum stress that a material or element can withstand before breaking while being stretched or pulled.).\n",
      "[4] - None / Not applicable.\n"
     ]
    },
    {
     "name": "stdin",
     "output_type": "stream",
     "text": [
      "Select the index of the best match:  2\n"
     ]
    },
    {
     "name": "stdout",
     "output_type": "stream",
     "text": [
      "\n",
      "ROOF WOOD BEAM - COMPRESSIVE STRENGTH - CANDIDATE IFC PROPERTIES:\n",
      "[0] - Compressive Strength: (The compressive strength of the object or material.).\n",
      "[1] - Raised Compressive Strength: (Alternative value for compressive strength which may be used under material and code dependent conditions (e.g. if deformation is tolerable, or far from ends of the member); conditions should be stated in IfcProperty.[[Description]].).\n",
      "[2] - None / Not applicable.\n"
     ]
    },
    {
     "name": "stdin",
     "output_type": "stream",
     "text": [
      "Select the index of the best match:  0\n"
     ]
    },
    {
     "name": "stdout",
     "output_type": "stream",
     "text": [
      "modulus of elasticity - No IFC PROPERTIES candidates found.\n",
      "\n",
      "ROOF WOOD BEAM - SHEAR STRENGTH - CANDIDATE IFC PROPERTIES:\n",
      "[0] - Shear Strength: (α;shear strength.).\n",
      "[1] - None / Not applicable.\n"
     ]
    },
    {
     "name": "stdin",
     "output_type": "stream",
     "text": [
      "Select the index of the best match:  0\n"
     ]
    },
    {
     "name": "stdout",
     "output_type": "stream",
     "text": [
      "\n",
      "ROOF WOOD BEAM - FIRE RATING - CANDIDATE IFC PROPERTIES:\n",
      "[0] - Fire Rating: (Fire rating for this object. It is given according to the national fire safety classification.).\n",
      "[1] - Fire Resistance Rating: (Measure of the fire resistance rating in hours (e.g., 1.5 hours, 2 hours, etc.).).\n",
      "[2] - None / Not applicable.\n"
     ]
    },
    {
     "name": "stdin",
     "output_type": "stream",
     "text": [
      "Select the index of the best match:  1\n"
     ]
    },
    {
     "name": "stdout",
     "output_type": "stream",
     "text": [
      "preservative retention - No IFC PROPERTIES candidates found.\n",
      "\n",
      "ROOF WOOD BEAM - DURABILITY - CANDIDATE IFC PROPERTIES:\n",
      "[0] - Durability Rating: (Durability against mechanical stress. It is given according to the national code or regulation.).\n",
      "[1] - None / Not applicable.\n"
     ]
    },
    {
     "name": "stdin",
     "output_type": "stream",
     "text": [
      "Select the index of the best match:  0\n"
     ]
    },
    {
     "name": "stdout",
     "output_type": "stream",
     "text": [
      "['compressive strength', 'water cement ratio', 'maximum aggregate size', 'reinforcement grade', 'reinforcement coating', 'reinforcement spacing', 'concrete cover to reinforcement', 'curing period']\n",
      "\n",
      "STRIP FOOTING - COMPRESSIVE STRENGTH - CANDIDATE IFC PROPERTIES:\n",
      "[0] - Compressive Strength: (The compressive strength of the object or material.).\n",
      "[1] - Raised Compressive Strength: (Alternative value for compressive strength which may be used under material and code dependent conditions (e.g. if deformation is tolerable, or far from ends of the member); conditions should be stated in IfcProperty.[[Description]].).\n",
      "[2] - None / Not applicable.\n"
     ]
    },
    {
     "name": "stdin",
     "output_type": "stream",
     "text": [
      "Select the index of the best match:  0\n"
     ]
    },
    {
     "name": "stdout",
     "output_type": "stream",
     "text": [
      "water cement ratio - No IFC PROPERTIES candidates found.\n",
      "maximum aggregate size - No IFC PROPERTIES candidates found.\n",
      "reinforcement grade - No IFC PROPERTIES candidates found.\n",
      "reinforcement coating - No IFC PROPERTIES candidates found.\n",
      "\n",
      "STRIP FOOTING - REINFORCEMENT SPACING - CANDIDATE IFC PROPERTIES:\n",
      "[0] - Reinforcement Spacing: (The spacing between reinforcing elements.).\n",
      "[1] - None / Not applicable.\n"
     ]
    },
    {
     "name": "stdin",
     "output_type": "stream",
     "text": [
      "Select the index of the best match:  0\n"
     ]
    },
    {
     "name": "stdout",
     "output_type": "stream",
     "text": [
      "concrete cover to reinforcement - No IFC PROPERTIES candidates found.\n",
      "curing period - No IFC PROPERTIES candidates found.\n",
      "['material designation', 'coating type', 'strength grade', 'weld type']\n",
      "material designation - No IFC PROPERTIES candidates found.\n",
      "coating type - No IFC PROPERTIES candidates found.\n",
      "\n",
      "BEAM SHOE - STRENGTH GRADE - CANDIDATE IFC PROPERTIES:\n",
      "[0] - Strength Grade: (Grade with respect to mechanical strength and stiffness.).\n",
      "[1] - None / Not applicable.\n"
     ]
    },
    {
     "name": "stdin",
     "output_type": "stream",
     "text": [
      "Select the index of the best match:  0\n"
     ]
    },
    {
     "name": "stdout",
     "output_type": "stream",
     "text": [
      "weld type - No IFC PROPERTIES candidates found.\n"
     ]
    }
   ],
   "source": [
    "ifc_props_dict = map_ufgs_to_ifc(dfs, df_names, IFC43)"
   ]
  },
  {
   "cell_type": "code",
   "execution_count": 26,
   "id": "5d0b2562-73bf-45ed-ab57-3c8190608954",
   "metadata": {},
   "outputs": [
    {
     "name": "stdout",
     "output_type": "stream",
     "text": [
      "{'stone_wall_chimney': [{'uri': 'https://identifier.buildingsmart.org/uri/buildingsmart/ifc/4.3/prop/CompressiveStrength', 'code': 'CompressiveStrength', 'name': 'Compressive Strength'}, {'uri': 'https://identifier.buildingsmart.org/uri/buildingsmart/ifc/4.3/prop/MassDensity', 'code': 'MassDensity', 'name': 'Mass Density'}, None, {'uri': 'https://identifier.buildingsmart.org/uri/buildingsmart/ifc/4.3/prop/FireResistanceRating', 'code': 'FireResistanceRating', 'name': 'Fire Resistance Rating'}, None, None, None, None], 'roof_wood_beam': [{'uri': 'https://identifier.buildingsmart.org/uri/buildingsmart/ifc/4.3/prop/BendingStrength', 'code': 'BendingStrength', 'name': 'Bending Strength'}, {'uri': 'https://identifier.buildingsmart.org/uri/buildingsmart/ifc/4.3/prop/TensileStrengthPerp', 'code': 'TensileStrengthPerp', 'name': 'Tensile Strength Perp'}, {'uri': 'https://identifier.buildingsmart.org/uri/buildingsmart/ifc/4.3/prop/CompressiveStrength', 'code': 'CompressiveStrength', 'name': 'Compressive Strength'}, None, {'uri': 'https://identifier.buildingsmart.org/uri/buildingsmart/ifc/4.3/prop/ShearStrength', 'code': 'ShearStrength', 'name': 'Shear Strength'}, {'uri': 'https://identifier.buildingsmart.org/uri/buildingsmart/ifc/4.3/prop/FireResistanceRating', 'code': 'FireResistanceRating', 'name': 'Fire Resistance Rating'}, None, {'uri': 'https://identifier.buildingsmart.org/uri/buildingsmart/ifc/4.3/prop/DurabilityRating', 'code': 'DurabilityRating', 'name': 'Durability Rating'}], 'strip_footing': [{'uri': 'https://identifier.buildingsmart.org/uri/buildingsmart/ifc/4.3/prop/CompressiveStrength', 'code': 'CompressiveStrength', 'name': 'Compressive Strength'}, None, None, None, None, {'uri': 'https://identifier.buildingsmart.org/uri/buildingsmart/ifc/4.3/prop/ReinforcementSpacing', 'code': 'ReinforcementSpacing', 'name': 'Reinforcement Spacing'}, None, None], 'beam_shoe': [None, None, {'uri': 'https://identifier.buildingsmart.org/uri/buildingsmart/ifc/4.3/prop/StrengthGrade', 'code': 'StrengthGrade', 'name': 'Strength Grade'}, None]}\n"
     ]
    }
   ],
   "source": [
    "print(ifc_props_dict)"
   ]
  },
  {
   "cell_type": "markdown",
   "id": "5ac4280d-0c3c-41bb-a97d-09df52b8d5e3",
   "metadata": {},
   "source": [
    "### 5.1.2. Properties sets automated retrieval and manual equivalence selection (IFC 4.3 Dictionary Search):"
   ]
  },
  {
   "cell_type": "markdown",
   "id": "b9e6bfda-7d2e-461e-9b31-324a4d433051",
   "metadata": {},
   "source": [
    "For each IFC property, an automated query to the bSDD /api/Property/Classes/v1 endpoint retrieves the candidate IFC property sets in which the property is defined. The user then selects the most appropriate match from the returned candidates, capturing its URI and code."
   ]
  },
  {
   "cell_type": "code",
   "execution_count": 27,
   "id": "777a39a4-4431-41f7-a6e7-53f58b5a0d2a",
   "metadata": {
    "scrolled": true
   },
   "outputs": [
    {
     "name": "stdout",
     "output_type": "stream",
     "text": [
      "\n",
      "STONE WALL CHIMNEY - COMPRESSIVE STRENGTH - CANDIDATES (PSET):\n",
      "[0] - Pset_MaterialConcrete: ([[IfcMaterial]] is a homogeneous or inhomogeneous substance that can be used to form elements (physical products or their components).).\n",
      "[1] - Pset_MechanicalPanelInPlane: ([[IfcMaterial]] is a homogeneous or inhomogeneous substance that can be used to form elements (physical products or their components).).\n",
      "[2] - Pset_MechanicalPanelOutOfPlane: ([[IfcMaterial]] is a homogeneous or inhomogeneous substance that can be used to form elements (physical products or their components).).\n",
      "[3] - Pset_MechanicalPanelOutOfPlaneNegative: ([[IfcMaterial]] is a homogeneous or inhomogeneous substance that can be used to form elements (physical products or their components).).\n",
      "[4] - Pset_MaterialConcrete: (A set of extended mechanical properties related to concrete materials.).\n",
      "[5] - Pset_MechanicalPanelInPlane: (Properties for Mechanical Panels In Plane.).\n",
      "[6] - Pset_MechanicalPanelOutOfPlane: (Properties for Mechanica lPanels Out Of Plane.).\n",
      "[7] - Pset_MechanicalPanelOutOfPlaneNegative: (Properties for Mechanical Panels Out Of Plane Negative.).\n",
      "[8] - None / Not applicable.\n"
     ]
    },
    {
     "name": "stdin",
     "output_type": "stream",
     "text": [
      "Select the index of the best match:  8\n"
     ]
    },
    {
     "name": "stdout",
     "output_type": "stream",
     "text": [
      "\n",
      "STONE WALL CHIMNEY - MASS DENSITY - CANDIDATES (PSET):\n",
      "[0] - Pset_MaterialCommon: ([[IfcMaterial]] is a homogeneous or inhomogeneous substance that can be used to form elements (physical products or their components).).\n",
      "[1] - Pset_MaterialCommon: (A set of general material properties.).\n",
      "[2] - None / Not applicable.\n"
     ]
    },
    {
     "name": "stdin",
     "output_type": "stream",
     "text": [
      "Select the index of the best match:  1\n"
     ]
    },
    {
     "name": "stdout",
     "output_type": "stream",
     "text": [
      "\n",
      "STONE WALL CHIMNEY - FIRE RESISTANCE RATING - CANDIDATES (PSET):\n",
      "[0] - Pset_DamperTypeFireDamper: (Fire damper used to prevent the spread of fire for a specified duration. Commonly operated by fusable link that melts above a certain temperature.).\n",
      "[1] - Pset_DamperTypeFireSmokeDamper: (Combination fire and smoke damper used to prevent the spread of fire and smoke. Commonly operated by a fusable link and a smoke detector.).\n",
      "[2] - Pset_DamperTypeFireDamper: (Fire damper type attributes.; Pset renamed from Pset_DamperTypeFire to [[Pset_DamperTypeFireDamper]] in IFC2x2 Pset Addendum.).\n",
      "[3] - Pset_DamperTypeFireSmokeDamper: (Combination Fire and Smoke damper type attributes.; New Pset in IFC2x2 Pset Addendum.).\n",
      "[4] - None / Not applicable.\n"
     ]
    },
    {
     "name": "stdin",
     "output_type": "stream",
     "text": [
      "Select the index of the best match:  4\n"
     ]
    },
    {
     "name": "stdout",
     "output_type": "stream",
     "text": [
      "\n",
      "ROOF WOOD BEAM - BENDING STRENGTH - CANDIDATES (PSET):\n",
      "[0] - Pset_DiscreteAccessoryTypeInsulator: (A device designed to support and insulate a conductive element.;definition from IEC 151-15-39.).\n",
      "[1] - Pset_MechanicalBeamInPlane: ([[IfcMaterial]] is a homogeneous or inhomogeneous substance that can be used to form elements (physical products or their components).).\n",
      "[2] - Pset_MechanicalBeamInPlaneNegative: ([[IfcMaterial]] is a homogeneous or inhomogeneous substance that can be used to form elements (physical products or their components).).\n",
      "[3] - Pset_MechanicalBeamOutOfPlane: ([[IfcMaterial]] is a homogeneous or inhomogeneous substance that can be used to form elements (physical products or their components).).\n",
      "[4] - Pset_MechanicalPanelInPlane: ([[IfcMaterial]] is a homogeneous or inhomogeneous substance that can be used to form elements (physical products or their components).).\n",
      "[5] - Pset_MechanicalPanelOutOfPlane: ([[IfcMaterial]] is a homogeneous or inhomogeneous substance that can be used to form elements (physical products or their components).).\n",
      "[6] - Pset_MechanicalPanelOutOfPlaneNegative: ([[IfcMaterial]] is a homogeneous or inhomogeneous substance that can be used to form elements (physical products or their components).).\n",
      "[7] - Pset_MemberTypePost: (A linear (usually vertical) member used to support something or to mark a point.).\n",
      "[8] - Pset_DiscreteAccessoryTypeInsulator: (Properties of an insulator. The property set can be used by the predefined type INSULATOR of [[IfcDiscreteAccessory]].).\n",
      "[9] - Pset_MechanicalBeamInPlane: (Properties about Mechanical Beam in Plane.).\n",
      "[10] - Pset_MechanicalBeamInPlaneNegative: (Properties about Mechanical Beam in Plane Negative.).\n",
      "[11] - Pset_MechanicalBeamOutOfPlane: (Properties about Mechanical Beam Out Of Plane.).\n",
      "[12] - Pset_MechanicalPanelInPlane: (Properties for Mechanical Panels In Plane.).\n",
      "[13] - Pset_MechanicalPanelOutOfPlane: (Properties for Mechanica lPanels Out Of Plane.).\n",
      "[14] - Pset_MechanicalPanelOutOfPlaneNegative: (Properties for Mechanical Panels Out Of Plane Negative.).\n",
      "[15] - Pset_MemberTypePost: (Properties of a post. A post is a linear (usually vertical) member used to support something or to mark a point.).\n",
      "[16] - None / Not applicable.\n"
     ]
    },
    {
     "name": "stdin",
     "output_type": "stream",
     "text": [
      "Select the index of the best match:  11\n"
     ]
    },
    {
     "name": "stdout",
     "output_type": "stream",
     "text": [
      "\n",
      "ROOF WOOD BEAM - TENSILE STRENGTH PERP - CANDIDATES (PSET):\n",
      "[0] - Pset_MechanicalBeamInPlane: ([[IfcMaterial]] is a homogeneous or inhomogeneous substance that can be used to form elements (physical products or their components).).\n",
      "[1] - Pset_MechanicalBeamInPlaneNegative: ([[IfcMaterial]] is a homogeneous or inhomogeneous substance that can be used to form elements (physical products or their components).).\n",
      "[2] - Pset_MechanicalBeamOutOfPlane: ([[IfcMaterial]] is a homogeneous or inhomogeneous substance that can be used to form elements (physical products or their components).).\n",
      "[3] - Pset_MechanicalBeamInPlane: (Properties about Mechanical Beam in Plane.).\n",
      "[4] - Pset_MechanicalBeamInPlaneNegative: (Properties about Mechanical Beam in Plane Negative.).\n",
      "[5] - Pset_MechanicalBeamOutOfPlane: (Properties about Mechanical Beam Out Of Plane.).\n",
      "[6] - None / Not applicable.\n"
     ]
    },
    {
     "name": "stdin",
     "output_type": "stream",
     "text": [
      "Select the index of the best match:  5\n"
     ]
    },
    {
     "name": "stdout",
     "output_type": "stream",
     "text": [
      "\n",
      "ROOF WOOD BEAM - COMPRESSIVE STRENGTH - CANDIDATES (PSET):\n",
      "[0] - Pset_MaterialConcrete: ([[IfcMaterial]] is a homogeneous or inhomogeneous substance that can be used to form elements (physical products or their components).).\n",
      "[1] - Pset_MechanicalPanelInPlane: ([[IfcMaterial]] is a homogeneous or inhomogeneous substance that can be used to form elements (physical products or their components).).\n",
      "[2] - Pset_MechanicalPanelOutOfPlane: ([[IfcMaterial]] is a homogeneous or inhomogeneous substance that can be used to form elements (physical products or their components).).\n",
      "[3] - Pset_MechanicalPanelOutOfPlaneNegative: ([[IfcMaterial]] is a homogeneous or inhomogeneous substance that can be used to form elements (physical products or their components).).\n",
      "[4] - Pset_MaterialConcrete: (A set of extended mechanical properties related to concrete materials.).\n",
      "[5] - Pset_MechanicalPanelInPlane: (Properties for Mechanical Panels In Plane.).\n",
      "[6] - Pset_MechanicalPanelOutOfPlane: (Properties for Mechanica lPanels Out Of Plane.).\n",
      "[7] - Pset_MechanicalPanelOutOfPlaneNegative: (Properties for Mechanical Panels Out Of Plane Negative.).\n",
      "[8] - None / Not applicable.\n"
     ]
    },
    {
     "name": "stdin",
     "output_type": "stream",
     "text": [
      "Select the index of the best match:  8\n"
     ]
    },
    {
     "name": "stdout",
     "output_type": "stream",
     "text": [
      "\n",
      "ROOF WOOD BEAM - SHEAR STRENGTH - CANDIDATES (PSET):\n",
      "[0] - Pset_MechanicalBeamInPlane: ([[IfcMaterial]] is a homogeneous or inhomogeneous substance that can be used to form elements (physical products or their components).).\n",
      "[1] - Pset_MechanicalBeamInPlaneNegative: ([[IfcMaterial]] is a homogeneous or inhomogeneous substance that can be used to form elements (physical products or their components).).\n",
      "[2] - Pset_MechanicalBeamOutOfPlane: ([[IfcMaterial]] is a homogeneous or inhomogeneous substance that can be used to form elements (physical products or their components).).\n",
      "[3] - Pset_MechanicalPanelInPlane: ([[IfcMaterial]] is a homogeneous or inhomogeneous substance that can be used to form elements (physical products or their components).).\n",
      "[4] - Pset_MechanicalPanelOutOfPlane: ([[IfcMaterial]] is a homogeneous or inhomogeneous substance that can be used to form elements (physical products or their components).).\n",
      "[5] - Pset_MechanicalPanelOutOfPlaneNegative: ([[IfcMaterial]] is a homogeneous or inhomogeneous substance that can be used to form elements (physical products or their components).).\n",
      "[6] - Pset_MechanicalBeamInPlane: (Properties about Mechanical Beam in Plane.).\n",
      "[7] - Pset_MechanicalBeamInPlaneNegative: (Properties about Mechanical Beam in Plane Negative.).\n",
      "[8] - Pset_MechanicalBeamOutOfPlane: (Properties about Mechanical Beam Out Of Plane.).\n",
      "[9] - Pset_MechanicalPanelInPlane: (Properties for Mechanical Panels In Plane.).\n",
      "[10] - Pset_MechanicalPanelOutOfPlane: (Properties for Mechanica lPanels Out Of Plane.).\n",
      "[11] - Pset_MechanicalPanelOutOfPlaneNegative: (Properties for Mechanical Panels Out Of Plane Negative.).\n",
      "[12] - None / Not applicable.\n"
     ]
    },
    {
     "name": "stdin",
     "output_type": "stream",
     "text": [
      "Select the index of the best match:  8\n"
     ]
    },
    {
     "name": "stdout",
     "output_type": "stream",
     "text": [
      "\n",
      "ROOF WOOD BEAM - FIRE RESISTANCE RATING - CANDIDATES (PSET):\n",
      "[0] - Pset_DamperTypeFireDamper: (Fire damper used to prevent the spread of fire for a specified duration. Commonly operated by fusable link that melts above a certain temperature.).\n",
      "[1] - Pset_DamperTypeFireSmokeDamper: (Combination fire and smoke damper used to prevent the spread of fire and smoke. Commonly operated by a fusable link and a smoke detector.).\n",
      "[2] - Pset_DamperTypeFireDamper: (Fire damper type attributes.; Pset renamed from Pset_DamperTypeFire to [[Pset_DamperTypeFireDamper]] in IFC2x2 Pset Addendum.).\n",
      "[3] - Pset_DamperTypeFireSmokeDamper: (Combination Fire and Smoke damper type attributes.; New Pset in IFC2x2 Pset Addendum.).\n",
      "[4] - None / Not applicable.\n"
     ]
    },
    {
     "name": "stdin",
     "output_type": "stream",
     "text": [
      "Select the index of the best match:  4\n"
     ]
    },
    {
     "name": "stdout",
     "output_type": "stream",
     "text": [
      "\n",
      "ROOF WOOD BEAM - DURABILITY RATING - CANDIDATES (PSET):\n",
      "[0] - Pset_DoorCommon: (A boom barrier (also known as a boom gate) is a bar, or pole pivoted to allow the boom to block vehicular or pedestrian access through a controlled point.).\n",
      "[1] - Pset_DoorCommon: (The door is a built element that is predominately used to provide controlled access for people, goods, animals and vehicles. It includes constructions with hinged, pivoted, sliding, and additionally revolving and folding operations.).\n",
      "[2] - Pset_DoorCommon: (A standard door usually within a wall opening, as a door panel in a curtain wall, or as a 'free standing' door.).\n",
      "[3] - Pset_DoorCommon: (A gate is a point of entry into a space usually within an opening in a fence. Or as a 'free standing' gate.).\n",
      "[4] - Pset_DoorCommon: (Properties common to the definition of all occurrences of [[IfcDoor]].).\n",
      "[5] - Pset_DoorCommon: (A special door that lies horizonally in a slab opening. Often used for accessing cellar or attic.).\n",
      "[6] - Pset_DoorCommon: (A mechanical gate consisting of revolving arms, allowing only one person at a time to pass through.).\n",
      "[7] - None / Not applicable.\n"
     ]
    },
    {
     "name": "stdin",
     "output_type": "stream",
     "text": [
      "Select the index of the best match:  7\n"
     ]
    },
    {
     "name": "stdout",
     "output_type": "stream",
     "text": [
      "\n",
      "STRIP FOOTING - COMPRESSIVE STRENGTH - CANDIDATES (PSET):\n",
      "[0] - Pset_MaterialConcrete: ([[IfcMaterial]] is a homogeneous or inhomogeneous substance that can be used to form elements (physical products or their components).).\n",
      "[1] - Pset_MechanicalPanelInPlane: ([[IfcMaterial]] is a homogeneous or inhomogeneous substance that can be used to form elements (physical products or their components).).\n",
      "[2] - Pset_MechanicalPanelOutOfPlane: ([[IfcMaterial]] is a homogeneous or inhomogeneous substance that can be used to form elements (physical products or their components).).\n",
      "[3] - Pset_MechanicalPanelOutOfPlaneNegative: ([[IfcMaterial]] is a homogeneous or inhomogeneous substance that can be used to form elements (physical products or their components).).\n",
      "[4] - Pset_MaterialConcrete: (A set of extended mechanical properties related to concrete materials.).\n",
      "[5] - Pset_MechanicalPanelInPlane: (Properties for Mechanical Panels In Plane.).\n",
      "[6] - Pset_MechanicalPanelOutOfPlane: (Properties for Mechanica lPanels Out Of Plane.).\n",
      "[7] - Pset_MechanicalPanelOutOfPlaneNegative: (Properties for Mechanical Panels Out Of Plane Negative.).\n",
      "[8] - None / Not applicable.\n"
     ]
    },
    {
     "name": "stdin",
     "output_type": "stream",
     "text": [
      "Select the index of the best match:  4\n"
     ]
    },
    {
     "name": "stdout",
     "output_type": "stream",
     "text": [
      "\n",
      "STRIP FOOTING - REINFORCEMENT SPACING - CANDIDATES (PSET):\n",
      "[0] - Pset_DuctSegmentTypeCommon: (A duct segment is used to typically join two sections of duct network.).\n",
      "[1] - Pset_DuctSegmentTypeCommon: (A flexible segment is a continuous non-linear segment of duct that can be deformed and change the direction of flow.).\n",
      "[2] - Pset_DuctSegmentTypeCommon: (Duct segment type common attributes.).\n",
      "[3] - Pset_DuctSegmentTypeCommon: (A rigid segment is a continuous linear segment of duct that cannot be deformed.).\n",
      "[4] - None / Not applicable.\n"
     ]
    },
    {
     "name": "stdin",
     "output_type": "stream",
     "text": [
      "Select the index of the best match:  4\n"
     ]
    },
    {
     "name": "stdout",
     "output_type": "stream",
     "text": [
      "\n",
      "BEAM SHOE - STRENGTH GRADE - CANDIDATES (PSET):\n",
      "[0] - Pset_MaterialWood: ([[IfcMaterial]] is a homogeneous or inhomogeneous substance that can be used to form elements (physical products or their components).).\n",
      "[1] - Pset_MaterialWood: (This is a collection of properties applicable to wood-based materials that specify kind and grade of material as well as moisture related parameters.).\n",
      "[2] - None / Not applicable.\n"
     ]
    },
    {
     "name": "stdin",
     "output_type": "stream",
     "text": [
      "Select the index of the best match:  2\n"
     ]
    }
   ],
   "source": [
    "ifc_propsets_dict = select_psets_for_properties(ifc_props_dict)"
   ]
  },
  {
   "cell_type": "code",
   "execution_count": 28,
   "id": "48955539-0b11-47a0-bc1d-2255c4fe1bb3",
   "metadata": {},
   "outputs": [
    {
     "name": "stdout",
     "output_type": "stream",
     "text": [
      "{'stone_wall_chimney': [None, {'uri': 'https://identifier.buildingsmart.org/uri/buildingsmart/ifc/4.3/class/Pset_MaterialCommon', 'code': 'Pset_MaterialCommon', 'name': 'Property Set: Material Common'}, None, None, None, None, None, None], 'roof_wood_beam': [{'uri': 'https://identifier.buildingsmart.org/uri/buildingsmart/ifc/4.3/class/Pset_MechanicalBeamOutOfPlane', 'code': 'Pset_MechanicalBeamOutOfPlane', 'name': 'Property Set: Mechanical Beam Out Of Plane'}, {'uri': 'https://identifier.buildingsmart.org/uri/buildingsmart/ifc/4.3/class/Pset_MechanicalBeamOutOfPlane', 'code': 'Pset_MechanicalBeamOutOfPlane', 'name': 'Property Set: Mechanical Beam Out Of Plane'}, None, None, {'uri': 'https://identifier.buildingsmart.org/uri/buildingsmart/ifc/4.3/class/Pset_MechanicalBeamOutOfPlane', 'code': 'Pset_MechanicalBeamOutOfPlane', 'name': 'Property Set: Mechanical Beam Out Of Plane'}, None, None, None], 'strip_footing': [{'uri': 'https://identifier.buildingsmart.org/uri/buildingsmart/ifc/4.3/class/Pset_MaterialConcrete', 'code': 'Pset_MaterialConcrete', 'name': 'Property Set: Material Concrete'}, None, None, None, None, None, None, None], 'beam_shoe': [None, None, None, None]}\n"
     ]
    }
   ],
   "source": [
    "print(ifc_propsets_dict)"
   ]
  },
  {
   "cell_type": "markdown",
   "id": "434e5b9d-3aa3-405c-92f9-06ed163f0730",
   "metadata": {},
   "source": [
    "## 5.2. Mapping UFGS Technical properties to ETIM/bsDD:"
   ]
  },
  {
   "cell_type": "markdown",
   "id": "9096d7c8-02ee-488d-8b9d-4c4314af1409",
   "metadata": {},
   "source": [
    "#### ETIM/bsDD stage: property and class mapping for IFC gaps:\n",
    "\n",
    "This stage supplements the IFC pass by filling gaps with ETIM terms. It proceeds in two steps, both kept index-aligned with the original UFGS parameter list (positions that already have IFC matches remain None):\n",
    "\n",
    "- **ETIM property lookup:**\n",
    "For each UFGS property marked None after the IFC 4.3 pass, query bSDD /api/TextSearch/v2 restricted to ETIM (TypeFilter=Property). Select the best match and record {uri, code, name} into etim_props_dict.\n",
    "\n",
    "- **ETIM class lookup:**\n",
    "For each ETIM property in etim_props_dict, query /api/Property/Classes/v1 with the property’s URI to retrieve ETIM classes that reference it. Select the most relevant class per property and record {uri, code (derived from the class URI), name} (or None if unsuitable).\n",
    "\n",
    "Note: ETIM organizes properties under classes (not IFC-style property sets)."
   ]
  },
  {
   "cell_type": "markdown",
   "id": "12732b5b-ffcf-4de1-9d35-88003def541b",
   "metadata": {},
   "source": [
    "### 5.2.1. Properties ETIM/bsDD search for IFC gaps:"
   ]
  },
  {
   "cell_type": "markdown",
   "id": "7c7f3ddf-c692-4653-a20b-93f0bc3d343e",
   "metadata": {},
   "source": [
    "For UFGS properties with no IFC equivalent (indices marked None after the IFC 4.3 pass), query bSDD /api/TextSearch/v2 restricted to ETIM (TypeFilter=Property). Select the best match and record its URI, code, and name; when needed, call /api/Property/v1 with the selected PropertyUri to list related ETIM classes. Store results in etim_props_dict, index-aligned to the UFGS list (positions with IFC matches remain None). Note: ETIM organizes properties under classes, not IFC-style property sets."
   ]
  },
  {
   "cell_type": "code",
   "execution_count": 29,
   "id": "f02e6837-815b-487c-8a9f-65c68a34be87",
   "metadata": {
    "scrolled": true
   },
   "outputs": [
    {
     "name": "stdout",
     "output_type": "stream",
     "text": [
      "stone_wall_chimney\n",
      "compressive strength - IFC equivalent property already found.\n",
      "density - IFC equivalent property already found.\n",
      "weather exposure - No ETIM PROPERTIES candidates found.\n",
      "fire rating - IFC equivalent property already found.\n",
      "\n",
      "STONE WALL CHIMNEY - MORTAR TYPE - CANDIDATE ETIM PROPERTIES:\n",
      "[0] - Masonry mortar type according to EN 998-2: ().\n",
      "[1] - Type of mortar: ().\n",
      "[2] - None / Not applicable.\n"
     ]
    },
    {
     "name": "stdin",
     "output_type": "stream",
     "text": [
      "Select the index of the best match:  0\n"
     ]
    },
    {
     "name": "stdout",
     "output_type": "stream",
     "text": [
      "grout compressive strength - No ETIM PROPERTIES candidates found.\n",
      "\n",
      "STONE WALL CHIMNEY - THERMAL RESISTANCE - CANDIDATE ETIM PROPERTIES:\n",
      "[0] - Thermal resistance value: ().\n",
      "[1] - None / Not applicable.\n"
     ]
    },
    {
     "name": "stdin",
     "output_type": "stream",
     "text": [
      "Select the index of the best match:  0\n"
     ]
    },
    {
     "name": "stdout",
     "output_type": "stream",
     "text": [
      "\n",
      "STONE WALL CHIMNEY - FLEXURAL STRENGTH - CANDIDATE ETIM PROPERTIES:\n",
      "[0] - Flexural strength according to EN 12808-3: ().\n",
      "[1] - Flexural strength according to EN 13813: ().\n",
      "[2] - Flexural strength according to EN 998-1: (The flexural and compressive strength of moulded mortar specimens.).\n",
      "[3] - None / Not applicable.\n"
     ]
    },
    {
     "name": "stdin",
     "output_type": "stream",
     "text": [
      "Select the index of the best match:  2\n"
     ]
    },
    {
     "name": "stdout",
     "output_type": "stream",
     "text": [
      "roof_wood_beam\n",
      "bending strength - IFC equivalent property already found.\n",
      "tensile strength - IFC equivalent property already found.\n",
      "compressive strength - IFC equivalent property already found.\n",
      "\n",
      "ROOF WOOD BEAM - MODULUS OF ELASTICITY - CANDIDATE ETIM PROPERTIES:\n",
      "[0] - Modulus of elasticity: ().\n",
      "[1] - None / Not applicable.\n"
     ]
    },
    {
     "name": "stdin",
     "output_type": "stream",
     "text": [
      "Select the index of the best match:  0\n"
     ]
    },
    {
     "name": "stdout",
     "output_type": "stream",
     "text": [
      "shear strength - IFC equivalent property already found.\n",
      "fire rating - IFC equivalent property already found.\n",
      "preservative retention - No ETIM PROPERTIES candidates found.\n",
      "durability - IFC equivalent property already found.\n",
      "strip_footing\n",
      "compressive strength - IFC equivalent property already found.\n",
      "water cement ratio - No ETIM PROPERTIES candidates found.\n",
      "maximum aggregate size - No ETIM PROPERTIES candidates found.\n",
      "reinforcement grade - No ETIM PROPERTIES candidates found.\n",
      "reinforcement coating - No ETIM PROPERTIES candidates found.\n",
      "reinforcement spacing - IFC equivalent property already found.\n",
      "concrete cover to reinforcement - No ETIM PROPERTIES candidates found.\n",
      "curing period - No ETIM PROPERTIES candidates found.\n",
      "beam_shoe\n",
      "material designation - No ETIM PROPERTIES candidates found.\n",
      "\n",
      "BEAM SHOE - COATING TYPE - CANDIDATE ETIM PROPERTIES:\n",
      "[0] - Type of coating: ().\n",
      "[1] - None / Not applicable.\n"
     ]
    },
    {
     "name": "stdin",
     "output_type": "stream",
     "text": [
      "Select the index of the best match:  0\n"
     ]
    },
    {
     "name": "stdout",
     "output_type": "stream",
     "text": [
      "strength grade - IFC equivalent property already found.\n",
      "weld type - No ETIM PROPERTIES candidates found.\n"
     ]
    }
   ],
   "source": [
    "etim_props_dict = select_etim_props_for_ifc_gaps(dfs, df_names, ifc_props_dict)"
   ]
  },
  {
   "cell_type": "code",
   "execution_count": 30,
   "id": "023501ca-1d05-432b-a036-6856762c95c6",
   "metadata": {},
   "outputs": [
    {
     "name": "stdout",
     "output_type": "stream",
     "text": [
      "{'stone_wall_chimney': [None, None, None, None, {'uri': 'https://identifier.buildingsmart.org/uri/etim/etim/10.0/prop/EF010452', 'code': 'EF010452', 'name': 'Masonry mortar type according to EN 998-2'}, None, {'uri': 'https://identifier.buildingsmart.org/uri/etim/etim/10.0/prop/EF010245', 'code': 'EF010245', 'name': 'Thermal resistance value'}, {'uri': 'https://identifier.buildingsmart.org/uri/etim/etim/10.0/prop/EF016901', 'code': 'EF016901', 'name': 'Flexural strength according to EN 998-1'}], 'roof_wood_beam': [None, None, None, {'uri': 'https://identifier.buildingsmart.org/uri/etim/etim/10.0/prop/EF026335', 'code': 'EF026335', 'name': 'Modulus of elasticity'}, None, None, None, None], 'strip_footing': [None, None, None, None, None, None, None, None], 'beam_shoe': [None, {'uri': 'https://identifier.buildingsmart.org/uri/etim/etim/10.0/prop/EF024707', 'code': 'EF024707', 'name': 'Type of coating'}, None, None]}\n"
     ]
    }
   ],
   "source": [
    "print(etim_props_dict)"
   ]
  },
  {
   "cell_type": "markdown",
   "id": "66547ae6-e6a4-4e61-a2db-644b58b60a75",
   "metadata": {},
   "source": [
    "### 5.2.2. ETIM/bsDD property-class lookup for IFC gaps:"
   ]
  },
  {
   "cell_type": "markdown",
   "id": "ddb390b8-93df-4ca9-a7ba-284e17e7f3a9",
   "metadata": {},
   "source": [
    "For UFGS parameters without an IFC match, each ETIM property in etim_props_dict is queried via bSDD /api/Property/Classes/v1 to retrieve ETIM classes that reference it. Using select_etim_classes_for_properties, the most relevant class is selected per property. The output records {uri, code (derived from the class URI), name}, or None if no suitable class is identified, index-aligned with the original UFGS parameter list."
   ]
  },
  {
   "cell_type": "code",
   "execution_count": 31,
   "id": "1c77d612-8d2c-4e53-a989-b284b7c36d27",
   "metadata": {
    "scrolled": true
   },
   "outputs": [
    {
     "name": "stdout",
     "output_type": "stream",
     "text": [
      "\n",
      "STONE WALL CHIMNEY - MASONRY MORTAR TYPE ACCORDING TO EN 998-2 - CANDIDATES (ETIM):\n",
      "[0] - EC003182 — Brickwork/pointing mortar (A specialized mortar used for bonding and finishing brick joints.)\n",
      "[1] - None / Not applicable.\n"
     ]
    },
    {
     "name": "stdin",
     "output_type": "stream",
     "text": [
      "Select the index of the best match:  0\n"
     ]
    },
    {
     "name": "stdout",
     "output_type": "stream",
     "text": [
      "\n",
      "STONE WALL CHIMNEY - THERMAL RESISTANCE VALUE - CANDIDATES (ETIM):\n",
      "[0] - EC003225 — Filling element system floor (A material used to fill gaps or create a leveling base in flooring systems.)\n",
      "[1] - EC003226 — Floor joist system floor (A structural framework of joists that supports a floor.)\n",
      "[2] - EC003106 — Roof element pitched roof (A prefabricated structural component designed for sloped roofs.)\n",
      "[3] - None / Not applicable.\n"
     ]
    },
    {
     "name": "stdin",
     "output_type": "stream",
     "text": [
      "Select the index of the best match:  3\n"
     ]
    },
    {
     "name": "stdout",
     "output_type": "stream",
     "text": [
      "\n",
      "STONE WALL CHIMNEY - FLEXURAL STRENGTH ACCORDING TO EN 998-1 - CANDIDATES (ETIM):\n",
      "[0] - EC004679 — Rendering and plastering mortar (A type of mortar used for coating and finishing walls and surfaces.)\n",
      "[1] - None / Not applicable.\n"
     ]
    },
    {
     "name": "stdin",
     "output_type": "stream",
     "text": [
      "Select the index of the best match:  1\n"
     ]
    },
    {
     "name": "stdout",
     "output_type": "stream",
     "text": [
      "\n",
      "ROOF WOOD BEAM - MODULUS OF ELASTICITY - CANDIDATES (ETIM):\n",
      "[0] - EC003107 — Facade plate (A protective or decorative panel used for exterior building facades.)\n",
      "[1] - None / Not applicable.\n"
     ]
    },
    {
     "name": "stdin",
     "output_type": "stream",
     "text": [
      "Select the index of the best match:  1\n"
     ]
    },
    {
     "name": "stdout",
     "output_type": "stream",
     "text": [
      "\n",
      "BEAM SHOE - TYPE OF COATING - CANDIDATES (ETIM):\n",
      "[0] - EC010187 — Adjustment system washbasin (A mechanism that allows for height or angle adjustments of a washbasin.)\n",
      "[1] - EC011026 — Auxiliary support leg set disabled sanitary (A set of additional support legs for sanitary installations designed for disabled users.)\n",
      "[2] - EC010948 — Backrest (A support structure designed to provide back support.)\n",
      "[3] - EC010575 — Bath seat (A seat placed in a bathtub for comfort and safety.)\n",
      "[4] - EC003065 — Bishop cap (A decorative stone or concrete element used on walls or fences.)\n",
      "[5] - EC003232 — Bond stone (A specially shaped stone used to interlock masonry structures.)\n",
      "[6] - EC011737 — Channel drain (A surface drainage system designed to manage rainwater or wastewater flow.)\n",
      "[7] - EC012349 — Concrete tile (A tile made from concrete used for flooring or roofing.)\n",
      "[8] - EC003062 — Concrete tile machine package (A set of machines and tools used to manufacture concrete tiles.)\n",
      "[9] - EC011428 — Corner mounting piece for toilet support (A structural bracket used for securing toilet support rails.)\n",
      "[10] - EC010022 — Deaerator/aerator (combined) (Deaerator/aerator valves, or combination air valves are designed to combine large volume of air discharge/intake whilst filling/draining a pipeline with automatic discharge of air deliberated from the fluid.)\n",
      "[11] - EC010285 — Drain grid (domestic areas) (A perforated cover placed over a drain in residential settings.)\n",
      "[12] - EC000058 — Empty cabinet (Case for the installation of module system fields)\n",
      "[13] - EC004090 — Flexible connecting hose (plastic/silicone/rubber core) (A bendable hose used for transporting liquids or gases, made with a non-metallic core.)\n",
      "[14] - EC011032 — Floor stand disabled sanitary (A freestanding support structure for disabled sanitary applications.)\n",
      "[15] - EC004603 — Four-way sluice valve (A valve that controls fluid flow in four different directions within a piping system.)\n",
      "[16] - EC010017 — Front support (A structural component that provides front-facing support for various applications.)\n",
      "[17] - EC011028 — Grab handle/rail disabled sanitary (A support handle or rail designed for accessibility in sanitary areas.)\n",
      "[18] - EC003033 — Grating for channel drain (A perforated cover that allows water to flow into a channel drain.)\n",
      "[19] - EC011306 — Loose components, handle for adapted sanitary fittings (Spare or replacement handles for adapted sanitary fittings.)\n",
      "[20] - EC003192 — Masonry reinforcement (A structural element used to enhance the strength of masonry walls.)\n",
      "[21] - EC003076 — Paving-stone (A durable stone used for outdoor paving applications.)\n",
      "[22] - EC003075 — Paving-stone machine package (A set of equipment used for manufacturing paving stones.)\n",
      "[23] - EC004987 — Road gully (complete) (A drainage unit designed to collect surface water from roads and direct it into the sewer system.)\n",
      "[24] - EC010872 — Shower seat (A seat designed for use in showers for added comfort and safety.)\n",
      "[25] - EC011027 — Shower stool (A small, stable seat designed for use in a shower.)\n",
      "[26] - EC010457 — Shower stretcher (A medical or emergency stretcher designed for shower use.)\n",
      "[27] - EC010025 — Shower/toilet seat (A combination seat designed for use in shower and toilet areas, often for accessibility purposes.)\n",
      "[28] - EC011331 — Siphon cover (A cover designed to conceal a siphon in plumbing installations.)\n",
      "[29] - EC003261 — Sluice valve (A valve that controls fluid flow by lifting a gate to allow passage.)\n",
      "[30] - EC003037 — Sump unit for channel drain (A sediment collection unit used within a drainage channel system.)\n",
      "[31] - EC011031 — Swinging/ceiling support (A structural support designed for ceiling-mounted or swinging elements.)\n",
      "[32] - EC010078 — Toilet support (A structural aid designed to assist users with stability while using a toilet.)\n",
      "[33] - EC003067 — Twill stone (A paving stone with a distinctive patterned surface.)\n",
      "[34] - EC010984 — Washbasin bracket (A mounting bracket used to support a washbasin.)\n",
      "[35] - None / Not applicable.\n"
     ]
    },
    {
     "name": "stdin",
     "output_type": "stream",
     "text": [
      "Select the index of the best match:  35\n"
     ]
    }
   ],
   "source": [
    "etim_classes_dict = select_etim_classes_for_properties(etim_props_dict)"
   ]
  },
  {
   "cell_type": "code",
   "execution_count": 32,
   "id": "5f54deb2-07b1-4414-b9d3-fcfc5041b323",
   "metadata": {},
   "outputs": [
    {
     "name": "stdout",
     "output_type": "stream",
     "text": [
      "{'stone_wall_chimney': [None, None, None, None, {'uri': 'https://identifier.buildingsmart.org/uri/etim/etim/10.0/class/EC003182', 'code': 'EC003182', 'name': 'Brickwork/pointing mortar'}, None, None, None], 'roof_wood_beam': [None, None, None, None, None, None, None, None], 'strip_footing': [None, None, None, None, None, None, None, None], 'beam_shoe': [None, None, None, None]}\n"
     ]
    }
   ],
   "source": [
    "print(etim_classes_dict)"
   ]
  },
  {
   "cell_type": "markdown",
   "id": "c6aa5de6-e21b-43dd-b436-a6de8f858371",
   "metadata": {},
   "source": [
    "# 6. Fill bsDD datasets columns:"
   ]
  },
  {
   "cell_type": "markdown",
   "id": "4dd6b80b-c954-4e78-ad97-89e337e29dfb",
   "metadata": {},
   "source": [
    "#### DEVELOPMENT PHASE: Dictionaries SAVE."
   ]
  },
  {
   "cell_type": "code",
   "execution_count": 33,
   "id": "b577c1c1-00e8-401c-9272-14532de5a585",
   "metadata": {},
   "outputs": [],
   "source": [
    "# payload = {\n",
    "#     \"ifc_props_dict\": ifc_out,\n",
    "#     \"ifc_propsets_dict\": ifc_propsets_dict,\n",
    "#     \"etim_props_dict\": etim_props_dict,\n",
    "#     \"etim_classes_dict\": etim_classes_dict,\n",
    "# }\n",
    "\n",
    "# with open(\"bsdd_cache.json\", \"w\", encoding=\"utf-8\") as f:\n",
    "#     json.dump(payload, f, ensure_ascii=False, indent=2)"
   ]
  },
  {
   "cell_type": "markdown",
   "id": "6608fec8-bd10-413b-ba7d-d7e21d6f40f1",
   "metadata": {},
   "source": [
    "#### DEVELOPMENT PHASE: Dictionaries LOAD."
   ]
  },
  {
   "cell_type": "code",
   "execution_count": 34,
   "id": "3fa737f5-5450-466c-9f92-895f10987423",
   "metadata": {},
   "outputs": [],
   "source": [
    "# with open(\"bsdd_cache.json\", \"r\", encoding=\"utf-8\") as f:\n",
    "#     d = json.load(f)\n",
    "\n",
    "# ifc_props_dict    = d[\"ifc_props_dict\"]\n",
    "# ifc_propsets_dict = d[\"ifc_propsets_dict\"]\n",
    "# etim_props_dict   = d[\"etim_props_dict\"]\n",
    "# etim_classes_dict = d[\"etim_classes_dict\"]"
   ]
  },
  {
   "cell_type": "code",
   "execution_count": 35,
   "id": "d846e961-68f7-47d7-a46a-a8eb2a33c167",
   "metadata": {},
   "outputs": [],
   "source": [
    "apply_property_mapping(dfs, df_names, ifc_props_dict, col_prefix=\"ifc_property\", exists_col=\"ifc_exists\")"
   ]
  },
  {
   "cell_type": "code",
   "execution_count": 36,
   "id": "6315f2bb-66dc-41d4-a36f-3aeab1feb2b6",
   "metadata": {},
   "outputs": [],
   "source": [
    "apply_property_mapping(dfs, df_names, ifc_propsets_dict, col_prefix=\"ifc_pset\")"
   ]
  },
  {
   "cell_type": "code",
   "execution_count": 37,
   "id": "0967cc86-b0ee-415e-827e-1989e66c95fc",
   "metadata": {},
   "outputs": [],
   "source": [
    "apply_property_mapping(dfs, df_names, etim_props_dict,   col_prefix=\"etim_property\", exists_col=\"etim_exists\")"
   ]
  },
  {
   "cell_type": "code",
   "execution_count": 38,
   "id": "1dbefaff-f5f6-43eb-9e20-53b5549be455",
   "metadata": {},
   "outputs": [],
   "source": [
    "apply_property_mapping(dfs, df_names, etim_classes_dict, col_prefix=\"etim_class\")"
   ]
  },
  {
   "cell_type": "markdown",
   "id": "585efd3e-b52a-4e04-8152-4e9259279ee7",
   "metadata": {},
   "source": [
    "# 7. Global unique identifier (GUID) generation and missing IFC Pset and ETIM Class placeholders:"
   ]
  },
  {
   "cell_type": "markdown",
   "id": "1cad5933-1131-45f5-b864-de9daa195067",
   "metadata": {},
   "source": [
    "**uuid5** is used to generate deterministic, reproducible identifiers based on input data rather than random values. It derives each GUID from a fixed namespace and the element’s defining attributes, ensuring that identical inputs always produce the same identifier. This approach maintains consistency, traceability, and uniqueness across repeated processing or dataset updates.  "
   ]
  },
  {
   "cell_type": "code",
   "execution_count": 103,
   "id": "5a279113-fa9c-4225-87a1-e88bcc6081ba",
   "metadata": {},
   "outputs": [],
   "source": [
    "dfs = df_guid_placeholders(dfs)"
   ]
  },
  {
   "cell_type": "code",
   "execution_count": 104,
   "id": "3e05a922-e4bb-41ae-b1ef-be741a888cf6",
   "metadata": {},
   "outputs": [
    {
     "name": "stdout",
     "output_type": "stream",
     "text": [
      "STONE WALL CHIMNEY has no GUID duplicate value: True.\n",
      "ROOF WOOD BEAM has no GUID duplicate value: True.\n",
      "STRIP FOOTING has no GUID duplicate value: True.\n",
      "BEAM SHOE has no GUID duplicate value: True.\n"
     ]
    }
   ],
   "source": [
    "out = guid_check(dfs)"
   ]
  },
  {
   "cell_type": "markdown",
   "id": "0e12cf71-570e-4385-a33d-e56b82422a9c",
   "metadata": {},
   "source": [
    "# 8. Data save:"
   ]
  },
  {
   "cell_type": "code",
   "execution_count": 105,
   "id": "125c81f7-f062-4b8c-afd1-8fc0e9c42f13",
   "metadata": {},
   "outputs": [],
   "source": [
    "output_path = \"../data/processed/bsdd_collecting.xlsx\""
   ]
  },
  {
   "cell_type": "code",
   "execution_count": 106,
   "id": "d19a1a53-65fb-448d-b504-58c6e2287813",
   "metadata": {},
   "outputs": [],
   "source": [
    "# output_path2 = \"../data/processed/bsdd_collecting2.xlsx\""
   ]
  },
  {
   "cell_type": "code",
   "execution_count": 107,
   "id": "63e79acc-3283-41a2-9846-3f822225998b",
   "metadata": {},
   "outputs": [],
   "source": [
    "write_multi_df_to_excel(dfs, output_path)"
   ]
  },
  {
   "cell_type": "code",
   "execution_count": null,
   "id": "b9fb8413-02f6-4520-8fe9-d2983ceff71f",
   "metadata": {},
   "outputs": [],
   "source": []
  }
 ],
 "metadata": {
  "kernelspec": {
   "display_name": "Python (capstone_env)",
   "language": "python",
   "name": "capstone_env"
  },
  "language_info": {
   "codemirror_mode": {
    "name": "ipython",
    "version": 3
   },
   "file_extension": ".py",
   "mimetype": "text/x-python",
   "name": "python",
   "nbconvert_exporter": "python",
   "pygments_lexer": "ipython3",
   "version": "3.11.13"
  }
 },
 "nbformat": 4,
 "nbformat_minor": 5
}

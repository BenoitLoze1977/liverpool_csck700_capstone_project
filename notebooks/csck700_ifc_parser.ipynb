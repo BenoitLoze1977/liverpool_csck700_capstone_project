{
 "cells": [
  {
   "cell_type": "markdown",
   "id": "9fc2e2b4-33ed-45d7-af4b-964dae4971a1",
   "metadata": {},
   "source": [
    "# Title: csck700_ifc_parser"
   ]
  },
  {
   "cell_type": "markdown",
   "id": "97740413-1bd3-4438-afeb-4f2abf7760cf",
   "metadata": {},
   "source": [
    "### The module parses an IFC model to extract the IFcElements, their properties and relationships and loads them to nodes and edges into Neo4J."
   ]
  },
  {
   "cell_type": "markdown",
   "id": "7344a75e-b155-48d8-a350-db5f42b002a0",
   "metadata": {},
   "source": [
    "# 0. Table of content:"
   ]
  },
  {
   "cell_type": "markdown",
   "id": "904105a4-1938-4749-a674-dbaf1b90425b",
   "metadata": {},
   "source": [
    "- [1. Settings:](#1.-Settings:)  \n",
    "- [2. Imports:](#2.-Imports:)  \n",
    "- [3. Helper functions:](#3.-Helper-functions:)  \n",
    "    - [3.1. Proxy entities handling:](#3.1.-Proxy-entities-handling:)  \n",
    "    - [3.2. IfcRelationships - Edges:](#3.2.-IfcRelationships---Edges:)  \n",
    "    - [3.3. IfcEntities - Nodes:](#3.3.-IfcEntities---Nodes:)  \n",
    "    - [3.4. Sanity Checks:](#3.3.-Sanity-Checks:)\n",
    "    - [3.5. Nodes insertion & Relationshsips/edges insertion:](#3.5.-Nodes-insertion-&-Relationshsips/edges-insertion:)\n",
    "    - [3.6. Graph integrity:](#3.6.-Graph-integrity:)\n",
    "- [4. Data load:](#4.-Data-load:)\n",
    "- [5. Proxy entities handling:](#5.-Proxy-entities-handling:)  \n",
    "- [6. IFC Parsing:](#5.-IFC-Parsing:)  \n",
    "    - [6.1. IfcRelationships - Edges Preparation:](#6.1.-IfcRelationships---Edges-Preparation:)  \n",
    "    - [6.2. IfcEntities - Nodes Preparation:](#6.2.-IfcEntities---Nodes-Preparation:)  \n",
    "    - [6.3. Sanity Checks:](#6.3.-Sanity-Checks:)  \n",
    "- [7. Neo4J graph:](#7.-Neo4J-graph:)\n",
    "    - [7.1. Graph creation:](#7.1.-Graph-creation:)  \n",
    "    - [7.2. Graph integrity:](#7.2.-Graph-integrity:)\n",
    "    - [7.3. Exploration & visualization:](#7.3.-Exploration-&-visualization:)\n",
    "    - [7.4. Graph summary:](#7.4.-Graph-summary:)      "
   ]
  },
  {
   "cell_type": "markdown",
   "id": "62008d32-c40c-472b-a1cb-d4a975892ffd",
   "metadata": {},
   "source": [
    "# 1. Settings:"
   ]
  },
  {
   "cell_type": "code",
   "execution_count": 1,
   "id": "27b591f4-2277-45a7-8c04-ea87b8fb0a07",
   "metadata": {},
   "outputs": [],
   "source": [
    "IFC_PATH = r\"..\\data\\raw\\Building-Structural.ifc\"\n",
    "\n",
    "NEO4J_URI = \"bolt://localhost:7687\"\n",
    "NEO4J_USER = \"neo4j\"\n",
    "NEO4J_PASSWORD = \"TitineTiteFiro@1952\"\n",
    "DATABASE = \"capstone\""
   ]
  },
  {
   "cell_type": "code",
   "execution_count": 2,
   "id": "2d693dc5-6e28-4bd9-9fc4-cd504cd45307",
   "metadata": {},
   "outputs": [],
   "source": [
    "REL_MAP ={\n",
    "    \"IfcRelDefinesByProperties\": (\"RelatingPropertyDefinition\", \"RelatedObjects\", None),\n",
    "    \"IfcRelDefinesByType\": (\"RelatingType\", \"RelatedObjects\", \"DEFINED_BY_TYPE\"),\n",
    "    \"IfcRelAssociatesMaterial\": (\"RelatingMaterial\", \"RelatedObjects\", \"ASSOCIATED_MATERIAL\"),\n",
    "    \"IfcRelContainedInSpatialStructure\": (\"RelatingStructure\", \"RelatedElements\", \"CONTAINED_IN\"),\n",
    "    \"IfcRelAggregates\": (\"RelatingObject\", \"RelatedObjects\", \"AGGREGATES\"),\n",
    "    \"IfcRelAssociatesClassification\": (\"RelatingClassification\", \"RelatedObjects\", \"ASSOCIATED_CLASSIFICATION\")\n",
    "} "
   ]
  },
  {
   "cell_type": "markdown",
   "id": "a35a9c22-6640-4d92-a41e-05df562afeb9",
   "metadata": {},
   "source": [
    "# 2. Imports:"
   ]
  },
  {
   "cell_type": "code",
   "execution_count": 3,
   "id": "ea7c2f06-2f88-4f66-afa6-8793e5f7d349",
   "metadata": {},
   "outputs": [],
   "source": [
    "import ifcopenshell\n",
    "import ifcopenshell.util.element as util\n",
    "from neo4j import GraphDatabase\n",
    "from collections import Counter, defaultdict\n",
    "# !pip install deepdiff\n",
    "from deepdiff import DeepDiff\n",
    "# !pip install yfiles-jupyter-graphs-for-neo4j\n",
    "from yfiles_jupyter_graphs_for_neo4j import Neo4jGraphWidget\n",
    "import json\n",
    "from IPython.display import JSON, display"
   ]
  },
  {
   "cell_type": "markdown",
   "id": "6c2bef45-a675-4ddf-b80e-f977cf088940",
   "metadata": {},
   "source": [
    "# 3. Helper functions:"
   ]
  },
  {
   "cell_type": "markdown",
   "id": "05aae793-5611-4f0a-bfd6-d1dd34035034",
   "metadata": {},
   "source": [
    "## 3.1. Proxy entities handling:"
   ]
  },
  {
   "cell_type": "code",
   "execution_count": 4,
   "id": "81bcf367-3648-4878-a7a1-e677528ad84e",
   "metadata": {},
   "outputs": [],
   "source": [
    "def proxies_analysis(model):\n",
    "    \"\"\"\n",
    "    Identify proxy elements, their related relationships, and dependent entities\n",
    "    that only exist through those relationships.\n",
    "    \"\"\"\n",
    "\n",
    "    # proxies identification:\n",
    "    proxies = {ent for ent in model if \"Proxy\" in ent.is_a()}\n",
    "\n",
    "    # relationships involved in proxies:\n",
    "    proxies_rels = {\n",
    "        r\n",
    "        for p in proxies\n",
    "        for r in model.get_inverse(p)\n",
    "        if hasattr(r, \"is_a\") and r.is_a(\"IfcRelationship\")\n",
    "    }\n",
    "\n",
    "    # other-side entities, non-proxy, non-relationship:\n",
    "    others = {\n",
    "        e \n",
    "        for r in proxies_rels\n",
    "        for v in r.get_info().values()\n",
    "        for e in (v if isinstance(v, (list, tuple, set)) else [v])\n",
    "        if hasattr(e, \"is_a\") and not e.is_a(\"IfcRelationship\") and e not in proxies\n",
    "    }\n",
    "\n",
    "    # isolated: no other relationship beyond proxy_rels:\n",
    "    isolated = {\n",
    "        o for o in others\n",
    "        if not any(r for r in model.get_inverse(o)\n",
    "                  if hasattr(r, \"is_a\") and r.is_a(\"IfcRelationship\") and r not in proxies_rels)\n",
    "    }\n",
    "\n",
    "    return proxies, proxies_rels, isolated"
   ]
  },
  {
   "cell_type": "code",
   "execution_count": 5,
   "id": "e725e7dd-5ff2-4f1d-be25-90d706079938",
   "metadata": {},
   "outputs": [],
   "source": [
    "def proxies_drop(model):\n",
    "    \"\"\"\n",
    "    Remove proxy elements, their associated relationships, and dependent isolated entities\n",
    "    from the IFC model to produce a cleaned version.\n",
    "    \"\"\"\n",
    "\n",
    "    proxies, proxies_rels, isolated = proxies_analysis(model)\n",
    "\n",
    "    # remove relationships that touch proxies:\n",
    "    for r in proxies_rels:\n",
    "        # run(\"entity.remove\", model, entity=r)\n",
    "        model.remove(r)\n",
    "\n",
    "    # remove ensuing isolated nodes:\n",
    "    for i in isolated:\n",
    "        # # run(\"entity.remove\", model, entity=i)\n",
    "        try:\n",
    "            model.remove(e)\n",
    "        except Exception:\n",
    "            pass\n",
    "\n",
    "    # remove proxies:\n",
    "    for p in proxies:\n",
    "        # run(\"entity.remove\", model, entity=p)\n",
    "        try:\n",
    "            model.remove(p)\n",
    "        except Exception:\n",
    "            pass\n",
    "\n",
    "    print(\"\\n====PROXIES REMOVAL COUNTS:====\\n\")\n",
    "    print(f\"relationships: {len(proxies_rels)}\")\n",
    "    print(f\"isolated nodes: {len(isolated)}\")\n",
    "    print(f\"proxies: {len(proxies)}\") \n",
    "\n",
    "    return model"
   ]
  },
  {
   "cell_type": "markdown",
   "id": "78d3829a-e361-4f1e-b269-0bd0b783d942",
   "metadata": {},
   "source": [
    "## 3.2. IfcRelationships - Edges:"
   ]
  },
  {
   "cell_type": "code",
   "execution_count": 6,
   "id": "781fbab0-84bd-41ca-b3c5-a9f0492707a5",
   "metadata": {},
   "outputs": [],
   "source": [
    "def identify_rel(model):\n",
    "    \"\"\"\n",
    "    Identify all distinct IfcRelationship classes present in the model.\n",
    "    \"\"\"\n",
    "\n",
    "    rel_classes = set()\n",
    "\n",
    "    rels = model.by_type(\"IfcRelationship\")\n",
    "\n",
    "    for rel in rels:\n",
    "        rel_classes.add(rel.is_a())\n",
    "\n",
    "    print(\"Identified relationship classes:\")  \n",
    "    for r in rel_classes:\n",
    "        print(f\"- {r}.\")\n",
    "        \n",
    "    return rel_classes"
   ]
  },
  {
   "cell_type": "code",
   "execution_count": 7,
   "id": "698d3c83-a658-4565-ae5a-6b90632cde98",
   "metadata": {},
   "outputs": [],
   "source": [
    "def obj_id(o):\n",
    "    \"\"\"\n",
    "    Returns the GUID of the given object, if present, else synthetic ClassName:step_id.\n",
    "\n",
    "    Non-IfcRoot entities (e.g. IfcMaterial, IfcClassificationReference)\n",
    "    do not have a GlobalId, so the fallback ensures uniqueness.\n",
    "    \"\"\"\n",
    "    return getattr(o, \"GlobalId\", f\"{o.is_a()}:{o.id()}\")"
   ]
  },
  {
   "cell_type": "code",
   "execution_count": 8,
   "id": "9db862f9-e5bf-47ba-8140-2500e4496500",
   "metadata": {},
   "outputs": [],
   "source": [
    "def as_list(v):\n",
    "    \"\"\"\n",
    "    Ensures the value is returned as a list.\n",
    "    \"\"\"\n",
    "    if v is None:\n",
    "        return []\n",
    "    return v if isinstance(v, (list, tuple)) else [v]"
   ]
  },
  {
   "cell_type": "code",
   "execution_count": 9,
   "id": "c2d8b711-29e8-4bed-8b3e-a3333305c08a",
   "metadata": {},
   "outputs": [],
   "source": [
    "def edges_maker(model, rel_map=REL_MAP, pset_qto=True):\n",
    "    \"\"\"\n",
    "    For a given model, creates a dictionary of edges (IfcRelationships exploded into from -> to pairs.\n",
    "    Returns:\n",
    "        - edges: a dictionary of edges with keys:\n",
    "            - id, labels, rel_class, rel_id, from, to.\n",
    "    \"\"\"\n",
    "\n",
    "    edges = dict()\n",
    "    pairs = set()\n",
    "\n",
    "    for rel_class, (relating_attr, related_attr, label) in rel_map.items():\n",
    "        for rel in model.by_type(rel_class):\n",
    "            relating = getattr(rel, relating_attr, None)\n",
    "            related = getattr(rel, related_attr, None)\n",
    "            if relating is None:\n",
    "                continue\n",
    "            \n",
    "            # distinction property set vs quantity set:\n",
    "            if rel_class == \"IfcRelDefinesByProperties\":\n",
    "                if pset_qto and relating.is_a(\"IfcElementQuantity\"):\n",
    "                    edge_label = \"DEFINED_BY_QUANTITIES\"\n",
    "                else:\n",
    "                    edge_label = \"DEFINED_BY_PROPERTIES\"\n",
    "            else:\n",
    "                edge_label = label\n",
    "\n",
    "            frm = obj_id(relating)\n",
    "            rel_gid = obj_id(rel)\n",
    "\n",
    "            # one-to-many relationships:\n",
    "            for r in as_list(related):\n",
    "                if r is None:\n",
    "                    continue\n",
    "                to  = obj_id(r)\n",
    "                \n",
    "                # sanity check:\n",
    "                pairs.add((rel_gid, frm, to))\n",
    "                \n",
    "                edge_id = f\"{rel_gid}:{frm}->{to}\"\n",
    "                edges[edge_id]={\n",
    "                    \"id\": edge_id,\n",
    "                    \"labels\": edge_label,\n",
    "                    \"rel_class\": rel_class,\n",
    "                    \"rel_id\": rel_gid,\n",
    "                    \"from_id\": frm,\n",
    "                    \"to_id\": to\n",
    "                }\n",
    "\n",
    "    expected = len(pairs)\n",
    "    actual = len(edges)\n",
    "    \n",
    "    return expected, actual, edges"
   ]
  },
  {
   "cell_type": "markdown",
   "id": "7d981202-d014-40b7-be43-da4b8b2d2198",
   "metadata": {},
   "source": [
    "## 3.3. IfcEntities - Nodes:"
   ]
  },
  {
   "cell_type": "code",
   "execution_count": 10,
   "id": "42667233-2fff-46a6-b2b2-5d3d79b13bfb",
   "metadata": {},
   "outputs": [],
   "source": [
    "def get_entity_from_id(model, oid):\n",
    "    \"\"\"\n",
    "    Returns the Ifc entity from the given id or GUID.\n",
    "    \"\"\"\n",
    "\n",
    "    if isinstance(oid, str) and (len(oid) == 22) and (\":\" not in oid):\n",
    "        return model.by_guid(oid)\n",
    "\n",
    "    elif \":\" in oid:\n",
    "        try:\n",
    "            step_id = int(oid.split(\":\")[-1])\n",
    "            return model.by_id(step_id)\n",
    "        except Exception:\n",
    "            return None\n",
    "\n",
    "    return None"
   ]
  },
  {
   "cell_type": "code",
   "execution_count": 11,
   "id": "2b9a8bb9-7838-4334-8872-bc3b4ef4cf20",
   "metadata": {},
   "outputs": [],
   "source": [
    "def get_entities_from_edges(model, edges, typ):\n",
    "    \"\"\"\n",
    "    Returns the relating or related Ifc entities from a dict of edges.\n",
    "    \"\"\"\n",
    "\n",
    "    entities_from_edges = []\n",
    "    \n",
    "    for edge in edges.values():\n",
    "        obj = get_entity_from_id(model, edge[typ])\n",
    "        if obj:\n",
    "            entities_from_edges.append(obj) \n",
    "\n",
    "    return entities_from_edges"
   ]
  },
  {
   "cell_type": "code",
   "execution_count": 12,
   "id": "197319f5-5631-459a-91b9-6103be5c24c9",
   "metadata": {},
   "outputs": [],
   "source": [
    "def merge_unique(obj1, obj2):\n",
    "    \"\"\"\n",
    "    Returns a list of unique Ifc entities from two lists of Ifc entities.\n",
    "    \"\"\"\n",
    "    merged = dict()\n",
    "    for o in obj1 + obj2:\n",
    "        if o:\n",
    "            merged[obj_id(o)] = o\n",
    "    return list(merged.values())"
   ]
  },
  {
   "cell_type": "code",
   "execution_count": 13,
   "id": "5b2b4128-99c9-4d1e-9f8b-c9db9ae4199d",
   "metadata": {},
   "outputs": [],
   "source": [
    "def entities_classes_identify(all_objects):\n",
    "    \"\"\"\n",
    "    Identifies the Ifc entity classes present in the model.\n",
    "    All IfcElements subtypes collapse to 'IfcElement'.\n",
    "    All *Type classes collapse to 'IfcTypeObject'.\n",
    "    \"\"\"\n",
    "\n",
    "    clss = set()\n",
    "    \n",
    "    for o in all_objects:\n",
    "        if o.is_a(\"IfcElement\"):\n",
    "            clss.add(\"IfcElement\")\n",
    "        elif \"Type\" in o.is_a():\n",
    "            clss.add(\"IfcTypeObject\")\n",
    "        else:\n",
    "            clss.add(o.is_a())\n",
    "\n",
    "    return clss"
   ]
  },
  {
   "cell_type": "code",
   "execution_count": 14,
   "id": "c3f9100f-fddf-4f47-8616-0f54d6ae6f4f",
   "metadata": {},
   "outputs": [],
   "source": [
    "def props_identify(all_objects):\n",
    "\n",
    "    props = {}\n",
    "\n",
    "    pset = \"IfcPropertySet\"\n",
    "    qset = \"IfcElementQuantity\"\n",
    "\n",
    "    for o in all_objects:\n",
    "        if o.is_a(pset):\n",
    "            props.setdefault(pset, dict())\n",
    "            for p in o.HasProperties:\n",
    "                props[pset][p.Name] = {\n",
    "                    \"property_type\": p.is_a()\n",
    "                }\n",
    "                \n",
    "        elif o.is_a(qset):\n",
    "            props.setdefault(qset, dict())\n",
    "            for q in o.Quantities:\n",
    "                props[qset][q.Name] = {\n",
    "                    \"property_type\": q.is_a()\n",
    "                }\n",
    "\n",
    "    # only IfcMaterial class, no specific material properties to extract beyond the material name.\n",
    "                \n",
    "    return props"
   ]
  },
  {
   "cell_type": "code",
   "execution_count": 15,
   "id": "227d9d1c-04c1-41ca-aa9f-8872bb8f2020",
   "metadata": {},
   "outputs": [],
   "source": [
    "def pset_props_collect(o):\n",
    "    \"\"\"\n",
    "    Extracts the properties from an IfcPropertySet entity. \n",
    "    \"\"\"\n",
    "\n",
    "    def unwrap(v):\n",
    "        \"\"\"\n",
    "        Converts an Ifc value wrapper to a plain Python type.\n",
    "        \"\"\"\n",
    "        if v is None:\n",
    "            return None\n",
    "        else:\n",
    "            return getattr(v, \"wrappedValue\", v)\n",
    "\n",
    "    props = {}\n",
    "    \n",
    "    for p in o.HasProperties:\n",
    "        if p.is_a(\"IfcPropertySingleValue\"):\n",
    "            nv = getattr(p, \"NominalValue\", None)\n",
    "            props[p.Name] = {\n",
    "                \"kind\": \"SingleValue\",\n",
    "                \"value\": unwrap(nv)\n",
    "            }\n",
    "        elif p.is_a(\"IfcPropertyEnumeratedValue\"):\n",
    "            vals = [unwrap(v) for v in (getattr(p, \"EnumerationValues\", []) or [])]\n",
    "            enum_ref = getattr(p, \"EnumerationReference\", None)\n",
    "            domain = (\n",
    "                [unwrap(v) for v in (getattr(enum_ref, \"EnumerationValues\", []) or [])]\n",
    "                if enum_ref else None\n",
    "            )\n",
    "            props[p.Name] = {\n",
    "                \"kind\": \"EnumeratedValue\",\n",
    "                \"value\": vals if len(vals) != 1 else vals[0],\n",
    "                \"enumeration_name\": getattr(enum_ref, \"Name\", None) if enum_ref else None,\n",
    "                \"domain\": domain\n",
    "            }\n",
    "\n",
    "    # if needed, to be developed to handle other kinds of properties.\n",
    "        \n",
    "    return props"
   ]
  },
  {
   "cell_type": "code",
   "execution_count": 16,
   "id": "ce996f9a-086c-4070-82bb-600d91aeab7f",
   "metadata": {},
   "outputs": [],
   "source": [
    "def qset_props_collect(o, include_none=False):\n",
    "    \"\"\"\n",
    "    Extracts the quantitiy properties from an IfcElementQuantity. \n",
    "    \"\"\"\n",
    "\n",
    "    props = {}\n",
    "    \n",
    "    for q in getattr(o, \"Quantities\", []) or []:\n",
    "        val = None\n",
    "        if q.is_a(\"IfcQuantityLength\"):\n",
    "            val = q.LengthValue\n",
    "        elif q.is_a(\"IfcQuantityArea\"):\n",
    "            val = q.AreaValue\n",
    "        elif q.is_a(\"IfcQuantityVolume\"):\n",
    "            val = q.VolumeValue\n",
    "        elif q.is_a(\"IfcQuantityCount\"):\n",
    "            val = q.CountValue\n",
    "        elif q.is_a(\"IfcQuantityWeight\"):\n",
    "            val = q.WeightValue\n",
    "\n",
    "        if include_none or val is not None:  \n",
    "            props[q.Name] = {\n",
    "                \"kind\": q.is_a(),\n",
    "                \"value\": val\n",
    "            }\n",
    "\n",
    "    return props"
   ]
  },
  {
   "cell_type": "code",
   "execution_count": 17,
   "id": "6a94ef54-c879-4cc1-89a2-9fb5d431e291",
   "metadata": {},
   "outputs": [],
   "source": [
    "def node_set(o):\n",
    "    \"\"\"\n",
    "    Extract the node information for a single Ifc entity.\n",
    "    \"\"\"\n",
    "\n",
    "    node = dict()\n",
    "\n",
    "    # helpers:\n",
    "    def g_n(o, name, default=None):\n",
    "        \"\"\"\n",
    "        Extract an attribute for an Ifc entity.\n",
    "        \"\"\"\n",
    "        return getattr(o, name, default)\n",
    "\n",
    "    def basic_props(label, addition=None):\n",
    "        \"\"\"\n",
    "        Set the base node dictionary for an Ifc entity and add it to \"node\".\n",
    "        \"\"\"\n",
    "        node_id = obj_id(o)\n",
    "        base = {\n",
    "            \"id\": node_id,\n",
    "            \"labels\": [label, o.is_a()],\n",
    "            \"name\": g_n(o, \"Name\")\n",
    "        }\n",
    "        if addition:\n",
    "            base.update(addition)\n",
    "        node[node_id] = base\n",
    "\n",
    "    \n",
    "    cls = o.is_a()\n",
    "\n",
    "    if cls == \"IfcProject\":\n",
    "        basic_props(\"PROJECT\")\n",
    "        \n",
    "    elif o.is_a(\"IfcElement\"):\n",
    "        # ObjectType fallback:\n",
    "        basic_props(\"ELEMENT\", {\n",
    "            \"predefined_type\": g_n(o, \"PredefinedType\", g_n(o, \"ObjectType\"))\n",
    "        })\n",
    "        \n",
    "    elif cls == \"IfcPropertySet\":\n",
    "        basic_props(\"PSET\", {\n",
    "            \"properties\": pset_props_collect(o)\n",
    "        })\n",
    "        \n",
    "    elif cls == \"IfcElementQuantity\":\n",
    "        basic_props(\"QSET\", {\n",
    "            \"quantities\": qset_props_collect(o)\n",
    "        })\n",
    "        \n",
    "    elif \"Type\" in cls:\n",
    "        basic_props(\"TYPE\")\n",
    "        \n",
    "    elif cls == \"IfcMaterial\":\n",
    "        basic_props(\"MATERIAL\")\n",
    "        \n",
    "    elif cls in (\"IfcSite\", \"IfcBuilding\", \"IfcBuildingStorey\", \"IfcSpace\"):\n",
    "        basic_props(\"SPATIAL\")\n",
    "        \n",
    "    elif cls == \"IfcClassificationReference\":\n",
    "        scheme = g_n(o, \"ReferencedSource\") # IfcClassification\n",
    "        basic_props(\"CLASSIFICATION_REF\",{\n",
    "            \"code\": g_n(o, \"Identification\"),\n",
    "            \"uri\": g_n(o, \"Location\"),\n",
    "            # link to IfcClassification by id:\n",
    "            \"scheme_id\": obj_id(scheme) if scheme else None,\n",
    "        })\n",
    "\n",
    "    # cleanup:\n",
    "    for node_id, props in node.items():\n",
    "        for k, v in list(props.items()):\n",
    "            if v is None:\n",
    "                props[k] = \"MISSING\"\n",
    "\n",
    "    return node        "
   ]
  },
  {
   "cell_type": "code",
   "execution_count": 18,
   "id": "48f424a4-16b1-41fe-ac59-2d08931ae163",
   "metadata": {},
   "outputs": [],
   "source": [
    "def nodes_maker(all_objects):\n",
    "    \"\"\"\n",
    "    For a given model, creates a dictionary of nodes from a list of Ifc entities.\n",
    "    \"\"\"\n",
    "\n",
    "    nodes = {}\n",
    "\n",
    "    for o in all_objects:\n",
    "        nodes.update(node_set(o))\n",
    "\n",
    "    return nodes"
   ]
  },
  {
   "cell_type": "code",
   "execution_count": 19,
   "id": "0e6249a4-e77b-4a0d-8582-a1ccd4c0fbc8",
   "metadata": {},
   "outputs": [],
   "source": [
    "def flatten_dict(d, parent_key=\"\", sep=\"_\"):\n",
    "    \"\"\"\n",
    "    Recursively flatten a nested dictionary.\n",
    "    \"\"\"\n",
    "    items = {}\n",
    "    for k, v in d.items():\n",
    "        new_key = f\"{parent_key}{sep}{k}\" if parent_key else k\n",
    "        if isinstance(v, dict):\n",
    "            items.update(flatten_dict(v, new_key, sep=sep))\n",
    "        else:\n",
    "            items[new_key] = v\n",
    "    return items"
   ]
  },
  {
   "cell_type": "code",
   "execution_count": 20,
   "id": "b77a71de-ada7-45e0-86dd-210b6a3b7f77",
   "metadata": {},
   "outputs": [],
   "source": [
    "def nodes_flatten(nodes):\n",
    "    \"\"\"\n",
    "    Flatten nested dictionaries in node attributes for Neo4J comptability.\n",
    "    \"\"\"\n",
    "\n",
    "    def flatten_dict(d, parent_key=\"\", sep=\"::\"):\n",
    "        \"\"\"\n",
    "        Recursively flatten a nested dictionary.\n",
    "        \"\"\"\n",
    "        items = {}\n",
    "        for k, v in d.items():\n",
    "            new_key = f\"{parent_key}{sep}{k}\" if parent_key else k\n",
    "            if isinstance(v, dict):\n",
    "                items.update(flatten_dict(v, new_key, sep=sep))\n",
    "            else:\n",
    "                items[new_key] = v\n",
    "        return items\n",
    "\n",
    "    nodes_ready = dict()\n",
    "    \n",
    "    for node in nodes.values():\n",
    "        # preserve \"labels\"\n",
    "        base = {k: v for k, v in node.items() if k != \"labels\"}\n",
    "        flat = flatten_dict(base)\n",
    "        flat[\"labels\"] = node[\"labels\"]\n",
    "        nodes_ready[node[\"id\"]] = flat\n",
    "\n",
    "    return nodes_ready"
   ]
  },
  {
   "cell_type": "markdown",
   "id": "a1bc0d2a-195f-463a-a4e1-d52ecd3cdd03",
   "metadata": {},
   "source": [
    "## 3.4. Sanity Checks:  "
   ]
  },
  {
   "cell_type": "code",
   "execution_count": 21,
   "id": "6b79927c-6072-4f43-9bc6-67e285a9de49",
   "metadata": {},
   "outputs": [],
   "source": [
    "def elements_inspection(model, ifc_type=\"IfcProduct\"):\n",
    "    \"\"\"\n",
    "    Counts and lists IfcElements (excluding proxies in this case) grouped by class.\n",
    "    Returns:\n",
    "        - elements: list.\n",
    "        - classes_counter: Counter.\n",
    "    \"\"\"\n",
    "    \n",
    "    products = model.by_type(ifc_type)\n",
    "    elements = [p for p in products if (p.is_a(\"IfcElement\")) and not (p.is_a(\"IfcBuildingElementProxy\"))]\n",
    "    elements_classes = [el.is_a() for el in elements]\n",
    "    classes_counter = Counter(elements_classes)\n",
    "\n",
    "    print(f\"Total number of elements: {len(elements)}\")\n",
    "    for cl, count in classes_counter.items():\n",
    "        print(f\"{cl}: {count}.\")\n",
    "\n",
    "    return classes_counter"
   ]
  },
  {
   "cell_type": "code",
   "execution_count": 22,
   "id": "8eb8dcd8-acf4-4feb-9af9-e10441b43329",
   "metadata": {},
   "outputs": [],
   "source": [
    "def sanity(expected, actual, relating, related):\n",
    "    \"\"\"\n",
    "    Sanity checks:\n",
    "        - Proxies presence.\n",
    "        - Edge count.\n",
    "        - Relating entities count.\n",
    "        - Related entities count.\n",
    "        - Union nodes.\n",
    "    Returns:\n",
    "        bool: True if all checks pass, else False.\n",
    "    \"\"\"\n",
    "    passed = True\n",
    "\n",
    "    proxies = []\n",
    "    \n",
    "    for e in all_ents:\n",
    "        if \"Proxy\" in e.is_a():\n",
    "            proxies.append(e.id())\n",
    "\n",
    "    if len(proxies) == 0:\n",
    "        print(\"Proxy check passed, there is no Proxy entity.\")\n",
    "    else:\n",
    "        print(f\"ERROR: Presence of Proxy entities: {proxies}\")\n",
    "        passed = False \n",
    "            \n",
    "    if expected == actual:\n",
    "        print(f\"Edge count check passed: expected and actual are consistent ({actual}).\")\n",
    "    else:\n",
    "        print(f\"ERROR: edges count mismatch - expected {expected} but got {actual}.\")\n",
    "        passed = False\n",
    "        \n",
    "    if len(relating) == actual:\n",
    "        print(f\"Relating entities count check passed: {len(relating)} = number of edges ({actual}).\")\n",
    "    else:\n",
    "        print(f\"ERROR: relating entities count mismatch - edges {actual}, relating entities {len(relating)}.\")\n",
    "        passed = False\n",
    "        \n",
    "    if len(related) == actual:\n",
    "        print(f\"Related entities count check passed: {len(related)} = number of edges ({actual}).\")\n",
    "    else:\n",
    "        print(f\"ERROR: related entities count mismatch - edges {actual}, related entities {len(related)}.\")\n",
    "        passed = False\n",
    "\n",
    "    relating_set = set(relating)\n",
    "    related_set = set(related)\n",
    "    union_nodes = relating_set | related_set\n",
    "\n",
    "    if len(union_nodes) >= max(len(relating_set), len(related_set)):\n",
    "        print(f\"Unique node union check passed: |union|={len(union_nodes)}, |relating|={len(relating_set)}, |related|={len(related_set)}\")\n",
    "    else:\n",
    "        print(f\"ERROR: union size invalind - |union|={len(union_nodes)}, |relating|={len(relating_set)}, |related|={len(related_set)}\")\n",
    "\n",
    "    print(f\"The overall sanity check has been succesfully passed: {passed}.\")"
   ]
  },
  {
   "cell_type": "markdown",
   "id": "49306d21-094b-4eb0-9ef2-e1fda90ac885",
   "metadata": {},
   "source": [
    "## 3.5. Nodes insertion & Relationshsips/edges insertion:"
   ]
  },
  {
   "cell_type": "code",
   "execution_count": 23,
   "id": "ea418eb7-8da2-4bc9-9e96-9b032f5655d5",
   "metadata": {},
   "outputs": [],
   "source": [
    "def flatten_dict(dico, parent_key = \"\", sep=\"_\"):\n",
    "    \"\"\"Flatten a nested dictionary recursively.\"\"\"\n",
    "\n",
    "    flattened = dict()\n",
    "\n",
    "    for k, v in dico.items():\n",
    "        new_key = f\"{parent_key}{sep}{k}\" if parent_key else k\n",
    "        if isinstance(v, dict):\n",
    "            flattened.update(flatten_dict(v, new_key, sep=sep))\n",
    "        else:\n",
    "            flattened[new_key] = v\n",
    "\n",
    "    return flattened"
   ]
  },
  {
   "cell_type": "code",
   "execution_count": 67,
   "id": "c613075d-fce2-4b65-995a-b7b42d0fa7df",
   "metadata": {},
   "outputs": [],
   "source": [
    "def driver_merge(ents, entity=None):\n",
    "    \"\"\"\n",
    "    Merge nodes or edges into Neo4J from prepared dictionaries.\n",
    "    \"\"\"\n",
    "\n",
    "    with driver.session(database=DATABASE) as session:\n",
    "\n",
    "        if entity == \"node\":\n",
    "\n",
    "            for node in ents.values():\n",
    "                labels = \":\"+\":\".join(node[\"labels\"])\n",
    "                \n",
    "                # def _normalize(v):\n",
    "                #     \"\"\"\n",
    "                #     In Neo4J, attributes/properties cannot be null,\n",
    "                #     \"\"\"\n",
    "                #     return \"MISSING\" if v is None else v\n",
    "\n",
    "                attr = {k: v for k, v in node.items() if k not in (\"labels\", \"id\")}\n",
    "        \n",
    "                cypher_node = f\"\"\"\n",
    "                MERGE (n{labels}{{id: $id}})\n",
    "                SET n += $attr\n",
    "                \"\"\"\n",
    "        \n",
    "                session.run(cypher_node, {\"id\": node[\"id\"], \"attr\": attr}) \n",
    "\n",
    "        elif entity == \"edge\":\n",
    "\n",
    "            for edge in ents.values():\n",
    "                attr = {k: v for k, v in edge.items() if k not in (\"from\", \"to\", \"from_id\", \"to_id\", \"labels\", \"rel_id\")}\n",
    "        \n",
    "                cypher_edge = f\"\"\"\n",
    "                MATCH (a {{id: $from_id }}), (b {{id: $to_id}})\n",
    "                MERGE (a)-[r:{edge[\"labels\"]}{{rel_id: $rel_id}}]->(b)\n",
    "                SET r.from_id = $from_id,\n",
    "                    r.to_id = $to_id,\n",
    "                    r += $attr\n",
    "                REMOVE r.from, r.to \n",
    "                \"\"\"\n",
    "        \n",
    "                session.run(cypher_edge, {\n",
    "                    \"from_id\": edge[\"from_id\"],\n",
    "                    \"to_id\": edge[\"to_id\"],\n",
    "                    \"rel_id\": edge[\"rel_id\"],\n",
    "                    \"attr\": attr\n",
    "                        })  "
   ]
  },
  {
   "cell_type": "markdown",
   "id": "25cc3f39-46cb-42c1-840b-cfe106004113",
   "metadata": {},
   "source": [
    "## 3.6. Graph integrity:"
   ]
  },
  {
   "cell_type": "code",
   "execution_count": 87,
   "id": "ee4a29af-f5f8-4ba1-b4b4-3f62608bc0c9",
   "metadata": {},
   "outputs": [],
   "source": [
    "def graph_integrity(dict1, dict2, label_type=None):\n",
    "    \"\"\"\n",
    "    Compare two dictionaries for integrity.\n",
    "    Print whether they match and detail differences if not.\n",
    "    \"\"\"\n",
    "\n",
    "    passed = (dict1 == dict2)\n",
    "    diff = DeepDiff(dict1, dict2, significant_digits=6)\n",
    "\n",
    "    label = label_type.upper() if label_type else \"GRAPH\"\n",
    "    \n",
    "    if passed:\n",
    "        print(f\"{label} - the graph integrity is assured: {passed}\")\n",
    "    else:\n",
    "        print(f\"{label} - the graph integrity is assured: {passed}\")\n",
    "        print(\"Differences:\")\n",
    "        print(diff)\n",
    "\n",
    "    return passed, diff "
   ]
  },
  {
   "cell_type": "markdown",
   "id": "fe3f578c-c5a0-402e-8888-46d2a19962e6",
   "metadata": {},
   "source": [
    "# 4. Data load:"
   ]
  },
  {
   "cell_type": "code",
   "execution_count": 61,
   "id": "50286e9a-dbf7-421e-8908-156e8d8a129e",
   "metadata": {},
   "outputs": [],
   "source": [
    "model = ifcopenshell.open(IFC_PATH)"
   ]
  },
  {
   "cell_type": "code",
   "execution_count": 62,
   "id": "d94ac786-274b-4a84-b40a-33ad43a4bc1a",
   "metadata": {},
   "outputs": [],
   "source": [
    "driver = GraphDatabase.driver(NEO4J_URI, auth=(NEO4J_USER, NEO4J_PASSWORD))"
   ]
  },
  {
   "cell_type": "markdown",
   "id": "739dc056-c74f-4d66-8145-0d8c32637f3f",
   "metadata": {},
   "source": [
    "# 5. Proxy entities handling:"
   ]
  },
  {
   "cell_type": "markdown",
   "id": "77773f6e-ca0f-48a2-b165-c97f3010f06d",
   "metadata": {},
   "source": [
    "## Proxy Cleanup Strategy\n",
    "\n",
    "Proxy elements are removed at the start of the workflow to maintain a clean and semantically consistent graph.\n",
    "\n",
    "1. **Dropping proxies**  \n",
    "   In this dataset, proxies represent geolocation artifacts or placeholders. They provide no analytical value but increase noise and graph size.\n",
    "\n",
    "2. **Early removal**  \n",
    "   Performing the cleanup at the beginning simplifies the workflow by eliminating the need for repeated exclusions later and by preventing dangling references in subsequent steps.\n",
    "\n",
    "3. **Related relationships and dependent entities**  \n",
    "   Proxies are often connected through relationships (e.g., `IfcRelDefines*`, `IfcRelAssociates*`) and may reference entities that exist only through those links. Removing both the relationships and such dependent entities avoids the presence of isolated nodes.\n",
    "\n",
    "4. **Deletion order**  \n",
    "   - Relationships connected to proxies are deleted first to ensure a clean break.  \n",
    "   - Dependent isolated entities are removed next, as they then have degree zero.  \n",
    "   - Finally, the proxies themselves are removed.  \n",
    "\n",
    "This sequence ensures a compact, consistent model without dangling edges or orphaned entities."
   ]
  },
  {
   "cell_type": "code",
   "execution_count": 63,
   "id": "12d57a90-bc4e-4c86-aacf-cd7a21f45ae4",
   "metadata": {},
   "outputs": [
    {
     "name": "stdout",
     "output_type": "stream",
     "text": [
      "\n",
      "====PROXIES REMOVAL COUNTS:====\n",
      "\n",
      "relationships: 8\n",
      "isolated nodes: 3\n",
      "proxies: 5\n"
     ]
    }
   ],
   "source": [
    "model = proxies_drop(model)"
   ]
  },
  {
   "cell_type": "markdown",
   "id": "6ce5faaa-864b-4285-9e08-26ebe6e12848",
   "metadata": {},
   "source": [
    "# 6. IFC Parsing:"
   ]
  },
  {
   "cell_type": "markdown",
   "id": "6f278f33-fdb3-41fe-a9bf-313108a54101",
   "metadata": {},
   "source": [
    "The parsing process begins with the IfcRelationships, from which a dictionary of Edges is created to support Neo4j graph construction. Each edge captures the \"from\" and \"to\" attributes that define the connected IFC entities. Based on these connections, all distinct entities can be identified and represented in a dictionary of Nodes. Inverse relationships are not included, as Neo4j inherently supports bidirectional traversal of edges; storing them explicitly would only duplicate information and increase memory usage. Proxy entities are removed in this model, as they are not significant building elements but instead geolocation artifacts.   \n",
    "\n",
    "To ensure consistency, node identifiers are normalized (e.g. through unique obj_id values), and key metadata such as IFC class labels and relevant properties are attached to nodes and edges. This guarantees that the resulting graph remains both semantically clear and efficient for querying.  "
   ]
  },
  {
   "cell_type": "markdown",
   "id": "66a957a1-61ad-453d-b0f6-641dbd4e16d6",
   "metadata": {},
   "source": [
    "## 6.1. IfcRelationships - Edges Preparation:"
   ]
  },
  {
   "cell_type": "markdown",
   "id": "15f50d7a-7c39-43be-b87d-241a53741efa",
   "metadata": {},
   "source": [
    "### 6.1.1. Functions Building Guidance:"
   ]
  },
  {
   "cell_type": "markdown",
   "id": "fa786b20-0dd3-4112-a216-d9ec7bb168ef",
   "metadata": {},
   "source": [
    "**edges_maker:**"
   ]
  },
  {
   "cell_type": "code",
   "execution_count": 64,
   "id": "80cd2090-4d6a-4b2c-adfa-7631ec57398c",
   "metadata": {},
   "outputs": [
    {
     "name": "stdout",
     "output_type": "stream",
     "text": [
      "Identified relationship classes:\n",
      "- IfcRelContainedInSpatialStructure.\n",
      "- IfcRelDefinesByType.\n",
      "- IfcRelDefinesByProperties.\n",
      "- IfcRelAggregates.\n",
      "- IfcRelAssociatesMaterial.\n",
      "- IfcRelAssociatesClassification.\n"
     ]
    },
    {
     "data": {
      "text/plain": [
       "{'IfcRelAggregates',\n",
       " 'IfcRelAssociatesClassification',\n",
       " 'IfcRelAssociatesMaterial',\n",
       " 'IfcRelContainedInSpatialStructure',\n",
       " 'IfcRelDefinesByProperties',\n",
       " 'IfcRelDefinesByType'}"
      ]
     },
     "execution_count": 64,
     "metadata": {},
     "output_type": "execute_result"
    }
   ],
   "source": [
    "identify_rel(model)"
   ]
  },
  {
   "cell_type": "markdown",
   "id": "605ffa18-653d-4eac-b3e8-bb620632d40e",
   "metadata": {},
   "source": [
    "### 6.1.2. Edges Dictionary:"
   ]
  },
  {
   "cell_type": "code",
   "execution_count": 65,
   "id": "786ae565-6fd8-4964-b279-5fdace1ea22b",
   "metadata": {},
   "outputs": [],
   "source": [
    "expected, actual, edges = edges_maker(model)"
   ]
  },
  {
   "cell_type": "markdown",
   "id": "7d283d2b-644f-455d-9a7b-1fcf7568e27f",
   "metadata": {},
   "source": [
    "## 6.2. IfcEntities - Nodes Preparation:"
   ]
  },
  {
   "cell_type": "markdown",
   "id": "17b70331-f847-4b72-9b5e-ee0c1d354e1a",
   "metadata": {},
   "source": [
    "### 6.2.1. Collect IfcEntities:"
   ]
  },
  {
   "cell_type": "code",
   "execution_count": 32,
   "id": "a4067ba6-111d-4b30-94dc-0905ef4a10d3",
   "metadata": {},
   "outputs": [],
   "source": [
    "relating_ents = get_entities_from_edges(model, edges, \"from_id\")"
   ]
  },
  {
   "cell_type": "code",
   "execution_count": 33,
   "id": "2d36a7b9-64a4-4145-8b6f-ff5e8e141e78",
   "metadata": {},
   "outputs": [],
   "source": [
    "related_ents = get_entities_from_edges(model, edges, \"to_id\")"
   ]
  },
  {
   "cell_type": "code",
   "execution_count": 34,
   "id": "fa90c2c7-baa7-4a8c-b392-6bf42a2b337b",
   "metadata": {},
   "outputs": [],
   "source": [
    "all_ents = merge_unique(relating_ents, related_ents)"
   ]
  },
  {
   "cell_type": "markdown",
   "id": "a3de85f1-6002-4d62-9ab4-d4692d745bf6",
   "metadata": {},
   "source": [
    "### 6.2.2. Functions Building Guidance:"
   ]
  },
  {
   "cell_type": "markdown",
   "id": "a8704e3a-b31d-496d-b861-d64d46f0adc1",
   "metadata": {},
   "source": [
    "**node_set:**"
   ]
  },
  {
   "cell_type": "code",
   "execution_count": 36,
   "id": "ed47825a-16e3-43c1-84a7-826aae2557b0",
   "metadata": {},
   "outputs": [
    {
     "data": {
      "text/plain": [
       "{'IfcBuilding',\n",
       " 'IfcBuildingStorey',\n",
       " 'IfcClassificationReference',\n",
       " 'IfcElement',\n",
       " 'IfcElementQuantity',\n",
       " 'IfcMaterial',\n",
       " 'IfcProject',\n",
       " 'IfcPropertySet',\n",
       " 'IfcSite',\n",
       " 'IfcTypeObject'}"
      ]
     },
     "execution_count": 36,
     "metadata": {},
     "output_type": "execute_result"
    }
   ],
   "source": [
    "entities_classes_identify(all_ents)"
   ]
  },
  {
   "cell_type": "markdown",
   "id": "64005188-bda1-4b50-8581-24496ed8b415",
   "metadata": {},
   "source": [
    "**pset_props_collect & qset_props_collect:**"
   ]
  },
  {
   "cell_type": "code",
   "execution_count": 37,
   "id": "d404503a-a17e-4c8f-9c9a-48453b497c68",
   "metadata": {},
   "outputs": [
    {
     "data": {
      "text/plain": [
       "{'IfcPropertySet': {'ConstructionMethod': {'property_type': 'IfcPropertySingleValue'},\n",
       "  'Status': {'property_type': 'IfcPropertyEnumeratedValue'},\n",
       "  'IsExternal': {'property_type': 'IfcPropertySingleValue'},\n",
       "  'LoadBearing': {'property_type': 'IfcPropertySingleValue'}},\n",
       " 'IfcElementQuantity': {'NetVolume': {'property_type': 'IfcQuantityVolume'},\n",
       "  'Width': {'property_type': 'IfcQuantityLength'},\n",
       "  'Length': {'property_type': 'IfcQuantityLength'},\n",
       "  'NetSideArea': {'property_type': 'IfcQuantityArea'},\n",
       "  'CrossSectionArea': {'property_type': 'IfcQuantityArea'}}}"
      ]
     },
     "execution_count": 37,
     "metadata": {},
     "output_type": "execute_result"
    }
   ],
   "source": [
    "props = props_identify(all_ents)\n",
    "props"
   ]
  },
  {
   "cell_type": "markdown",
   "id": "d93b81bf-4f42-49c4-8d45-1e2523c9fdec",
   "metadata": {},
   "source": [
    "### 6.2.3. Nodes dictionary:"
   ]
  },
  {
   "cell_type": "code",
   "execution_count": 38,
   "id": "ea193e91-1539-435f-8873-70a3cba0da7a",
   "metadata": {},
   "outputs": [],
   "source": [
    "nodes = nodes_maker(all_ents)"
   ]
  },
  {
   "cell_type": "markdown",
   "id": "45d9ab34-2bed-4e74-9f2e-54a1bb907087",
   "metadata": {},
   "source": [
    "### 6.2.4. Nodes dictionary flattening:"
   ]
  },
  {
   "cell_type": "markdown",
   "id": "783a1bc4-65a5-483f-829c-185843b820cf",
   "metadata": {},
   "source": [
    "### Flattening the Nodes Dictionary\n",
    "\n",
    "Neo4j node properties must be stored as **primitive types** (strings, numbers, booleans, lists).  \n",
    "Nested dictionaries or maps are **not supported** as property values.  \n",
    "\n",
    "The IFC parsing stage produces a `nodes` dictionary where attributes such as property sets or quantities may be stored as nested structures. To make these compatible with Neo4j:\n",
    "\n",
    "- Each nested dictionary is **flattened** into key–value pairs (e.g., `{\"Pset_WallCommon\": {\"FireRating\": \"2h\"}}` becomes `{\"Pset_WallCommon_FireRating\": \"2h\"}`).\n",
    "- The `\"labels\"` field is preserved separately to define the node categories in Neo4j.\n",
    "\n",
    "This flattening step ensures that all node attributes can be safely inserted as Neo4j properties without loss of information or structural conflicts."
   ]
  },
  {
   "cell_type": "code",
   "execution_count": 39,
   "id": "164c89fe-3df9-443e-bb90-227ba16227dc",
   "metadata": {},
   "outputs": [],
   "source": [
    "nodes = nodes_flatten(nodes)"
   ]
  },
  {
   "cell_type": "markdown",
   "id": "17e5b461-1b45-4b48-88b1-433bf9a24d9d",
   "metadata": {},
   "source": [
    "## 6.3. Sanity Checks:"
   ]
  },
  {
   "cell_type": "code",
   "execution_count": 40,
   "id": "12cd67ff-dd30-4ba8-b2a4-08c58677f6c5",
   "metadata": {},
   "outputs": [
    {
     "name": "stdout",
     "output_type": "stream",
     "text": [
      "Total number of elements: 15\n",
      "IfcBeam: 6.\n",
      "IfcChimney: 1.\n",
      "IfcFooting: 1.\n",
      "IfcRoof: 1.\n",
      "IfcWall: 4.\n",
      "IfcDiscreteAccessory: 2.\n"
     ]
    }
   ],
   "source": [
    "elements_distribution = elements_inspection(model)\n",
    "# elements_distribution"
   ]
  },
  {
   "cell_type": "code",
   "execution_count": 41,
   "id": "e95a140a-ba1a-4363-8585-491039d503f6",
   "metadata": {},
   "outputs": [
    {
     "name": "stdout",
     "output_type": "stream",
     "text": [
      "Proxy check passed, there is no Proxy entity.\n",
      "Edge count check passed: expected and actual are consistent (65).\n",
      "Relating entities count check passed: 65 = number of edges (65).\n",
      "Related entities count check passed: 65 = number of edges (65).\n",
      "Unique node union check passed: |union|=56, |relating|=41, |related|=19\n",
      "The overall sanity check has been succesfully passed: True.\n"
     ]
    }
   ],
   "source": [
    "sanity(expected, actual, relating_ents, related_ents)"
   ]
  },
  {
   "cell_type": "markdown",
   "id": "17c12f93-b616-402a-a0db-5a4ecf34a2a0",
   "metadata": {},
   "source": [
    "# 7. Neo4J graph:"
   ]
  },
  {
   "cell_type": "markdown",
   "id": "c739f469-26bc-418e-8622-1930572a07a6",
   "metadata": {},
   "source": [
    "## 7.1. Graph creation:"
   ]
  },
  {
   "cell_type": "markdown",
   "id": "12220158-4f87-4d8a-911f-280a65044357",
   "metadata": {},
   "source": [
    "To set up the Neo4j graph, both the **\"nodes\"** dictionary and the **\"edges\"** dictionary generated during the IFC parsing stage will serve as the input. These dictionaries represent the essential building blocks of the graph:  \n",
    "- the **\"nodes\"** (with their labels, categories, types, attributes and properties/quantities)  \n",
    "- the **\"edges\"** (with their relationship categories and endpoints)\n",
    "\n",
    "They will be passed into Neo4j through the **Neo4j Python driver**, which manages the connection and Cypher queries used to create the graph."
   ]
  },
  {
   "cell_type": "markdown",
   "id": "1810e53a-94aa-46b4-bb36-11d21954bcdc",
   "metadata": {},
   "source": [
    "### 7.1.1. Nodes insertion:"
   ]
  },
  {
   "cell_type": "code",
   "execution_count": 75,
   "id": "1eea165b-527d-428f-8762-535840adb193",
   "metadata": {},
   "outputs": [],
   "source": [
    "driver_merge(nodes, \"node\")"
   ]
  },
  {
   "cell_type": "markdown",
   "id": "7050ba0d-3ddf-40af-9204-61083b477f17",
   "metadata": {},
   "source": [
    "### 7.1.2. Relationships/edges insertion:"
   ]
  },
  {
   "cell_type": "code",
   "execution_count": 76,
   "id": "f164f6d3-2069-4921-9d1f-5ae0fb9bf3b2",
   "metadata": {},
   "outputs": [],
   "source": [
    "driver_merge(edges, \"edge\")"
   ]
  },
  {
   "cell_type": "markdown",
   "id": "55424773-ec19-409d-9403-b02d4b5e1c82",
   "metadata": {},
   "source": [
    "## 7.2. Graph integrity:"
   ]
  },
  {
   "cell_type": "markdown",
   "id": "d8065ca8-d1ae-4055-adcd-fcdd69b10de2",
   "metadata": {},
   "source": [
    "### 7.2.1. Nodes integrity:"
   ]
  },
  {
   "cell_type": "code",
   "execution_count": 45,
   "id": "8cbb4ca2-a57e-4343-b23e-b7cc2e134b47",
   "metadata": {},
   "outputs": [],
   "source": [
    "with driver.session(database=DATABASE) as session:\n",
    "    \n",
    "    results = session.run(\n",
    "        \"\"\"\n",
    "        MATCH (n)\n",
    "        WHERE n.id IS NOT NULL\n",
    "        RETURN n.id AS id, keys(n) AS prop_keys, labels(n) AS labs, n AS node\n",
    "        \"\"\")\n",
    "    \n",
    "    nodes_dict = {}\n",
    "    \n",
    "    for r in results:\n",
    "        nid = r[\"id\"]\n",
    "        labs = r[\"labs\"]\n",
    "        node = r[\"node\"]   \n",
    "        m = {k: node[k] for k in r[\"prop_keys\"]}\n",
    "        m[\"labels\"] = labs\n",
    "        nodes_dict[nid] = m"
   ]
  },
  {
   "cell_type": "code",
   "execution_count": 88,
   "id": "aad2ccb0-d5ed-4c7b-b218-9ec83b7a018b",
   "metadata": {},
   "outputs": [
    {
     "name": "stdout",
     "output_type": "stream",
     "text": [
      "NODES - the graph integrity is assured: True\n"
     ]
    },
    {
     "data": {
      "text/plain": [
       "(True, {})"
      ]
     },
     "execution_count": 88,
     "metadata": {},
     "output_type": "execute_result"
    }
   ],
   "source": [
    "graph_integrity(nodes, nodes_dict, label_type=\"nodes\")"
   ]
  },
  {
   "cell_type": "markdown",
   "id": "751d84df-5974-4532-a9b4-69f069c983ed",
   "metadata": {},
   "source": [
    "### 7.2.2. Edges integrity:"
   ]
  },
  {
   "cell_type": "code",
   "execution_count": 82,
   "id": "beb2f755-6638-4e3c-84e8-5c33895085b8",
   "metadata": {},
   "outputs": [],
   "source": [
    "with driver.session(database=DATABASE) as session:\n",
    "\n",
    "    results = session.run(\n",
    "        \"\"\"\n",
    "        MATCH (a)-[r]->(b)\n",
    "        RETURN r as rel, keys(r) AS prop_keys, type(r) AS rel_type,\n",
    "            a.id AS from_id, b.id AS to_id\n",
    "        \"\"\"\n",
    "    )\n",
    "\n",
    "    edges_dict = {}\n",
    "\n",
    "    for r in results:\n",
    "        rel = r[\"rel\"]\n",
    "        prop_keys = [k for k in r[\"prop_keys\"] if k not in (\"from\", \"to\")]\n",
    "        frm, to = r[\"from_id\"], r[\"to_id\"]\n",
    "        rel_id = rel.get(\"rel_id\")\n",
    "        edge_id = rel.get(\"id\") or f\"{rel_id}:{frm}->{to}\"\n",
    "\n",
    "        m = {k: rel[k] for k in prop_keys}\n",
    "        m.update({\n",
    "            \"labels\": r[\"rel_type\"],\n",
    "            \"from_id\": frm,\n",
    "            \"to_id\": to,\n",
    "            \"id\": edge_id\n",
    "        })\n",
    "\n",
    "        edges_dict[edge_id] = m \n",
    "    "
   ]
  },
  {
   "cell_type": "code",
   "execution_count": 85,
   "id": "f114a9fa-3df5-415b-83c7-954cd83466dc",
   "metadata": {},
   "outputs": [
    {
     "name": "stdout",
     "output_type": "stream",
     "text": [
      "EDGES - the graph integrity is assured: True\n"
     ]
    },
    {
     "data": {
      "text/plain": [
       "(True, {})"
      ]
     },
     "execution_count": 85,
     "metadata": {},
     "output_type": "execute_result"
    }
   ],
   "source": [
    "graph_integrity(edges, edges_dict, label_type=\"edges\")"
   ]
  },
  {
   "cell_type": "markdown",
   "id": "57ea0579-4f4e-4280-b062-af6451d34696",
   "metadata": {},
   "source": [
    "## 7.3. Exploration & visualization:"
   ]
  },
  {
   "cell_type": "markdown",
   "id": "c6a986c8-abd5-437d-8ad3-08d08871ae60",
   "metadata": {},
   "source": [
    "### Note on Graph Visualization\n",
    "\n",
    "The graph visualizations displayed inside this Notebook are **purely indicative**.  \n",
    "They provide a quick way to confirm that nodes and relationships are being created,  \n",
    "but they are not optimized for exploring complex IFC graphs.  \n",
    "\n",
    "For richer, more interactive, and visually accurate exploration,  \n",
    "it is recommended to use **Neo4j Bloom** within the Neo4j Desktop application.  \n",
    "Bloom provides advanced filtering, querying, and visualization tools  \n",
    "that make it easier to navigate and analyze large BIM/IFC graphs.  "
   ]
  },
  {
   "cell_type": "markdown",
   "id": "3b3de244-9ebd-4516-aa56-57d93aa98074",
   "metadata": {},
   "source": [
    "**Important:** The visualization cells in this notebook rely on `ipywidgets` (e.g., `Neo4jGraphWidget`). On classic **Jupyter Notebook 7**, widget rendering is unreliable, so the canvas may appear empty. Please open this notebook in **JupyterLab** to ensure the graph renders."
   ]
  },
  {
   "cell_type": "code",
   "execution_count": 56,
   "id": "1eec80c8-09a4-4ca8-9b3f-503c63270236",
   "metadata": {},
   "outputs": [
    {
     "data": {
      "application/vnd.jupyter.widget-view+json": {
       "model_id": "e2e4edf5c60b457a91994f0f2e4e265c",
       "version_major": 2,
       "version_minor": 0
      },
      "text/plain": [
       "GraphWidget(layout=Layout(height='800px', width='100%'))"
      ]
     },
     "metadata": {},
     "output_type": "display_data"
    }
   ],
   "source": [
    "widget = Neo4jGraphWidget(driver)\n",
    "\n",
    "with driver.session(database=DATABASE) as session:\n",
    "\n",
    "    widget._session = session                      # point widget to session\n",
    "    widget.show_cypher(\n",
    "        \"\"\"\n",
    "        MATCH (n)-[r]->(m) \n",
    "        RETURN n, r, m\n",
    "        \"\"\"\n",
    "    )"
   ]
  },
  {
   "cell_type": "markdown",
   "id": "5cca96b9-91d8-4cb3-b878-8e6a422928fb",
   "metadata": {},
   "source": [
    "## 7.4. Graph summary:"
   ]
  },
  {
   "cell_type": "markdown",
   "id": "c36b26a8-0559-4be1-8563-637c2efdefea",
   "metadata": {},
   "source": [
    "## SECTION TO BE REVISITED IN LINK WITH THE REPORTING AND EVALUATION MODULES FOR CLEARER REQUIREMENTS."
   ]
  },
  {
   "cell_type": "code",
   "execution_count": 90,
   "id": "16663658-f7e9-4301-8f9d-7d6931008dbd",
   "metadata": {},
   "outputs": [],
   "source": [
    "# with driver.session(database=DATABASE) as s:\n",
    "#     sections = [\"GRAPH COUNTS\", \"TOKENS\", \"META\"]\n",
    "#     stats = {\n",
    "#         sec: s.run(\"CALL db.stats.retrieve($sec) YIELD data RETURN data\", sec=sec).single()[\"data\"]\n",
    "#         for sec in sections\n",
    "#     }\n",
    "# stats_clean = json.loads(json.dumps(stats, default=str))\n",
    "# display(JSON(stats_clean))"
   ]
  },
  {
   "cell_type": "code",
   "execution_count": 91,
   "id": "a0a9854c-080f-4995-bb5a-5f3581de359c",
   "metadata": {},
   "outputs": [],
   "source": [
    "# with driver.session(database=\"capstone\") as s:\n",
    "#     summary = s.run(\"\"\"\n",
    "#         CALL apoc.meta.stats()\n",
    "#         YIELD nodeCount, relCount, labels, relTypes, propertyKeyCount\n",
    "#         RETURN nodeCount, relCount, labels, relTypes, propertyKeyCount\n",
    "#     \"\"\").single()"
   ]
  },
  {
   "cell_type": "code",
   "execution_count": 92,
   "id": "6420565e-6fba-4823-bf72-22d76a485444",
   "metadata": {},
   "outputs": [],
   "source": [
    "# summary"
   ]
  },
  {
   "cell_type": "code",
   "execution_count": 60,
   "id": "3c4af5e2-a00d-420a-843c-1207b0ff04d8",
   "metadata": {},
   "outputs": [],
   "source": [
    "driver.close()"
   ]
  },
  {
   "cell_type": "code",
   "execution_count": null,
   "id": "28126079-3b16-4a9f-8109-9cbca7aa04c5",
   "metadata": {},
   "outputs": [],
   "source": []
  }
 ],
 "metadata": {
  "kernelspec": {
   "display_name": "Python (capstone_env)",
   "language": "python",
   "name": "capstone_env"
  },
  "language_info": {
   "codemirror_mode": {
    "name": "ipython",
    "version": 3
   },
   "file_extension": ".py",
   "mimetype": "text/x-python",
   "name": "python",
   "nbconvert_exporter": "python",
   "pygments_lexer": "ipython3",
   "version": "3.11.13"
  }
 },
 "nbformat": 4,
 "nbformat_minor": 5
}

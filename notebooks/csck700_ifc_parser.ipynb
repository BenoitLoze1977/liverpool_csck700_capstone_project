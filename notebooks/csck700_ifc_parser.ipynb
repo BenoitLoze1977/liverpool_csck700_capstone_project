{
 "cells": [
  {
   "cell_type": "markdown",
   "id": "9fc2e2b4-33ed-45d7-af4b-964dae4971a1",
   "metadata": {},
   "source": [
    "# Title: csck700_ifc_parser"
   ]
  },
  {
   "cell_type": "markdown",
   "id": "97740413-1bd3-4438-afeb-4f2abf7760cf",
   "metadata": {},
   "source": [
    "### The module parses an IFC model to extract the IFcElements, their properties and relationships and loads them to nodes and edges into Neo4J."
   ]
  },
  {
   "cell_type": "markdown",
   "id": "7344a75e-b155-48d8-a350-db5f42b002a0",
   "metadata": {},
   "source": [
    "# 0. Table of content:"
   ]
  },
  {
   "cell_type": "markdown",
   "id": "904105a4-1938-4749-a674-dbaf1b90425b",
   "metadata": {},
   "source": [
    "- [1. Settings:](#1.-Settings:)  \n",
    "- [2. Imports:](#2.-Imports:)  \n",
    "- [3. Helper functions:](#3.-Helper-functions:)  \n",
    "    - [3.1. Proxy entities handling:](#3.1.-Proxy-entities-handling:)  \n",
    "    - [3.2. IfcRelationships - Edges:](#3.2.-IfcRelationships---Edges:)  \n",
    "    - [3.3. IfcEntities - Nodes:](#3.3.-IfcEntities---Nodes:)  \n",
    "    - [3.4. Sanity Checks:](#3.3.-Sanity-Checks:)\n",
    "    - [3.5. Graph schema definition:](#3.5.-Graph-schema-definition:)  \n",
    "    - [3.6. Nodes insertion & Relationshsips/edges insertion:](#3.6.-Nodes-insertion-&-Relationshsips/edges-insertion:)\n",
    "    - [3.7. Graph integrity:](#3.7.-Graph-integrity:)\n",
    "- [4. Data load:](#4.-Data-load:)\n",
    "- [5. Proxy entities handling:](#5.-Proxy-entities-handling:)  \n",
    "- [6. IFC Parsing:](#5.-IFC-Parsing:)  \n",
    "    - [6.1. IfcRelationships - Edges Preparation:](#6.1.-IfcRelationships---Edges-Preparation:)  \n",
    "    - [6.2. IfcEntities - Nodes Preparation:](#6.2.-IfcEntities---Nodes-Preparation:)  \n",
    "    - [6.3. Sanity Checks:](#6.3.-Sanity-Checks:)  \n",
    "- [7. Neo4J graph:](#7.-Neo4J-graph:)\n",
    "    - [7.1. Graph schema definition:](#7.1.-Graph-schema-definition:)\n",
    "    - [7.2. Graph creation:](#7.2.-Graph-creation:)  \n",
    "    - [7.3. Graph integrity:](#7.3.-Graph-integrity:)  "
   ]
  },
  {
   "cell_type": "markdown",
   "id": "62008d32-c40c-472b-a1cb-d4a975892ffd",
   "metadata": {},
   "source": [
    "# 1. Settings:"
   ]
  },
  {
   "cell_type": "code",
   "execution_count": 1,
   "id": "27b591f4-2277-45a7-8c04-ea87b8fb0a07",
   "metadata": {},
   "outputs": [],
   "source": [
    "IFC_PATH = r\"..\\data\\raw\\Building-Structural.ifc\"\n",
    "\n",
    "NEO4J_URI = \"bolt://localhost:7687\"\n",
    "NEO4J_USER = \"neo4j\"\n",
    "NEO4J_PASSWORD = \"TitineTiteFiro@1952\"\n",
    "DATABASE = \"capstone\""
   ]
  },
  {
   "cell_type": "code",
   "execution_count": 2,
   "id": "2d693dc5-6e28-4bd9-9fc4-cd504cd45307",
   "metadata": {},
   "outputs": [],
   "source": [
    "REL_MAP ={\n",
    "    \"IfcRelDefinesByProperties\": (\"RelatingPropertyDefinition\", \"RelatedObjects\", None),\n",
    "    \"IfcRelDefinesByType\": (\"RelatingType\", \"RelatedObjects\", \"DEFINED_BY_TYPE\"),\n",
    "    \"IfcRelAssociatesMaterial\": (\"RelatingMaterial\", \"RelatedObjects\", \"ASSOCIATED_MATERIAL\"),\n",
    "    \"IfcRelContainedInSpatialStructure\": (\"RelatingStructure\", \"RelatedElements\", \"CONTAINED_IN\"),\n",
    "    \"IfcRelAggregates\": (\"RelatingObject\", \"RelatedObjects\", \"AGGREGATES\"),\n",
    "    \"IfcRelAssociatesClassification\": (\"RelatingClassification\", \"RelatedObjects\", \"ASSOCIATED_CLASSIFICATION\")\n",
    "} "
   ]
  },
  {
   "cell_type": "markdown",
   "id": "a35a9c22-6640-4d92-a41e-05df562afeb9",
   "metadata": {},
   "source": [
    "# 2. Imports:"
   ]
  },
  {
   "cell_type": "code",
   "execution_count": 3,
   "id": "ea7c2f06-2f88-4f66-afa6-8793e5f7d349",
   "metadata": {},
   "outputs": [],
   "source": [
    "import ifcopenshell\n",
    "import ifcopenshell.util.element as util\n",
    "from neo4j import GraphDatabase\n",
    "from collections import Counter, defaultdict\n",
    "# from ifcopenshell.api import run"
   ]
  },
  {
   "cell_type": "markdown",
   "id": "6c2bef45-a675-4ddf-b80e-f977cf088940",
   "metadata": {},
   "source": [
    "# 3. Helper functions:"
   ]
  },
  {
   "cell_type": "markdown",
   "id": "05aae793-5611-4f0a-bfd6-d1dd34035034",
   "metadata": {},
   "source": [
    "## 3.1. Proxy entities handling:"
   ]
  },
  {
   "cell_type": "code",
   "execution_count": 4,
   "id": "81bcf367-3648-4878-a7a1-e677528ad84e",
   "metadata": {},
   "outputs": [],
   "source": [
    "def proxies_analysis(model):\n",
    "    \"\"\"\n",
    "    Identify proxy elements, their related relationships, and dependent entities\n",
    "    that only exist through those relationships.\n",
    "    \"\"\"\n",
    "\n",
    "    # proxies identification:\n",
    "    proxies = {ent for ent in model if \"Proxy\" in ent.is_a()}\n",
    "\n",
    "    # relationships involved in proxies:\n",
    "    proxies_rels = {\n",
    "        r\n",
    "        for p in proxies\n",
    "        for r in model.get_inverse(p)\n",
    "        if hasattr(r, \"is_a\") and r.is_a(\"IfcRelationship\")\n",
    "    }\n",
    "\n",
    "    # other-side entities, non-proxy, non-relationship:\n",
    "    others = {\n",
    "        e \n",
    "        for r in proxies_rels\n",
    "        for v in r.get_info().values()\n",
    "        for e in (v if isinstance(v, (list, tuple, set)) else [v])\n",
    "        if hasattr(e, \"is_a\") and not e.is_a(\"IfcRelationship\") and e not in proxies\n",
    "    }\n",
    "\n",
    "    # isolated: no other relationship beyond proxy_rels:\n",
    "    isolated = {\n",
    "        o for o in others\n",
    "        if not any(r for r in model.get_inverse(o)\n",
    "                  if hasattr(r, \"is_a\") and r.is_a(\"IfcRelationship\") and r not in proxies_rels)\n",
    "    }\n",
    "\n",
    "    return proxies, proxies_rels, isolated"
   ]
  },
  {
   "cell_type": "code",
   "execution_count": 5,
   "id": "e725e7dd-5ff2-4f1d-be25-90d706079938",
   "metadata": {},
   "outputs": [],
   "source": [
    "def proxies_drop(model):\n",
    "    \"\"\"\n",
    "    Remove proxy elements, their associated relationships, and dependent isolated entities\n",
    "    from the IFC model to produce a cleaned version.\n",
    "    \"\"\"\n",
    "\n",
    "    proxies, proxies_rels, isolated = proxies_analysis(model)\n",
    "\n",
    "    # remove relationships that touch proxies:\n",
    "    for r in proxies_rels:\n",
    "        # run(\"entity.remove\", model, entity=r)\n",
    "        model.remove(r)\n",
    "\n",
    "    # remove ensuing isolated nodes:\n",
    "    for i in isolated:\n",
    "        # # run(\"entity.remove\", model, entity=i)\n",
    "        try:\n",
    "            model.remove(e)\n",
    "        except Exception:\n",
    "            pass\n",
    "\n",
    "    # remove proxies:\n",
    "    for p in proxies:\n",
    "        # run(\"entity.remove\", model, entity=p)\n",
    "        try:\n",
    "            model.remove(p)\n",
    "        except Exception:\n",
    "            pass\n",
    "\n",
    "    print(\"\\n====PROXIES REMOVAL COUNTS:====\\n\")\n",
    "    print(f\"relationships: {len(proxies_rels)}\")\n",
    "    print(f\"isolated nodes: {len(isolated)}\")\n",
    "    print(f\"proxies: {len(proxies)}\") \n",
    "\n",
    "    return model"
   ]
  },
  {
   "cell_type": "markdown",
   "id": "78d3829a-e361-4f1e-b269-0bd0b783d942",
   "metadata": {},
   "source": [
    "## 3.2. IfcRelationships - Edges:"
   ]
  },
  {
   "cell_type": "code",
   "execution_count": 6,
   "id": "781fbab0-84bd-41ca-b3c5-a9f0492707a5",
   "metadata": {},
   "outputs": [],
   "source": [
    "def identify_rel(model):\n",
    "    \"\"\"\n",
    "    Identify all distinct IfcRelationship classes present in the model.\n",
    "    \"\"\"\n",
    "\n",
    "    rel_classes = set()\n",
    "\n",
    "    rels = model.by_type(\"IfcRelationship\")\n",
    "\n",
    "    for rel in rels:\n",
    "        rel_classes.add(rel.is_a())\n",
    "\n",
    "    print(\"Identified relationship classes:\")  \n",
    "    for r in rel_classes:\n",
    "        print(f\"- {r}.\")\n",
    "        \n",
    "    return rel_classes"
   ]
  },
  {
   "cell_type": "code",
   "execution_count": 7,
   "id": "698d3c83-a658-4565-ae5a-6b90632cde98",
   "metadata": {},
   "outputs": [],
   "source": [
    "def obj_id(o):\n",
    "    \"\"\"\n",
    "    Returns the GUID of the given object, if present, else synthetic ClassName:step_id.\n",
    "\n",
    "    Non-IfcRoot entities (e.g. IfcMaterial, IfcClassificationReference)\n",
    "    do not have a GlobalId, so the fallback ensures uniqueness.\n",
    "    \"\"\"\n",
    "    return getattr(o, \"GlobalId\", f\"{o.is_a()}:{o.id()}\")"
   ]
  },
  {
   "cell_type": "code",
   "execution_count": 8,
   "id": "9db862f9-e5bf-47ba-8140-2500e4496500",
   "metadata": {},
   "outputs": [],
   "source": [
    "def as_list(v):\n",
    "    \"\"\"\n",
    "    Ensures the value is returned as a list.\n",
    "    \"\"\"\n",
    "    if v is None:\n",
    "        return []\n",
    "    return v if isinstance(v, (list, tuple)) else [v]"
   ]
  },
  {
   "cell_type": "code",
   "execution_count": 9,
   "id": "c2d8b711-29e8-4bed-8b3e-a3333305c08a",
   "metadata": {},
   "outputs": [],
   "source": [
    "def edges_maker(model, rel_map=REL_MAP, pset_qto=True):\n",
    "    \"\"\"\n",
    "    For a given model, creates a dictionary of edges (IfcRelationships exploded into from -> to pairs.\n",
    "    Returns:\n",
    "        - edges: a dictionary of edges with keys:\n",
    "            - id, labels, rel_class, rel_id, from, to.\n",
    "    \"\"\"\n",
    "\n",
    "    edges = dict()\n",
    "    pairs = set()\n",
    "\n",
    "    for rel_class, (relating_attr, related_attr, label) in rel_map.items():\n",
    "        for rel in model.by_type(rel_class):\n",
    "            relating = getattr(rel, relating_attr, None)\n",
    "            related = getattr(rel, related_attr, None)\n",
    "            if relating is None:\n",
    "                continue\n",
    "            \n",
    "            # distinction property set vs quantity set:\n",
    "            if rel_class == \"IfcRelDefinesByProperties\":\n",
    "                if pset_qto and relating.is_a(\"IfcElementQuantity\"):\n",
    "                    edge_label = \"DEFINED_BY_QUANTITIES\"\n",
    "                else:\n",
    "                    edge_label = \"DEFINED_BY_PROPERTIES\"\n",
    "            else:\n",
    "                edge_label = label\n",
    "\n",
    "            frm = obj_id(relating)\n",
    "            rel_gid = obj_id(rel)\n",
    "\n",
    "            # one-to-many relationships:\n",
    "            for r in as_list(related):\n",
    "                if r is None:\n",
    "                    continue\n",
    "                to  = obj_id(r)\n",
    "                \n",
    "                # sanity check:\n",
    "                pairs.add((rel_gid, frm, to))\n",
    "                \n",
    "                edge_id = f\"{rel_gid}:{frm}->{to}\"\n",
    "                edges[edge_id]={\n",
    "                    \"id\": edge_id,\n",
    "                    \"labels\": edge_label,\n",
    "                    \"rel_class\": rel_class,\n",
    "                    \"rel_id\": rel_gid,\n",
    "                    \"from\": frm,\n",
    "                    \"to\": to\n",
    "                }\n",
    "\n",
    "    expected = len(pairs)\n",
    "    actual = len(edges)\n",
    "    \n",
    "    # print(f\"Expected number of edges: {expected}.\")\n",
    "    # print(f\"Number of edges: {actual}.\")\n",
    "    \n",
    "    return expected, actual, edges"
   ]
  },
  {
   "cell_type": "markdown",
   "id": "7d981202-d014-40b7-be43-da4b8b2d2198",
   "metadata": {},
   "source": [
    "## 3.3. IfcEntities - Nodes:"
   ]
  },
  {
   "cell_type": "code",
   "execution_count": 10,
   "id": "42667233-2fff-46a6-b2b2-5d3d79b13bfb",
   "metadata": {},
   "outputs": [],
   "source": [
    "def get_entity_from_id(model, oid):\n",
    "    \"\"\"\n",
    "    Returns the Ifc entity from the given id or GUID.\n",
    "    \"\"\"\n",
    "\n",
    "    if isinstance(oid, str) and (len(oid) == 22) and (\":\" not in oid):\n",
    "        return model.by_guid(oid)\n",
    "\n",
    "    elif \":\" in oid:\n",
    "        try:\n",
    "            step_id = int(oid.split(\":\")[-1])\n",
    "            return model.by_id(step_id)\n",
    "        except Exception:\n",
    "            return None\n",
    "\n",
    "    return None"
   ]
  },
  {
   "cell_type": "code",
   "execution_count": 11,
   "id": "2b9a8bb9-7838-4334-8872-bc3b4ef4cf20",
   "metadata": {},
   "outputs": [],
   "source": [
    "def get_entities_from_edges(model, edges, typ):\n",
    "    \"\"\"\n",
    "    Returns the relating or related Ifc entities from a dict of edges.\n",
    "    \"\"\"\n",
    "\n",
    "    entities_from_edges = []\n",
    "    \n",
    "    for edge in edges.values():\n",
    "        obj = get_entity_from_id(model, edge[typ])\n",
    "        if obj:\n",
    "            entities_from_edges.append(obj) \n",
    "\n",
    "    return entities_from_edges"
   ]
  },
  {
   "cell_type": "code",
   "execution_count": 12,
   "id": "197319f5-5631-459a-91b9-6103be5c24c9",
   "metadata": {},
   "outputs": [],
   "source": [
    "def merge_unique(obj1, obj2):\n",
    "    \"\"\"\n",
    "    Returns a list of unique Ifc entities from two lists of Ifc entities.\n",
    "    \"\"\"\n",
    "    merged = dict()\n",
    "    for o in obj1 + obj2:\n",
    "        if o:\n",
    "            merged[obj_id(o)] = o\n",
    "    return list(merged.values())"
   ]
  },
  {
   "cell_type": "code",
   "execution_count": 13,
   "id": "5b2b4128-99c9-4d1e-9f8b-c9db9ae4199d",
   "metadata": {},
   "outputs": [],
   "source": [
    "def entities_classes_identify(all_objects):\n",
    "    \"\"\"\n",
    "    Identifies the Ifc entity classes present in the model.\n",
    "    All IfcElements subtypes collapse to 'IfcElement'.\n",
    "    All *Type classes collapse to 'IfcTypeObject'.\n",
    "    \"\"\"\n",
    "\n",
    "    clss = set()\n",
    "    \n",
    "    for o in all_objects:\n",
    "        if o.is_a(\"IfcElement\"):\n",
    "            clss.add(\"IfcElement\")\n",
    "        elif \"Type\" in o.is_a():\n",
    "            clss.add(\"IfcTypeObject\")\n",
    "        else:\n",
    "            clss.add(o.is_a())\n",
    "\n",
    "    return clss"
   ]
  },
  {
   "cell_type": "code",
   "execution_count": 14,
   "id": "c3f9100f-fddf-4f47-8616-0f54d6ae6f4f",
   "metadata": {},
   "outputs": [],
   "source": [
    "def props_identify(all_objects):\n",
    "\n",
    "    props = {}\n",
    "\n",
    "    pset = \"IfcPropertySet\"\n",
    "    qset = \"IfcElementQuantity\"\n",
    "\n",
    "    for o in all_objects:\n",
    "        if o.is_a(pset):\n",
    "            props.setdefault(pset, dict())\n",
    "            for p in o.HasProperties:\n",
    "                props[pset][p.Name] = {\n",
    "                    \"property_type\": p.is_a()\n",
    "                }\n",
    "                \n",
    "        elif o.is_a(qset):\n",
    "            props.setdefault(qset, dict())\n",
    "            for q in o.Quantities:\n",
    "                props[qset][q.Name] = {\n",
    "                    \"property_type\": q.is_a()\n",
    "                }\n",
    "\n",
    "    # only IfcMaterial class, no specific material properties to extract beyond the material name.\n",
    "                \n",
    "    return props"
   ]
  },
  {
   "cell_type": "code",
   "execution_count": 15,
   "id": "227d9d1c-04c1-41ca-aa9f-8872bb8f2020",
   "metadata": {},
   "outputs": [],
   "source": [
    "def pset_props_collect(o):\n",
    "    \"\"\"\n",
    "    Extracts the properties from an IfcPropertySet entity. \n",
    "    \"\"\"\n",
    "\n",
    "    def unwrap(v):\n",
    "        \"\"\"\n",
    "        Converts an Ifc value wrapper to a plain Python type.\n",
    "        \"\"\"\n",
    "        if v is None:\n",
    "            return None\n",
    "        else:\n",
    "            return getattr(v, \"wrappedValue\", v)\n",
    "\n",
    "    props = {}\n",
    "    \n",
    "    for p in o.HasProperties:\n",
    "        if p.is_a(\"IfcPropertySingleValue\"):\n",
    "            nv = getattr(p, \"NominalValue\", None)\n",
    "            props[p.Name] = {\n",
    "                \"kind\": \"SingleValue\",\n",
    "                \"value\": unwrap(nv)\n",
    "            }\n",
    "        elif p.is_a(\"IfcPropertyEnumeratedValue\"):\n",
    "            vals = [unwrap(v) for v in (getattr(p, \"EnumerationValues\", []) or [])]\n",
    "            enum_ref = getattr(p, \"EnumerationReference\", None)\n",
    "            domain = (\n",
    "                [unwrap(v) for v in (getattr(enum_ref, \"EnumerationValues\", []) or [])]\n",
    "                if enum_ref else None\n",
    "            )\n",
    "            props[p.Name] = {\n",
    "                \"kind\": \"EnumeratedValue\",\n",
    "                \"value\": vals if len(vals) != 1 else vals[0],\n",
    "                \"enumeration_name\": getattr(enum_ref, \"Name\", None) if enum_ref else None,\n",
    "                \"domain\": domain\n",
    "            }\n",
    "\n",
    "    # if needed, to be developed to handle other kinds of properties.\n",
    "        \n",
    "    return props"
   ]
  },
  {
   "cell_type": "code",
   "execution_count": 16,
   "id": "ce996f9a-086c-4070-82bb-600d91aeab7f",
   "metadata": {},
   "outputs": [],
   "source": [
    "def qset_props_collect(o, include_none=False):\n",
    "    \"\"\"\n",
    "    Extracts the quantitiy properties from an IfcElementQuantity. \n",
    "    \"\"\"\n",
    "\n",
    "    props = {}\n",
    "    \n",
    "    for q in getattr(o, \"Quantities\", []) or []:\n",
    "        val = None\n",
    "        if q.is_a(\"IfcQuantityLength\"):\n",
    "            val = q.LengthValue\n",
    "        elif q.is_a(\"IfcQuantityArea\"):\n",
    "            val = q.AreaValue\n",
    "        elif q.is_a(\"IfcQuantityVolume\"):\n",
    "            val = q.VolumeValue\n",
    "        elif q.is_a(\"IfcQuantityCount\"):\n",
    "            val = q.CountValue\n",
    "        elif q.is_a(\"IfcQuantityWeight\"):\n",
    "            val = q.WeightValue\n",
    "\n",
    "        if include_none or val is not None:  \n",
    "            props[q.Name] = {\n",
    "                \"kind\": q.is_a(),\n",
    "                \"value\": val\n",
    "            }\n",
    "\n",
    "    return props"
   ]
  },
  {
   "cell_type": "code",
   "execution_count": 17,
   "id": "6a94ef54-c879-4cc1-89a2-9fb5d431e291",
   "metadata": {},
   "outputs": [],
   "source": [
    "def node_set(o):\n",
    "    \"\"\"\n",
    "    Extract the node information for a single Ifc entity.\n",
    "    \"\"\"\n",
    "\n",
    "    node = dict()\n",
    "\n",
    "    # helpers:\n",
    "    def g_n(o, name, default=None):\n",
    "        \"\"\"\n",
    "        Extract an attribute for an Ifc entity.\n",
    "        \"\"\"\n",
    "        return getattr(o, name, default)\n",
    "\n",
    "    def basic_props(label, addition=None):\n",
    "        \"\"\"\n",
    "        Set the base node dictionary for an Ifc entity and add it to \"node\".\n",
    "        \"\"\"\n",
    "        node_id = obj_id(o)\n",
    "        base = {\n",
    "            \"id\": node_id,\n",
    "            \"labels\": [label, o.is_a()],\n",
    "            \"name\": g_n(o, \"Name\")\n",
    "        }\n",
    "        if addition:\n",
    "            base.update(addition)\n",
    "        node[node_id] = base\n",
    "\n",
    "    \n",
    "    cls = o.is_a()\n",
    "\n",
    "    if cls == \"IfcProject\":\n",
    "        basic_props(\"PROJECT\")\n",
    "        \n",
    "    elif o.is_a(\"IfcElement\"):\n",
    "        # ObjectType fallback:\n",
    "        basic_props(\"ELEMENT\", {\n",
    "            \"predefined_type\": g_n(o, \"PredefinedType\", g_n(o, \"ObjectType\"))\n",
    "        })\n",
    "        \n",
    "    elif cls == \"IfcPropertySet\":\n",
    "        basic_props(\"PSET\", {\n",
    "            \"properties\": pset_props_collect(o)\n",
    "        })\n",
    "        \n",
    "    elif cls == \"IfcElementQuantity\":\n",
    "        basic_props(\"QSET\", {\n",
    "            \"quantities\": qset_props_collect(o)\n",
    "        })\n",
    "        \n",
    "    elif \"Type\" in cls:\n",
    "        basic_props(\"TYPE\")\n",
    "        \n",
    "    elif cls == \"IfcMaterial\":\n",
    "        basic_props(\"MATERIAL\")\n",
    "        \n",
    "    elif cls in (\"IfcSite\", \"IfcBuilding\", \"IfcBuildingStorey\", \"IfcSpace\"):\n",
    "        basic_props(\"SPATIAL\")\n",
    "        \n",
    "    elif cls == \"IfcClassificationReference\":\n",
    "        scheme = g_n(o, \"ReferencedSource\") # IfcClassification\n",
    "        basic_props(\"CLASSIFICATION_REF\",{\n",
    "            \"code\": g_n(o, \"Identification\"),\n",
    "            \"uri\": g_n(o, \"Location\"),\n",
    "            # link to IfcClassification by id:\n",
    "            \"scheme_id\": obj_id(scheme) if scheme else None,\n",
    "        })\n",
    "\n",
    "    return node        "
   ]
  },
  {
   "cell_type": "code",
   "execution_count": 18,
   "id": "48f424a4-16b1-41fe-ac59-2d08931ae163",
   "metadata": {},
   "outputs": [],
   "source": [
    "def nodes_maker(all_objects):\n",
    "    \"\"\"\n",
    "    For a given model, creates a dictionary of nodes from a list of Ifc entities.\n",
    "    \"\"\"\n",
    "\n",
    "    nodes = {}\n",
    "\n",
    "    for o in all_objects:\n",
    "        nodes.update(node_set(o))\n",
    "\n",
    "    return nodes"
   ]
  },
  {
   "cell_type": "code",
   "execution_count": 19,
   "id": "0e6249a4-e77b-4a0d-8582-a1ccd4c0fbc8",
   "metadata": {},
   "outputs": [],
   "source": [
    "def flatten_dict(d, parent_key=\"\", sep=\"_\"):\n",
    "    \"\"\"\n",
    "    Recursively flatten a nested dictionary.\n",
    "    \"\"\"\n",
    "    items = {}\n",
    "    for k, v in d.items():\n",
    "        new_key = f\"{parent_key}{sep}{k}\" if parent_key else k\n",
    "        if isinstance(v, dict):\n",
    "            items.update(flatten_dict(v, new_key, sep=sep))\n",
    "        else:\n",
    "            items[new_key] = v\n",
    "    return items"
   ]
  },
  {
   "cell_type": "code",
   "execution_count": 20,
   "id": "b77a71de-ada7-45e0-86dd-210b6a3b7f77",
   "metadata": {},
   "outputs": [],
   "source": [
    "def nodes_flatten(nodes):\n",
    "    \"\"\"\n",
    "    Flatten nested dictionaries in node attributes for Neo4J comptability.\n",
    "    \"\"\"\n",
    "\n",
    "    def flatten_dict(d, parent_key=\"\", sep=\"::\"):\n",
    "        \"\"\"\n",
    "        Recursively flatten a nested dictionary.\n",
    "        \"\"\"\n",
    "        items = {}\n",
    "        for k, v in d.items():\n",
    "            new_key = f\"{parent_key}{sep}{k}\" if parent_key else k\n",
    "            if isinstance(v, dict):\n",
    "                items.update(flatten_dict(v, new_key, sep=sep))\n",
    "            else:\n",
    "                items[new_key] = v\n",
    "        return items\n",
    "\n",
    "    nodes_ready = dict()\n",
    "    \n",
    "    for node in nodes.values():\n",
    "        # preserve \"labels\"\n",
    "        base = {k: v for k, v in node.items() if k != \"labels\"}\n",
    "        flat = flatten_dict(base)\n",
    "        flat[\"labels\"] = node[\"labels\"]\n",
    "        nodes_ready[node[\"id\"]] = flat\n",
    "\n",
    "    return nodes_ready"
   ]
  },
  {
   "cell_type": "markdown",
   "id": "a1bc0d2a-195f-463a-a4e1-d52ecd3cdd03",
   "metadata": {},
   "source": [
    "## 3.4. Sanity Checks:  "
   ]
  },
  {
   "cell_type": "code",
   "execution_count": 21,
   "id": "6b79927c-6072-4f43-9bc6-67e285a9de49",
   "metadata": {},
   "outputs": [],
   "source": [
    "def elements_inspection(model, ifc_type=\"IfcProduct\"):\n",
    "    \"\"\"\n",
    "    Counts and lists IfcElements (excluding proxies in this case) grouped by class.\n",
    "    Returns:\n",
    "        - elements: list.\n",
    "        - classes_counter: Counter.\n",
    "    \"\"\"\n",
    "    \n",
    "    products = model.by_type(ifc_type)\n",
    "    elements = [p for p in products if (p.is_a(\"IfcElement\")) and not (p.is_a(\"IfcBuildingElementProxy\"))]\n",
    "    elements_classes = [el.is_a() for el in elements]\n",
    "    classes_counter = Counter(elements_classes)\n",
    "\n",
    "    print(f\"Total number of elements: {len(elements)}\")\n",
    "    for cl, count in classes_counter.items():\n",
    "        print(f\"{cl}: {count}.\")\n",
    "\n",
    "    return classes_counter"
   ]
  },
  {
   "cell_type": "code",
   "execution_count": 22,
   "id": "8eb8dcd8-acf4-4feb-9af9-e10441b43329",
   "metadata": {},
   "outputs": [],
   "source": [
    "def sanity(expected, actual, relating, related):\n",
    "    \"\"\"\n",
    "    Sanity checks:\n",
    "        - Proxies presence.\n",
    "        - Edge count.\n",
    "        - Relating entities count.\n",
    "        - Related entities count.\n",
    "        - Union nodes.\n",
    "    Returns:\n",
    "        bool: True if all checks pass, else False.\n",
    "    \"\"\"\n",
    "    passed = True\n",
    "\n",
    "    proxies = []\n",
    "    \n",
    "    for e in all_ents:\n",
    "        if \"Proxy\" in e.is_a():\n",
    "            proxies.append(e.id())\n",
    "\n",
    "    if len(proxies) == 0:\n",
    "        print(\"Proxy check passed, there is no Proxy entity.\")\n",
    "    else:\n",
    "        print(f\"ERROR: Presence of Proxy entities: {proxies}\")\n",
    "        passed = False \n",
    "            \n",
    "    if expected == actual:\n",
    "        print(f\"Edge count check passed: expected and actual are consistent ({actual}).\")\n",
    "    else:\n",
    "        print(f\"ERROR: edges count mismatch - expected {expected} but got {actual}.\")\n",
    "        passed = False\n",
    "        \n",
    "    if len(relating) == actual:\n",
    "        print(f\"Relating entities count check passed: {len(relating)} = number of edges ({actual}).\")\n",
    "    else:\n",
    "        print(f\"ERROR: relating entities count mismatch - edges {actual}, relating entities {len(relating)}.\")\n",
    "        passed = False\n",
    "        \n",
    "    if len(related) == actual:\n",
    "        print(f\"Related entities count check passed: {len(related)} = number of edges ({actual}).\")\n",
    "    else:\n",
    "        print(f\"ERROR: related entities count mismatch - edges {actual}, related entities {len(related)}.\")\n",
    "        passed = False\n",
    "\n",
    "    relating_set = set(relating)\n",
    "    related_set = set(related)\n",
    "    union_nodes = relating_set | related_set\n",
    "\n",
    "    if len(union_nodes) >= max(len(relating_set), len(related_set)):\n",
    "        print(f\"Unique node union check passed: |union|={len(union_nodes)}, |relating|={len(relating_set)}, |related|={len(related_set)}\")\n",
    "    else:\n",
    "        print(f\"ERROR: union size invalind - |union|={len(union_nodes)}, |relating|={len(relating_set)}, |related|={len(related_set)}\")\n",
    "\n",
    "    print(f\"The overall sanity check has been succesfully passed: {passed}.\")"
   ]
  },
  {
   "cell_type": "markdown",
   "id": "d815fafa-ae9e-4c59-aa1b-6856f1a4adc2",
   "metadata": {},
   "source": [
    "## 3.5. Graph schema definition:"
   ]
  },
  {
   "cell_type": "code",
   "execution_count": 23,
   "id": "d03b44ff-6370-4227-98ac-7909ead53334",
   "metadata": {},
   "outputs": [],
   "source": [
    "def ent_labels(ent_type, input, verbose=False):\n",
    "    \"\"\"\n",
    "    Returns:\n",
    "    - if ent_type == \"nodes\": (labels, categories, types).\n",
    "    - if ent_type == \"edges\": edges types.\n",
    "    \"\"\"\n",
    "    if ent_type == \"edges\":\n",
    "        \n",
    "        input_types = set()\n",
    "        type_counter = Counter()\n",
    "    \n",
    "        for i in input.values():\n",
    "            label = i[\"labels\"]\n",
    "            input_types.add(label)\n",
    "            type_counter[label] += 1 \n",
    "            \n",
    "        print(f\"Number of edge types: {len(input_types)}.\")\n",
    "\n",
    "        if verbose:\n",
    "                print()\n",
    "                print(f\"TOTAL NUMBER OF NODES: {len(input)}\")\n",
    "                print()\n",
    "                print(\"EDGE TYPES:\")\n",
    "                for t in sorted(type_counter):\n",
    "                    print(f\" - {t}: {type_counter[t]}.\")\n",
    "            \n",
    "        return type_counter\n",
    "    \n",
    "    elif ent_type == \"nodes\":\n",
    "        \n",
    "        input_labels = set()\n",
    "        input_cats = set()\n",
    "        input_types = set()\n",
    "        cat_counter = Counter()\n",
    "        type_counter = Counter()\n",
    "        \n",
    "        for i in input.values():\n",
    "            labels = i[\"labels\"]\n",
    "            cat, typ = labels\n",
    "            input_labels.add((cat, typ))\n",
    "            input_cats.add(cat)\n",
    "            input_types.add(typ)\n",
    "            cat_counter[cat] += 1\n",
    "            type_counter[typ] += 1\n",
    "        \n",
    "        print(f\"Number of node categories: {len(input_cats)}.\")\n",
    "        print(f\"Number of node types: {len(input_types)}.\")\n",
    "    \n",
    "        if verbose:\n",
    "            print()\n",
    "            print(f\"TOTAL NUMBER OF NODES: {len(input)}\")\n",
    "            print()\n",
    "            print(\"NODE CATEGORIES:\")\n",
    "            for c in sorted(cat_counter):\n",
    "                print(f\" - {c}: {cat_counter[c]}.\")\n",
    "            print()\n",
    "            print(\"NODE TYPES:\")\n",
    "            for t in sorted(type_counter):\n",
    "                print(f\" - {t}: {type_counter[t]}.\")\n",
    "        \n",
    "        return cat_counter, type_counter"
   ]
  },
  {
   "cell_type": "code",
   "execution_count": 24,
   "id": "963f27a6-ef14-4d7a-af80-cdeb66c6c890",
   "metadata": {},
   "outputs": [],
   "source": [
    "def search_attr(ents, verbose=False, entity=None):\n",
    "    \"\"\"\n",
    "    Analyse the node or edge attributes by category and collect the schema profiles.\n",
    "    \"\"\"\n",
    "\n",
    "    vals = ents.values()\n",
    "    \n",
    "    # CATEGORY: top level attributes per category\n",
    "    cat_attr = defaultdict(set)\n",
    "    cat_attr_counts = defaultdict(Counter)\n",
    "    cat_totals = Counter()\n",
    "    \n",
    "    for v in vals:\n",
    "        if entity == \"node\":\n",
    "            cat = v[\"labels\"][0]\n",
    "        else:\n",
    "            cat = v[\"labels\"]\n",
    "        cat_totals[cat] += 1\n",
    "        for a in v.keys():\n",
    "            if a == \"labels\":\n",
    "                continue\n",
    "            cat_attr[cat].add(a)\n",
    "            cat_attr_counts[cat][a] += 1\n",
    "\n",
    "    if entity == \"node\":\n",
    "\n",
    "        # helpers for flattened dictionaries:\n",
    "        def prefixed_keys(d, prefix=\"properties\", sep=\"::\"):\n",
    "            \"\"\"\n",
    "            Yield flattened keys in the given dictionary.\n",
    "            \"\"\"\n",
    "            for k in d.keys():\n",
    "                if k==prefix or k.startswith(prefix + sep):\n",
    "                    yield k\n",
    "                        \n",
    "        # PSET: property names per PSET\n",
    "        pset_prop = defaultdict(set)\n",
    "        pset_prop_counts = defaultdict(Counter)\n",
    "        pset_missing = []\n",
    "        \n",
    "        for v in vals:\n",
    "            if v[\"labels\"][0] != \"PSET\":\n",
    "                continue\n",
    "            name = v.get(\"name\")\n",
    "            keys = list(prefixed_keys(v))\n",
    "            if not keys:\n",
    "                pset_missing.append(name)\n",
    "            for k in keys:\n",
    "                pset_prop[name].add(k)\n",
    "                pset_prop_counts[name][k] += 1\n",
    "        \n",
    "        # QSET: quantity names per Qset\n",
    "        qset_prop = defaultdict(set)\n",
    "        qset_prop_counts = defaultdict(Counter)\n",
    "        qset_missing = []\n",
    "        \n",
    "        for v in vals:\n",
    "            if v[\"labels\"][0] != \"QSET\":\n",
    "                continue\n",
    "            name = v.get(\"name\")\n",
    "            keys = list(prefixed_keys(v, prefix=\"quantities\"))\n",
    "            if not keys:\n",
    "                qset_missing.append(name)\n",
    "            for k in keys:\n",
    "                qset_prop[name].add(k)\n",
    "                qset_prop_counts[name][k] += 1\n",
    "\n",
    "    if not verbose:\n",
    "\n",
    "        print(f\"\\n==={entity.upper()} ATTRIBUTE ANALYSIS===\\n\")\n",
    "        print(\"Top-level attributes per category:\")\n",
    "        print(cat_attr)\n",
    "        print(cat_attr_counts)\n",
    "        print(cat_totals)\n",
    "        print()\n",
    "        \n",
    "        if entity == \"node\":\n",
    "            \n",
    "            print(\"Property names per Pset:\")\n",
    "            print(pset_prop)\n",
    "            print()\n",
    "            print(\"Quantities names per Qset:\")\n",
    "            print(qset_prop)\n",
    "            print(qset_prop_counts)\n",
    "\n",
    "    if verbose:\n",
    "\n",
    "        print(f\"\\n==={entity.upper()} ATTRIBUTE ANALYSIS===\\n\")\n",
    "        print(\"Top-level attributes per category:\")\n",
    "        for cat in sorted(cat_attr):\n",
    "            print(f\" - {cat} ({cat_totals[cat]} nodes): {sorted(cat_attr[cat])}\")\n",
    "            for a, c in cat_attr_counts[cat].most_common():\n",
    "                print(f\"    • {a}: {c}/{cat_totals[cat]}\")\n",
    "            print()\n",
    "\n",
    "        if entity == \"node\":\n",
    "    \n",
    "            print(\"\\n PSET property keys per set:\")\n",
    "            for pset in sorted(pset_prop):\n",
    "                print(f\" - {pset}: {sorted(pset_prop[pset])}\")\n",
    "                for k, c in pset_prop_counts[pset].most_common():\n",
    "                    print(f\"    • {k}: {c}\")\n",
    "                print()\n",
    "        \n",
    "            print(\"\\n QSET quantity keys per set:\")\n",
    "            for qset in sorted(qset_prop):\n",
    "                print(f\" - {qset}: {sorted(qset_prop[qset])}\")\n",
    "                for k, c in qset_prop_counts[qset].most_common():\n",
    "                    print(f\"    • {k}: {c}\")\n",
    "                print()\n",
    "\n",
    "    if entity == \"node\":\n",
    "    \n",
    "        return (\n",
    "            cat_attr_counts, cat_totals, \n",
    "            pset_prop_counts, \n",
    "            qset_prop_counts\n",
    "        )\n",
    "\n",
    "    if entity == \"edge\":\n",
    "\n",
    "        return (\n",
    "            cat_attr_counts, cat_totals\n",
    "        )"
   ]
  },
  {
   "cell_type": "markdown",
   "id": "49306d21-094b-4eb0-9ef2-e1fda90ac885",
   "metadata": {},
   "source": [
    "## 3.6. Nodes insertion & Relationshsips/edges insertion:"
   ]
  },
  {
   "cell_type": "code",
   "execution_count": 25,
   "id": "ea418eb7-8da2-4bc9-9e96-9b032f5655d5",
   "metadata": {},
   "outputs": [],
   "source": [
    "def flatten_dict(dico, parent_key = \"\", sep=\"_\"):\n",
    "    \"\"\"Flatten a nested dictionary recursively.\"\"\"\n",
    "\n",
    "    flattened = dict()\n",
    "\n",
    "    for k, v in dico.items():\n",
    "        new_key = f\"{parent_key}{sep}{k}\" if parent_key else k\n",
    "        if isinstance(v, dict):\n",
    "            flattened.update(flatten_dict(v, new_key, sep=sep))\n",
    "        else:\n",
    "            flattened[new_key] = v\n",
    "\n",
    "    return flattened"
   ]
  },
  {
   "cell_type": "code",
   "execution_count": 26,
   "id": "eccb6cf3-bdfd-46bd-97c7-717b3eea9df4",
   "metadata": {},
   "outputs": [],
   "source": [
    "def driver_merge(ents, entity=None):\n",
    "    \"\"\"\n",
    "    Merge nodes or edges into Neo4J from prepared dictionaries.\n",
    "    \"\"\"\n",
    "\n",
    "    with driver.session(database=DATABASE) as session:\n",
    "\n",
    "        if entity == \"node\":\n",
    "\n",
    "            for node in ents.values():\n",
    "                labels = \":\"+\":\".join(node[\"labels\"])\n",
    "                attr = {k: v for k, v in node.items() if k not in (\"labels\", \"id\")}\n",
    "        \n",
    "                cypher_node = f\"\"\"\n",
    "                MERGE (n{labels}{{id: $id}})\n",
    "                SET n += $attr\n",
    "                \"\"\"\n",
    "        \n",
    "                session.run(cypher_node, {\"id\": node[\"id\"], \"attr\": attr}) \n",
    "\n",
    "        elif entity == \"edge\":\n",
    "\n",
    "            for edge in ents.values():\n",
    "                attr = {k: v for k, v in edge.items() if k not in (\"from\", \"to\", \"labels\", \"rel_id\")}\n",
    "        \n",
    "                cypher_edge = f\"\"\"\n",
    "                MATCH (a {{id: $from_id }}), (b {{id: $to_id}})\n",
    "                MERGE (a)-[r:{edge[\"labels\"]}{{rel_id: $rel_id}}]->(b)\n",
    "                SET r += $attr\n",
    "                \"\"\"\n",
    "        \n",
    "                session.run(cypher_edge, {\n",
    "                    \"from_id\": edge[\"from\"],\n",
    "                    \"to_id\": edge[\"to\"],\n",
    "                    \"rel_id\": edge[\"rel_id\"],\n",
    "                    \"attr\": attr\n",
    "                        })  "
   ]
  },
  {
   "cell_type": "markdown",
   "id": "25cc3f39-46cb-42c1-840b-cfe106004113",
   "metadata": {},
   "source": [
    "## 3.7. Graph integrity:"
   ]
  },
  {
   "cell_type": "code",
   "execution_count": 27,
   "id": "414eba5e-c5ba-4c6c-bc24-4680e38cdc36",
   "metadata": {},
   "outputs": [],
   "source": [
    "def check_labels(expected, entities=None, label_kind=None):\n",
    "    \"\"\"\n",
    "    Compare the expected vs the actual counts in Neo4J:\n",
    "        - Node categories/types (if entities == \"nodes\")\n",
    "        - Edge types (if entities == \"edges\")\n",
    "    \"\"\"\n",
    "\n",
    "    exp_k = list(expected.keys())\n",
    "\n",
    "    if entities == \"nodes\":\n",
    "        cypher = \"\"\"\n",
    "        UNWIND $exp_k AS k\n",
    "        MATCH (n)\n",
    "        WHERE k IN labels(n)\n",
    "        RETURN k AS item, count(*) AS c\n",
    "        \"\"\"\n",
    "        \n",
    "    elif entities == \"edges\":\n",
    "        cypher = \"\"\"\n",
    "        UNWIND $exp_k AS k\n",
    "        MATCH ()-[r]->()\n",
    "        WHERE type(r) = k\n",
    "        RETURN k AS item, count(*) As c\n",
    "        \"\"\"\n",
    "        \n",
    "    else:\n",
    "        raise ValueError(\"entities must be 'nodes' or 'edges'.\")\n",
    "    \n",
    "    with driver.session(database=DATABASE) as session:\n",
    "        results = session.run(cypher, {\"exp_k\": exp_k}).data()\n",
    "\n",
    "    actual = { r[\"item\"]: r[\"c\"] for r in results}\n",
    "    \n",
    "    # check:\n",
    "    all_keys = sorted(set(expected) | set(actual))\n",
    "    passed = True\n",
    "    \n",
    "    for a in all_keys:\n",
    "        exp = expected.get(a, 0)\n",
    "        act = actual.get(a, 0)\n",
    "        if exp != act:\n",
    "            print(f\"{a}, expected = {exp}, actual = {act}, difference = {abs(exp - act)}.\")\n",
    "            passed = False\n",
    "            \n",
    "    print(f\"The {entities} {label_kind} match: {passed}.\")\n",
    "\n",
    "    return passed, actual"
   ]
  },
  {
   "cell_type": "code",
   "execution_count": null,
   "id": "b6f2b634-febe-40ab-920b-a180bd03708c",
   "metadata": {},
   "outputs": [],
   "source": []
  },
  {
   "cell_type": "code",
   "execution_count": null,
   "id": "24a3b5a2-2b2e-402d-bd0c-8c3f27d4f679",
   "metadata": {},
   "outputs": [],
   "source": []
  },
  {
   "cell_type": "code",
   "execution_count": null,
   "id": "ee4a29af-f5f8-4ba1-b4b4-3f62608bc0c9",
   "metadata": {},
   "outputs": [],
   "source": []
  },
  {
   "cell_type": "markdown",
   "id": "fe3f578c-c5a0-402e-8888-46d2a19962e6",
   "metadata": {},
   "source": [
    "# 4. Data load:"
   ]
  },
  {
   "cell_type": "code",
   "execution_count": 28,
   "id": "50286e9a-dbf7-421e-8908-156e8d8a129e",
   "metadata": {},
   "outputs": [],
   "source": [
    "model = ifcopenshell.open(IFC_PATH)"
   ]
  },
  {
   "cell_type": "code",
   "execution_count": 29,
   "id": "d94ac786-274b-4a84-b40a-33ad43a4bc1a",
   "metadata": {},
   "outputs": [],
   "source": [
    "driver = GraphDatabase.driver(NEO4J_URI, auth=(NEO4J_USER, NEO4J_PASSWORD))"
   ]
  },
  {
   "cell_type": "markdown",
   "id": "739dc056-c74f-4d66-8145-0d8c32637f3f",
   "metadata": {},
   "source": [
    "# 5. Proxy entities handling:"
   ]
  },
  {
   "cell_type": "markdown",
   "id": "77773f6e-ca0f-48a2-b165-c97f3010f06d",
   "metadata": {},
   "source": [
    "## Proxy Cleanup Strategy\n",
    "\n",
    "Proxy elements are removed at the start of the workflow to maintain a clean and semantically consistent graph.\n",
    "\n",
    "1. **Dropping proxies**  \n",
    "   In this dataset, proxies represent geolocation artifacts or placeholders. They provide no analytical value but increase noise and graph size.\n",
    "\n",
    "2. **Early removal**  \n",
    "   Performing the cleanup at the beginning simplifies the workflow by eliminating the need for repeated exclusions later and by preventing dangling references in subsequent steps.\n",
    "\n",
    "3. **Related relationships and dependent entities**  \n",
    "   Proxies are often connected through relationships (e.g., `IfcRelDefines*`, `IfcRelAssociates*`) and may reference entities that exist only through those links. Removing both the relationships and such dependent entities avoids the presence of isolated nodes.\n",
    "\n",
    "4. **Deletion order**  \n",
    "   - Relationships connected to proxies are deleted first to ensure a clean break.  \n",
    "   - Dependent isolated entities are removed next, as they then have degree zero.  \n",
    "   - Finally, the proxies themselves are removed.  \n",
    "\n",
    "This sequence ensures a compact, consistent model without dangling edges or orphaned entities."
   ]
  },
  {
   "cell_type": "code",
   "execution_count": 30,
   "id": "12d57a90-bc4e-4c86-aacf-cd7a21f45ae4",
   "metadata": {},
   "outputs": [
    {
     "name": "stdout",
     "output_type": "stream",
     "text": [
      "\n",
      "====PROXIES REMOVAL COUNTS:====\n",
      "\n",
      "relationships: 8\n",
      "isolated nodes: 3\n",
      "proxies: 5\n"
     ]
    }
   ],
   "source": [
    "model = proxies_drop(model)"
   ]
  },
  {
   "cell_type": "markdown",
   "id": "6ce5faaa-864b-4285-9e08-26ebe6e12848",
   "metadata": {},
   "source": [
    "# 6. IFC Parsing:"
   ]
  },
  {
   "cell_type": "markdown",
   "id": "6f278f33-fdb3-41fe-a9bf-313108a54101",
   "metadata": {},
   "source": [
    "The parsing process begins with the IfcRelationships, from which a dictionary of Edges is created to support Neo4j graph construction. Each edge captures the \"from\" and \"to\" attributes that define the connected IFC entities. Based on these connections, all distinct entities can be identified and represented in a dictionary of Nodes. Inverse relationships are not included, as Neo4j inherently supports bidirectional traversal of edges; storing them explicitly would only duplicate information and increase memory usage. Proxy entities are removed in this model, as they are not significant building elements but instead geolocation artifacts.   \n",
    "\n",
    "To ensure consistency, node identifiers are normalized (e.g. through unique obj_id values), and key metadata such as IFC class labels and relevant properties are attached to nodes and edges. This guarantees that the resulting graph remains both semantically clear and efficient for querying.  "
   ]
  },
  {
   "cell_type": "markdown",
   "id": "66a957a1-61ad-453d-b0f6-641dbd4e16d6",
   "metadata": {},
   "source": [
    "## 6.1. IfcRelationships - Edges Preparation:"
   ]
  },
  {
   "cell_type": "markdown",
   "id": "15f50d7a-7c39-43be-b87d-241a53741efa",
   "metadata": {},
   "source": [
    "### 6.1.1. Functions Building Guidance:"
   ]
  },
  {
   "cell_type": "markdown",
   "id": "fa786b20-0dd3-4112-a216-d9ec7bb168ef",
   "metadata": {},
   "source": [
    "**edges_maker:**"
   ]
  },
  {
   "cell_type": "code",
   "execution_count": 31,
   "id": "80cd2090-4d6a-4b2c-adfa-7631ec57398c",
   "metadata": {},
   "outputs": [
    {
     "name": "stdout",
     "output_type": "stream",
     "text": [
      "Identified relationship classes:\n",
      "- IfcRelDefinesByType.\n",
      "- IfcRelAggregates.\n",
      "- IfcRelAssociatesMaterial.\n",
      "- IfcRelAssociatesClassification.\n",
      "- IfcRelDefinesByProperties.\n",
      "- IfcRelContainedInSpatialStructure.\n"
     ]
    },
    {
     "data": {
      "text/plain": [
       "{'IfcRelAggregates',\n",
       " 'IfcRelAssociatesClassification',\n",
       " 'IfcRelAssociatesMaterial',\n",
       " 'IfcRelContainedInSpatialStructure',\n",
       " 'IfcRelDefinesByProperties',\n",
       " 'IfcRelDefinesByType'}"
      ]
     },
     "execution_count": 31,
     "metadata": {},
     "output_type": "execute_result"
    }
   ],
   "source": [
    "identify_rel(model)"
   ]
  },
  {
   "cell_type": "markdown",
   "id": "605ffa18-653d-4eac-b3e8-bb620632d40e",
   "metadata": {},
   "source": [
    "### 6.1.2. Edges Dictionary:"
   ]
  },
  {
   "cell_type": "code",
   "execution_count": 32,
   "id": "786ae565-6fd8-4964-b279-5fdace1ea22b",
   "metadata": {},
   "outputs": [],
   "source": [
    "expected, actual, edges = edges_maker(model)"
   ]
  },
  {
   "cell_type": "code",
   "execution_count": 69,
   "id": "96fdb45c-2f9c-46db-9650-d5945d90f79c",
   "metadata": {
    "scrolled": true
   },
   "outputs": [
    {
     "data": {
      "text/plain": [
       "{'141p4IPfrBnRJ5dWbakDZK:18DB$FpSH4QhNntrrSRVGz->0c$N1CTon2BB2Sp89385G8': {'id': '141p4IPfrBnRJ5dWbakDZK:18DB$FpSH4QhNntrrSRVGz->0c$N1CTon2BB2Sp89385G8',\n",
       "  'labels': 'DEFINED_BY_PROPERTIES',\n",
       "  'rel_class': 'IfcRelDefinesByProperties',\n",
       "  'rel_id': '141p4IPfrBnRJ5dWbakDZK',\n",
       "  'from': '18DB$FpSH4QhNntrrSRVGz',\n",
       "  'to': '0c$N1CTon2BB2Sp89385G8'},\n",
       " '37JtmMF1HE8uDDbwzFG43E:0hVJYXG1r7ywQAq8Vpug40->0DyViLJJ175RvWQi1rE7a6': {'id': '37JtmMF1HE8uDDbwzFG43E:0hVJYXG1r7ywQAq8Vpug40->0DyViLJJ175RvWQi1rE7a6',\n",
       "  'labels': 'DEFINED_BY_PROPERTIES',\n",
       "  'rel_class': 'IfcRelDefinesByProperties',\n",
       "  'rel_id': '37JtmMF1HE8uDDbwzFG43E',\n",
       "  'from': '0hVJYXG1r7ywQAq8Vpug40',\n",
       "  'to': '0DyViLJJ175RvWQi1rE7a6'},\n",
       " '1SWTv4zQ95LhMduNc2qS5N:0VVWsZ$_bFHgmAwNtcydte->0DyViLJJ175RvWQi1rE7a6': {'id': '1SWTv4zQ95LhMduNc2qS5N:0VVWsZ$_bFHgmAwNtcydte->0DyViLJJ175RvWQi1rE7a6',\n",
       "  'labels': 'DEFINED_BY_QUANTITIES',\n",
       "  'rel_class': 'IfcRelDefinesByProperties',\n",
       "  'rel_id': '1SWTv4zQ95LhMduNc2qS5N',\n",
       "  'from': '0VVWsZ$_bFHgmAwNtcydte',\n",
       "  'to': '0DyViLJJ175RvWQi1rE7a6'},\n",
       " '19ODOikkP12ekL3tHCBrti:0ek$CCUjnFefFg04xFxxG_->3SGBcf7Lv0r80vKtUCgOpf': {'id': '19ODOikkP12ekL3tHCBrti:0ek$CCUjnFefFg04xFxxG_->3SGBcf7Lv0r80vKtUCgOpf',\n",
       "  'labels': 'DEFINED_BY_PROPERTIES',\n",
       "  'rel_class': 'IfcRelDefinesByProperties',\n",
       "  'rel_id': '19ODOikkP12ekL3tHCBrti',\n",
       "  'from': '0ek$CCUjnFefFg04xFxxG_',\n",
       "  'to': '3SGBcf7Lv0r80vKtUCgOpf'},\n",
       " '3i60ni0ojBxOwszT3oi472:22KfX2yaj4UBecOFxQr$3y->3SGBcf7Lv0r80vKtUCgOpf': {'id': '3i60ni0ojBxOwszT3oi472:22KfX2yaj4UBecOFxQr$3y->3SGBcf7Lv0r80vKtUCgOpf',\n",
       "  'labels': 'DEFINED_BY_QUANTITIES',\n",
       "  'rel_class': 'IfcRelDefinesByProperties',\n",
       "  'rel_id': '3i60ni0ojBxOwszT3oi472',\n",
       "  'from': '22KfX2yaj4UBecOFxQr$3y',\n",
       "  'to': '3SGBcf7Lv0r80vKtUCgOpf'},\n",
       " '0yeZtWBK50_x61UkYOEKtO:2DaAsqJGPDexb$sFANyw0e->3oNJ9yHi5FJuFnK8yg68Yt': {'id': '0yeZtWBK50_x61UkYOEKtO:2DaAsqJGPDexb$sFANyw0e->3oNJ9yHi5FJuFnK8yg68Yt',\n",
       "  'labels': 'DEFINED_BY_PROPERTIES',\n",
       "  'rel_class': 'IfcRelDefinesByProperties',\n",
       "  'rel_id': '0yeZtWBK50_x61UkYOEKtO',\n",
       "  'from': '2DaAsqJGPDexb$sFANyw0e',\n",
       "  'to': '3oNJ9yHi5FJuFnK8yg68Yt'},\n",
       " '1BA0VHArv909Ms582hMplk:16mzz5kV15mAyMAccFRkj4->3oNJ9yHi5FJuFnK8yg68Yt': {'id': '1BA0VHArv909Ms582hMplk:16mzz5kV15mAyMAccFRkj4->3oNJ9yHi5FJuFnK8yg68Yt',\n",
       "  'labels': 'DEFINED_BY_QUANTITIES',\n",
       "  'rel_class': 'IfcRelDefinesByProperties',\n",
       "  'rel_id': '1BA0VHArv909Ms582hMplk',\n",
       "  'from': '16mzz5kV15mAyMAccFRkj4',\n",
       "  'to': '3oNJ9yHi5FJuFnK8yg68Yt'},\n",
       " '3pBPuLNjn30eidIcFKyIfx:3UegLqoYrB5QLJ1Fl0C0gk->2gTJhghMT81QThk15l2VwR': {'id': '3pBPuLNjn30eidIcFKyIfx:3UegLqoYrB5QLJ1Fl0C0gk->2gTJhghMT81QThk15l2VwR',\n",
       "  'labels': 'DEFINED_BY_PROPERTIES',\n",
       "  'rel_class': 'IfcRelDefinesByProperties',\n",
       "  'rel_id': '3pBPuLNjn30eidIcFKyIfx',\n",
       "  'from': '3UegLqoYrB5QLJ1Fl0C0gk',\n",
       "  'to': '2gTJhghMT81QThk15l2VwR'},\n",
       " '3vxMmWz_j0mgJTa6nPhy_B:3BkYHDW2b4LxsPRJLXlKa9->2gTJhghMT81QThk15l2VwR': {'id': '3vxMmWz_j0mgJTa6nPhy_B:3BkYHDW2b4LxsPRJLXlKa9->2gTJhghMT81QThk15l2VwR',\n",
       "  'labels': 'DEFINED_BY_QUANTITIES',\n",
       "  'rel_class': 'IfcRelDefinesByProperties',\n",
       "  'rel_id': '3vxMmWz_j0mgJTa6nPhy_B',\n",
       "  'from': '3BkYHDW2b4LxsPRJLXlKa9',\n",
       "  'to': '2gTJhghMT81QThk15l2VwR'},\n",
       " '0PA6R2Jzr52AHk58oxcy4K:3IC75ptmHAcfynDO0H7l6Q->2iPwJwpPDCSgMheXwk9cBT': {'id': '0PA6R2Jzr52AHk58oxcy4K:3IC75ptmHAcfynDO0H7l6Q->2iPwJwpPDCSgMheXwk9cBT',\n",
       "  'labels': 'DEFINED_BY_PROPERTIES',\n",
       "  'rel_class': 'IfcRelDefinesByProperties',\n",
       "  'rel_id': '0PA6R2Jzr52AHk58oxcy4K',\n",
       "  'from': '3IC75ptmHAcfynDO0H7l6Q',\n",
       "  'to': '2iPwJwpPDCSgMheXwk9cBT'},\n",
       " '1ZAknfDjDF1eszlAeNdiun:2ups0JG6n1VvC4pdB0zluW->0fqX614OH1YO1Njdxms2$Q': {'id': '1ZAknfDjDF1eszlAeNdiun:2ups0JG6n1VvC4pdB0zluW->0fqX614OH1YO1Njdxms2$Q',\n",
       "  'labels': 'DEFINED_BY_PROPERTIES',\n",
       "  'rel_class': 'IfcRelDefinesByProperties',\n",
       "  'rel_id': '1ZAknfDjDF1eszlAeNdiun',\n",
       "  'from': '2ups0JG6n1VvC4pdB0zluW',\n",
       "  'to': '0fqX614OH1YO1Njdxms2$Q'},\n",
       " '18SCBIM$j6SxZvzgf0z8dm:2HMsp_L9P6I8CwQ6HNOQ_0->0fqX614OH1YO1Njdxms2$Q': {'id': '18SCBIM$j6SxZvzgf0z8dm:2HMsp_L9P6I8CwQ6HNOQ_0->0fqX614OH1YO1Njdxms2$Q',\n",
       "  'labels': 'DEFINED_BY_QUANTITIES',\n",
       "  'rel_class': 'IfcRelDefinesByProperties',\n",
       "  'rel_id': '18SCBIM$j6SxZvzgf0z8dm',\n",
       "  'from': '2HMsp_L9P6I8CwQ6HNOQ_0',\n",
       "  'to': '0fqX614OH1YO1Njdxms2$Q'},\n",
       " '256YYp2JL6Cx0WbxeIKq$J:00EBcbCmP36Q43kDOMVxR1->0rh7bRO0L9fg1NzgGKU$Ut': {'id': '256YYp2JL6Cx0WbxeIKq$J:00EBcbCmP36Q43kDOMVxR1->0rh7bRO0L9fg1NzgGKU$Ut',\n",
       "  'labels': 'DEFINED_BY_PROPERTIES',\n",
       "  'rel_class': 'IfcRelDefinesByProperties',\n",
       "  'rel_id': '256YYp2JL6Cx0WbxeIKq$J',\n",
       "  'from': '00EBcbCmP36Q43kDOMVxR1',\n",
       "  'to': '0rh7bRO0L9fg1NzgGKU$Ut'},\n",
       " '13Ef3vovv1FBMPINZDiMkh:28d0zpbA1FDgNVOoP3DC9B->0rh7bRO0L9fg1NzgGKU$Ut': {'id': '13Ef3vovv1FBMPINZDiMkh:28d0zpbA1FDgNVOoP3DC9B->0rh7bRO0L9fg1NzgGKU$Ut',\n",
       "  'labels': 'DEFINED_BY_QUANTITIES',\n",
       "  'rel_class': 'IfcRelDefinesByProperties',\n",
       "  'rel_id': '13Ef3vovv1FBMPINZDiMkh',\n",
       "  'from': '28d0zpbA1FDgNVOoP3DC9B',\n",
       "  'to': '0rh7bRO0L9fg1NzgGKU$Ut'},\n",
       " '3s2cOWY_f7xgExVmLuOC1F:0fB$YzpQ9F5fXAwW3qqCyT->3roxUKbVv98xiUcl22_T07': {'id': '3s2cOWY_f7xgExVmLuOC1F:0fB$YzpQ9F5fXAwW3qqCyT->3roxUKbVv98xiUcl22_T07',\n",
       "  'labels': 'DEFINED_BY_PROPERTIES',\n",
       "  'rel_class': 'IfcRelDefinesByProperties',\n",
       "  'rel_id': '3s2cOWY_f7xgExVmLuOC1F',\n",
       "  'from': '0fB$YzpQ9F5fXAwW3qqCyT',\n",
       "  'to': '3roxUKbVv98xiUcl22_T07'},\n",
       " '2RqoGRc4HDKxh0mXR9aubO:30SHzCjOj6gPOjYeg44wl2->3roxUKbVv98xiUcl22_T07': {'id': '2RqoGRc4HDKxh0mXR9aubO:30SHzCjOj6gPOjYeg44wl2->3roxUKbVv98xiUcl22_T07',\n",
       "  'labels': 'DEFINED_BY_QUANTITIES',\n",
       "  'rel_class': 'IfcRelDefinesByProperties',\n",
       "  'rel_id': '2RqoGRc4HDKxh0mXR9aubO',\n",
       "  'from': '30SHzCjOj6gPOjYeg44wl2',\n",
       "  'to': '3roxUKbVv98xiUcl22_T07'},\n",
       " '1kfOxVaUn7igK3ixTIT1mm:0PBH0wkMXC_RjGQReUd5h1->0Lvk$Qa81D5et3l3a4S9Vk': {'id': '1kfOxVaUn7igK3ixTIT1mm:0PBH0wkMXC_RjGQReUd5h1->0Lvk$Qa81D5et3l3a4S9Vk',\n",
       "  'labels': 'DEFINED_BY_PROPERTIES',\n",
       "  'rel_class': 'IfcRelDefinesByProperties',\n",
       "  'rel_id': '1kfOxVaUn7igK3ixTIT1mm',\n",
       "  'from': '0PBH0wkMXC_RjGQReUd5h1',\n",
       "  'to': '0Lvk$Qa81D5et3l3a4S9Vk'},\n",
       " '3xGoWtpb5DkfUR1FSc5StW:0kLKoeMc5BnhcvmJ1GtKjL->0Lvk$Qa81D5et3l3a4S9Vk': {'id': '3xGoWtpb5DkfUR1FSc5StW:0kLKoeMc5BnhcvmJ1GtKjL->0Lvk$Qa81D5et3l3a4S9Vk',\n",
       "  'labels': 'DEFINED_BY_QUANTITIES',\n",
       "  'rel_class': 'IfcRelDefinesByProperties',\n",
       "  'rel_id': '3xGoWtpb5DkfUR1FSc5StW',\n",
       "  'from': '0kLKoeMc5BnhcvmJ1GtKjL',\n",
       "  'to': '0Lvk$Qa81D5et3l3a4S9Vk'},\n",
       " '1_Mz54MgPEf8invct8zsn4:2QF6RwHpj16gEJ1wh5SKZA->2ddLgAnQf4mBfh5IpUp54U': {'id': '1_Mz54MgPEf8invct8zsn4:2QF6RwHpj16gEJ1wh5SKZA->2ddLgAnQf4mBfh5IpUp54U',\n",
       "  'labels': 'DEFINED_BY_PROPERTIES',\n",
       "  'rel_class': 'IfcRelDefinesByProperties',\n",
       "  'rel_id': '1_Mz54MgPEf8invct8zsn4',\n",
       "  'from': '2QF6RwHpj16gEJ1wh5SKZA',\n",
       "  'to': '2ddLgAnQf4mBfh5IpUp54U'},\n",
       " '1Re7jJq7TFuwWj5pYY61Bl:0dIg8JLuXAjP9eWTNPMJjH->2ddLgAnQf4mBfh5IpUp54U': {'id': '1Re7jJq7TFuwWj5pYY61Bl:0dIg8JLuXAjP9eWTNPMJjH->2ddLgAnQf4mBfh5IpUp54U',\n",
       "  'labels': 'DEFINED_BY_QUANTITIES',\n",
       "  'rel_class': 'IfcRelDefinesByProperties',\n",
       "  'rel_id': '1Re7jJq7TFuwWj5pYY61Bl',\n",
       "  'from': '0dIg8JLuXAjP9eWTNPMJjH',\n",
       "  'to': '2ddLgAnQf4mBfh5IpUp54U'},\n",
       " '1A$xLWc2zFTAP4pjkGmuxr:1l$mN4mE5EtgtEWbu7EEvJ->2fjJuPht9EIQaZQYZfC1Op': {'id': '1A$xLWc2zFTAP4pjkGmuxr:1l$mN4mE5EtgtEWbu7EEvJ->2fjJuPht9EIQaZQYZfC1Op',\n",
       "  'labels': 'DEFINED_BY_PROPERTIES',\n",
       "  'rel_class': 'IfcRelDefinesByProperties',\n",
       "  'rel_id': '1A$xLWc2zFTAP4pjkGmuxr',\n",
       "  'from': '1l$mN4mE5EtgtEWbu7EEvJ',\n",
       "  'to': '2fjJuPht9EIQaZQYZfC1Op'},\n",
       " '2AUcjx78L3PAQTSMpi8$sr:3wSFIICx575gqnRY4FYR_E->2fjJuPht9EIQaZQYZfC1Op': {'id': '2AUcjx78L3PAQTSMpi8$sr:3wSFIICx575gqnRY4FYR_E->2fjJuPht9EIQaZQYZfC1Op',\n",
       "  'labels': 'DEFINED_BY_QUANTITIES',\n",
       "  'rel_class': 'IfcRelDefinesByProperties',\n",
       "  'rel_id': '2AUcjx78L3PAQTSMpi8$sr',\n",
       "  'from': '3wSFIICx575gqnRY4FYR_E',\n",
       "  'to': '2fjJuPht9EIQaZQYZfC1Op'},\n",
       " '2Ca0YqD5bBUxjYPcKrr8dB:39zsrh6sTE69jN0aDa_2y3->0pFmhV8oD1dB40_b4pscr8': {'id': '2Ca0YqD5bBUxjYPcKrr8dB:39zsrh6sTE69jN0aDa_2y3->0pFmhV8oD1dB40_b4pscr8',\n",
       "  'labels': 'DEFINED_BY_TYPE',\n",
       "  'rel_class': 'IfcRelDefinesByType',\n",
       "  'rel_id': '2Ca0YqD5bBUxjYPcKrr8dB',\n",
       "  'from': '39zsrh6sTE69jN0aDa_2y3',\n",
       "  'to': '0pFmhV8oD1dB40_b4pscr8'},\n",
       " '1Dq$Dv2C19kvvXmEBQkP5l:0_8SeeJGr948J4bU1RPXce->0DyViLJJ175RvWQi1rE7a6': {'id': '1Dq$Dv2C19kvvXmEBQkP5l:0_8SeeJGr948J4bU1RPXce->0DyViLJJ175RvWQi1rE7a6',\n",
       "  'labels': 'DEFINED_BY_TYPE',\n",
       "  'rel_class': 'IfcRelDefinesByType',\n",
       "  'rel_id': '1Dq$Dv2C19kvvXmEBQkP5l',\n",
       "  'from': '0_8SeeJGr948J4bU1RPXce',\n",
       "  'to': '0DyViLJJ175RvWQi1rE7a6'},\n",
       " '2j$nW3pT9Fewa4SjRDvSsa:0KOC4PbVP4CgUUcPIljzX8->3SGBcf7Lv0r80vKtUCgOpf': {'id': '2j$nW3pT9Fewa4SjRDvSsa:0KOC4PbVP4CgUUcPIljzX8->3SGBcf7Lv0r80vKtUCgOpf',\n",
       "  'labels': 'DEFINED_BY_TYPE',\n",
       "  'rel_class': 'IfcRelDefinesByType',\n",
       "  'rel_id': '2j$nW3pT9Fewa4SjRDvSsa',\n",
       "  'from': '0KOC4PbVP4CgUUcPIljzX8',\n",
       "  'to': '3SGBcf7Lv0r80vKtUCgOpf'},\n",
       " '0Lutqys6D3UQmJeJXWcI9a:2JyKYAYaHEEwkOiNxZBS0J->3oNJ9yHi5FJuFnK8yg68Yt': {'id': '0Lutqys6D3UQmJeJXWcI9a:2JyKYAYaHEEwkOiNxZBS0J->3oNJ9yHi5FJuFnK8yg68Yt',\n",
       "  'labels': 'DEFINED_BY_TYPE',\n",
       "  'rel_class': 'IfcRelDefinesByType',\n",
       "  'rel_id': '0Lutqys6D3UQmJeJXWcI9a',\n",
       "  'from': '2JyKYAYaHEEwkOiNxZBS0J',\n",
       "  'to': '3oNJ9yHi5FJuFnK8yg68Yt'},\n",
       " '22pEICzjP0uQNvM7rXMZ6g:10FwQBcdzD9ve3W6PvBTti->3dkFAzOGrAIuOzY_RdrdVv': {'id': '22pEICzjP0uQNvM7rXMZ6g:10FwQBcdzD9ve3W6PvBTti->3dkFAzOGrAIuOzY_RdrdVv',\n",
       "  'labels': 'DEFINED_BY_TYPE',\n",
       "  'rel_class': 'IfcRelDefinesByType',\n",
       "  'rel_id': '22pEICzjP0uQNvM7rXMZ6g',\n",
       "  'from': '10FwQBcdzD9ve3W6PvBTti',\n",
       "  'to': '3dkFAzOGrAIuOzY_RdrdVv'},\n",
       " '03jzp7gAn8ZhZ3yNm_TOEt:3sv$5PJEr5hP_mSgN$A$GJ->2gTJhghMT81QThk15l2VwR': {'id': '03jzp7gAn8ZhZ3yNm_TOEt:3sv$5PJEr5hP_mSgN$A$GJ->2gTJhghMT81QThk15l2VwR',\n",
       "  'labels': 'DEFINED_BY_TYPE',\n",
       "  'rel_class': 'IfcRelDefinesByType',\n",
       "  'rel_id': '03jzp7gAn8ZhZ3yNm_TOEt',\n",
       "  'from': '3sv$5PJEr5hP_mSgN$A$GJ',\n",
       "  'to': '2gTJhghMT81QThk15l2VwR'},\n",
       " '3vwqwSGfL8LeMOHvcbNbYk:0GE$iSXKL8jAEeHi$mszPq->2iPwJwpPDCSgMheXwk9cBT': {'id': '3vwqwSGfL8LeMOHvcbNbYk:0GE$iSXKL8jAEeHi$mszPq->2iPwJwpPDCSgMheXwk9cBT',\n",
       "  'labels': 'DEFINED_BY_TYPE',\n",
       "  'rel_class': 'IfcRelDefinesByType',\n",
       "  'rel_id': '3vwqwSGfL8LeMOHvcbNbYk',\n",
       "  'from': '0GE$iSXKL8jAEeHi$mszPq',\n",
       "  'to': '2iPwJwpPDCSgMheXwk9cBT'},\n",
       " '0QaU_JWFP0egFTAfCdiIGO:1_UeVn6yDFiQNhUkRsBNZI->0fqX614OH1YO1Njdxms2$Q': {'id': '0QaU_JWFP0egFTAfCdiIGO:1_UeVn6yDFiQNhUkRsBNZI->0fqX614OH1YO1Njdxms2$Q',\n",
       "  'labels': 'DEFINED_BY_TYPE',\n",
       "  'rel_class': 'IfcRelDefinesByType',\n",
       "  'rel_id': '0QaU_JWFP0egFTAfCdiIGO',\n",
       "  'from': '1_UeVn6yDFiQNhUkRsBNZI',\n",
       "  'to': '0fqX614OH1YO1Njdxms2$Q'},\n",
       " '0QaU_JWFP0egFTAfCdiIGO:1_UeVn6yDFiQNhUkRsBNZI->0rh7bRO0L9fg1NzgGKU$Ut': {'id': '0QaU_JWFP0egFTAfCdiIGO:1_UeVn6yDFiQNhUkRsBNZI->0rh7bRO0L9fg1NzgGKU$Ut',\n",
       "  'labels': 'DEFINED_BY_TYPE',\n",
       "  'rel_class': 'IfcRelDefinesByType',\n",
       "  'rel_id': '0QaU_JWFP0egFTAfCdiIGO',\n",
       "  'from': '1_UeVn6yDFiQNhUkRsBNZI',\n",
       "  'to': '0rh7bRO0L9fg1NzgGKU$Ut'},\n",
       " '0QaU_JWFP0egFTAfCdiIGO:1_UeVn6yDFiQNhUkRsBNZI->3roxUKbVv98xiUcl22_T07': {'id': '0QaU_JWFP0egFTAfCdiIGO:1_UeVn6yDFiQNhUkRsBNZI->3roxUKbVv98xiUcl22_T07',\n",
       "  'labels': 'DEFINED_BY_TYPE',\n",
       "  'rel_class': 'IfcRelDefinesByType',\n",
       "  'rel_id': '0QaU_JWFP0egFTAfCdiIGO',\n",
       "  'from': '1_UeVn6yDFiQNhUkRsBNZI',\n",
       "  'to': '3roxUKbVv98xiUcl22_T07'},\n",
       " '0QaU_JWFP0egFTAfCdiIGO:1_UeVn6yDFiQNhUkRsBNZI->0Lvk$Qa81D5et3l3a4S9Vk': {'id': '0QaU_JWFP0egFTAfCdiIGO:1_UeVn6yDFiQNhUkRsBNZI->0Lvk$Qa81D5et3l3a4S9Vk',\n",
       "  'labels': 'DEFINED_BY_TYPE',\n",
       "  'rel_class': 'IfcRelDefinesByType',\n",
       "  'rel_id': '0QaU_JWFP0egFTAfCdiIGO',\n",
       "  'from': '1_UeVn6yDFiQNhUkRsBNZI',\n",
       "  'to': '0Lvk$Qa81D5et3l3a4S9Vk'},\n",
       " '0QaU_JWFP0egFTAfCdiIGO:1_UeVn6yDFiQNhUkRsBNZI->2ddLgAnQf4mBfh5IpUp54U': {'id': '0QaU_JWFP0egFTAfCdiIGO:1_UeVn6yDFiQNhUkRsBNZI->2ddLgAnQf4mBfh5IpUp54U',\n",
       "  'labels': 'DEFINED_BY_TYPE',\n",
       "  'rel_class': 'IfcRelDefinesByType',\n",
       "  'rel_id': '0QaU_JWFP0egFTAfCdiIGO',\n",
       "  'from': '1_UeVn6yDFiQNhUkRsBNZI',\n",
       "  'to': '2ddLgAnQf4mBfh5IpUp54U'},\n",
       " '0QaU_JWFP0egFTAfCdiIGO:1_UeVn6yDFiQNhUkRsBNZI->2fjJuPht9EIQaZQYZfC1Op': {'id': '0QaU_JWFP0egFTAfCdiIGO:1_UeVn6yDFiQNhUkRsBNZI->2fjJuPht9EIQaZQYZfC1Op',\n",
       "  'labels': 'DEFINED_BY_TYPE',\n",
       "  'rel_class': 'IfcRelDefinesByType',\n",
       "  'rel_id': '0QaU_JWFP0egFTAfCdiIGO',\n",
       "  'from': '1_UeVn6yDFiQNhUkRsBNZI',\n",
       "  'to': '2fjJuPht9EIQaZQYZfC1Op'},\n",
       " '2WxkgoJp57vPJ9Jr6S$j_w:1i7uuLYVf6ShdGFfCgAhuD->2r_8UEywH9_RLHe8z$Xa8J': {'id': '2WxkgoJp57vPJ9Jr6S$j_w:1i7uuLYVf6ShdGFfCgAhuD->2r_8UEywH9_RLHe8z$Xa8J',\n",
       "  'labels': 'DEFINED_BY_TYPE',\n",
       "  'rel_class': 'IfcRelDefinesByType',\n",
       "  'rel_id': '2WxkgoJp57vPJ9Jr6S$j_w',\n",
       "  'from': '1i7uuLYVf6ShdGFfCgAhuD',\n",
       "  'to': '2r_8UEywH9_RLHe8z$Xa8J'},\n",
       " '2WxkgoJp57vPJ9Jr6S$j_w:1i7uuLYVf6ShdGFfCgAhuD->2cc4uJUVv5BevbidUpn1H3': {'id': '2WxkgoJp57vPJ9Jr6S$j_w:1i7uuLYVf6ShdGFfCgAhuD->2cc4uJUVv5BevbidUpn1H3',\n",
       "  'labels': 'DEFINED_BY_TYPE',\n",
       "  'rel_class': 'IfcRelDefinesByType',\n",
       "  'rel_id': '2WxkgoJp57vPJ9Jr6S$j_w',\n",
       "  'from': '1i7uuLYVf6ShdGFfCgAhuD',\n",
       "  'to': '2cc4uJUVv5BevbidUpn1H3'},\n",
       " '0oKrXjQf58gwTDmoHg_xVx:IfcMaterial:56->0pFmhV8oD1dB40_b4pscr8': {'id': '0oKrXjQf58gwTDmoHg_xVx:IfcMaterial:56->0pFmhV8oD1dB40_b4pscr8',\n",
       "  'labels': 'ASSOCIATED_MATERIAL',\n",
       "  'rel_class': 'IfcRelAssociatesMaterial',\n",
       "  'rel_id': '0oKrXjQf58gwTDmoHg_xVx',\n",
       "  'from': 'IfcMaterial:56',\n",
       "  'to': '0pFmhV8oD1dB40_b4pscr8'},\n",
       " '0sAYN8OJzFKu1rNoJBdSki:IfcMaterial:81->0DyViLJJ175RvWQi1rE7a6': {'id': '0sAYN8OJzFKu1rNoJBdSki:IfcMaterial:81->0DyViLJJ175RvWQi1rE7a6',\n",
       "  'labels': 'ASSOCIATED_MATERIAL',\n",
       "  'rel_class': 'IfcRelAssociatesMaterial',\n",
       "  'rel_id': '0sAYN8OJzFKu1rNoJBdSki',\n",
       "  'from': 'IfcMaterial:81',\n",
       "  'to': '0DyViLJJ175RvWQi1rE7a6'},\n",
       " '0sAYN8OJzFKu1rNoJBdSki:IfcMaterial:81->3SGBcf7Lv0r80vKtUCgOpf': {'id': '0sAYN8OJzFKu1rNoJBdSki:IfcMaterial:81->3SGBcf7Lv0r80vKtUCgOpf',\n",
       "  'labels': 'ASSOCIATED_MATERIAL',\n",
       "  'rel_class': 'IfcRelAssociatesMaterial',\n",
       "  'rel_id': '0sAYN8OJzFKu1rNoJBdSki',\n",
       "  'from': 'IfcMaterial:81',\n",
       "  'to': '3SGBcf7Lv0r80vKtUCgOpf'},\n",
       " '0sAYN8OJzFKu1rNoJBdSki:IfcMaterial:81->3oNJ9yHi5FJuFnK8yg68Yt': {'id': '0sAYN8OJzFKu1rNoJBdSki:IfcMaterial:81->3oNJ9yHi5FJuFnK8yg68Yt',\n",
       "  'labels': 'ASSOCIATED_MATERIAL',\n",
       "  'rel_class': 'IfcRelAssociatesMaterial',\n",
       "  'rel_id': '0sAYN8OJzFKu1rNoJBdSki',\n",
       "  'from': 'IfcMaterial:81',\n",
       "  'to': '3oNJ9yHi5FJuFnK8yg68Yt'},\n",
       " '0sAYN8OJzFKu1rNoJBdSki:IfcMaterial:81->3dkFAzOGrAIuOzY_RdrdVv': {'id': '0sAYN8OJzFKu1rNoJBdSki:IfcMaterial:81->3dkFAzOGrAIuOzY_RdrdVv',\n",
       "  'labels': 'ASSOCIATED_MATERIAL',\n",
       "  'rel_class': 'IfcRelAssociatesMaterial',\n",
       "  'rel_id': '0sAYN8OJzFKu1rNoJBdSki',\n",
       "  'from': 'IfcMaterial:81',\n",
       "  'to': '3dkFAzOGrAIuOzY_RdrdVv'},\n",
       " '0sAYN8OJzFKu1rNoJBdSki:IfcMaterial:81->2gTJhghMT81QThk15l2VwR': {'id': '0sAYN8OJzFKu1rNoJBdSki:IfcMaterial:81->2gTJhghMT81QThk15l2VwR',\n",
       "  'labels': 'ASSOCIATED_MATERIAL',\n",
       "  'rel_class': 'IfcRelAssociatesMaterial',\n",
       "  'rel_id': '0sAYN8OJzFKu1rNoJBdSki',\n",
       "  'from': 'IfcMaterial:81',\n",
       "  'to': '2gTJhghMT81QThk15l2VwR'},\n",
       " '1NsDI1QVHFMfwizftDPlfC:IfcMaterial:218->0fqX614OH1YO1Njdxms2$Q': {'id': '1NsDI1QVHFMfwizftDPlfC:IfcMaterial:218->0fqX614OH1YO1Njdxms2$Q',\n",
       "  'labels': 'ASSOCIATED_MATERIAL',\n",
       "  'rel_class': 'IfcRelAssociatesMaterial',\n",
       "  'rel_id': '1NsDI1QVHFMfwizftDPlfC',\n",
       "  'from': 'IfcMaterial:218',\n",
       "  'to': '0fqX614OH1YO1Njdxms2$Q'},\n",
       " '1NsDI1QVHFMfwizftDPlfC:IfcMaterial:218->0rh7bRO0L9fg1NzgGKU$Ut': {'id': '1NsDI1QVHFMfwizftDPlfC:IfcMaterial:218->0rh7bRO0L9fg1NzgGKU$Ut',\n",
       "  'labels': 'ASSOCIATED_MATERIAL',\n",
       "  'rel_class': 'IfcRelAssociatesMaterial',\n",
       "  'rel_id': '1NsDI1QVHFMfwizftDPlfC',\n",
       "  'from': 'IfcMaterial:218',\n",
       "  'to': '0rh7bRO0L9fg1NzgGKU$Ut'},\n",
       " '1NsDI1QVHFMfwizftDPlfC:IfcMaterial:218->3roxUKbVv98xiUcl22_T07': {'id': '1NsDI1QVHFMfwizftDPlfC:IfcMaterial:218->3roxUKbVv98xiUcl22_T07',\n",
       "  'labels': 'ASSOCIATED_MATERIAL',\n",
       "  'rel_class': 'IfcRelAssociatesMaterial',\n",
       "  'rel_id': '1NsDI1QVHFMfwizftDPlfC',\n",
       "  'from': 'IfcMaterial:218',\n",
       "  'to': '3roxUKbVv98xiUcl22_T07'},\n",
       " '1NsDI1QVHFMfwizftDPlfC:IfcMaterial:218->0Lvk$Qa81D5et3l3a4S9Vk': {'id': '1NsDI1QVHFMfwizftDPlfC:IfcMaterial:218->0Lvk$Qa81D5et3l3a4S9Vk',\n",
       "  'labels': 'ASSOCIATED_MATERIAL',\n",
       "  'rel_class': 'IfcRelAssociatesMaterial',\n",
       "  'rel_id': '1NsDI1QVHFMfwizftDPlfC',\n",
       "  'from': 'IfcMaterial:218',\n",
       "  'to': '0Lvk$Qa81D5et3l3a4S9Vk'},\n",
       " '1NsDI1QVHFMfwizftDPlfC:IfcMaterial:218->2ddLgAnQf4mBfh5IpUp54U': {'id': '1NsDI1QVHFMfwizftDPlfC:IfcMaterial:218->2ddLgAnQf4mBfh5IpUp54U',\n",
       "  'labels': 'ASSOCIATED_MATERIAL',\n",
       "  'rel_class': 'IfcRelAssociatesMaterial',\n",
       "  'rel_id': '1NsDI1QVHFMfwizftDPlfC',\n",
       "  'from': 'IfcMaterial:218',\n",
       "  'to': '2ddLgAnQf4mBfh5IpUp54U'},\n",
       " '1NsDI1QVHFMfwizftDPlfC:IfcMaterial:218->2fjJuPht9EIQaZQYZfC1Op': {'id': '1NsDI1QVHFMfwizftDPlfC:IfcMaterial:218->2fjJuPht9EIQaZQYZfC1Op',\n",
       "  'labels': 'ASSOCIATED_MATERIAL',\n",
       "  'rel_class': 'IfcRelAssociatesMaterial',\n",
       "  'rel_id': '1NsDI1QVHFMfwizftDPlfC',\n",
       "  'from': 'IfcMaterial:218',\n",
       "  'to': '2fjJuPht9EIQaZQYZfC1Op'},\n",
       " '0h96c29SfAxQbCDOLFZN7y:IfcMaterial:347->2r_8UEywH9_RLHe8z$Xa8J': {'id': '0h96c29SfAxQbCDOLFZN7y:IfcMaterial:347->2r_8UEywH9_RLHe8z$Xa8J',\n",
       "  'labels': 'ASSOCIATED_MATERIAL',\n",
       "  'rel_class': 'IfcRelAssociatesMaterial',\n",
       "  'rel_id': '0h96c29SfAxQbCDOLFZN7y',\n",
       "  'from': 'IfcMaterial:347',\n",
       "  'to': '2r_8UEywH9_RLHe8z$Xa8J'},\n",
       " '0h96c29SfAxQbCDOLFZN7y:IfcMaterial:347->2cc4uJUVv5BevbidUpn1H3': {'id': '0h96c29SfAxQbCDOLFZN7y:IfcMaterial:347->2cc4uJUVv5BevbidUpn1H3',\n",
       "  'labels': 'ASSOCIATED_MATERIAL',\n",
       "  'rel_class': 'IfcRelAssociatesMaterial',\n",
       "  'rel_id': '0h96c29SfAxQbCDOLFZN7y',\n",
       "  'from': 'IfcMaterial:347',\n",
       "  'to': '2cc4uJUVv5BevbidUpn1H3'},\n",
       " '29g4gBcuH0hgx5H$n5Th1$:0c$N1CTon2BB2Sp89385G8->2iPwJwpPDCSgMheXwk9cBT': {'id': '29g4gBcuH0hgx5H$n5Th1$:0c$N1CTon2BB2Sp89385G8->2iPwJwpPDCSgMheXwk9cBT',\n",
       "  'labels': 'CONTAINED_IN',\n",
       "  'rel_class': 'IfcRelContainedInSpatialStructure',\n",
       "  'rel_id': '29g4gBcuH0hgx5H$n5Th1$',\n",
       "  'from': '0c$N1CTon2BB2Sp89385G8',\n",
       "  'to': '2iPwJwpPDCSgMheXwk9cBT'},\n",
       " '0oxik3NHL8WwNmRqfgUDeo:2Ndyd$OSX7s9A04nc4lyye->23sFQGRy90RxVbRHD9iSE2': {'id': '0oxik3NHL8WwNmRqfgUDeo:2Ndyd$OSX7s9A04nc4lyye->23sFQGRy90RxVbRHD9iSE2',\n",
       "  'labels': 'AGGREGATES',\n",
       "  'rel_class': 'IfcRelAggregates',\n",
       "  'rel_id': '0oxik3NHL8WwNmRqfgUDeo',\n",
       "  'from': '2Ndyd$OSX7s9A04nc4lyye',\n",
       "  'to': '23sFQGRy90RxVbRHD9iSE2'},\n",
       " '3zDClUSv10BgOdMB11_kd4:23sFQGRy90RxVbRHD9iSE2->1Pbuu0tu59NfhrTsztVBK1': {'id': '3zDClUSv10BgOdMB11_kd4:23sFQGRy90RxVbRHD9iSE2->1Pbuu0tu59NfhrTsztVBK1',\n",
       "  'labels': 'AGGREGATES',\n",
       "  'rel_class': 'IfcRelAggregates',\n",
       "  'rel_id': '3zDClUSv10BgOdMB11_kd4',\n",
       "  'from': '23sFQGRy90RxVbRHD9iSE2',\n",
       "  'to': '1Pbuu0tu59NfhrTsztVBK1'},\n",
       " '125RJLSU1E$x$3y4Ura4jb:1Pbuu0tu59NfhrTsztVBK1->0c$N1CTon2BB2Sp89385G8': {'id': '125RJLSU1E$x$3y4Ura4jb:1Pbuu0tu59NfhrTsztVBK1->0c$N1CTon2BB2Sp89385G8',\n",
       "  'labels': 'AGGREGATES',\n",
       "  'rel_class': 'IfcRelAggregates',\n",
       "  'rel_id': '125RJLSU1E$x$3y4Ura4jb',\n",
       "  'from': '1Pbuu0tu59NfhrTsztVBK1',\n",
       "  'to': '0c$N1CTon2BB2Sp89385G8'},\n",
       " '2Z0bwx$9T0uvCFhebTd6KT:0c$N1CTon2BB2Sp89385G8->1Ano2ZUxnEIvVQ_beukl8b': {'id': '2Z0bwx$9T0uvCFhebTd6KT:0c$N1CTon2BB2Sp89385G8->1Ano2ZUxnEIvVQ_beukl8b',\n",
       "  'labels': 'AGGREGATES',\n",
       "  'rel_class': 'IfcRelAggregates',\n",
       "  'rel_id': '2Z0bwx$9T0uvCFhebTd6KT',\n",
       "  'from': '0c$N1CTon2BB2Sp89385G8',\n",
       "  'to': '1Ano2ZUxnEIvVQ_beukl8b'},\n",
       " '29hd6AocXDXOth5fT8VPXL:2iPwJwpPDCSgMheXwk9cBT->0fqX614OH1YO1Njdxms2$Q': {'id': '29hd6AocXDXOth5fT8VPXL:2iPwJwpPDCSgMheXwk9cBT->0fqX614OH1YO1Njdxms2$Q',\n",
       "  'labels': 'AGGREGATES',\n",
       "  'rel_class': 'IfcRelAggregates',\n",
       "  'rel_id': '29hd6AocXDXOth5fT8VPXL',\n",
       "  'from': '2iPwJwpPDCSgMheXwk9cBT',\n",
       "  'to': '0fqX614OH1YO1Njdxms2$Q'},\n",
       " '29hd6AocXDXOth5fT8VPXL:2iPwJwpPDCSgMheXwk9cBT->0rh7bRO0L9fg1NzgGKU$Ut': {'id': '29hd6AocXDXOth5fT8VPXL:2iPwJwpPDCSgMheXwk9cBT->0rh7bRO0L9fg1NzgGKU$Ut',\n",
       "  'labels': 'AGGREGATES',\n",
       "  'rel_class': 'IfcRelAggregates',\n",
       "  'rel_id': '29hd6AocXDXOth5fT8VPXL',\n",
       "  'from': '2iPwJwpPDCSgMheXwk9cBT',\n",
       "  'to': '0rh7bRO0L9fg1NzgGKU$Ut'},\n",
       " '29hd6AocXDXOth5fT8VPXL:2iPwJwpPDCSgMheXwk9cBT->3roxUKbVv98xiUcl22_T07': {'id': '29hd6AocXDXOth5fT8VPXL:2iPwJwpPDCSgMheXwk9cBT->3roxUKbVv98xiUcl22_T07',\n",
       "  'labels': 'AGGREGATES',\n",
       "  'rel_class': 'IfcRelAggregates',\n",
       "  'rel_id': '29hd6AocXDXOth5fT8VPXL',\n",
       "  'from': '2iPwJwpPDCSgMheXwk9cBT',\n",
       "  'to': '3roxUKbVv98xiUcl22_T07'},\n",
       " '29hd6AocXDXOth5fT8VPXL:2iPwJwpPDCSgMheXwk9cBT->0Lvk$Qa81D5et3l3a4S9Vk': {'id': '29hd6AocXDXOth5fT8VPXL:2iPwJwpPDCSgMheXwk9cBT->0Lvk$Qa81D5et3l3a4S9Vk',\n",
       "  'labels': 'AGGREGATES',\n",
       "  'rel_class': 'IfcRelAggregates',\n",
       "  'rel_id': '29hd6AocXDXOth5fT8VPXL',\n",
       "  'from': '2iPwJwpPDCSgMheXwk9cBT',\n",
       "  'to': '0Lvk$Qa81D5et3l3a4S9Vk'},\n",
       " '29hd6AocXDXOth5fT8VPXL:2iPwJwpPDCSgMheXwk9cBT->2ddLgAnQf4mBfh5IpUp54U': {'id': '29hd6AocXDXOth5fT8VPXL:2iPwJwpPDCSgMheXwk9cBT->2ddLgAnQf4mBfh5IpUp54U',\n",
       "  'labels': 'AGGREGATES',\n",
       "  'rel_class': 'IfcRelAggregates',\n",
       "  'rel_id': '29hd6AocXDXOth5fT8VPXL',\n",
       "  'from': '2iPwJwpPDCSgMheXwk9cBT',\n",
       "  'to': '2ddLgAnQf4mBfh5IpUp54U'},\n",
       " '29hd6AocXDXOth5fT8VPXL:2iPwJwpPDCSgMheXwk9cBT->2fjJuPht9EIQaZQYZfC1Op': {'id': '29hd6AocXDXOth5fT8VPXL:2iPwJwpPDCSgMheXwk9cBT->2fjJuPht9EIQaZQYZfC1Op',\n",
       "  'labels': 'AGGREGATES',\n",
       "  'rel_class': 'IfcRelAggregates',\n",
       "  'rel_id': '29hd6AocXDXOth5fT8VPXL',\n",
       "  'from': '2iPwJwpPDCSgMheXwk9cBT',\n",
       "  'to': '2fjJuPht9EIQaZQYZfC1Op'},\n",
       " '29hd6AocXDXOth5fT8VPXL:2iPwJwpPDCSgMheXwk9cBT->2r_8UEywH9_RLHe8z$Xa8J': {'id': '29hd6AocXDXOth5fT8VPXL:2iPwJwpPDCSgMheXwk9cBT->2r_8UEywH9_RLHe8z$Xa8J',\n",
       "  'labels': 'AGGREGATES',\n",
       "  'rel_class': 'IfcRelAggregates',\n",
       "  'rel_id': '29hd6AocXDXOth5fT8VPXL',\n",
       "  'from': '2iPwJwpPDCSgMheXwk9cBT',\n",
       "  'to': '2r_8UEywH9_RLHe8z$Xa8J'},\n",
       " '29hd6AocXDXOth5fT8VPXL:2iPwJwpPDCSgMheXwk9cBT->2cc4uJUVv5BevbidUpn1H3': {'id': '29hd6AocXDXOth5fT8VPXL:2iPwJwpPDCSgMheXwk9cBT->2cc4uJUVv5BevbidUpn1H3',\n",
       "  'labels': 'AGGREGATES',\n",
       "  'rel_class': 'IfcRelAggregates',\n",
       "  'rel_id': '29hd6AocXDXOth5fT8VPXL',\n",
       "  'from': '2iPwJwpPDCSgMheXwk9cBT',\n",
       "  'to': '2cc4uJUVv5BevbidUpn1H3'},\n",
       " '03PQtV4nbFoPd97bT_31oH:IfcClassificationReference:35->0c$N1CTon2BB2Sp89385G8': {'id': '03PQtV4nbFoPd97bT_31oH:IfcClassificationReference:35->0c$N1CTon2BB2Sp89385G8',\n",
       "  'labels': 'ASSOCIATED_CLASSIFICATION',\n",
       "  'rel_class': 'IfcRelAssociatesClassification',\n",
       "  'rel_id': '03PQtV4nbFoPd97bT_31oH',\n",
       "  'from': 'IfcClassificationReference:35',\n",
       "  'to': '0c$N1CTon2BB2Sp89385G8'}}"
      ]
     },
     "execution_count": 69,
     "metadata": {},
     "output_type": "execute_result"
    }
   ],
   "source": [
    "# edges"
   ]
  },
  {
   "cell_type": "markdown",
   "id": "7d283d2b-644f-455d-9a7b-1fcf7568e27f",
   "metadata": {},
   "source": [
    "## 6.2. IfcEntities - Nodes Preparation:"
   ]
  },
  {
   "cell_type": "markdown",
   "id": "17b70331-f847-4b72-9b5e-ee0c1d354e1a",
   "metadata": {},
   "source": [
    "### 6.2.1. Collect IfcEntities:"
   ]
  },
  {
   "cell_type": "code",
   "execution_count": 33,
   "id": "a4067ba6-111d-4b30-94dc-0905ef4a10d3",
   "metadata": {},
   "outputs": [],
   "source": [
    "relating_ents = get_entities_from_edges(model, edges, \"from\")"
   ]
  },
  {
   "cell_type": "code",
   "execution_count": 34,
   "id": "2d36a7b9-64a4-4145-8b6f-ff5e8e141e78",
   "metadata": {},
   "outputs": [],
   "source": [
    "related_ents = get_entities_from_edges(model, edges, \"to\")"
   ]
  },
  {
   "cell_type": "code",
   "execution_count": 35,
   "id": "fa90c2c7-baa7-4a8c-b392-6bf42a2b337b",
   "metadata": {},
   "outputs": [],
   "source": [
    "all_ents = merge_unique(relating_ents, related_ents)"
   ]
  },
  {
   "cell_type": "markdown",
   "id": "a3de85f1-6002-4d62-9ab4-d4692d745bf6",
   "metadata": {},
   "source": [
    "### 6.2.2. Functions Building Guidance:"
   ]
  },
  {
   "cell_type": "markdown",
   "id": "a8704e3a-b31d-496d-b861-d64d46f0adc1",
   "metadata": {},
   "source": [
    "**node_set:**"
   ]
  },
  {
   "cell_type": "code",
   "execution_count": 36,
   "id": "ed47825a-16e3-43c1-84a7-826aae2557b0",
   "metadata": {},
   "outputs": [
    {
     "data": {
      "text/plain": [
       "{'IfcBuilding',\n",
       " 'IfcBuildingStorey',\n",
       " 'IfcClassificationReference',\n",
       " 'IfcElement',\n",
       " 'IfcElementQuantity',\n",
       " 'IfcMaterial',\n",
       " 'IfcProject',\n",
       " 'IfcPropertySet',\n",
       " 'IfcSite',\n",
       " 'IfcTypeObject'}"
      ]
     },
     "execution_count": 36,
     "metadata": {},
     "output_type": "execute_result"
    }
   ],
   "source": [
    "entities_classes_identify(all_ents)"
   ]
  },
  {
   "cell_type": "markdown",
   "id": "64005188-bda1-4b50-8581-24496ed8b415",
   "metadata": {},
   "source": [
    "**pset_props_collect & qset_props_collect:**"
   ]
  },
  {
   "cell_type": "code",
   "execution_count": 37,
   "id": "d404503a-a17e-4c8f-9c9a-48453b497c68",
   "metadata": {},
   "outputs": [
    {
     "data": {
      "text/plain": [
       "{'IfcPropertySet': {'ConstructionMethod': {'property_type': 'IfcPropertySingleValue'},\n",
       "  'Status': {'property_type': 'IfcPropertyEnumeratedValue'},\n",
       "  'IsExternal': {'property_type': 'IfcPropertySingleValue'},\n",
       "  'LoadBearing': {'property_type': 'IfcPropertySingleValue'}},\n",
       " 'IfcElementQuantity': {'NetVolume': {'property_type': 'IfcQuantityVolume'},\n",
       "  'Width': {'property_type': 'IfcQuantityLength'},\n",
       "  'Length': {'property_type': 'IfcQuantityLength'},\n",
       "  'NetSideArea': {'property_type': 'IfcQuantityArea'},\n",
       "  'CrossSectionArea': {'property_type': 'IfcQuantityArea'}}}"
      ]
     },
     "execution_count": 37,
     "metadata": {},
     "output_type": "execute_result"
    }
   ],
   "source": [
    "props = props_identify(all_ents)\n",
    "props"
   ]
  },
  {
   "cell_type": "markdown",
   "id": "d93b81bf-4f42-49c4-8d45-1e2523c9fdec",
   "metadata": {},
   "source": [
    "### 6.2.3. Nodes dictionary:"
   ]
  },
  {
   "cell_type": "code",
   "execution_count": 38,
   "id": "ea193e91-1539-435f-8873-70a3cba0da7a",
   "metadata": {},
   "outputs": [],
   "source": [
    "nodes = nodes_maker(all_ents)"
   ]
  },
  {
   "cell_type": "markdown",
   "id": "45d9ab34-2bed-4e74-9f2e-54a1bb907087",
   "metadata": {},
   "source": [
    "### 6.2.4. Nodes dictionary flattening:"
   ]
  },
  {
   "cell_type": "markdown",
   "id": "783a1bc4-65a5-483f-829c-185843b820cf",
   "metadata": {},
   "source": [
    "### Flattening the Nodes Dictionary\n",
    "\n",
    "Neo4j node properties must be stored as **primitive types** (strings, numbers, booleans, lists).  \n",
    "Nested dictionaries or maps are **not supported** as property values.  \n",
    "\n",
    "The IFC parsing stage produces a `nodes` dictionary where attributes such as property sets or quantities may be stored as nested structures. To make these compatible with Neo4j:\n",
    "\n",
    "- Each nested dictionary is **flattened** into key–value pairs (e.g., `{\"Pset_WallCommon\": {\"FireRating\": \"2h\"}}` becomes `{\"Pset_WallCommon_FireRating\": \"2h\"}`).\n",
    "- The `\"labels\"` field is preserved separately to define the node categories in Neo4j.\n",
    "\n",
    "This flattening step ensures that all node attributes can be safely inserted as Neo4j properties without loss of information or structural conflicts."
   ]
  },
  {
   "cell_type": "code",
   "execution_count": 39,
   "id": "164c89fe-3df9-443e-bb90-227ba16227dc",
   "metadata": {},
   "outputs": [],
   "source": [
    "nodes = nodes_flatten(nodes)"
   ]
  },
  {
   "cell_type": "markdown",
   "id": "17e5b461-1b45-4b48-88b1-433bf9a24d9d",
   "metadata": {},
   "source": [
    "## 6.3. Sanity Checks:"
   ]
  },
  {
   "cell_type": "code",
   "execution_count": 40,
   "id": "12cd67ff-dd30-4ba8-b2a4-08c58677f6c5",
   "metadata": {},
   "outputs": [
    {
     "name": "stdout",
     "output_type": "stream",
     "text": [
      "Total number of elements: 15\n",
      "IfcBeam: 6.\n",
      "IfcChimney: 1.\n",
      "IfcFooting: 1.\n",
      "IfcRoof: 1.\n",
      "IfcWall: 4.\n",
      "IfcDiscreteAccessory: 2.\n"
     ]
    }
   ],
   "source": [
    "elements_distribution = elements_inspection(model)\n",
    "# elements_distribution"
   ]
  },
  {
   "cell_type": "code",
   "execution_count": 41,
   "id": "e95a140a-ba1a-4363-8585-491039d503f6",
   "metadata": {},
   "outputs": [
    {
     "name": "stdout",
     "output_type": "stream",
     "text": [
      "Proxy check passed, there is no Proxy entity.\n",
      "Edge count check passed: expected and actual are consistent (65).\n",
      "Relating entities count check passed: 65 = number of edges (65).\n",
      "Related entities count check passed: 65 = number of edges (65).\n",
      "Unique node union check passed: |union|=56, |relating|=41, |related|=19\n",
      "The overall sanity check has been succesfully passed: True.\n"
     ]
    }
   ],
   "source": [
    "sanity(expected, actual, relating_ents, related_ents)"
   ]
  },
  {
   "cell_type": "markdown",
   "id": "17c12f93-b616-402a-a0db-5a4ecf34a2a0",
   "metadata": {},
   "source": [
    "# 7. Neo4J graph:"
   ]
  },
  {
   "cell_type": "markdown",
   "id": "14561b03-9537-4eae-bc00-bbc03a891d3d",
   "metadata": {},
   "source": [
    "## 7.1. Graph schema definition:"
   ]
  },
  {
   "cell_type": "markdown",
   "id": "5b8c3310-3a32-4c4f-93d9-109256efc09a",
   "metadata": {},
   "source": [
    "By collecting node labels, categories, types, edge types, and the attributes and properties of both nodes and edges during IFC parsing, a baseline schema profile of the model is established. Once the data is imported into Neo4j, the same metrics can be recomputed with Cypher and compared against this baseline. This provides a sanity check to confirm that the Neo4j graph faithfully reflects the IFC structure, preserves attributes and relationships, and has not lost or altered information during transformation. In this way, the metrics act as a fingerprint of the IFC dataset, supporting the integrity and consistency of the final graph.  "
   ]
  },
  {
   "cell_type": "markdown",
   "id": "8ac77259-592b-45d5-a6f2-f3bcf04be529",
   "metadata": {},
   "source": [
    "### 7.1.1. Nodes labels, categories and types:"
   ]
  },
  {
   "cell_type": "code",
   "execution_count": 42,
   "id": "fbc753b4-f022-4cb3-ab95-30b3d6aae7cb",
   "metadata": {},
   "outputs": [
    {
     "name": "stdout",
     "output_type": "stream",
     "text": [
      "Number of node categories: 8.\n",
      "Number of node types: 20.\n",
      "\n",
      "TOTAL NUMBER OF NODES: 56\n",
      "\n",
      "NODE CATEGORIES:\n",
      " - CLASSIFICATION_REF: 1.\n",
      " - ELEMENT: 15.\n",
      " - MATERIAL: 4.\n",
      " - PROJECT: 1.\n",
      " - PSET: 12.\n",
      " - QSET: 10.\n",
      " - SPATIAL: 4.\n",
      " - TYPE: 9.\n",
      "\n",
      "NODE TYPES:\n",
      " - IfcBeam: 6.\n",
      " - IfcBeamType: 1.\n",
      " - IfcBuilding: 1.\n",
      " - IfcBuildingStorey: 1.\n",
      " - IfcChimney: 1.\n",
      " - IfcChimneyType: 1.\n",
      " - IfcClassificationReference: 1.\n",
      " - IfcDiscreteAccessory: 2.\n",
      " - IfcDiscreteAccessoryType: 1.\n",
      " - IfcElementQuantity: 10.\n",
      " - IfcFooting: 1.\n",
      " - IfcFootingType: 1.\n",
      " - IfcMaterial: 4.\n",
      " - IfcProject: 1.\n",
      " - IfcPropertySet: 12.\n",
      " - IfcRoof: 1.\n",
      " - IfcRoofType: 1.\n",
      " - IfcSite: 2.\n",
      " - IfcWall: 4.\n",
      " - IfcWallType: 4.\n"
     ]
    }
   ],
   "source": [
    "n_cat_counter, n_type_counter = ent_labels(\"nodes\", nodes, True)"
   ]
  },
  {
   "cell_type": "markdown",
   "id": "0991cd6a-5b95-4b5c-959f-926775b9b760",
   "metadata": {},
   "source": [
    "### 7.1.2. Relationships/edges types:"
   ]
  },
  {
   "cell_type": "code",
   "execution_count": 43,
   "id": "7ca54d8b-e820-4589-9804-7b78e35195ad",
   "metadata": {},
   "outputs": [
    {
     "name": "stdout",
     "output_type": "stream",
     "text": [
      "Number of edge types: 7.\n",
      "\n",
      "TOTAL NUMBER OF NODES: 65\n",
      "\n",
      "EDGE TYPES:\n",
      " - AGGREGATES: 12.\n",
      " - ASSOCIATED_CLASSIFICATION: 1.\n",
      " - ASSOCIATED_MATERIAL: 14.\n",
      " - CONTAINED_IN: 1.\n",
      " - DEFINED_BY_PROPERTIES: 12.\n",
      " - DEFINED_BY_QUANTITIES: 10.\n",
      " - DEFINED_BY_TYPE: 15.\n"
     ]
    }
   ],
   "source": [
    "e_type_counter = ent_labels(\"edges\", edges, True)"
   ]
  },
  {
   "cell_type": "markdown",
   "id": "490a62c0-0937-4260-9ac4-d46d2259bbc8",
   "metadata": {},
   "source": [
    "### 7.1.3. Nodes & edges attributes:"
   ]
  },
  {
   "cell_type": "markdown",
   "id": "d54ed334-0c2e-42cb-860e-dc5fa8bfa466",
   "metadata": {},
   "source": [
    "**NODES ATTRIBUTES & PROPERTIES:**"
   ]
  },
  {
   "cell_type": "code",
   "execution_count": 44,
   "id": "72b8eabd-adb1-489d-8c4c-b53a77affdcb",
   "metadata": {
    "scrolled": true
   },
   "outputs": [
    {
     "name": "stdout",
     "output_type": "stream",
     "text": [
      "\n",
      "===NODE ATTRIBUTE ANALYSIS===\n",
      "\n",
      "Top-level attributes per category:\n",
      " - CLASSIFICATION_REF (1 nodes): ['code', 'id', 'name', 'scheme_id', 'uri']\n",
      "    • id: 1/1\n",
      "    • name: 1/1\n",
      "    • code: 1/1\n",
      "    • uri: 1/1\n",
      "    • scheme_id: 1/1\n",
      "\n",
      " - ELEMENT (15 nodes): ['id', 'name', 'predefined_type']\n",
      "    • id: 15/15\n",
      "    • name: 15/15\n",
      "    • predefined_type: 15/15\n",
      "\n",
      " - MATERIAL (4 nodes): ['id', 'name']\n",
      "    • id: 4/4\n",
      "    • name: 4/4\n",
      "\n",
      " - PROJECT (1 nodes): ['id', 'name']\n",
      "    • id: 1/1\n",
      "    • name: 1/1\n",
      "\n",
      " - PSET (12 nodes): ['id', 'name', 'properties::ConstructionMethod::kind', 'properties::ConstructionMethod::value', 'properties::IsExternal::kind', 'properties::IsExternal::value', 'properties::LoadBearing::kind', 'properties::LoadBearing::value', 'properties::Status::domain', 'properties::Status::enumeration_name', 'properties::Status::kind', 'properties::Status::value']\n",
      "    • id: 12/12\n",
      "    • name: 12/12\n",
      "    • properties::Status::kind: 11/12\n",
      "    • properties::Status::value: 11/12\n",
      "    • properties::Status::enumeration_name: 11/12\n",
      "    • properties::Status::domain: 11/12\n",
      "    • properties::IsExternal::kind: 11/12\n",
      "    • properties::IsExternal::value: 11/12\n",
      "    • properties::LoadBearing::kind: 9/12\n",
      "    • properties::LoadBearing::value: 9/12\n",
      "    • properties::ConstructionMethod::kind: 1/12\n",
      "    • properties::ConstructionMethod::value: 1/12\n",
      "\n",
      " - QSET (10 nodes): ['id', 'name', 'quantities::CrossSectionArea::kind', 'quantities::CrossSectionArea::value', 'quantities::Length::kind', 'quantities::Length::value', 'quantities::NetSideArea::kind', 'quantities::NetSideArea::value', 'quantities::NetVolume::kind', 'quantities::NetVolume::value', 'quantities::Width::kind', 'quantities::Width::value']\n",
      "    • id: 10/10\n",
      "    • name: 10/10\n",
      "    • quantities::NetVolume::kind: 10/10\n",
      "    • quantities::NetVolume::value: 10/10\n",
      "    • quantities::Length::kind: 10/10\n",
      "    • quantities::Length::value: 10/10\n",
      "    • quantities::CrossSectionArea::kind: 6/10\n",
      "    • quantities::CrossSectionArea::value: 6/10\n",
      "    • quantities::Width::kind: 4/10\n",
      "    • quantities::Width::value: 4/10\n",
      "    • quantities::NetSideArea::kind: 4/10\n",
      "    • quantities::NetSideArea::value: 4/10\n",
      "\n",
      " - SPATIAL (4 nodes): ['id', 'name']\n",
      "    • id: 4/4\n",
      "    • name: 4/4\n",
      "\n",
      " - TYPE (9 nodes): ['id', 'name']\n",
      "    • id: 9/9\n",
      "    • name: 9/9\n",
      "\n",
      "\n",
      " PSET property keys per set:\n",
      " - Pset_BeamCommon: ['properties::IsExternal::kind', 'properties::IsExternal::value', 'properties::LoadBearing::kind', 'properties::LoadBearing::value', 'properties::Status::domain', 'properties::Status::enumeration_name', 'properties::Status::kind', 'properties::Status::value']\n",
      "    • properties::Status::kind: 6\n",
      "    • properties::Status::value: 6\n",
      "    • properties::Status::enumeration_name: 6\n",
      "    • properties::Status::domain: 6\n",
      "    • properties::IsExternal::kind: 6\n",
      "    • properties::IsExternal::value: 6\n",
      "    • properties::LoadBearing::kind: 6\n",
      "    • properties::LoadBearing::value: 6\n",
      "\n",
      " - Pset_BuildingCommon: ['properties::ConstructionMethod::kind', 'properties::ConstructionMethod::value']\n",
      "    • properties::ConstructionMethod::kind: 1\n",
      "    • properties::ConstructionMethod::value: 1\n",
      "\n",
      " - Pset_RoofCommon: ['properties::IsExternal::kind', 'properties::IsExternal::value', 'properties::Status::domain', 'properties::Status::enumeration_name', 'properties::Status::kind', 'properties::Status::value']\n",
      "    • properties::Status::kind: 1\n",
      "    • properties::Status::value: 1\n",
      "    • properties::Status::enumeration_name: 1\n",
      "    • properties::Status::domain: 1\n",
      "    • properties::IsExternal::kind: 1\n",
      "    • properties::IsExternal::value: 1\n",
      "\n",
      " - Pset_WallCommon: ['properties::IsExternal::kind', 'properties::IsExternal::value', 'properties::LoadBearing::kind', 'properties::LoadBearing::value', 'properties::Status::domain', 'properties::Status::enumeration_name', 'properties::Status::kind', 'properties::Status::value']\n",
      "    • properties::Status::kind: 4\n",
      "    • properties::Status::value: 4\n",
      "    • properties::Status::enumeration_name: 4\n",
      "    • properties::Status::domain: 4\n",
      "    • properties::IsExternal::kind: 4\n",
      "    • properties::IsExternal::value: 4\n",
      "    • properties::LoadBearing::kind: 3\n",
      "    • properties::LoadBearing::value: 3\n",
      "\n",
      "\n",
      " QSET quantity keys per set:\n",
      " - Qto_BeamBaseQuantities: ['quantities::CrossSectionArea::kind', 'quantities::CrossSectionArea::value', 'quantities::Length::kind', 'quantities::Length::value', 'quantities::NetVolume::kind', 'quantities::NetVolume::value']\n",
      "    • quantities::NetVolume::kind: 6\n",
      "    • quantities::NetVolume::value: 6\n",
      "    • quantities::Length::kind: 6\n",
      "    • quantities::Length::value: 6\n",
      "    • quantities::CrossSectionArea::kind: 6\n",
      "    • quantities::CrossSectionArea::value: 6\n",
      "\n",
      " - Qto_WallBaseQuantities: ['quantities::Length::kind', 'quantities::Length::value', 'quantities::NetSideArea::kind', 'quantities::NetSideArea::value', 'quantities::NetVolume::kind', 'quantities::NetVolume::value', 'quantities::Width::kind', 'quantities::Width::value']\n",
      "    • quantities::NetVolume::kind: 4\n",
      "    • quantities::NetVolume::value: 4\n",
      "    • quantities::Width::kind: 4\n",
      "    • quantities::Width::value: 4\n",
      "    • quantities::Length::kind: 4\n",
      "    • quantities::Length::value: 4\n",
      "    • quantities::NetSideArea::kind: 4\n",
      "    • quantities::NetSideArea::value: 4\n",
      "\n"
     ]
    }
   ],
   "source": [
    "n_cat_attr_counts, n_cat_totals, n_pset_prop_counts, n_qset_prop_counts = search_attr(nodes, True, \"node\")"
   ]
  },
  {
   "cell_type": "markdown",
   "id": "d43aa26e-60b9-4fd2-b4a6-9cc7e475a2b9",
   "metadata": {},
   "source": [
    "**EDGES ATTRIBUTES:**"
   ]
  },
  {
   "cell_type": "code",
   "execution_count": 45,
   "id": "e5710992-0cae-4ad9-8208-1368c8941b5b",
   "metadata": {
    "scrolled": true
   },
   "outputs": [
    {
     "name": "stdout",
     "output_type": "stream",
     "text": [
      "\n",
      "===EDGE ATTRIBUTE ANALYSIS===\n",
      "\n",
      "Top-level attributes per category:\n",
      " - AGGREGATES (12 nodes): ['from', 'id', 'rel_class', 'rel_id', 'to']\n",
      "    • id: 12/12\n",
      "    • rel_class: 12/12\n",
      "    • rel_id: 12/12\n",
      "    • from: 12/12\n",
      "    • to: 12/12\n",
      "\n",
      " - ASSOCIATED_CLASSIFICATION (1 nodes): ['from', 'id', 'rel_class', 'rel_id', 'to']\n",
      "    • id: 1/1\n",
      "    • rel_class: 1/1\n",
      "    • rel_id: 1/1\n",
      "    • from: 1/1\n",
      "    • to: 1/1\n",
      "\n",
      " - ASSOCIATED_MATERIAL (14 nodes): ['from', 'id', 'rel_class', 'rel_id', 'to']\n",
      "    • id: 14/14\n",
      "    • rel_class: 14/14\n",
      "    • rel_id: 14/14\n",
      "    • from: 14/14\n",
      "    • to: 14/14\n",
      "\n",
      " - CONTAINED_IN (1 nodes): ['from', 'id', 'rel_class', 'rel_id', 'to']\n",
      "    • id: 1/1\n",
      "    • rel_class: 1/1\n",
      "    • rel_id: 1/1\n",
      "    • from: 1/1\n",
      "    • to: 1/1\n",
      "\n",
      " - DEFINED_BY_PROPERTIES (12 nodes): ['from', 'id', 'rel_class', 'rel_id', 'to']\n",
      "    • id: 12/12\n",
      "    • rel_class: 12/12\n",
      "    • rel_id: 12/12\n",
      "    • from: 12/12\n",
      "    • to: 12/12\n",
      "\n",
      " - DEFINED_BY_QUANTITIES (10 nodes): ['from', 'id', 'rel_class', 'rel_id', 'to']\n",
      "    • id: 10/10\n",
      "    • rel_class: 10/10\n",
      "    • rel_id: 10/10\n",
      "    • from: 10/10\n",
      "    • to: 10/10\n",
      "\n",
      " - DEFINED_BY_TYPE (15 nodes): ['from', 'id', 'rel_class', 'rel_id', 'to']\n",
      "    • id: 15/15\n",
      "    • rel_class: 15/15\n",
      "    • rel_id: 15/15\n",
      "    • from: 15/15\n",
      "    • to: 15/15\n",
      "\n"
     ]
    }
   ],
   "source": [
    "e_cat_attr_counts, e_cat_totals = search_attr(edges, True, \"edge\")"
   ]
  },
  {
   "cell_type": "markdown",
   "id": "c739f469-26bc-418e-8622-1930572a07a6",
   "metadata": {},
   "source": [
    "## 7.2. Graph creation:"
   ]
  },
  {
   "cell_type": "markdown",
   "id": "12220158-4f87-4d8a-911f-280a65044357",
   "metadata": {},
   "source": [
    "To set up the Neo4j graph, both the **\"nodes\"** dictionary and the **\"edges\"** dictionary generated during the IFC parsing stage will serve as the input. These dictionaries represent the essential building blocks of the graph:  \n",
    "- the **\"nodes\"** (with their labels, categories, types, attributes and properties/quantities)  \n",
    "- the **\"edges\"** (with their relationship categories and endpoints)\n",
    "\n",
    "They will be passed into Neo4j through the **Neo4j Python driver**, which manages the connection and Cypher queries used to create the graph."
   ]
  },
  {
   "cell_type": "markdown",
   "id": "1810e53a-94aa-46b4-bb36-11d21954bcdc",
   "metadata": {},
   "source": [
    "### 7.2.1. Nodes insertion:"
   ]
  },
  {
   "cell_type": "code",
   "execution_count": 46,
   "id": "1eea165b-527d-428f-8762-535840adb193",
   "metadata": {},
   "outputs": [],
   "source": [
    "driver_merge(nodes, \"node\")"
   ]
  },
  {
   "cell_type": "markdown",
   "id": "7050ba0d-3ddf-40af-9204-61083b477f17",
   "metadata": {},
   "source": [
    "### 7.2.2. Relationships/edges insertion:"
   ]
  },
  {
   "cell_type": "code",
   "execution_count": 47,
   "id": "f164f6d3-2069-4921-9d1f-5ae0fb9bf3b2",
   "metadata": {},
   "outputs": [],
   "source": [
    "driver_merge(edges, \"edge\")"
   ]
  },
  {
   "cell_type": "markdown",
   "id": "55424773-ec19-409d-9403-b02d4b5e1c82",
   "metadata": {},
   "source": [
    "## 7.3. Graph integrity:"
   ]
  },
  {
   "cell_type": "markdown",
   "id": "e7603c98-c974-4b14-b8fb-d6ac88ff477f",
   "metadata": {},
   "source": [
    "### 7.3.1. Numbers of edges & nodes:"
   ]
  },
  {
   "cell_type": "code",
   "execution_count": null,
   "id": "ccc99d81-dece-4233-803e-f505bae519a7",
   "metadata": {},
   "outputs": [],
   "source": []
  },
  {
   "cell_type": "markdown",
   "id": "fc38ee34-0c7e-4850-8064-c411502e5c02",
   "metadata": {},
   "source": [
    "## START FIRST BY CHECKING THE NUMBER OF EDGES & NODES."
   ]
  },
  {
   "cell_type": "code",
   "execution_count": null,
   "id": "34bf582b-ae1e-4c91-bee8-9e384fe8d1fa",
   "metadata": {},
   "outputs": [],
   "source": []
  },
  {
   "cell_type": "markdown",
   "id": "31c3de1f-4656-40f0-8e01-411c88ca84c2",
   "metadata": {},
   "source": [
    "### 7.3.1. Nodes labels, categories and types:"
   ]
  },
  {
   "cell_type": "code",
   "execution_count": 48,
   "id": "fe5be2b5-5292-4210-92aa-79592540575e",
   "metadata": {},
   "outputs": [
    {
     "name": "stdout",
     "output_type": "stream",
     "text": [
      "The nodes categories match: True.\n"
     ]
    }
   ],
   "source": [
    "nodes_cats_passed, nodes_cats_actual = check_labels(n_cat_counter, \"nodes\", \"categories\")"
   ]
  },
  {
   "cell_type": "code",
   "execution_count": 49,
   "id": "767f6b78-0220-4102-84cb-4c19fbd0d7d4",
   "metadata": {},
   "outputs": [
    {
     "name": "stdout",
     "output_type": "stream",
     "text": [
      "The nodes types match: True.\n"
     ]
    }
   ],
   "source": [
    "nodes_types_passed, nodes_types_actual = check_labels(n_type_counter, \"nodes\", \"types\")"
   ]
  },
  {
   "cell_type": "markdown",
   "id": "f71355c4-bdf8-476a-90db-f35ab3ebc708",
   "metadata": {},
   "source": [
    "### 7.3.2. Edges labels:"
   ]
  },
  {
   "cell_type": "code",
   "execution_count": 50,
   "id": "6ce569a9-1fc8-43bf-95f6-8e4872be7ac0",
   "metadata": {},
   "outputs": [
    {
     "name": "stdout",
     "output_type": "stream",
     "text": [
      "The edges types match: True.\n"
     ]
    }
   ],
   "source": [
    "edges_types_passed, edges_types_actual = check_labels(e_type_counter, \"edges\", \"types\")"
   ]
  },
  {
   "cell_type": "markdown",
   "id": "e9c1b61f-d9b1-4fc8-827d-b6eeb6ff5634",
   "metadata": {},
   "source": [
    "### 7.3.3. Nodes attributes and properties:"
   ]
  },
  {
   "cell_type": "markdown",
   "id": "78aec144-664f-4490-bbd3-960b0e101653",
   "metadata": {},
   "source": [
    "**PER CATEGORY:**"
   ]
  },
  {
   "cell_type": "code",
   "execution_count": 51,
   "id": "190915b4-4d72-486c-aed4-4d1fa1fc8fb3",
   "metadata": {
    "scrolled": true
   },
   "outputs": [
    {
     "data": {
      "text/plain": [
       "defaultdict(collections.Counter,\n",
       "            {'PSET': Counter({'id': 12,\n",
       "                      'name': 12,\n",
       "                      'properties::ConstructionMethod::kind': 1,\n",
       "                      'properties::ConstructionMethod::value': 1,\n",
       "                      'properties::Status::kind': 11,\n",
       "                      'properties::Status::value': 11,\n",
       "                      'properties::Status::enumeration_name': 11,\n",
       "                      'properties::Status::domain': 11,\n",
       "                      'properties::IsExternal::kind': 11,\n",
       "                      'properties::IsExternal::value': 11,\n",
       "                      'properties::LoadBearing::kind': 9,\n",
       "                      'properties::LoadBearing::value': 9}),\n",
       "             'QSET': Counter({'id': 10,\n",
       "                      'name': 10,\n",
       "                      'quantities::NetVolume::kind': 10,\n",
       "                      'quantities::NetVolume::value': 10,\n",
       "                      'quantities::Width::kind': 4,\n",
       "                      'quantities::Width::value': 4,\n",
       "                      'quantities::Length::kind': 10,\n",
       "                      'quantities::Length::value': 10,\n",
       "                      'quantities::NetSideArea::kind': 4,\n",
       "                      'quantities::NetSideArea::value': 4,\n",
       "                      'quantities::CrossSectionArea::kind': 6,\n",
       "                      'quantities::CrossSectionArea::value': 6}),\n",
       "             'TYPE': Counter({'id': 9, 'name': 9}),\n",
       "             'MATERIAL': Counter({'id': 4, 'name': 4}),\n",
       "             'SPATIAL': Counter({'id': 4, 'name': 4}),\n",
       "             'PROJECT': Counter({'id': 1, 'name': 1}),\n",
       "             'ELEMENT': Counter({'id': 15, 'name': 15, 'predefined_type': 15}),\n",
       "             'CLASSIFICATION_REF': Counter({'id': 1,\n",
       "                      'name': 1,\n",
       "                      'code': 1,\n",
       "                      'uri': 1,\n",
       "                      'scheme_id': 1})})"
      ]
     },
     "execution_count": 51,
     "metadata": {},
     "output_type": "execute_result"
    }
   ],
   "source": [
    "n_cat_attr_counts"
   ]
  },
  {
   "cell_type": "code",
   "execution_count": 52,
   "id": "cb63324a-546b-44cd-9c2f-2530bf8c3ed5",
   "metadata": {},
   "outputs": [],
   "source": [
    "neo_cat_attr_counts = defaultdict(Counter)\n",
    "\n",
    "with driver.session(database=DATABASE) as session:\n",
    "    results = session.run(\n",
    "        \"\"\"\n",
    "        MATCH (n)\n",
    "        UNWIND keys(n) AS k\n",
    "        RETURN head(labels(n)) AS label, k, count(*) AS c\n",
    "        ORDER BY label, k\n",
    "        \"\"\"\n",
    "    )\n",
    "    for r in results:\n",
    "        label = r[\"label\"]\n",
    "        key = r[\"k\"]\n",
    "        c = r[\"c\"]\n",
    "        neo_cat_attr_counts[label][key] = c"
   ]
  },
  {
   "cell_type": "code",
   "execution_count": 53,
   "id": "d987629b-0b00-4913-83db-a60d4e13b7fa",
   "metadata": {
    "scrolled": true
   },
   "outputs": [
    {
     "data": {
      "text/plain": [
       "defaultdict(collections.Counter,\n",
       "            {'CLASSIFICATION_REF': Counter({'code': 1,\n",
       "                      'id': 1,\n",
       "                      'name': 1,\n",
       "                      'scheme_id': 1,\n",
       "                      'uri': 1}),\n",
       "             'ELEMENT': Counter({'id': 15, 'name': 15}),\n",
       "             'MATERIAL': Counter({'id': 4, 'name': 4}),\n",
       "             'PROJECT': Counter({'id': 1, 'name': 1}),\n",
       "             'PSET': Counter({'id': 12,\n",
       "                      'name': 12,\n",
       "                      'properties::ConstructionMethod::kind': 1,\n",
       "                      'properties::ConstructionMethod::value': 1,\n",
       "                      'properties::IsExternal::kind': 11,\n",
       "                      'properties::IsExternal::value': 11,\n",
       "                      'properties::LoadBearing::kind': 9,\n",
       "                      'properties::LoadBearing::value': 9,\n",
       "                      'properties::Status::domain': 11,\n",
       "                      'properties::Status::enumeration_name': 11,\n",
       "                      'properties::Status::kind': 11,\n",
       "                      'properties::Status::value': 11}),\n",
       "             'QSET': Counter({'id': 10,\n",
       "                      'name': 10,\n",
       "                      'quantities::CrossSectionArea::kind': 6,\n",
       "                      'quantities::CrossSectionArea::value': 6,\n",
       "                      'quantities::Length::kind': 10,\n",
       "                      'quantities::Length::value': 10,\n",
       "                      'quantities::NetSideArea::kind': 4,\n",
       "                      'quantities::NetSideArea::value': 4,\n",
       "                      'quantities::NetVolume::kind': 10,\n",
       "                      'quantities::NetVolume::value': 10,\n",
       "                      'quantities::Width::kind': 4,\n",
       "                      'quantities::Width::value': 4}),\n",
       "             'SPATIAL': Counter({'id': 4, 'name': 4}),\n",
       "             'TYPE': Counter({'id': 9, 'name': 9})})"
      ]
     },
     "execution_count": 53,
     "metadata": {},
     "output_type": "execute_result"
    }
   ],
   "source": [
    "neo_cat_attr_counts"
   ]
  },
  {
   "cell_type": "code",
   "execution_count": 54,
   "id": "5973c577-6f5a-43eb-a984-21e19db492da",
   "metadata": {},
   "outputs": [],
   "source": [
    "def compare_counters_ifc_neo(ifc, neo):\n",
    "    \"\"\"\n",
    "    Compare defaultdict(Counter) from IFC parsing vs Neo4J extraction.\n",
    "    \"\"\"\n",
    "\n",
    "    diffs = []\n",
    "    labels = set(ifc) | set(neo)\n",
    "    \n",
    "    for label in sorted(labels):\n",
    "        a = ifc.get(label, Counter())\n",
    "        b = neo.get(label, Counter())\n",
    "        keys = set(a.keys()) | set(b.keys())\n",
    "        for k in sorted(keys):\n",
    "            x = a.get(k, 0)\n",
    "            y = b.get(k, 0)\n",
    "            if x != y:\n",
    "                diffs.append((label, k, x, y))\n",
    "\n",
    "    match = (len(diffs) == 0)\n",
    "\n",
    "    if match:\n",
    "        print(\"The IFC and the Neo4J defaultdict(Counter) match: True.\")\n",
    "\n",
    "    else:\n",
    "        for label, k, x, y in diffs:\n",
    "            print(f\"[{label}] key {k}: IFC={x}, NEO={y}\")\n",
    "        print(f\"The IFC and the Neo4J defaultdict(Counter) match: False ({len(diffs)} differences).\")"
   ]
  },
  {
   "cell_type": "code",
   "execution_count": 55,
   "id": "60fbcd95-ef13-4f2a-a128-65a4fb14feec",
   "metadata": {},
   "outputs": [
    {
     "name": "stdout",
     "output_type": "stream",
     "text": [
      "[ELEMENT] key predefined_type: IFC=15, NEO=0\n",
      "The IFC and the Neo4J defaultdict(Counter) match: False (1 differences).\n"
     ]
    }
   ],
   "source": [
    "compare_counters_ifc_neo(n_cat_attr_counts, neo_cat_attr_counts)"
   ]
  },
  {
   "cell_type": "markdown",
   "id": "f787dbe9-111c-4d43-8ddf-d8ed2cb6d3aa",
   "metadata": {},
   "source": [
    "**PER PSET:**"
   ]
  },
  {
   "cell_type": "code",
   "execution_count": 56,
   "id": "94c1fdd0-e058-4476-8e8e-f5a84125cf26",
   "metadata": {},
   "outputs": [
    {
     "data": {
      "text/plain": [
       "defaultdict(collections.Counter,\n",
       "            {'Pset_BuildingCommon': Counter({'properties::ConstructionMethod::kind': 1,\n",
       "                      'properties::ConstructionMethod::value': 1}),\n",
       "             'Pset_WallCommon': Counter({'properties::Status::kind': 4,\n",
       "                      'properties::Status::value': 4,\n",
       "                      'properties::Status::enumeration_name': 4,\n",
       "                      'properties::Status::domain': 4,\n",
       "                      'properties::IsExternal::kind': 4,\n",
       "                      'properties::IsExternal::value': 4,\n",
       "                      'properties::LoadBearing::kind': 3,\n",
       "                      'properties::LoadBearing::value': 3}),\n",
       "             'Pset_RoofCommon': Counter({'properties::Status::kind': 1,\n",
       "                      'properties::Status::value': 1,\n",
       "                      'properties::Status::enumeration_name': 1,\n",
       "                      'properties::Status::domain': 1,\n",
       "                      'properties::IsExternal::kind': 1,\n",
       "                      'properties::IsExternal::value': 1}),\n",
       "             'Pset_BeamCommon': Counter({'properties::Status::kind': 6,\n",
       "                      'properties::Status::value': 6,\n",
       "                      'properties::Status::enumeration_name': 6,\n",
       "                      'properties::Status::domain': 6,\n",
       "                      'properties::IsExternal::kind': 6,\n",
       "                      'properties::IsExternal::value': 6,\n",
       "                      'properties::LoadBearing::kind': 6,\n",
       "                      'properties::LoadBearing::value': 6})})"
      ]
     },
     "execution_count": 56,
     "metadata": {},
     "output_type": "execute_result"
    }
   ],
   "source": [
    "n_pset_prop_counts"
   ]
  },
  {
   "cell_type": "code",
   "execution_count": 57,
   "id": "06f48c0c-d213-4cbd-9103-792e920e6fa4",
   "metadata": {},
   "outputs": [],
   "source": [
    "neo_pset_prop_counts = defaultdict(Counter)\n",
    "\n",
    "with driver.session(database=DATABASE) as session:\n",
    "\n",
    "    results = session.run(\n",
    "        \"\"\"\n",
    "        MATCH (n:PSET)\n",
    "        WHERE n.name IS NOT NULL\n",
    "        UNWIND keys(n) AS k\n",
    "        RETURN n.name AS pname, k, count(*) AS c\n",
    "        ORDER BY pname, k\n",
    "        \"\"\"\n",
    "    )\n",
    "\n",
    "    for r in results:\n",
    "        pname = r[\"pname\"]\n",
    "        key = r[\"k\"]\n",
    "        c = r[\"c\"]\n",
    "        neo_pset_prop_counts[pname][key] = c"
   ]
  },
  {
   "cell_type": "code",
   "execution_count": 58,
   "id": "9ba93177-eecf-4474-bddd-a937972466bd",
   "metadata": {},
   "outputs": [
    {
     "data": {
      "text/plain": [
       "defaultdict(collections.Counter,\n",
       "            {'Pset_BeamCommon': Counter({'id': 6,\n",
       "                      'name': 6,\n",
       "                      'properties::IsExternal::kind': 6,\n",
       "                      'properties::IsExternal::value': 6,\n",
       "                      'properties::LoadBearing::kind': 6,\n",
       "                      'properties::LoadBearing::value': 6,\n",
       "                      'properties::Status::domain': 6,\n",
       "                      'properties::Status::enumeration_name': 6,\n",
       "                      'properties::Status::kind': 6,\n",
       "                      'properties::Status::value': 6}),\n",
       "             'Pset_BuildingCommon': Counter({'id': 1,\n",
       "                      'name': 1,\n",
       "                      'properties::ConstructionMethod::kind': 1,\n",
       "                      'properties::ConstructionMethod::value': 1}),\n",
       "             'Pset_RoofCommon': Counter({'id': 1,\n",
       "                      'name': 1,\n",
       "                      'properties::IsExternal::kind': 1,\n",
       "                      'properties::IsExternal::value': 1,\n",
       "                      'properties::Status::domain': 1,\n",
       "                      'properties::Status::enumeration_name': 1,\n",
       "                      'properties::Status::kind': 1,\n",
       "                      'properties::Status::value': 1}),\n",
       "             'Pset_WallCommon': Counter({'id': 4,\n",
       "                      'name': 4,\n",
       "                      'properties::IsExternal::kind': 4,\n",
       "                      'properties::IsExternal::value': 4,\n",
       "                      'properties::LoadBearing::kind': 3,\n",
       "                      'properties::LoadBearing::value': 3,\n",
       "                      'properties::Status::domain': 4,\n",
       "                      'properties::Status::enumeration_name': 4,\n",
       "                      'properties::Status::kind': 4,\n",
       "                      'properties::Status::value': 4})})"
      ]
     },
     "execution_count": 58,
     "metadata": {},
     "output_type": "execute_result"
    }
   ],
   "source": [
    "neo_pset_prop_counts"
   ]
  },
  {
   "cell_type": "code",
   "execution_count": 59,
   "id": "222a530d-d6d6-4e49-9518-9ea88fa34643",
   "metadata": {},
   "outputs": [
    {
     "name": "stdout",
     "output_type": "stream",
     "text": [
      "[Pset_BeamCommon] key id: IFC=0, NEO=6\n",
      "[Pset_BeamCommon] key name: IFC=0, NEO=6\n",
      "[Pset_BuildingCommon] key id: IFC=0, NEO=1\n",
      "[Pset_BuildingCommon] key name: IFC=0, NEO=1\n",
      "[Pset_RoofCommon] key id: IFC=0, NEO=1\n",
      "[Pset_RoofCommon] key name: IFC=0, NEO=1\n",
      "[Pset_WallCommon] key id: IFC=0, NEO=4\n",
      "[Pset_WallCommon] key name: IFC=0, NEO=4\n",
      "The IFC and the Neo4J defaultdict(Counter) match: False (8 differences).\n"
     ]
    }
   ],
   "source": [
    "compare_counters_ifc_neo(n_pset_prop_counts, neo_pset_prop_counts)"
   ]
  },
  {
   "cell_type": "markdown",
   "id": "955a80dd-4aac-4b15-9b7a-454c7e305d9e",
   "metadata": {},
   "source": [
    "**PER QSET:**"
   ]
  },
  {
   "cell_type": "code",
   "execution_count": 60,
   "id": "8fd26d2b-d6ba-4a83-ab25-8c8d3d5e19db",
   "metadata": {},
   "outputs": [
    {
     "data": {
      "text/plain": [
       "defaultdict(collections.Counter,\n",
       "            {'Qto_WallBaseQuantities': Counter({'quantities::NetVolume::kind': 4,\n",
       "                      'quantities::NetVolume::value': 4,\n",
       "                      'quantities::Width::kind': 4,\n",
       "                      'quantities::Width::value': 4,\n",
       "                      'quantities::Length::kind': 4,\n",
       "                      'quantities::Length::value': 4,\n",
       "                      'quantities::NetSideArea::kind': 4,\n",
       "                      'quantities::NetSideArea::value': 4}),\n",
       "             'Qto_BeamBaseQuantities': Counter({'quantities::NetVolume::kind': 6,\n",
       "                      'quantities::NetVolume::value': 6,\n",
       "                      'quantities::Length::kind': 6,\n",
       "                      'quantities::Length::value': 6,\n",
       "                      'quantities::CrossSectionArea::kind': 6,\n",
       "                      'quantities::CrossSectionArea::value': 6})})"
      ]
     },
     "execution_count": 60,
     "metadata": {},
     "output_type": "execute_result"
    }
   ],
   "source": [
    "n_qset_prop_counts"
   ]
  },
  {
   "cell_type": "code",
   "execution_count": 61,
   "id": "0061c914-9697-43c6-bce9-342bdc132184",
   "metadata": {},
   "outputs": [],
   "source": [
    "neo_qset_prop_counts = defaultdict(Counter)\n",
    "\n",
    "with driver.session(database=DATABASE) as session:\n",
    "\n",
    "    results = session.run(\n",
    "        \"\"\"\n",
    "        MATCH (n:QSET)\n",
    "        WHERE n.name IS NOT NULL\n",
    "        UNWIND keys(n) AS k\n",
    "        RETURN n.name AS qname, k, count(*) AS c\n",
    "        ORDER BY qname, k\n",
    "        \"\"\"\n",
    "    )\n",
    "\n",
    "    for r in results:\n",
    "        qname = r[\"qname\"]\n",
    "        key = r[\"k\"]\n",
    "        c = r[\"c\"]\n",
    "        neo_qset_prop_counts[qname][key] = c"
   ]
  },
  {
   "cell_type": "code",
   "execution_count": 62,
   "id": "3d860d80-1603-45b0-8108-2fb660490809",
   "metadata": {},
   "outputs": [
    {
     "data": {
      "text/plain": [
       "defaultdict(collections.Counter,\n",
       "            {'Qto_BeamBaseQuantities': Counter({'id': 6,\n",
       "                      'name': 6,\n",
       "                      'quantities::CrossSectionArea::kind': 6,\n",
       "                      'quantities::CrossSectionArea::value': 6,\n",
       "                      'quantities::Length::kind': 6,\n",
       "                      'quantities::Length::value': 6,\n",
       "                      'quantities::NetVolume::kind': 6,\n",
       "                      'quantities::NetVolume::value': 6}),\n",
       "             'Qto_WallBaseQuantities': Counter({'id': 4,\n",
       "                      'name': 4,\n",
       "                      'quantities::Length::kind': 4,\n",
       "                      'quantities::Length::value': 4,\n",
       "                      'quantities::NetSideArea::kind': 4,\n",
       "                      'quantities::NetSideArea::value': 4,\n",
       "                      'quantities::NetVolume::kind': 4,\n",
       "                      'quantities::NetVolume::value': 4,\n",
       "                      'quantities::Width::kind': 4,\n",
       "                      'quantities::Width::value': 4})})"
      ]
     },
     "execution_count": 62,
     "metadata": {},
     "output_type": "execute_result"
    }
   ],
   "source": [
    "neo_qset_prop_counts"
   ]
  },
  {
   "cell_type": "code",
   "execution_count": 63,
   "id": "a105b237-a069-4936-9ebf-daeed5b359e4",
   "metadata": {},
   "outputs": [
    {
     "name": "stdout",
     "output_type": "stream",
     "text": [
      "[Qto_BeamBaseQuantities] key id: IFC=0, NEO=6\n",
      "[Qto_BeamBaseQuantities] key name: IFC=0, NEO=6\n",
      "[Qto_WallBaseQuantities] key id: IFC=0, NEO=4\n",
      "[Qto_WallBaseQuantities] key name: IFC=0, NEO=4\n",
      "The IFC and the Neo4J defaultdict(Counter) match: False (4 differences).\n"
     ]
    }
   ],
   "source": [
    "compare_counters_ifc_neo(n_qset_prop_counts, neo_qset_prop_counts)"
   ]
  },
  {
   "cell_type": "markdown",
   "id": "28be0289-8e04-4f02-a79e-1678f3bd4031",
   "metadata": {},
   "source": [
    "### 7.3.4. Edges attributes:"
   ]
  },
  {
   "cell_type": "code",
   "execution_count": 64,
   "id": "1190cc22-b197-4a7e-a6c1-21e40630f96c",
   "metadata": {},
   "outputs": [
    {
     "data": {
      "text/plain": [
       "defaultdict(collections.Counter,\n",
       "            {'DEFINED_BY_PROPERTIES': Counter({'id': 12,\n",
       "                      'rel_class': 12,\n",
       "                      'rel_id': 12,\n",
       "                      'from': 12,\n",
       "                      'to': 12}),\n",
       "             'DEFINED_BY_QUANTITIES': Counter({'id': 10,\n",
       "                      'rel_class': 10,\n",
       "                      'rel_id': 10,\n",
       "                      'from': 10,\n",
       "                      'to': 10}),\n",
       "             'DEFINED_BY_TYPE': Counter({'id': 15,\n",
       "                      'rel_class': 15,\n",
       "                      'rel_id': 15,\n",
       "                      'from': 15,\n",
       "                      'to': 15}),\n",
       "             'ASSOCIATED_MATERIAL': Counter({'id': 14,\n",
       "                      'rel_class': 14,\n",
       "                      'rel_id': 14,\n",
       "                      'from': 14,\n",
       "                      'to': 14}),\n",
       "             'CONTAINED_IN': Counter({'id': 1,\n",
       "                      'rel_class': 1,\n",
       "                      'rel_id': 1,\n",
       "                      'from': 1,\n",
       "                      'to': 1}),\n",
       "             'AGGREGATES': Counter({'id': 12,\n",
       "                      'rel_class': 12,\n",
       "                      'rel_id': 12,\n",
       "                      'from': 12,\n",
       "                      'to': 12}),\n",
       "             'ASSOCIATED_CLASSIFICATION': Counter({'id': 1,\n",
       "                      'rel_class': 1,\n",
       "                      'rel_id': 1,\n",
       "                      'from': 1,\n",
       "                      'to': 1})})"
      ]
     },
     "execution_count": 64,
     "metadata": {},
     "output_type": "execute_result"
    }
   ],
   "source": [
    "e_cat_attr_counts"
   ]
  },
  {
   "cell_type": "code",
   "execution_count": 65,
   "id": "b1a1204a-2d14-4dd5-bb1a-759dbbf04061",
   "metadata": {},
   "outputs": [],
   "source": [
    "neo_e_cat_attr_counts = defaultdict(Counter)\n",
    "\n",
    "with driver.session(database=DATABASE) as session:\n",
    "    \n",
    "    results = session.run(\n",
    "        \"\"\"\n",
    "        MATCH ()-[r]-()\n",
    "        UNWIND keys(r) AS k\n",
    "        RETURN type(r) AS rel_type, k, count(*) As c\n",
    "        ORDER BY rel_type, k\n",
    "        \"\"\"\n",
    "    )\n",
    "\n",
    "    for r in results:\n",
    "        rel_type = r[\"rel_type\"]\n",
    "        key = r[\"k\"]\n",
    "        c = r[\"c\"]\n",
    "        neo_e_cat_attr_counts[rel_type][key] = c"
   ]
  },
  {
   "cell_type": "code",
   "execution_count": 66,
   "id": "04490f05-32bd-44d5-b36e-7ada55e9828e",
   "metadata": {},
   "outputs": [
    {
     "data": {
      "text/plain": [
       "defaultdict(collections.Counter,\n",
       "            {'AGGREGATES': Counter({'id': 24, 'rel_class': 24, 'rel_id': 24}),\n",
       "             'ASSOCIATED_CLASSIFICATION': Counter({'id': 2,\n",
       "                      'rel_class': 2,\n",
       "                      'rel_id': 2}),\n",
       "             'ASSOCIATED_MATERIAL': Counter({'id': 28,\n",
       "                      'rel_class': 28,\n",
       "                      'rel_id': 28}),\n",
       "             'CONTAINED_IN': Counter({'id': 2, 'rel_class': 2, 'rel_id': 2}),\n",
       "             'DEFINED_BY_PROPERTIES': Counter({'id': 24,\n",
       "                      'rel_class': 24,\n",
       "                      'rel_id': 24}),\n",
       "             'DEFINED_BY_QUANTITIES': Counter({'id': 20,\n",
       "                      'rel_class': 20,\n",
       "                      'rel_id': 20}),\n",
       "             'DEFINED_BY_TYPE': Counter({'id': 30,\n",
       "                      'rel_class': 30,\n",
       "                      'rel_id': 30})})"
      ]
     },
     "execution_count": 66,
     "metadata": {},
     "output_type": "execute_result"
    }
   ],
   "source": [
    "neo_e_cat_attr_counts"
   ]
  },
  {
   "cell_type": "code",
   "execution_count": 67,
   "id": "e6f0716b-6593-4985-8117-19221b78ecee",
   "metadata": {},
   "outputs": [
    {
     "name": "stdout",
     "output_type": "stream",
     "text": [
      "[AGGREGATES] key from: IFC=12, NEO=0\n",
      "[AGGREGATES] key id: IFC=12, NEO=24\n",
      "[AGGREGATES] key rel_class: IFC=12, NEO=24\n",
      "[AGGREGATES] key rel_id: IFC=12, NEO=24\n",
      "[AGGREGATES] key to: IFC=12, NEO=0\n",
      "[ASSOCIATED_CLASSIFICATION] key from: IFC=1, NEO=0\n",
      "[ASSOCIATED_CLASSIFICATION] key id: IFC=1, NEO=2\n",
      "[ASSOCIATED_CLASSIFICATION] key rel_class: IFC=1, NEO=2\n",
      "[ASSOCIATED_CLASSIFICATION] key rel_id: IFC=1, NEO=2\n",
      "[ASSOCIATED_CLASSIFICATION] key to: IFC=1, NEO=0\n",
      "[ASSOCIATED_MATERIAL] key from: IFC=14, NEO=0\n",
      "[ASSOCIATED_MATERIAL] key id: IFC=14, NEO=28\n",
      "[ASSOCIATED_MATERIAL] key rel_class: IFC=14, NEO=28\n",
      "[ASSOCIATED_MATERIAL] key rel_id: IFC=14, NEO=28\n",
      "[ASSOCIATED_MATERIAL] key to: IFC=14, NEO=0\n",
      "[CONTAINED_IN] key from: IFC=1, NEO=0\n",
      "[CONTAINED_IN] key id: IFC=1, NEO=2\n",
      "[CONTAINED_IN] key rel_class: IFC=1, NEO=2\n",
      "[CONTAINED_IN] key rel_id: IFC=1, NEO=2\n",
      "[CONTAINED_IN] key to: IFC=1, NEO=0\n",
      "[DEFINED_BY_PROPERTIES] key from: IFC=12, NEO=0\n",
      "[DEFINED_BY_PROPERTIES] key id: IFC=12, NEO=24\n",
      "[DEFINED_BY_PROPERTIES] key rel_class: IFC=12, NEO=24\n",
      "[DEFINED_BY_PROPERTIES] key rel_id: IFC=12, NEO=24\n",
      "[DEFINED_BY_PROPERTIES] key to: IFC=12, NEO=0\n",
      "[DEFINED_BY_QUANTITIES] key from: IFC=10, NEO=0\n",
      "[DEFINED_BY_QUANTITIES] key id: IFC=10, NEO=20\n",
      "[DEFINED_BY_QUANTITIES] key rel_class: IFC=10, NEO=20\n",
      "[DEFINED_BY_QUANTITIES] key rel_id: IFC=10, NEO=20\n",
      "[DEFINED_BY_QUANTITIES] key to: IFC=10, NEO=0\n",
      "[DEFINED_BY_TYPE] key from: IFC=15, NEO=0\n",
      "[DEFINED_BY_TYPE] key id: IFC=15, NEO=30\n",
      "[DEFINED_BY_TYPE] key rel_class: IFC=15, NEO=30\n",
      "[DEFINED_BY_TYPE] key rel_id: IFC=15, NEO=30\n",
      "[DEFINED_BY_TYPE] key to: IFC=15, NEO=0\n",
      "The IFC and the Neo4J defaultdict(Counter) match: False (35 differences).\n"
     ]
    }
   ],
   "source": [
    "compare_counters_ifc_neo(e_cat_attr_counts, neo_e_cat_attr_counts)"
   ]
  },
  {
   "cell_type": "markdown",
   "id": "57ea0579-4f4e-4280-b062-af6451d34696",
   "metadata": {},
   "source": [
    "## 7.5. Exploration & visualization:"
   ]
  },
  {
   "cell_type": "code",
   "execution_count": null,
   "id": "599114ad-9fcb-42c3-9e6e-c99579e772a0",
   "metadata": {},
   "outputs": [],
   "source": []
  },
  {
   "cell_type": "markdown",
   "id": "5cca96b9-91d8-4cb3-b878-8e6a422928fb",
   "metadata": {},
   "source": [
    "## 7.6. Graph summary:"
   ]
  },
  {
   "cell_type": "code",
   "execution_count": null,
   "id": "3c8653ed-e56a-4bc2-a4c5-d5af248b4129",
   "metadata": {},
   "outputs": [],
   "source": []
  },
  {
   "cell_type": "code",
   "execution_count": null,
   "id": "00b73d03-87cc-4e5f-b225-25f001233818",
   "metadata": {},
   "outputs": [],
   "source": []
  },
  {
   "cell_type": "code",
   "execution_count": 68,
   "id": "3c4af5e2-a00d-420a-843c-1207b0ff04d8",
   "metadata": {},
   "outputs": [],
   "source": [
    "# driver.close()"
   ]
  },
  {
   "cell_type": "code",
   "execution_count": null,
   "id": "7e437b67-d516-400c-998c-eebbdc4801bc",
   "metadata": {},
   "outputs": [],
   "source": []
  }
 ],
 "metadata": {
  "kernelspec": {
   "display_name": "Python (capstone_env)",
   "language": "python",
   "name": "capstone_env"
  },
  "language_info": {
   "codemirror_mode": {
    "name": "ipython",
    "version": 3
   },
   "file_extension": ".py",
   "mimetype": "text/x-python",
   "name": "python",
   "nbconvert_exporter": "python",
   "pygments_lexer": "ipython3",
   "version": "3.11.13"
  }
 },
 "nbformat": 4,
 "nbformat_minor": 5
}

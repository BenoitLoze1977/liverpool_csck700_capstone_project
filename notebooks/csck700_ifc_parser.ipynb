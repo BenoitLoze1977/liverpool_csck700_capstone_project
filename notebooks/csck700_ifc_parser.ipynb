{
 "cells": [
  {
   "cell_type": "markdown",
   "id": "9fc2e2b4-33ed-45d7-af4b-964dae4971a1",
   "metadata": {},
   "source": [
    "# Title: csck700_ifc_parser"
   ]
  },
  {
   "cell_type": "markdown",
   "id": "97740413-1bd3-4438-afeb-4f2abf7760cf",
   "metadata": {},
   "source": [
    "### The module parses an IFC model to extract the IFcElements, their properties and relationships and loads them to nodes and edges into Neo4J."
   ]
  },
  {
   "cell_type": "markdown",
   "id": "7344a75e-b155-48d8-a350-db5f42b002a0",
   "metadata": {},
   "source": [
    "# 0. Table of content:"
   ]
  },
  {
   "cell_type": "code",
   "execution_count": null,
   "id": "a9151902-3360-4b57-9190-da1169d4e11b",
   "metadata": {},
   "outputs": [],
   "source": []
  },
  {
   "cell_type": "markdown",
   "id": "62008d32-c40c-472b-a1cb-d4a975892ffd",
   "metadata": {},
   "source": [
    "# 1. Settings:"
   ]
  },
  {
   "cell_type": "code",
   "execution_count": 41,
   "id": "27b591f4-2277-45a7-8c04-ea87b8fb0a07",
   "metadata": {},
   "outputs": [],
   "source": [
    "IFC_PATH = r\"..\\data\\raw\\Building-Structural.ifc\"\n",
    "\n",
    "NEO4J_URI = \"bolt://localhost:7687\"\n",
    "NEO4J_USER = \"neo4j\"\n",
    "NEO4J_PASSWORD = \"TitineTiteFiro@1952\""
   ]
  },
  {
   "cell_type": "code",
   "execution_count": 43,
   "id": "2d693dc5-6e28-4bd9-9fc4-cd504cd45307",
   "metadata": {},
   "outputs": [],
   "source": [
    "REL_MAP ={\n",
    "    \"IfcRelDefinesByProperties\": (\"RelatingPropertyDefinition\", \"RelatedObjects\", None),\n",
    "    \"IfcRelDefinesByType\": (\"RelatingType\", \"RelatedObjects\", \"DEFINED_BY_TYPE\"),\n",
    "    \"IfcRelAssociatesMaterial\": (\"RelatingMaterial\", \"RelatedObjects\", \"ASSOCIATED_MATERIAL\"),\n",
    "    \"IfcRelContainedInSpatialStructure\": (\"RelatingStructure\", \"RelatedElements\", \"CONTAINED_IN\"),\n",
    "    \"IfcRelAggregates\": (\"RelatingObject\", \"RelatedObjects\", \"AGGREGATES\"),\n",
    "    \"IfcRelAssociatesClassification\": (\"RelatingClassification\", \"RelatedObjects\", \"ASSOCIATED_CLASSIFICATION\")\n",
    "} "
   ]
  },
  {
   "cell_type": "markdown",
   "id": "a35a9c22-6640-4d92-a41e-05df562afeb9",
   "metadata": {},
   "source": [
    "# 2. Imports:"
   ]
  },
  {
   "cell_type": "code",
   "execution_count": 47,
   "id": "ea7c2f06-2f88-4f66-afa6-8793e5f7d349",
   "metadata": {},
   "outputs": [],
   "source": [
    "import ifcopenshell\n",
    "import ifcopenshell.util.element as util\n",
    "from neo4j import GraphDatabase\n",
    "from collections import Counter"
   ]
  },
  {
   "cell_type": "markdown",
   "id": "6c2bef45-a675-4ddf-b80e-f977cf088940",
   "metadata": {},
   "source": [
    "# 3. Helper functions:"
   ]
  },
  {
   "cell_type": "markdown",
   "id": "55591fe4-fbde-4e65-98da-2597fedfcaa2",
   "metadata": {},
   "source": [
    "**IFCRELATIONSHIPS - EDGES:**"
   ]
  },
  {
   "cell_type": "code",
   "execution_count": 54,
   "id": "781fbab0-84bd-41ca-b3c5-a9f0492707a5",
   "metadata": {},
   "outputs": [],
   "source": [
    "def identify_rel(model):\n",
    "    \"\"\"\n",
    "    Identify all distinct IfcRelationship classes present in the model.\n",
    "    \"\"\"\n",
    "\n",
    "    rel_classes = set()\n",
    "\n",
    "    rels = model.by_type(\"IfcRelationship\")\n",
    "\n",
    "    for rel in rels:\n",
    "        rel_classes.add(rel.is_a())\n",
    "\n",
    "    print(\"Identified relationship classes:\")  \n",
    "    for r in rel_classes:\n",
    "        print(f\"- {r}.\")\n",
    "        \n",
    "    return rel_classes"
   ]
  },
  {
   "cell_type": "code",
   "execution_count": 56,
   "id": "698d3c83-a658-4565-ae5a-6b90632cde98",
   "metadata": {},
   "outputs": [],
   "source": [
    "def obj_id(o):\n",
    "    \"\"\"\n",
    "    Returns the GUID of the given object, if present, else synthetic ClassName:step_id.\n",
    "\n",
    "    Non-IfcRoot entities (e.g. IfcMaterial, IfcClassificationReference)\n",
    "    do not have a GlobalId, so the fallback ensures uniqueness.\n",
    "    \"\"\"\n",
    "    return getattr(o, \"GlobalId\", f\"{o.is_a()}:{o.id()}\")"
   ]
  },
  {
   "cell_type": "code",
   "execution_count": 58,
   "id": "9db862f9-e5bf-47ba-8140-2500e4496500",
   "metadata": {},
   "outputs": [],
   "source": [
    "def as_list(v):\n",
    "    \"\"\"\n",
    "    Ensures the value is returned as a list.\n",
    "    \"\"\"\n",
    "    if v is None:\n",
    "        return []\n",
    "    return v if isinstance(v, (list, tuple)) else [v]"
   ]
  },
  {
   "cell_type": "code",
   "execution_count": 160,
   "id": "c2d8b711-29e8-4bed-8b3e-a3333305c08a",
   "metadata": {},
   "outputs": [],
   "source": [
    "def edges_maker(model, rel_map=REL_MAP, pset_qto=True):\n",
    "    \"\"\"\n",
    "    For a given model, creates a dictionary of edges (IfcRelationships exploded into from -> to pairs.\n",
    "    Returns:\n",
    "        - edges: a dictionary of edges with keys:\n",
    "            - id, labels, rel_class, rel_id, from, to.\n",
    "    \"\"\"\n",
    "\n",
    "    edges = dict()\n",
    "    pairs = set()\n",
    "\n",
    "    for rel_class, (relating_attr, related_attr, label) in rel_map.items():\n",
    "        for rel in model.by_type(rel_class):\n",
    "            relating = getattr(rel, relating_attr, None)\n",
    "            related = getattr(rel, related_attr, None)\n",
    "            if relating is None:\n",
    "                continue\n",
    "            \n",
    "            # distinction property set vs quantity set:\n",
    "            if rel_class == \"IfcRelDefinesByProperties\":\n",
    "                if pset_qto and relating.is_a(\"IfcElementQuantity\"):\n",
    "                    edge_label = \"DEFINED_BY_QUANTITIES\"\n",
    "                else:\n",
    "                    edge_label = \"DEFINED_BY_PROPERTIES\"\n",
    "            else:\n",
    "                edge_label = label\n",
    "\n",
    "            frm = obj_id(relating)\n",
    "            rel_gid = obj_id(rel)\n",
    "\n",
    "            # one-to-many relationships:\n",
    "            for r in as_list(related):\n",
    "                if r is None:\n",
    "                    continue\n",
    "                to  = obj_id(r)\n",
    "                \n",
    "                # sanity check:\n",
    "                pairs.add((rel_gid, frm, to))\n",
    "                \n",
    "                edge_id = f\"{rel_gid}:{frm}->{to}\"\n",
    "                edges[edge_id]={\n",
    "                    \"id\": edge_id,\n",
    "                    \"labels\": edge_label,\n",
    "                    \"rel_class\": rel_class,\n",
    "                    \"rel_id\": rel_gid,\n",
    "                    \"from\": frm,\n",
    "                    \"to\": to\n",
    "                }\n",
    "\n",
    "    expected = len(pairs)\n",
    "    actual = len(edges)\n",
    "    \n",
    "    # print(f\"Expected number of edges: {expected}.\")\n",
    "    # print(f\"Number of edges: {actual}.\")\n",
    "    \n",
    "    return expected, actual, edges"
   ]
  },
  {
   "cell_type": "markdown",
   "id": "2ce93024-001f-4ef8-8cb8-e97630a36fd1",
   "metadata": {},
   "source": [
    "**IFCENTITIES - NODES:**"
   ]
  },
  {
   "cell_type": "code",
   "execution_count": 63,
   "id": "42667233-2fff-46a6-b2b2-5d3d79b13bfb",
   "metadata": {},
   "outputs": [],
   "source": [
    "def get_entity_from_id(model, oid):\n",
    "\n",
    "    if isinstance(oid, str) and (len(oid) == 22) and (\":\" not in oid):\n",
    "        return model.by_guid(oid)\n",
    "\n",
    "    elif \":\" in oid:\n",
    "        try:\n",
    "            step_id = int(oid.split(\":\")[-1])\n",
    "            return model.by_id(step_id)\n",
    "        except Exception:\n",
    "            return None\n",
    "\n",
    "    return None"
   ]
  },
  {
   "cell_type": "code",
   "execution_count": 65,
   "id": "2b9a8bb9-7838-4334-8872-bc3b4ef4cf20",
   "metadata": {},
   "outputs": [],
   "source": [
    "def get_entities_from_edges(model, edges, typ):\n",
    "\n",
    "    entities_from_edges = []\n",
    "    \n",
    "    for edge in edges.values():\n",
    "        obj = get_entity_from_id(model, edge[typ])\n",
    "        if obj:\n",
    "            entities_from_edges.append(obj) \n",
    "\n",
    "    return entities_from_edges"
   ]
  },
  {
   "cell_type": "code",
   "execution_count": 67,
   "id": "197319f5-5631-459a-91b9-6103be5c24c9",
   "metadata": {},
   "outputs": [],
   "source": [
    "def merge_unique(obj1, obj2):\n",
    "    merged = dict()\n",
    "    for o in obj1 + obj2:\n",
    "        if o:\n",
    "            merged[obj_id(o)] = o\n",
    "    return list(merged.values())"
   ]
  },
  {
   "cell_type": "code",
   "execution_count": 69,
   "id": "5b2b4128-99c9-4d1e-9f8b-c9db9ae4199d",
   "metadata": {},
   "outputs": [],
   "source": [
    "def entities_classes_identify(all_objects):\n",
    "\n",
    "    clss = set()\n",
    "    \n",
    "    for o in all_objects:\n",
    "        if o.is_a(\"IfcElement\"):\n",
    "            clss.add(\"IfcElement\")\n",
    "        elif \"Type\" in o.is_a():\n",
    "            clss.add(\"IfcTypeObject\")\n",
    "        else:\n",
    "            clss.add(o.is_a())\n",
    "\n",
    "    return clss"
   ]
  },
  {
   "cell_type": "code",
   "execution_count": 71,
   "id": "c3f9100f-fddf-4f47-8616-0f54d6ae6f4f",
   "metadata": {},
   "outputs": [],
   "source": [
    "def props_identify(all_objects):\n",
    "\n",
    "    props = {}\n",
    "\n",
    "    pset = \"IfcPropertySet\"\n",
    "    qset = \"IfcElementQuantity\"\n",
    "\n",
    "    for o in all_objects:\n",
    "        if o.is_a(pset):\n",
    "            props.setdefault(pset, dict())\n",
    "            for p in o.HasProperties:\n",
    "                props[pset][p.Name] = {\n",
    "                    \"property_type\": p.is_a()\n",
    "                }\n",
    "                \n",
    "        elif o.is_a(qset):\n",
    "            props.setdefault(qset, dict())\n",
    "            for q in o.Quantities:\n",
    "                props[qset][q.Name] = {\n",
    "                    \"property_type\": q.is_a()\n",
    "                }\n",
    "\n",
    "    # only IfcMaterial class, no specific material properties to extract beyond the material name.\n",
    "                \n",
    "    return props"
   ]
  },
  {
   "cell_type": "code",
   "execution_count": 73,
   "id": "227d9d1c-04c1-41ca-aa9f-8872bb8f2020",
   "metadata": {},
   "outputs": [],
   "source": [
    "def pset_props_collect(o):\n",
    "\n",
    "    def unwrap(v):\n",
    "        if v is None:\n",
    "            return None\n",
    "        else:\n",
    "            return getattr(v, \"wrappedValue\", v)\n",
    "\n",
    "    props = {}\n",
    "    \n",
    "    for p in o.HasProperties:\n",
    "        if p.is_a(\"IfcPropertySingleValue\"):\n",
    "            nv = getattr(p, \"NominalValue\", None)\n",
    "            props[p.Name] = {\n",
    "                \"kind\": \"SingleValue\",\n",
    "                \"value\": unwrap(nv)\n",
    "            }\n",
    "        elif p.is_a(\"IfcPropertyEnumeratedValue\"):\n",
    "            vals = [unwrap(v) for v in (getattr(p, \"EnumerationValues\", []) or [])]\n",
    "            enum_ref = getattr(p, \"EnumerationReference\", None)\n",
    "            domain = (\n",
    "                [unwrap(v) for v in (getattr(enum_ref, \"EnumerationValues\", []) or [])]\n",
    "                if enum_ref else None\n",
    "            )\n",
    "            props[p.Name] = {\n",
    "                \"kind\": \"EnumeratedValue\",\n",
    "                \"value\": vals if len(vals) != 1 else vals[0],\n",
    "                \"enumeration_name\": getattr(enum_ref, \"Name\", None) if enum_ref else None,\n",
    "                \"domain\": domain\n",
    "            }\n",
    "\n",
    "    # if needed, to be developed to handle other kinds of properties.\n",
    "        \n",
    "    return props"
   ]
  },
  {
   "cell_type": "code",
   "execution_count": 75,
   "id": "ce996f9a-086c-4070-82bb-600d91aeab7f",
   "metadata": {},
   "outputs": [],
   "source": [
    "def qset_props_collect(o, include_none=False):\n",
    "\n",
    "    props = {}\n",
    "    \n",
    "    for q in getattr(o, \"Quantities\", []) or []:\n",
    "        val = None\n",
    "        if q.is_a(\"IfcQuantityLength\"):\n",
    "            val = q.LengthValue\n",
    "        elif q.is_a(\"IfcQuantityArea\"):\n",
    "            val = q.AreaValue\n",
    "        elif q.is_a(\"IfcQuantityVolume\"):\n",
    "            val = q.VolumeValue\n",
    "        elif q.is_a(\"IfcQuantityCount\"):\n",
    "            val = q.CountValue\n",
    "        elif q.is_a(\"IfcQuantityWeight\"):\n",
    "            val = q.WeightValue\n",
    "\n",
    "        if include_none or val is not None:  \n",
    "            props[q.Name] = {\n",
    "                \"kind\": q.is_a(),\n",
    "                \"value\": val\n",
    "            }\n",
    "\n",
    "    return props"
   ]
  },
  {
   "cell_type": "code",
   "execution_count": 137,
   "id": "6a94ef54-c879-4cc1-89a2-9fb5d431e291",
   "metadata": {},
   "outputs": [],
   "source": [
    "def node_set(o):\n",
    "\n",
    "    node = dict()\n",
    "\n",
    "    # helpers:\n",
    "    def g_n(o, name, default=None):\n",
    "        return getattr(o, name, default)\n",
    "\n",
    "    def basic_props(label, addition=None):\n",
    "        node_id = obj_id(o)\n",
    "        base = {\n",
    "            \"id\": node_id,\n",
    "            \"labels\": [label, o.is_a()],\n",
    "            \"name\": g_n(o, \"Name\")\n",
    "        }\n",
    "        if addition:\n",
    "            base.update(addition)\n",
    "        node[node_id] = base\n",
    "\n",
    "    \n",
    "    cls = o.is_a()\n",
    "\n",
    "    if cls == \"IfcProject\":\n",
    "        basic_props(\"PROJECT\")\n",
    "        \n",
    "    elif o.is_a(\"IfcElement\"):\n",
    "        # ObjectType fallback:\n",
    "        basic_props(\"ELEMENT\", {\n",
    "            \"predefined_type\": g_n(o, \"PredefinedType\", g_n(o, \"ObjectType\"))\n",
    "        })\n",
    "        \n",
    "    elif cls == \"IfcPropertySet\":\n",
    "        basic_props(\"PSET\", {\n",
    "            \"properties\": pset_props_collect(o)\n",
    "        })\n",
    "        \n",
    "    elif cls == \"IfcElementQuantity\":\n",
    "        basic_props(\"QSET\", {\n",
    "            \"properties\": qset_props_collect(o)\n",
    "        })\n",
    "        \n",
    "    elif \"Type\" in cls:\n",
    "        basic_props(\"TYPE\")\n",
    "        \n",
    "    elif cls == \"IfcMaterial\":\n",
    "        basic_props(\"MATERIAL\")\n",
    "        \n",
    "    elif cls in (\"IfcSite\", \"IfcBuilding\", \"IfcBuildingStorey\", \"IfcSpace\"):\n",
    "        basic_props(\"SPATIAL\")\n",
    "        \n",
    "    elif cls == \"IfcClassificationReference\":\n",
    "        scheme = g_n(o, \"ReferencedSource\") # IfcClassification\n",
    "        basic_props(\"CLASSIFICATION_REF\",{\n",
    "            \"code\": g_n(o, \"Identification\"),\n",
    "            \"uri\": g_n(o, \"Location\"),\n",
    "            # link to IfcClassification by id:\n",
    "            \"scheme_id\": obj_id(scheme) if scheme else None,\n",
    "        })\n",
    "\n",
    "    return node        "
   ]
  },
  {
   "cell_type": "code",
   "execution_count": 79,
   "id": "48f424a4-16b1-41fe-ac59-2d08931ae163",
   "metadata": {},
   "outputs": [],
   "source": [
    "def nodes_maker(all_objects):\n",
    "\n",
    "    nodes = {}\n",
    "\n",
    "    for o in all_objects:\n",
    "        nodes.update(node_set(o))\n",
    "\n",
    "    return nodes"
   ]
  },
  {
   "cell_type": "markdown",
   "id": "302f0684-3057-4ad5-9cd7-58392741b55a",
   "metadata": {},
   "source": [
    "**SANITY CHECKS:**"
   ]
  },
  {
   "cell_type": "code",
   "execution_count": null,
   "id": "6b79927c-6072-4f43-9bc6-67e285a9de49",
   "metadata": {},
   "outputs": [],
   "source": [
    "def elements_inspection(model, ifc_type=\"IfcProduct\"):\n",
    "    \"\"\"\n",
    "    Counts and lists IfcElements (excluding proxies in this case) grouped by class.\n",
    "    Returns:\n",
    "        - elements: list.\n",
    "        - classes_counter: Counter.\n",
    "    \"\"\"\n",
    "    \n",
    "    products = model.by_type(ifc_type)\n",
    "    elements = [p for p in products if (p.is_a(\"IfcElement\")) and not (p.is_a(\"IfcBuildingElementProxy\"))]\n",
    "    elements_classes = [el.is_a() for el in elements]\n",
    "    classes_counter = Counter(elements_classes)\n",
    "\n",
    "    print(f\"Total number of elements: {len(elements)}\")\n",
    "    for cl, count in classes_counter.items():\n",
    "        print(f\"{cl}: {count}.\")\n",
    "\n",
    "    return classes_counter"
   ]
  },
  {
   "cell_type": "code",
   "execution_count": null,
   "id": "8eb8dcd8-acf4-4feb-9af9-e10441b43329",
   "metadata": {},
   "outputs": [],
   "source": [
    "def sanity(expected, actual, relating, related):\n",
    "    passed = True\n",
    "    \n",
    "    if expected == actual:\n",
    "        print(f\"Edge count check passed: expected and actual are consistent ({actual}).\")\n",
    "    else:\n",
    "        print(f\"ERROR: edges count mismatch - expected {expected} but got {actual}.\")\n",
    "        passed = False\n",
    "        \n",
    "    if len(relating) == actual:\n",
    "        print(f\"Relating entities count check passed: {len(relating)} = number of edges ({actual}).\")\n",
    "    else:\n",
    "        print(f\"ERROR: relating entities count mismatch - edges {actual}, relating entities {len(relating)}.\")\n",
    "        passed = False\n",
    "        \n",
    "    if len(related) == actual:\n",
    "        print(f\"Related entities count check passed: {len(related)} = number of edges ({actual}).\")\n",
    "    else:\n",
    "        print(f\"ERROR: related entities count mismatch - edges {actual}, related entities {len(related)}.\")\n",
    "        passed = False\n",
    "\n",
    "    relating_set = set(relating)\n",
    "    related_set = set(related)\n",
    "    union_nodes = relating_set | related_set\n",
    "\n",
    "    if len(union_nodes) >= max(len(relating_set), len(related_set)):\n",
    "        print(f\"Unique node union check passed: |union|={len(union_nodes)}, |relating|={len(relating_set)}, |related|={len(related_set)}\")\n",
    "    else:\n",
    "        print(f\"ERROR: union size invalind - |union|={len(union_nodes)}, |relating|={len(relating_set)}, |related|={len(related_set)}\")"
   ]
  },
  {
   "cell_type": "markdown",
   "id": "fe3f578c-c5a0-402e-8888-46d2a19962e6",
   "metadata": {},
   "source": [
    "# 4. Data load:"
   ]
  },
  {
   "cell_type": "code",
   "execution_count": 83,
   "id": "50286e9a-dbf7-421e-8908-156e8d8a129e",
   "metadata": {},
   "outputs": [],
   "source": [
    "model = ifcopenshell.open(IFC_PATH)"
   ]
  },
  {
   "cell_type": "code",
   "execution_count": 85,
   "id": "d94ac786-274b-4a84-b40a-33ad43a4bc1a",
   "metadata": {},
   "outputs": [],
   "source": [
    "driver = GraphDatabase.driver(NEO4J_URI, auth=(NEO4J_USER, NEO4J_PASSWORD))"
   ]
  },
  {
   "cell_type": "markdown",
   "id": "6ce5faaa-864b-4285-9e08-26ebe6e12848",
   "metadata": {},
   "source": [
    "# 5. IFC Parsing:"
   ]
  },
  {
   "cell_type": "markdown",
   "id": "6f278f33-fdb3-41fe-a9bf-313108a54101",
   "metadata": {},
   "source": [
    "The parsing process begins with the IfcRelationships, from which a dictionary of Edges is created to support Neo4j graph construction. Each edge captures the \"from\" and \"to\" attributes that define the connected IFC entities. Based on these connections, all distinct entities can be identified and represented in a dictionary of Nodes. Inverse relationships are not included, as Neo4j inherently supports bidirectional traversal of edges; storing them explicitly would only duplicate information and increase memory usage.  \n",
    "\n",
    "To ensure consistency, node identifiers are normalized (e.g. through unique obj_id values), and key metadata such as IFC class labels and relevant properties are attached to nodes and edges. This guarantees that the resulting graph remains both semantically clear and efficient for querying.  "
   ]
  },
  {
   "cell_type": "markdown",
   "id": "66a957a1-61ad-453d-b0f6-641dbd4e16d6",
   "metadata": {},
   "source": [
    "## 5.1. IfcRelationships - Edges Preparation:"
   ]
  },
  {
   "cell_type": "markdown",
   "id": "15f50d7a-7c39-43be-b87d-241a53741efa",
   "metadata": {},
   "source": [
    "### 5.1.1. Functions Building Guidance:"
   ]
  },
  {
   "cell_type": "markdown",
   "id": "fa786b20-0dd3-4112-a216-d9ec7bb168ef",
   "metadata": {},
   "source": [
    "**edges_maker:**"
   ]
  },
  {
   "cell_type": "code",
   "execution_count": 90,
   "id": "80cd2090-4d6a-4b2c-adfa-7631ec57398c",
   "metadata": {},
   "outputs": [
    {
     "name": "stdout",
     "output_type": "stream",
     "text": [
      "Identified relationship classes:\n",
      "- IfcRelAggregates.\n",
      "- IfcRelDefinesByType.\n",
      "- IfcRelContainedInSpatialStructure.\n",
      "- IfcRelAssociatesClassification.\n",
      "- IfcRelAssociatesMaterial.\n",
      "- IfcRelDefinesByProperties.\n"
     ]
    },
    {
     "data": {
      "text/plain": [
       "{'IfcRelAggregates',\n",
       " 'IfcRelAssociatesClassification',\n",
       " 'IfcRelAssociatesMaterial',\n",
       " 'IfcRelContainedInSpatialStructure',\n",
       " 'IfcRelDefinesByProperties',\n",
       " 'IfcRelDefinesByType'}"
      ]
     },
     "execution_count": 90,
     "metadata": {},
     "output_type": "execute_result"
    }
   ],
   "source": [
    "identify_rel(model)"
   ]
  },
  {
   "cell_type": "markdown",
   "id": "605ffa18-653d-4eac-b3e8-bb620632d40e",
   "metadata": {},
   "source": [
    "### 5.1.2. Edges Dictionary:"
   ]
  },
  {
   "cell_type": "code",
   "execution_count": 162,
   "id": "786ae565-6fd8-4964-b279-5fdace1ea22b",
   "metadata": {},
   "outputs": [],
   "source": [
    "expected, actual, edges = edges_maker(model)"
   ]
  },
  {
   "cell_type": "markdown",
   "id": "7d283d2b-644f-455d-9a7b-1fcf7568e27f",
   "metadata": {},
   "source": [
    "## 5.2. IfcEntities - Nodes Preparation:"
   ]
  },
  {
   "cell_type": "markdown",
   "id": "17b70331-f847-4b72-9b5e-ee0c1d354e1a",
   "metadata": {},
   "source": [
    "### 5.2.1. Collect IfcEntities:"
   ]
  },
  {
   "cell_type": "code",
   "execution_count": 95,
   "id": "a4067ba6-111d-4b30-94dc-0905ef4a10d3",
   "metadata": {},
   "outputs": [],
   "source": [
    "relating_ents = get_entities_from_edges(model, edges, \"from\")"
   ]
  },
  {
   "cell_type": "code",
   "execution_count": 97,
   "id": "2d36a7b9-64a4-4145-8b6f-ff5e8e141e78",
   "metadata": {},
   "outputs": [],
   "source": [
    "related_ents = get_entities_from_edges(model, edges, \"to\")"
   ]
  },
  {
   "cell_type": "code",
   "execution_count": 184,
   "id": "fa90c2c7-baa7-4a8c-b392-6bf42a2b337b",
   "metadata": {},
   "outputs": [],
   "source": [
    "all_ents = merge_unique(relating_ents, related_ents)"
   ]
  },
  {
   "cell_type": "markdown",
   "id": "33926fbb-6d47-4abf-a237-9f45ce9de4cf",
   "metadata": {},
   "source": [
    "### 5.2.2. Proxies:"
   ]
  },
  {
   "cell_type": "code",
   "execution_count": 187,
   "id": "fb7539ba-0457-421b-958d-783a8a9dd8de",
   "metadata": {},
   "outputs": [
    {
     "data": {
      "text/plain": [
       "[#32=IfcPropertySet('18DB$FpSH4QhNntrrSRVGz',#1,'Pset_BuildingCommon',$,(#31)),\n",
       " #76=IfcPropertySet('0hVJYXG1r7ywQAq8Vpug40',#1,'Pset_WallCommon',$,(#72,#74,#75)),\n",
       " #86=IfcElementQuantity('0VVWsZ$_bFHgmAwNtcydte',#1,'Qto_WallBaseQuantities',$,$,(#82,#83,#84,#85)),\n",
       " #105=IfcPropertySet('0ek$CCUjnFefFg04xFxxG_',#1,'Pset_WallCommon',$,(#102,#103,#104)),\n",
       " #111=IfcElementQuantity('22KfX2yaj4UBecOFxQr$3y',#1,'Qto_WallBaseQuantities',$,$,(#107,#108,#109,#110)),\n",
       " #128=IfcPropertySet('2DaAsqJGPDexb$sFANyw0e',#1,'Pset_WallCommon',$,(#126,#127)),\n",
       " #134=IfcElementQuantity('16mzz5kV15mAyMAccFRkj4',#1,'Qto_WallBaseQuantities',$,$,(#130,#131,#132,#133)),\n",
       " #176=IfcPropertySet('3UegLqoYrB5QLJ1Fl0C0gk',#1,'Pset_WallCommon',$,(#173,#174,#175)),\n",
       " #182=IfcElementQuantity('3BkYHDW2b4LxsPRJLXlKa9',#1,'Qto_WallBaseQuantities',$,$,(#178,#179,#180,#181)),\n",
       " #199=IfcPropertySet('3IC75ptmHAcfynDO0H7l6Q',#1,'Pset_RoofCommon',$,(#197,#198)),\n",
       " #213=IfcPropertySet('2ups0JG6n1VvC4pdB0zluW',#1,'Pset_BeamCommon',$,(#210,#211,#212)),\n",
       " #222=IfcElementQuantity('2HMsp_L9P6I8CwQ6HNOQ_0',#1,'Qto_BeamBaseQuantities',$,$,(#219,#220,#221)),\n",
       " #240=IfcPropertySet('00EBcbCmP36Q43kDOMVxR1',#1,'Pset_BeamCommon',$,(#237,#238,#239)),\n",
       " #245=IfcElementQuantity('28d0zpbA1FDgNVOoP3DC9B',#1,'Qto_BeamBaseQuantities',$,$,(#242,#243,#244)),\n",
       " #261=IfcPropertySet('0fB$YzpQ9F5fXAwW3qqCyT',#1,'Pset_BeamCommon',$,(#258,#259,#260)),\n",
       " #266=IfcElementQuantity('30SHzCjOj6gPOjYeg44wl2',#1,'Qto_BeamBaseQuantities',$,$,(#263,#264,#265)),\n",
       " #282=IfcPropertySet('0PBH0wkMXC_RjGQReUd5h1',#1,'Pset_BeamCommon',$,(#279,#280,#281)),\n",
       " #287=IfcElementQuantity('0kLKoeMc5BnhcvmJ1GtKjL',#1,'Qto_BeamBaseQuantities',$,$,(#284,#285,#286)),\n",
       " #303=IfcPropertySet('2QF6RwHpj16gEJ1wh5SKZA',#1,'Pset_BeamCommon',$,(#300,#301,#302)),\n",
       " #308=IfcElementQuantity('0dIg8JLuXAjP9eWTNPMJjH',#1,'Qto_BeamBaseQuantities',$,$,(#305,#306,#307)),\n",
       " #324=IfcPropertySet('1l$mN4mE5EtgtEWbu7EEvJ',#1,'Pset_BeamCommon',$,(#321,#322,#323)),\n",
       " #329=IfcElementQuantity('3wSFIICx575gqnRY4FYR_E',#1,'Qto_BeamBaseQuantities',$,$,(#326,#327,#328)),\n",
       " #50=IfcFootingType('39zsrh6sTE69jN0aDa_2y3',#1,'house - foundation','A house strip footing, ensuring stability and support.',$,$,$,'884636','strip_footing',.STRIP_FOOTING.),\n",
       " #69=IfcWallType('0_8SeeJGr948J4bU1RPXce',#1,'house - outer wall - house back','A solid outer wall, forming the back of the house.',$,$,$,'919510','solidwall',.SOLIDWALL.),\n",
       " #99=IfcWallType('0KOC4PbVP4CgUUcPIljzX8',#1,'house - outer wall - house front','A solid outer wall, forming the front of the house.',$,$,$,'919267','solidwall',.SOLIDWALL.),\n",
       " #123=IfcWallType('2JyKYAYaHEEwkOiNxZBS0J',#1,'house - outer wall - house front right','A solid outer wall, forming the front right side of the house.',$,$,$,'919673','solidwall',.SOLIDWALL.),\n",
       " #146=IfcChimneyType('10FwQBcdzD9ve3W6PvBTti',#1,'house - chimney','A chimney, standing tall and proud, guiding smoke away from the home.',$,$,$,'884350','flue',.USERDEFINED.),\n",
       " #170=IfcWallType('3sv$5PJEr5hP_mSgN$A$GJ',#1,'house - inner wall','A solid inner wall, providing structural support within the house.',$,$,$,'919726','solidwall',.SOLIDWALL.),\n",
       " #194=IfcRoofType('0GE$iSXKL8jAEeHi$mszPq',#1,'house - roof','A sturdy roof, sheltering the house from the elements.',$,$,$,'902509','gable_roof',.GABLE_ROOF.),\n",
       " #207=IfcBeamType('1_UeVn6yDFiQNhUkRsBNZI',#1,'house - girder','A strong girder, providing essential support for structures.',$,$,$,'902302','girder_segment',.USERDEFINED.),\n",
       " #341=IfcDiscreteAccessoryType('1i7uuLYVf6ShdGFfCgAhuD',#1,'beam shoe','A robust shoe, providing stable support for beams.',$,$,$,'880093','shoe',.SHOE.),\n",
       " #370=IfcBuildingElementProxyType('3mjKLn_DjE4Beriey9bTvr',#1,'origin','The local position for coordination of aspect models.',$,$,$,'1028017','origin',.USERDEFINED.),\n",
       " #389=IfcBuildingElementProxyType('2IpkHFcdnD3xuZl6H52fWn',#1,'geo-reference','The reference point for transforming the local engineering coordinate system into the coordinate reference system of the underlying map.',$,$,$,'1028019','origin',.USERDEFINED.),\n",
       " #56=IfcMaterial('concrete_reinforced_in-situ',$,$),\n",
       " #81=IfcMaterial('stone_sand-lime',$,$),\n",
       " #164=IfcMaterial('Default',$,$),\n",
       " #218=IfcMaterial('wood_spruce_beam',$,$),\n",
       " #347=IfcMaterial('metal_steel-galvanized',$,$),\n",
       " #376=IfcMaterial('virtual_white',$,$),\n",
       " #395=IfcMaterial('virtual_black',$,$),\n",
       " #43=IfcBuildingStorey('1Ano2ZUxnEIvVQ_beukl8b',#1,'00 groundfloor','The ground floor, forming the base level of the building.',$,#45,$,$,.ELEMENT.,-1.80477854883065E-12),\n",
       " #30=IfcBuilding('0c$N1CTon2BB2Sp89385G8',#1,'Single-family house','The main building structure, providing shelter and space.',$,#38,$,'house - building',.ELEMENT.,$,$,$),\n",
       " #23=IfcSite('1Pbuu0tu59NfhrTsztVBK1',#1,'house - site','Smoke curls from a friendly chimney, promising warmth within this idyllic hilltop house.',$,#25,$,$,.PARTIAL.,$,$,0.,$,$),\n",
       " #20=IfcSite('23sFQGRy90RxVbRHD9iSE2',#1,'environment - site','A sample scene environment, showcasing the surrounding landscape.',$,#22,$,$,.COMPLEX.,$,$,0.,$,$),\n",
       " #13=IfcProject('2Ndyd$OSX7s9A04nc4lyye',#1,'ifc silly sample scene - project','Demystifying IFC with a playful scene using diverse building elements and compositions.',$,$,$,(#11),#14),\n",
       " #196=IfcRoof('2iPwJwpPDCSgMheXwk9cBT',#1,'house - roof','A sturdy roof, sheltering the house from the elements.','gable_roof',#202,$,'454425.1027891.979946.932084',$),\n",
       " #35=IfcClassificationReference('https://identifier.buildingsmart.org/uri/molio/cciconstruction/1.0/class/E-AAA','E-AAA','Single-family house',#34,$,$),\n",
       " #71=IfcWall('0DyViLJJ175RvWQi1rE7a6',#1,'house - outer wall - house back','A solid outer wall, forming the back of the house.','solidwall',#88,#98,'454425.1027891.979946.932083.920030',$),\n",
       " #101=IfcWall('3SGBcf7Lv0r80vKtUCgOpf',#1,'house - outer wall - house front','A solid outer wall, forming the front of the house.','solidwall',#113,#122,'454425.1027891.979946.932083.920035',$),\n",
       " #125=IfcWall('3oNJ9yHi5FJuFnK8yg68Yt',#1,'house - outer wall - house front right','A solid outer wall, forming the front right side of the house.','solidwall',#136,#145,'454425.1027891.979946.932083.920036',$),\n",
       " #172=IfcWall('2gTJhghMT81QThk15l2VwR',#1,'house - inner wall','A solid inner wall, providing structural support within the house.','solidwall',#184,#193,'454425.1027891.979946.932083.2037932.920033',$),\n",
       " #209=IfcBeam('0fqX614OH1YO1Njdxms2$Q',#1,'girder','A strong girder, providing essential support for structures.','girder_segment',#225,#235,'454425.1027891.979946.932084.902513',$),\n",
       " #236=IfcBeam('0rh7bRO0L9fg1NzgGKU$Ut',#1,'girder','A strong girder, providing essential support for structures.','girder_segment',#247,#256,'454425.1027891.979946.932084.902515',$),\n",
       " #257=IfcBeam('3roxUKbVv98xiUcl22_T07',#1,'girder','A strong girder, providing essential support for structures.','girder_segment',#268,#277,'454425.1027891.979946.932084.902519',$),\n",
       " #278=IfcBeam('0Lvk$Qa81D5et3l3a4S9Vk',#1,'girder','A strong girder, providing essential support for structures.','girder_segment',#289,#298,'454425.1027891.979946.932084.902516',$),\n",
       " #299=IfcBeam('2ddLgAnQf4mBfh5IpUp54U',#1,'girder','A strong girder, providing essential support for structures.','girder_segment',#310,#319,'454425.1027891.979946.932084.902517',$),\n",
       " #320=IfcBeam('2fjJuPht9EIQaZQYZfC1Op',#1,'girder','A strong girder, providing essential support for structures.','girder_segment',#331,#340,'454425.1027891.979946.932084.902512',$),\n",
       " #52=IfcFooting('0pFmhV8oD1dB40_b4pscr8',#1,'house - foundation','A house strip footing, ensuring stability and support.','strip_footing',#58,#68,'454425.1027891.979946.932083.920028',$),\n",
       " #148=IfcChimney('3dkFAzOGrAIuOzY_RdrdVv',#1,'house - chimney','A chimney, standing tall and proud, guiding smoke away from the home.','flue',#149,#161,'454425.1027891.979946.932083.2023772',$),\n",
       " #343=IfcDiscreteAccessory('2r_8UEywH9_RLHe8z$Xa8J',#1,'beam shoe','A robust shoe, providing stable support for beams.','shoe',#348,#358,'454425.1027891.979946.932084.2037920.2037925',$),\n",
       " #359=IfcDiscreteAccessory('2cc4uJUVv5BevbidUpn1H3',#1,'beam shoe','A robust shoe, providing stable support for beams.','shoe',#360,#369,'454425.1027891.979946.932084.2037920.2037924',$),\n",
       " #372=IfcBuildingElementProxy('2F44QMqSH3TOkM$SZoqCBe',#1,'origin','The local position for coordination of aspect models.','origin',#378,#388,'454425.1027891.1032757',$),\n",
       " #391=IfcBuildingElementProxy('3Fit2Fad92zf2f6aWdJtF5',#1,'geo-reference','The reference point for transforming the local engineering coordinate system into the coordinate reference system of the underlying map.','origin',#397,#407,'454425.1032696',$),\n",
       " #162=IfcBuildingElementProxy('1CjP_CWub368bZVuVHeHs3',#1,'Group#21',$,$,#165,$,'454425.1027891.979946.932083.2037932',$)]"
      ]
     },
     "execution_count": 187,
     "metadata": {},
     "output_type": "execute_result"
    }
   ],
   "source": [
    "all_ents"
   ]
  },
  {
   "cell_type": "code",
   "execution_count": null,
   "id": "c123d334-a2c7-4ed8-a12a-347fc11db27a",
   "metadata": {},
   "outputs": [],
   "source": []
  },
  {
   "cell_type": "code",
   "execution_count": null,
   "id": "e8da1532-caf4-4df8-a921-2fe19384c027",
   "metadata": {},
   "outputs": [],
   "source": []
  },
  {
   "cell_type": "code",
   "execution_count": null,
   "id": "135f465d-5147-4cf1-b96f-81f3d0b18d58",
   "metadata": {},
   "outputs": [],
   "source": []
  },
  {
   "cell_type": "markdown",
   "id": "a3de85f1-6002-4d62-9ab4-d4692d745bf6",
   "metadata": {},
   "source": [
    "### 5.2.3. Functions Building Guidance:"
   ]
  },
  {
   "cell_type": "markdown",
   "id": "a8704e3a-b31d-496d-b861-d64d46f0adc1",
   "metadata": {},
   "source": [
    "**node_set:**"
   ]
  },
  {
   "cell_type": "code",
   "execution_count": 111,
   "id": "ed47825a-16e3-43c1-84a7-826aae2557b0",
   "metadata": {},
   "outputs": [
    {
     "data": {
      "text/plain": [
       "{'IfcBuilding',\n",
       " 'IfcBuildingStorey',\n",
       " 'IfcClassificationReference',\n",
       " 'IfcElement',\n",
       " 'IfcElementQuantity',\n",
       " 'IfcMaterial',\n",
       " 'IfcProject',\n",
       " 'IfcPropertySet',\n",
       " 'IfcSite',\n",
       " 'IfcTypeObject'}"
      ]
     },
     "execution_count": 111,
     "metadata": {},
     "output_type": "execute_result"
    }
   ],
   "source": [
    "entities_classes_identify(all_ents)"
   ]
  },
  {
   "cell_type": "markdown",
   "id": "64005188-bda1-4b50-8581-24496ed8b415",
   "metadata": {},
   "source": [
    "**pset_props_collect & qset_props_collect:**"
   ]
  },
  {
   "cell_type": "code",
   "execution_count": 122,
   "id": "d404503a-a17e-4c8f-9c9a-48453b497c68",
   "metadata": {},
   "outputs": [
    {
     "data": {
      "text/plain": [
       "{'IfcPropertySet': {'ConstructionMethod': {'property_type': 'IfcPropertySingleValue'},\n",
       "  'Status': {'property_type': 'IfcPropertyEnumeratedValue'},\n",
       "  'IsExternal': {'property_type': 'IfcPropertySingleValue'},\n",
       "  'LoadBearing': {'property_type': 'IfcPropertySingleValue'}},\n",
       " 'IfcElementQuantity': {'NetVolume': {'property_type': 'IfcQuantityVolume'},\n",
       "  'Width': {'property_type': 'IfcQuantityLength'},\n",
       "  'Length': {'property_type': 'IfcQuantityLength'},\n",
       "  'NetSideArea': {'property_type': 'IfcQuantityArea'},\n",
       "  'CrossSectionArea': {'property_type': 'IfcQuantityArea'}}}"
      ]
     },
     "execution_count": 122,
     "metadata": {},
     "output_type": "execute_result"
    }
   ],
   "source": [
    "props = props_identify(all_ents)\n",
    "props"
   ]
  },
  {
   "cell_type": "markdown",
   "id": "d93b81bf-4f42-49c4-8d45-1e2523c9fdec",
   "metadata": {},
   "source": [
    "### 5.2.4. Nodes Dictionary:"
   ]
  },
  {
   "cell_type": "code",
   "execution_count": 176,
   "id": "ea193e91-1539-435f-8873-70a3cba0da7a",
   "metadata": {},
   "outputs": [],
   "source": [
    "nodes = nodes_maker(all_ents)"
   ]
  },
  {
   "cell_type": "markdown",
   "id": "17e5b461-1b45-4b48-88b1-433bf9a24d9d",
   "metadata": {},
   "source": [
    "## 5.3. Sanity Checks:"
   ]
  },
  {
   "cell_type": "code",
   "execution_count": 152,
   "id": "12cd67ff-dd30-4ba8-b2a4-08c58677f6c5",
   "metadata": {},
   "outputs": [
    {
     "name": "stdout",
     "output_type": "stream",
     "text": [
      "Total number of elements: 15\n",
      "IfcBeam: 6.\n",
      "IfcChimney: 1.\n",
      "IfcFooting: 1.\n",
      "IfcRoof: 1.\n",
      "IfcWall: 4.\n",
      "IfcDiscreteAccessory: 2.\n"
     ]
    }
   ],
   "source": [
    "elements_distribution = elements_inspection(model)\n",
    "# elements_distribution"
   ]
  },
  {
   "cell_type": "code",
   "execution_count": 182,
   "id": "e95a140a-ba1a-4363-8585-491039d503f6",
   "metadata": {},
   "outputs": [
    {
     "name": "stdout",
     "output_type": "stream",
     "text": [
      "Edge count check passed: expected and actual are consistent (79).\n",
      "Relating entities count check passed: 79 = number of edges (79).\n",
      "Related entities count check passed: 79 = number of edges (79).\n",
      "Unique node union check passed: |union|=64, |relating|=47, |related|=22\n"
     ]
    }
   ],
   "source": [
    "sanity(expected, actual, relating_ents, related_ents)"
   ]
  },
  {
   "cell_type": "markdown",
   "id": "17c12f93-b616-402a-a0db-5a4ecf34a2a0",
   "metadata": {},
   "source": [
    "# 6. Neo4J graph:"
   ]
  },
  {
   "cell_type": "code",
   "execution_count": null,
   "id": "d459f016-5c67-4e7e-921a-ae0fccac8857",
   "metadata": {},
   "outputs": [],
   "source": []
  },
  {
   "cell_type": "code",
   "execution_count": null,
   "id": "f1b07826-fa19-4622-b08a-d3455566a311",
   "metadata": {},
   "outputs": [],
   "source": []
  },
  {
   "cell_type": "code",
   "execution_count": null,
   "id": "97dc8dfb-a45a-458f-8682-f437bedf922d",
   "metadata": {},
   "outputs": [],
   "source": []
  },
  {
   "cell_type": "code",
   "execution_count": null,
   "id": "0fd87403-7937-4590-80a0-b2c107598aff",
   "metadata": {},
   "outputs": [],
   "source": []
  },
  {
   "cell_type": "code",
   "execution_count": null,
   "id": "2ab957f3-1e43-4bb7-a43b-68148e72581d",
   "metadata": {},
   "outputs": [],
   "source": []
  },
  {
   "cell_type": "code",
   "execution_count": null,
   "id": "41b18f0b-b798-409f-b12f-91a572e139bb",
   "metadata": {},
   "outputs": [],
   "source": []
  },
  {
   "cell_type": "code",
   "execution_count": null,
   "id": "25a57f9d-46ed-442f-8954-497ec297936b",
   "metadata": {},
   "outputs": [],
   "source": []
  },
  {
   "cell_type": "code",
   "execution_count": null,
   "id": "3c4af5e2-a00d-420a-843c-1207b0ff04d8",
   "metadata": {},
   "outputs": [],
   "source": []
  },
  {
   "cell_type": "code",
   "execution_count": null,
   "id": "7e437b67-d516-400c-998c-eebbdc4801bc",
   "metadata": {},
   "outputs": [],
   "source": []
  }
 ],
 "metadata": {
  "kernelspec": {
   "display_name": "Python (capstone_env)",
   "language": "python",
   "name": "capstone_env"
  },
  "language_info": {
   "codemirror_mode": {
    "name": "ipython",
    "version": 3
   },
   "file_extension": ".py",
   "mimetype": "text/x-python",
   "name": "python",
   "nbconvert_exporter": "python",
   "pygments_lexer": "ipython3",
   "version": "3.11.13"
  }
 },
 "nbformat": 4,
 "nbformat_minor": 5
}

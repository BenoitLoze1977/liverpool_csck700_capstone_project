{
 "cells": [
  {
   "cell_type": "markdown",
   "id": "9fc2e2b4-33ed-45d7-af4b-964dae4971a1",
   "metadata": {},
   "source": [
    "# Title: csck700_ifc_parser"
   ]
  },
  {
   "cell_type": "markdown",
   "id": "97740413-1bd3-4438-afeb-4f2abf7760cf",
   "metadata": {},
   "source": [
    "### The module parses an IFC model to extract the IFcElements, their properties and relationships and loads them to nodes and directed edge into Neo4J."
   ]
  },
  {
   "cell_type": "markdown",
   "id": "7344a75e-b155-48d8-a350-db5f42b002a0",
   "metadata": {},
   "source": [
    "# 0. Table of content:"
   ]
  },
  {
   "cell_type": "code",
   "execution_count": null,
   "id": "a9151902-3360-4b57-9190-da1169d4e11b",
   "metadata": {},
   "outputs": [],
   "source": []
  },
  {
   "cell_type": "markdown",
   "id": "62008d32-c40c-472b-a1cb-d4a975892ffd",
   "metadata": {},
   "source": [
    "# 1. Settings:"
   ]
  },
  {
   "cell_type": "code",
   "execution_count": 6,
   "id": "27b591f4-2277-45a7-8c04-ea87b8fb0a07",
   "metadata": {},
   "outputs": [],
   "source": [
    "IFC_PATH = r\"..\\data\\raw\\Building-Structural.ifc\"\n",
    "\n",
    "NEO4J_URI = \"bolt://localhost:7687\"\n",
    "NEO4J_USER = \"neo4j\"\n",
    "NEO4J_PASSWORD = \"TitineTiteFiro@1952\""
   ]
  },
  {
   "cell_type": "code",
   "execution_count": 60,
   "id": "2d693dc5-6e28-4bd9-9fc4-cd504cd45307",
   "metadata": {},
   "outputs": [],
   "source": [
    "REL_MAP ={\n",
    "    \"IfcRelDefinesByProperties\": (\"RelatingPropertyDefinition\", \"RelatedObjects\", None),\n",
    "    \"IfcRelDefinesByType\": (\"RelatingType\", \"RelatedObjects\", \"DEFINED_BY_TYPE\"),\n",
    "    \"IfcRelAssociatesMaterial\": (\"RelatingMaterial\", \"RelatedObjects\", \"ASSOCIATED_MATERIAL\"),\n",
    "    \"IfcRelContainedInSpatialStructure\": (\"RelatingStructure\", \"RelatedElements\", \"CONTAINED_IN\"),\n",
    "    \"IfcRelAggregates\": (\"RelatingObject\", \"RelatedObjects\", \"AGGREGATES\"),\n",
    "    \"IfcRelAssociatesClassification\": (\"RelatingClassification\", \"RelatedObjects\", \"ASSOCIATED_CLASSIFICATION\")\n",
    "} "
   ]
  },
  {
   "cell_type": "code",
   "execution_count": null,
   "id": "ebd16438-4964-4956-9b75-529628c31f2f",
   "metadata": {},
   "outputs": [],
   "source": []
  },
  {
   "cell_type": "markdown",
   "id": "a35a9c22-6640-4d92-a41e-05df562afeb9",
   "metadata": {},
   "source": [
    "# 2. Imports:"
   ]
  },
  {
   "cell_type": "code",
   "execution_count": 9,
   "id": "ea7c2f06-2f88-4f66-afa6-8793e5f7d349",
   "metadata": {},
   "outputs": [],
   "source": [
    "import ifcopenshell\n",
    "import ifcopenshell.util.element as util\n",
    "from neo4j import GraphDatabase\n",
    "from collections import Counter"
   ]
  },
  {
   "cell_type": "code",
   "execution_count": null,
   "id": "f8ad28c3-613e-4a4e-a824-d3de65758ad1",
   "metadata": {},
   "outputs": [],
   "source": []
  },
  {
   "cell_type": "markdown",
   "id": "6c2bef45-a675-4ddf-b80e-f977cf088940",
   "metadata": {},
   "source": [
    "# 3. Helper functions:"
   ]
  },
  {
   "cell_type": "code",
   "execution_count": 11,
   "id": "daadd5d4-9048-4b84-9184-873e541315f8",
   "metadata": {},
   "outputs": [],
   "source": [
    "def elements_inspection(model, ifc_type=\"IfcProduct\"):\n",
    "    \"\"\"\n",
    "    Counts and lists IfcElements (excluding proxies in this case) grouped by class.\n",
    "    Returns:\n",
    "        - elements: list.\n",
    "        - classes_counter: Counter.\n",
    "    \"\"\"\n",
    "    \n",
    "    products = model.by_type(ifc_type)\n",
    "    elements = [p for p in products if (p.is_a(\"IfcElement\")) and not (p.is_a(\"IfcBuildingElementProxy\"))]\n",
    "    elements_classes = [el.is_a() for el in elements]\n",
    "    classes_counter = Counter(elements_classes)\n",
    "\n",
    "    print(f\"Total number of elements: {len(elements)}\")\n",
    "    for cl, count in classes_counter.items():\n",
    "        print(f\"{cl}: {count}.\")\n",
    "\n",
    "    return elements, classes_counter"
   ]
  },
  {
   "cell_type": "code",
   "execution_count": 12,
   "id": "bb98ec86-ac11-4a98-9b4f-8947d345f5cd",
   "metadata": {},
   "outputs": [],
   "source": [
    "def related_nodes_maker(elements):\n",
    "    \"\"\"\n",
    "    Build a dictionary of IfcElements nodes with basic properties.\n",
    "    Returns:\n",
    "        - related_nodes: dictionary with keys:\n",
    "            id, labels, name, predefined_type\n",
    "    \"\"\"\n",
    "\n",
    "    related_nodes = dict()\n",
    "    \n",
    "    for element in elements:\n",
    "        related_nodes[element.GlobalId] = {\n",
    "            \"id\": element.GlobalId,\n",
    "            \"labels\": [\"Element\", element.is_a()],\n",
    "            \"name\": element.Name,\n",
    "            \"predefined_type\": element.ObjectType\n",
    "    }\n",
    "    \n",
    "    print(f\"Total number of related nodes: {len(related_nodes)}\")\n",
    "\n",
    "    return related_nodes"
   ]
  },
  {
   "cell_type": "code",
   "execution_count": 13,
   "id": "1d72d490-84d3-44a6-bb04-9cc77b7ff8ab",
   "metadata": {},
   "outputs": [],
   "source": [
    "# def rel_identify(model, elements):\n",
    "#     \"\"\"\n",
    "#     Identifies the IfcRelationship classes applied to the given IfcElements.\n",
    "#     Returns:\n",
    "#         - Set: names of the IfcRelationship classes found.\n",
    "#     \"\"\"\n",
    "    \n",
    "#     rel_classes = set()\n",
    "    \n",
    "#     for element in elements:\n",
    "#         element_inverse = model.get_inverse(element)\n",
    "#         for rel in element_inverse:\n",
    "#             if rel.is_a().startswith(\"IfcRel\"):\n",
    "#                 rel_classes.add(rel.is_a())\n",
    "                \n",
    "#     print(\"Identified relationship classes:\")  \n",
    "#     for r in rel_classes:\n",
    "#         print(f\"-{r}.\")\n",
    "        \n",
    "#     return rel_classes"
   ]
  },
  {
   "cell_type": "code",
   "execution_count": 44,
   "id": "781fbab0-84bd-41ca-b3c5-a9f0492707a5",
   "metadata": {},
   "outputs": [],
   "source": [
    "def identify_rel(model):\n",
    "    \"\"\"\n",
    "    Identify all distinct IfcRelationship classes present in the model.\n",
    "    \"\"\"\n",
    "\n",
    "    rel_classes = set()\n",
    "\n",
    "    rels = model.by_type(\"IfcRelationship\")\n",
    "\n",
    "    for rel in rels:\n",
    "        rel_classes.add(rel.is_a())\n",
    "\n",
    "    print(\"Identified relationship classes:\")  \n",
    "    for r in rel_classes:\n",
    "        print(f\"- {r}.\")\n",
    "        \n",
    "    return rel_classes"
   ]
  },
  {
   "cell_type": "code",
   "execution_count": 50,
   "id": "698d3c83-a658-4565-ae5a-6b90632cde98",
   "metadata": {},
   "outputs": [],
   "source": [
    "def obj_id(o):\n",
    "    \"\"\"\n",
    "    Returns the GUID of the given object, if present, else synthetic ClassName:step_id.\n",
    "\n",
    "    Non-IfcRoot entities (e.g. IfcMaterial, IfcClassificationReference)\n",
    "    do not have a GlobalId, so the fallback ensures uniqueness.\n",
    "    \"\"\"\n",
    "    return getattr(o, \"GlobalId\", f\"{o.is_a()}:{o.id()}\")"
   ]
  },
  {
   "cell_type": "code",
   "execution_count": 52,
   "id": "9db862f9-e5bf-47ba-8140-2500e4496500",
   "metadata": {},
   "outputs": [],
   "source": [
    "def as_list(v):\n",
    "    \"\"\"\n",
    "    Ensures the value is returned as a list.\n",
    "    \"\"\"\n",
    "    if v is None:\n",
    "        return []\n",
    "    return v if isinstance(v, (list, tuple)) else [v]"
   ]
  },
  {
   "cell_type": "code",
   "execution_count": 62,
   "id": "c2d8b711-29e8-4bed-8b3e-a3333305c08a",
   "metadata": {},
   "outputs": [],
   "source": [
    "def edges_maker(model, rel_map=REL_MAP, pset_qto=True):\n",
    "    \"\"\"\n",
    "    For a given model, creates a dictionary of edges (IfcRelationships exploded into from -> to pairs.\n",
    "    Returns:\n",
    "        - edges: a dictionary of edges with keys:\n",
    "            - id, labels, rel_class, rel_id, from, to.\n",
    "    \"\"\"\n",
    "\n",
    "    edges = dict()\n",
    "    pairs = set()\n",
    "\n",
    "    for rel_class, (relating_attr, related_attr, label) in rel_map.items():\n",
    "        for rel in model.by_type(rel_class):\n",
    "            relating = getattr(rel, relating_attr, None)\n",
    "            related = getattr(rel, related_attr, None)\n",
    "            if relating is None:\n",
    "                continue\n",
    "            \n",
    "            # distinction property set vs quantity set:\n",
    "            if rel_class == \"IfcRelDefinesByProperties\":\n",
    "                if pset_qto and relating.is_a(\"IfcElementQuantity\"):\n",
    "                    edge_label = \"DEFINED_BY_QUANTITIES\"\n",
    "                else:\n",
    "                    edge_label = \"DEFINED_BY_PROPERTIES\"\n",
    "            else:\n",
    "                edge_label = label\n",
    "\n",
    "            frm = obj_id(relating)\n",
    "            rel_gid = obj_id(rel)\n",
    "\n",
    "            # one-to-many relationships:\n",
    "            for r in as_list(related):\n",
    "                if r is None:\n",
    "                    continue\n",
    "                to  = obj_id(r)\n",
    "                \n",
    "                # sanity check:\n",
    "                pairs.add((rel_gid, frm, to))\n",
    "                \n",
    "                edge_id = f\"{rel_gid}:{frm}->{to}\"\n",
    "                edges[edge_id]={\n",
    "                    \"id\": edge_id,\n",
    "                    \"labels\": edge_label,\n",
    "                    \"rel_class\": rel_class,\n",
    "                    \"rel_id\": rel_gid,\n",
    "                    \"from\": frm,\n",
    "                    \"to\": to\n",
    "                }\n",
    "    \n",
    "    print(f\"Expected number of edges: {len(pairs)}.\")\n",
    "    print(f\"Number of edges: {len(edges)}.\")\n",
    "    \n",
    "    return edges"
   ]
  },
  {
   "cell_type": "code",
   "execution_count": null,
   "id": "ada373f5-68b6-416e-a56a-b0fa3ff142b7",
   "metadata": {},
   "outputs": [],
   "source": []
  },
  {
   "cell_type": "code",
   "execution_count": null,
   "id": "42667233-2fff-46a6-b2b2-5d3d79b13bfb",
   "metadata": {},
   "outputs": [],
   "source": []
  },
  {
   "cell_type": "code",
   "execution_count": null,
   "id": "8bac173e-8f8e-461c-8dcd-c3ceb7741aac",
   "metadata": {},
   "outputs": [],
   "source": []
  },
  {
   "cell_type": "markdown",
   "id": "fe3f578c-c5a0-402e-8888-46d2a19962e6",
   "metadata": {},
   "source": [
    "# 4. Data load:"
   ]
  },
  {
   "cell_type": "code",
   "execution_count": 18,
   "id": "50286e9a-dbf7-421e-8908-156e8d8a129e",
   "metadata": {},
   "outputs": [],
   "source": [
    "model = ifcopenshell.open(IFC_PATH)"
   ]
  },
  {
   "cell_type": "code",
   "execution_count": 19,
   "id": "d94ac786-274b-4a84-b40a-33ad43a4bc1a",
   "metadata": {},
   "outputs": [],
   "source": [
    "driver = GraphDatabase.driver(NEO4J_URI, auth=(NEO4J_USER, NEO4J_PASSWORD))"
   ]
  },
  {
   "cell_type": "markdown",
   "id": "6ce5faaa-864b-4285-9e08-26ebe6e12848",
   "metadata": {},
   "source": [
    "# 5. IFC Parsing:"
   ]
  },
  {
   "cell_type": "markdown",
   "id": "9569fe49-0530-4c9a-8c84-612c86e9e2c6",
   "metadata": {},
   "source": [
    "## 5.1. Related nodes:"
   ]
  },
  {
   "cell_type": "code",
   "execution_count": 22,
   "id": "a07d6c68-27ad-4162-985f-2c538b549511",
   "metadata": {},
   "outputs": [
    {
     "name": "stdout",
     "output_type": "stream",
     "text": [
      "Total number of elements: 15\n",
      "IfcBeam: 6.\n",
      "IfcChimney: 1.\n",
      "IfcFooting: 1.\n",
      "IfcRoof: 1.\n",
      "IfcWall: 4.\n",
      "IfcDiscreteAccessory: 2.\n"
     ]
    }
   ],
   "source": [
    "elements, classes = elements_inspection(model)"
   ]
  },
  {
   "cell_type": "code",
   "execution_count": 23,
   "id": "0e3117f7-ae7c-4ddf-aaaa-74ffa2f22605",
   "metadata": {},
   "outputs": [
    {
     "name": "stdout",
     "output_type": "stream",
     "text": [
      "Total number of related nodes: 15\n"
     ]
    }
   ],
   "source": [
    "related_nodes = related_nodes_maker(elements)"
   ]
  },
  {
   "cell_type": "code",
   "execution_count": null,
   "id": "c77e87fa-955f-4741-951b-64149b297c83",
   "metadata": {},
   "outputs": [],
   "source": []
  },
  {
   "cell_type": "markdown",
   "id": "bc0b6cab-f61f-459d-97e1-c07e36d25b05",
   "metadata": {},
   "source": [
    "## 5.2. Relationship edges:"
   ]
  },
  {
   "cell_type": "markdown",
   "id": "46553054-fcd1-4199-9885-60965bb3e9d5",
   "metadata": {},
   "source": [
    "### IFC inverse relationships are not included in the Neo4j graph. Neo4j can traverse edges in both directions, so storing inverse relationships would only duplicate data and waste memory.  "
   ]
  },
  {
   "cell_type": "code",
   "execution_count": 56,
   "id": "3e4398da-d9e4-4716-a177-1f42ffc872e9",
   "metadata": {},
   "outputs": [
    {
     "name": "stdout",
     "output_type": "stream",
     "text": [
      "Identified relationship classes:\n",
      "- IfcRelDefinesByProperties.\n",
      "- IfcRelDefinesByType.\n",
      "- IfcRelAssociatesClassification.\n",
      "- IfcRelContainedInSpatialStructure.\n",
      "- IfcRelAggregates.\n",
      "- IfcRelAssociatesMaterial.\n"
     ]
    },
    {
     "data": {
      "text/plain": [
       "{'IfcRelAggregates',\n",
       " 'IfcRelAssociatesClassification',\n",
       " 'IfcRelAssociatesMaterial',\n",
       " 'IfcRelContainedInSpatialStructure',\n",
       " 'IfcRelDefinesByProperties',\n",
       " 'IfcRelDefinesByType'}"
      ]
     },
     "execution_count": 56,
     "metadata": {},
     "output_type": "execute_result"
    }
   ],
   "source": [
    "identify_rel(model)"
   ]
  },
  {
   "cell_type": "code",
   "execution_count": 64,
   "id": "af8e51af-dd19-4ca6-91a5-8106ea99be87",
   "metadata": {},
   "outputs": [
    {
     "name": "stdout",
     "output_type": "stream",
     "text": [
      "Expected number of edges: 79.\n",
      "Number of edges: 79.\n"
     ]
    }
   ],
   "source": [
    "edges = edges_maker(model)"
   ]
  },
  {
   "cell_type": "code",
   "execution_count": 66,
   "id": "5f5c152d-9f20-4026-a6fd-05fdb957379e",
   "metadata": {
    "scrolled": true
   },
   "outputs": [
    {
     "data": {
      "text/plain": [
       "{'141p4IPfrBnRJ5dWbakDZK:18DB$FpSH4QhNntrrSRVGz->0c$N1CTon2BB2Sp89385G8': {'id': '141p4IPfrBnRJ5dWbakDZK:18DB$FpSH4QhNntrrSRVGz->0c$N1CTon2BB2Sp89385G8',\n",
       "  'labels': 'DEFINED_BY_PROPERTIES',\n",
       "  'rel_class': 'IfcRelDefinesByProperties',\n",
       "  'rel_id': '141p4IPfrBnRJ5dWbakDZK',\n",
       "  'from': '18DB$FpSH4QhNntrrSRVGz',\n",
       "  'to': '0c$N1CTon2BB2Sp89385G8'},\n",
       " '37JtmMF1HE8uDDbwzFG43E:0hVJYXG1r7ywQAq8Vpug40->0DyViLJJ175RvWQi1rE7a6': {'id': '37JtmMF1HE8uDDbwzFG43E:0hVJYXG1r7ywQAq8Vpug40->0DyViLJJ175RvWQi1rE7a6',\n",
       "  'labels': 'DEFINED_BY_PROPERTIES',\n",
       "  'rel_class': 'IfcRelDefinesByProperties',\n",
       "  'rel_id': '37JtmMF1HE8uDDbwzFG43E',\n",
       "  'from': '0hVJYXG1r7ywQAq8Vpug40',\n",
       "  'to': '0DyViLJJ175RvWQi1rE7a6'},\n",
       " '1SWTv4zQ95LhMduNc2qS5N:0VVWsZ$_bFHgmAwNtcydte->0DyViLJJ175RvWQi1rE7a6': {'id': '1SWTv4zQ95LhMduNc2qS5N:0VVWsZ$_bFHgmAwNtcydte->0DyViLJJ175RvWQi1rE7a6',\n",
       "  'labels': 'DEFINED_BY_QUANTITIES',\n",
       "  'rel_class': 'IfcRelDefinesByProperties',\n",
       "  'rel_id': '1SWTv4zQ95LhMduNc2qS5N',\n",
       "  'from': '0VVWsZ$_bFHgmAwNtcydte',\n",
       "  'to': '0DyViLJJ175RvWQi1rE7a6'},\n",
       " '19ODOikkP12ekL3tHCBrti:0ek$CCUjnFefFg04xFxxG_->3SGBcf7Lv0r80vKtUCgOpf': {'id': '19ODOikkP12ekL3tHCBrti:0ek$CCUjnFefFg04xFxxG_->3SGBcf7Lv0r80vKtUCgOpf',\n",
       "  'labels': 'DEFINED_BY_PROPERTIES',\n",
       "  'rel_class': 'IfcRelDefinesByProperties',\n",
       "  'rel_id': '19ODOikkP12ekL3tHCBrti',\n",
       "  'from': '0ek$CCUjnFefFg04xFxxG_',\n",
       "  'to': '3SGBcf7Lv0r80vKtUCgOpf'},\n",
       " '3i60ni0ojBxOwszT3oi472:22KfX2yaj4UBecOFxQr$3y->3SGBcf7Lv0r80vKtUCgOpf': {'id': '3i60ni0ojBxOwszT3oi472:22KfX2yaj4UBecOFxQr$3y->3SGBcf7Lv0r80vKtUCgOpf',\n",
       "  'labels': 'DEFINED_BY_QUANTITIES',\n",
       "  'rel_class': 'IfcRelDefinesByProperties',\n",
       "  'rel_id': '3i60ni0ojBxOwszT3oi472',\n",
       "  'from': '22KfX2yaj4UBecOFxQr$3y',\n",
       "  'to': '3SGBcf7Lv0r80vKtUCgOpf'},\n",
       " '0yeZtWBK50_x61UkYOEKtO:2DaAsqJGPDexb$sFANyw0e->3oNJ9yHi5FJuFnK8yg68Yt': {'id': '0yeZtWBK50_x61UkYOEKtO:2DaAsqJGPDexb$sFANyw0e->3oNJ9yHi5FJuFnK8yg68Yt',\n",
       "  'labels': 'DEFINED_BY_PROPERTIES',\n",
       "  'rel_class': 'IfcRelDefinesByProperties',\n",
       "  'rel_id': '0yeZtWBK50_x61UkYOEKtO',\n",
       "  'from': '2DaAsqJGPDexb$sFANyw0e',\n",
       "  'to': '3oNJ9yHi5FJuFnK8yg68Yt'},\n",
       " '1BA0VHArv909Ms582hMplk:16mzz5kV15mAyMAccFRkj4->3oNJ9yHi5FJuFnK8yg68Yt': {'id': '1BA0VHArv909Ms582hMplk:16mzz5kV15mAyMAccFRkj4->3oNJ9yHi5FJuFnK8yg68Yt',\n",
       "  'labels': 'DEFINED_BY_QUANTITIES',\n",
       "  'rel_class': 'IfcRelDefinesByProperties',\n",
       "  'rel_id': '1BA0VHArv909Ms582hMplk',\n",
       "  'from': '16mzz5kV15mAyMAccFRkj4',\n",
       "  'to': '3oNJ9yHi5FJuFnK8yg68Yt'},\n",
       " '3pBPuLNjn30eidIcFKyIfx:3UegLqoYrB5QLJ1Fl0C0gk->2gTJhghMT81QThk15l2VwR': {'id': '3pBPuLNjn30eidIcFKyIfx:3UegLqoYrB5QLJ1Fl0C0gk->2gTJhghMT81QThk15l2VwR',\n",
       "  'labels': 'DEFINED_BY_PROPERTIES',\n",
       "  'rel_class': 'IfcRelDefinesByProperties',\n",
       "  'rel_id': '3pBPuLNjn30eidIcFKyIfx',\n",
       "  'from': '3UegLqoYrB5QLJ1Fl0C0gk',\n",
       "  'to': '2gTJhghMT81QThk15l2VwR'},\n",
       " '3vxMmWz_j0mgJTa6nPhy_B:3BkYHDW2b4LxsPRJLXlKa9->2gTJhghMT81QThk15l2VwR': {'id': '3vxMmWz_j0mgJTa6nPhy_B:3BkYHDW2b4LxsPRJLXlKa9->2gTJhghMT81QThk15l2VwR',\n",
       "  'labels': 'DEFINED_BY_QUANTITIES',\n",
       "  'rel_class': 'IfcRelDefinesByProperties',\n",
       "  'rel_id': '3vxMmWz_j0mgJTa6nPhy_B',\n",
       "  'from': '3BkYHDW2b4LxsPRJLXlKa9',\n",
       "  'to': '2gTJhghMT81QThk15l2VwR'},\n",
       " '0PA6R2Jzr52AHk58oxcy4K:3IC75ptmHAcfynDO0H7l6Q->2iPwJwpPDCSgMheXwk9cBT': {'id': '0PA6R2Jzr52AHk58oxcy4K:3IC75ptmHAcfynDO0H7l6Q->2iPwJwpPDCSgMheXwk9cBT',\n",
       "  'labels': 'DEFINED_BY_PROPERTIES',\n",
       "  'rel_class': 'IfcRelDefinesByProperties',\n",
       "  'rel_id': '0PA6R2Jzr52AHk58oxcy4K',\n",
       "  'from': '3IC75ptmHAcfynDO0H7l6Q',\n",
       "  'to': '2iPwJwpPDCSgMheXwk9cBT'},\n",
       " '1ZAknfDjDF1eszlAeNdiun:2ups0JG6n1VvC4pdB0zluW->0fqX614OH1YO1Njdxms2$Q': {'id': '1ZAknfDjDF1eszlAeNdiun:2ups0JG6n1VvC4pdB0zluW->0fqX614OH1YO1Njdxms2$Q',\n",
       "  'labels': 'DEFINED_BY_PROPERTIES',\n",
       "  'rel_class': 'IfcRelDefinesByProperties',\n",
       "  'rel_id': '1ZAknfDjDF1eszlAeNdiun',\n",
       "  'from': '2ups0JG6n1VvC4pdB0zluW',\n",
       "  'to': '0fqX614OH1YO1Njdxms2$Q'},\n",
       " '18SCBIM$j6SxZvzgf0z8dm:2HMsp_L9P6I8CwQ6HNOQ_0->0fqX614OH1YO1Njdxms2$Q': {'id': '18SCBIM$j6SxZvzgf0z8dm:2HMsp_L9P6I8CwQ6HNOQ_0->0fqX614OH1YO1Njdxms2$Q',\n",
       "  'labels': 'DEFINED_BY_QUANTITIES',\n",
       "  'rel_class': 'IfcRelDefinesByProperties',\n",
       "  'rel_id': '18SCBIM$j6SxZvzgf0z8dm',\n",
       "  'from': '2HMsp_L9P6I8CwQ6HNOQ_0',\n",
       "  'to': '0fqX614OH1YO1Njdxms2$Q'},\n",
       " '256YYp2JL6Cx0WbxeIKq$J:00EBcbCmP36Q43kDOMVxR1->0rh7bRO0L9fg1NzgGKU$Ut': {'id': '256YYp2JL6Cx0WbxeIKq$J:00EBcbCmP36Q43kDOMVxR1->0rh7bRO0L9fg1NzgGKU$Ut',\n",
       "  'labels': 'DEFINED_BY_PROPERTIES',\n",
       "  'rel_class': 'IfcRelDefinesByProperties',\n",
       "  'rel_id': '256YYp2JL6Cx0WbxeIKq$J',\n",
       "  'from': '00EBcbCmP36Q43kDOMVxR1',\n",
       "  'to': '0rh7bRO0L9fg1NzgGKU$Ut'},\n",
       " '13Ef3vovv1FBMPINZDiMkh:28d0zpbA1FDgNVOoP3DC9B->0rh7bRO0L9fg1NzgGKU$Ut': {'id': '13Ef3vovv1FBMPINZDiMkh:28d0zpbA1FDgNVOoP3DC9B->0rh7bRO0L9fg1NzgGKU$Ut',\n",
       "  'labels': 'DEFINED_BY_QUANTITIES',\n",
       "  'rel_class': 'IfcRelDefinesByProperties',\n",
       "  'rel_id': '13Ef3vovv1FBMPINZDiMkh',\n",
       "  'from': '28d0zpbA1FDgNVOoP3DC9B',\n",
       "  'to': '0rh7bRO0L9fg1NzgGKU$Ut'},\n",
       " '3s2cOWY_f7xgExVmLuOC1F:0fB$YzpQ9F5fXAwW3qqCyT->3roxUKbVv98xiUcl22_T07': {'id': '3s2cOWY_f7xgExVmLuOC1F:0fB$YzpQ9F5fXAwW3qqCyT->3roxUKbVv98xiUcl22_T07',\n",
       "  'labels': 'DEFINED_BY_PROPERTIES',\n",
       "  'rel_class': 'IfcRelDefinesByProperties',\n",
       "  'rel_id': '3s2cOWY_f7xgExVmLuOC1F',\n",
       "  'from': '0fB$YzpQ9F5fXAwW3qqCyT',\n",
       "  'to': '3roxUKbVv98xiUcl22_T07'},\n",
       " '2RqoGRc4HDKxh0mXR9aubO:30SHzCjOj6gPOjYeg44wl2->3roxUKbVv98xiUcl22_T07': {'id': '2RqoGRc4HDKxh0mXR9aubO:30SHzCjOj6gPOjYeg44wl2->3roxUKbVv98xiUcl22_T07',\n",
       "  'labels': 'DEFINED_BY_QUANTITIES',\n",
       "  'rel_class': 'IfcRelDefinesByProperties',\n",
       "  'rel_id': '2RqoGRc4HDKxh0mXR9aubO',\n",
       "  'from': '30SHzCjOj6gPOjYeg44wl2',\n",
       "  'to': '3roxUKbVv98xiUcl22_T07'},\n",
       " '1kfOxVaUn7igK3ixTIT1mm:0PBH0wkMXC_RjGQReUd5h1->0Lvk$Qa81D5et3l3a4S9Vk': {'id': '1kfOxVaUn7igK3ixTIT1mm:0PBH0wkMXC_RjGQReUd5h1->0Lvk$Qa81D5et3l3a4S9Vk',\n",
       "  'labels': 'DEFINED_BY_PROPERTIES',\n",
       "  'rel_class': 'IfcRelDefinesByProperties',\n",
       "  'rel_id': '1kfOxVaUn7igK3ixTIT1mm',\n",
       "  'from': '0PBH0wkMXC_RjGQReUd5h1',\n",
       "  'to': '0Lvk$Qa81D5et3l3a4S9Vk'},\n",
       " '3xGoWtpb5DkfUR1FSc5StW:0kLKoeMc5BnhcvmJ1GtKjL->0Lvk$Qa81D5et3l3a4S9Vk': {'id': '3xGoWtpb5DkfUR1FSc5StW:0kLKoeMc5BnhcvmJ1GtKjL->0Lvk$Qa81D5et3l3a4S9Vk',\n",
       "  'labels': 'DEFINED_BY_QUANTITIES',\n",
       "  'rel_class': 'IfcRelDefinesByProperties',\n",
       "  'rel_id': '3xGoWtpb5DkfUR1FSc5StW',\n",
       "  'from': '0kLKoeMc5BnhcvmJ1GtKjL',\n",
       "  'to': '0Lvk$Qa81D5et3l3a4S9Vk'},\n",
       " '1_Mz54MgPEf8invct8zsn4:2QF6RwHpj16gEJ1wh5SKZA->2ddLgAnQf4mBfh5IpUp54U': {'id': '1_Mz54MgPEf8invct8zsn4:2QF6RwHpj16gEJ1wh5SKZA->2ddLgAnQf4mBfh5IpUp54U',\n",
       "  'labels': 'DEFINED_BY_PROPERTIES',\n",
       "  'rel_class': 'IfcRelDefinesByProperties',\n",
       "  'rel_id': '1_Mz54MgPEf8invct8zsn4',\n",
       "  'from': '2QF6RwHpj16gEJ1wh5SKZA',\n",
       "  'to': '2ddLgAnQf4mBfh5IpUp54U'},\n",
       " '1Re7jJq7TFuwWj5pYY61Bl:0dIg8JLuXAjP9eWTNPMJjH->2ddLgAnQf4mBfh5IpUp54U': {'id': '1Re7jJq7TFuwWj5pYY61Bl:0dIg8JLuXAjP9eWTNPMJjH->2ddLgAnQf4mBfh5IpUp54U',\n",
       "  'labels': 'DEFINED_BY_QUANTITIES',\n",
       "  'rel_class': 'IfcRelDefinesByProperties',\n",
       "  'rel_id': '1Re7jJq7TFuwWj5pYY61Bl',\n",
       "  'from': '0dIg8JLuXAjP9eWTNPMJjH',\n",
       "  'to': '2ddLgAnQf4mBfh5IpUp54U'},\n",
       " '1A$xLWc2zFTAP4pjkGmuxr:1l$mN4mE5EtgtEWbu7EEvJ->2fjJuPht9EIQaZQYZfC1Op': {'id': '1A$xLWc2zFTAP4pjkGmuxr:1l$mN4mE5EtgtEWbu7EEvJ->2fjJuPht9EIQaZQYZfC1Op',\n",
       "  'labels': 'DEFINED_BY_PROPERTIES',\n",
       "  'rel_class': 'IfcRelDefinesByProperties',\n",
       "  'rel_id': '1A$xLWc2zFTAP4pjkGmuxr',\n",
       "  'from': '1l$mN4mE5EtgtEWbu7EEvJ',\n",
       "  'to': '2fjJuPht9EIQaZQYZfC1Op'},\n",
       " '2AUcjx78L3PAQTSMpi8$sr:3wSFIICx575gqnRY4FYR_E->2fjJuPht9EIQaZQYZfC1Op': {'id': '2AUcjx78L3PAQTSMpi8$sr:3wSFIICx575gqnRY4FYR_E->2fjJuPht9EIQaZQYZfC1Op',\n",
       "  'labels': 'DEFINED_BY_QUANTITIES',\n",
       "  'rel_class': 'IfcRelDefinesByProperties',\n",
       "  'rel_id': '2AUcjx78L3PAQTSMpi8$sr',\n",
       "  'from': '3wSFIICx575gqnRY4FYR_E',\n",
       "  'to': '2fjJuPht9EIQaZQYZfC1Op'},\n",
       " '2Ca0YqD5bBUxjYPcKrr8dB:39zsrh6sTE69jN0aDa_2y3->0pFmhV8oD1dB40_b4pscr8': {'id': '2Ca0YqD5bBUxjYPcKrr8dB:39zsrh6sTE69jN0aDa_2y3->0pFmhV8oD1dB40_b4pscr8',\n",
       "  'labels': 'DEFINED_BY_TYPE',\n",
       "  'rel_class': 'IfcRelDefinesByType',\n",
       "  'rel_id': '2Ca0YqD5bBUxjYPcKrr8dB',\n",
       "  'from': '39zsrh6sTE69jN0aDa_2y3',\n",
       "  'to': '0pFmhV8oD1dB40_b4pscr8'},\n",
       " '1Dq$Dv2C19kvvXmEBQkP5l:0_8SeeJGr948J4bU1RPXce->0DyViLJJ175RvWQi1rE7a6': {'id': '1Dq$Dv2C19kvvXmEBQkP5l:0_8SeeJGr948J4bU1RPXce->0DyViLJJ175RvWQi1rE7a6',\n",
       "  'labels': 'DEFINED_BY_TYPE',\n",
       "  'rel_class': 'IfcRelDefinesByType',\n",
       "  'rel_id': '1Dq$Dv2C19kvvXmEBQkP5l',\n",
       "  'from': '0_8SeeJGr948J4bU1RPXce',\n",
       "  'to': '0DyViLJJ175RvWQi1rE7a6'},\n",
       " '2j$nW3pT9Fewa4SjRDvSsa:0KOC4PbVP4CgUUcPIljzX8->3SGBcf7Lv0r80vKtUCgOpf': {'id': '2j$nW3pT9Fewa4SjRDvSsa:0KOC4PbVP4CgUUcPIljzX8->3SGBcf7Lv0r80vKtUCgOpf',\n",
       "  'labels': 'DEFINED_BY_TYPE',\n",
       "  'rel_class': 'IfcRelDefinesByType',\n",
       "  'rel_id': '2j$nW3pT9Fewa4SjRDvSsa',\n",
       "  'from': '0KOC4PbVP4CgUUcPIljzX8',\n",
       "  'to': '3SGBcf7Lv0r80vKtUCgOpf'},\n",
       " '0Lutqys6D3UQmJeJXWcI9a:2JyKYAYaHEEwkOiNxZBS0J->3oNJ9yHi5FJuFnK8yg68Yt': {'id': '0Lutqys6D3UQmJeJXWcI9a:2JyKYAYaHEEwkOiNxZBS0J->3oNJ9yHi5FJuFnK8yg68Yt',\n",
       "  'labels': 'DEFINED_BY_TYPE',\n",
       "  'rel_class': 'IfcRelDefinesByType',\n",
       "  'rel_id': '0Lutqys6D3UQmJeJXWcI9a',\n",
       "  'from': '2JyKYAYaHEEwkOiNxZBS0J',\n",
       "  'to': '3oNJ9yHi5FJuFnK8yg68Yt'},\n",
       " '22pEICzjP0uQNvM7rXMZ6g:10FwQBcdzD9ve3W6PvBTti->3dkFAzOGrAIuOzY_RdrdVv': {'id': '22pEICzjP0uQNvM7rXMZ6g:10FwQBcdzD9ve3W6PvBTti->3dkFAzOGrAIuOzY_RdrdVv',\n",
       "  'labels': 'DEFINED_BY_TYPE',\n",
       "  'rel_class': 'IfcRelDefinesByType',\n",
       "  'rel_id': '22pEICzjP0uQNvM7rXMZ6g',\n",
       "  'from': '10FwQBcdzD9ve3W6PvBTti',\n",
       "  'to': '3dkFAzOGrAIuOzY_RdrdVv'},\n",
       " '03jzp7gAn8ZhZ3yNm_TOEt:3sv$5PJEr5hP_mSgN$A$GJ->2gTJhghMT81QThk15l2VwR': {'id': '03jzp7gAn8ZhZ3yNm_TOEt:3sv$5PJEr5hP_mSgN$A$GJ->2gTJhghMT81QThk15l2VwR',\n",
       "  'labels': 'DEFINED_BY_TYPE',\n",
       "  'rel_class': 'IfcRelDefinesByType',\n",
       "  'rel_id': '03jzp7gAn8ZhZ3yNm_TOEt',\n",
       "  'from': '3sv$5PJEr5hP_mSgN$A$GJ',\n",
       "  'to': '2gTJhghMT81QThk15l2VwR'},\n",
       " '3vwqwSGfL8LeMOHvcbNbYk:0GE$iSXKL8jAEeHi$mszPq->2iPwJwpPDCSgMheXwk9cBT': {'id': '3vwqwSGfL8LeMOHvcbNbYk:0GE$iSXKL8jAEeHi$mszPq->2iPwJwpPDCSgMheXwk9cBT',\n",
       "  'labels': 'DEFINED_BY_TYPE',\n",
       "  'rel_class': 'IfcRelDefinesByType',\n",
       "  'rel_id': '3vwqwSGfL8LeMOHvcbNbYk',\n",
       "  'from': '0GE$iSXKL8jAEeHi$mszPq',\n",
       "  'to': '2iPwJwpPDCSgMheXwk9cBT'},\n",
       " '0QaU_JWFP0egFTAfCdiIGO:1_UeVn6yDFiQNhUkRsBNZI->0fqX614OH1YO1Njdxms2$Q': {'id': '0QaU_JWFP0egFTAfCdiIGO:1_UeVn6yDFiQNhUkRsBNZI->0fqX614OH1YO1Njdxms2$Q',\n",
       "  'labels': 'DEFINED_BY_TYPE',\n",
       "  'rel_class': 'IfcRelDefinesByType',\n",
       "  'rel_id': '0QaU_JWFP0egFTAfCdiIGO',\n",
       "  'from': '1_UeVn6yDFiQNhUkRsBNZI',\n",
       "  'to': '0fqX614OH1YO1Njdxms2$Q'},\n",
       " '0QaU_JWFP0egFTAfCdiIGO:1_UeVn6yDFiQNhUkRsBNZI->0rh7bRO0L9fg1NzgGKU$Ut': {'id': '0QaU_JWFP0egFTAfCdiIGO:1_UeVn6yDFiQNhUkRsBNZI->0rh7bRO0L9fg1NzgGKU$Ut',\n",
       "  'labels': 'DEFINED_BY_TYPE',\n",
       "  'rel_class': 'IfcRelDefinesByType',\n",
       "  'rel_id': '0QaU_JWFP0egFTAfCdiIGO',\n",
       "  'from': '1_UeVn6yDFiQNhUkRsBNZI',\n",
       "  'to': '0rh7bRO0L9fg1NzgGKU$Ut'},\n",
       " '0QaU_JWFP0egFTAfCdiIGO:1_UeVn6yDFiQNhUkRsBNZI->3roxUKbVv98xiUcl22_T07': {'id': '0QaU_JWFP0egFTAfCdiIGO:1_UeVn6yDFiQNhUkRsBNZI->3roxUKbVv98xiUcl22_T07',\n",
       "  'labels': 'DEFINED_BY_TYPE',\n",
       "  'rel_class': 'IfcRelDefinesByType',\n",
       "  'rel_id': '0QaU_JWFP0egFTAfCdiIGO',\n",
       "  'from': '1_UeVn6yDFiQNhUkRsBNZI',\n",
       "  'to': '3roxUKbVv98xiUcl22_T07'},\n",
       " '0QaU_JWFP0egFTAfCdiIGO:1_UeVn6yDFiQNhUkRsBNZI->0Lvk$Qa81D5et3l3a4S9Vk': {'id': '0QaU_JWFP0egFTAfCdiIGO:1_UeVn6yDFiQNhUkRsBNZI->0Lvk$Qa81D5et3l3a4S9Vk',\n",
       "  'labels': 'DEFINED_BY_TYPE',\n",
       "  'rel_class': 'IfcRelDefinesByType',\n",
       "  'rel_id': '0QaU_JWFP0egFTAfCdiIGO',\n",
       "  'from': '1_UeVn6yDFiQNhUkRsBNZI',\n",
       "  'to': '0Lvk$Qa81D5et3l3a4S9Vk'},\n",
       " '0QaU_JWFP0egFTAfCdiIGO:1_UeVn6yDFiQNhUkRsBNZI->2ddLgAnQf4mBfh5IpUp54U': {'id': '0QaU_JWFP0egFTAfCdiIGO:1_UeVn6yDFiQNhUkRsBNZI->2ddLgAnQf4mBfh5IpUp54U',\n",
       "  'labels': 'DEFINED_BY_TYPE',\n",
       "  'rel_class': 'IfcRelDefinesByType',\n",
       "  'rel_id': '0QaU_JWFP0egFTAfCdiIGO',\n",
       "  'from': '1_UeVn6yDFiQNhUkRsBNZI',\n",
       "  'to': '2ddLgAnQf4mBfh5IpUp54U'},\n",
       " '0QaU_JWFP0egFTAfCdiIGO:1_UeVn6yDFiQNhUkRsBNZI->2fjJuPht9EIQaZQYZfC1Op': {'id': '0QaU_JWFP0egFTAfCdiIGO:1_UeVn6yDFiQNhUkRsBNZI->2fjJuPht9EIQaZQYZfC1Op',\n",
       "  'labels': 'DEFINED_BY_TYPE',\n",
       "  'rel_class': 'IfcRelDefinesByType',\n",
       "  'rel_id': '0QaU_JWFP0egFTAfCdiIGO',\n",
       "  'from': '1_UeVn6yDFiQNhUkRsBNZI',\n",
       "  'to': '2fjJuPht9EIQaZQYZfC1Op'},\n",
       " '2WxkgoJp57vPJ9Jr6S$j_w:1i7uuLYVf6ShdGFfCgAhuD->2r_8UEywH9_RLHe8z$Xa8J': {'id': '2WxkgoJp57vPJ9Jr6S$j_w:1i7uuLYVf6ShdGFfCgAhuD->2r_8UEywH9_RLHe8z$Xa8J',\n",
       "  'labels': 'DEFINED_BY_TYPE',\n",
       "  'rel_class': 'IfcRelDefinesByType',\n",
       "  'rel_id': '2WxkgoJp57vPJ9Jr6S$j_w',\n",
       "  'from': '1i7uuLYVf6ShdGFfCgAhuD',\n",
       "  'to': '2r_8UEywH9_RLHe8z$Xa8J'},\n",
       " '2WxkgoJp57vPJ9Jr6S$j_w:1i7uuLYVf6ShdGFfCgAhuD->2cc4uJUVv5BevbidUpn1H3': {'id': '2WxkgoJp57vPJ9Jr6S$j_w:1i7uuLYVf6ShdGFfCgAhuD->2cc4uJUVv5BevbidUpn1H3',\n",
       "  'labels': 'DEFINED_BY_TYPE',\n",
       "  'rel_class': 'IfcRelDefinesByType',\n",
       "  'rel_id': '2WxkgoJp57vPJ9Jr6S$j_w',\n",
       "  'from': '1i7uuLYVf6ShdGFfCgAhuD',\n",
       "  'to': '2cc4uJUVv5BevbidUpn1H3'},\n",
       " '21U96ixejDwQmHCVkbTd2U:3mjKLn_DjE4Beriey9bTvr->2F44QMqSH3TOkM$SZoqCBe': {'id': '21U96ixejDwQmHCVkbTd2U:3mjKLn_DjE4Beriey9bTvr->2F44QMqSH3TOkM$SZoqCBe',\n",
       "  'labels': 'DEFINED_BY_TYPE',\n",
       "  'rel_class': 'IfcRelDefinesByType',\n",
       "  'rel_id': '21U96ixejDwQmHCVkbTd2U',\n",
       "  'from': '3mjKLn_DjE4Beriey9bTvr',\n",
       "  'to': '2F44QMqSH3TOkM$SZoqCBe'},\n",
       " '3530pFWy94WO4ESJ$CWAXG:2IpkHFcdnD3xuZl6H52fWn->3Fit2Fad92zf2f6aWdJtF5': {'id': '3530pFWy94WO4ESJ$CWAXG:2IpkHFcdnD3xuZl6H52fWn->3Fit2Fad92zf2f6aWdJtF5',\n",
       "  'labels': 'DEFINED_BY_TYPE',\n",
       "  'rel_class': 'IfcRelDefinesByType',\n",
       "  'rel_id': '3530pFWy94WO4ESJ$CWAXG',\n",
       "  'from': '2IpkHFcdnD3xuZl6H52fWn',\n",
       "  'to': '3Fit2Fad92zf2f6aWdJtF5'},\n",
       " '0oKrXjQf58gwTDmoHg_xVx:IfcMaterial:56->0pFmhV8oD1dB40_b4pscr8': {'id': '0oKrXjQf58gwTDmoHg_xVx:IfcMaterial:56->0pFmhV8oD1dB40_b4pscr8',\n",
       "  'labels': 'ASSOCIATED_MATERIAL',\n",
       "  'rel_class': 'IfcRelAssociatesMaterial',\n",
       "  'rel_id': '0oKrXjQf58gwTDmoHg_xVx',\n",
       "  'from': 'IfcMaterial:56',\n",
       "  'to': '0pFmhV8oD1dB40_b4pscr8'},\n",
       " '0sAYN8OJzFKu1rNoJBdSki:IfcMaterial:81->0DyViLJJ175RvWQi1rE7a6': {'id': '0sAYN8OJzFKu1rNoJBdSki:IfcMaterial:81->0DyViLJJ175RvWQi1rE7a6',\n",
       "  'labels': 'ASSOCIATED_MATERIAL',\n",
       "  'rel_class': 'IfcRelAssociatesMaterial',\n",
       "  'rel_id': '0sAYN8OJzFKu1rNoJBdSki',\n",
       "  'from': 'IfcMaterial:81',\n",
       "  'to': '0DyViLJJ175RvWQi1rE7a6'},\n",
       " '0sAYN8OJzFKu1rNoJBdSki:IfcMaterial:81->3SGBcf7Lv0r80vKtUCgOpf': {'id': '0sAYN8OJzFKu1rNoJBdSki:IfcMaterial:81->3SGBcf7Lv0r80vKtUCgOpf',\n",
       "  'labels': 'ASSOCIATED_MATERIAL',\n",
       "  'rel_class': 'IfcRelAssociatesMaterial',\n",
       "  'rel_id': '0sAYN8OJzFKu1rNoJBdSki',\n",
       "  'from': 'IfcMaterial:81',\n",
       "  'to': '3SGBcf7Lv0r80vKtUCgOpf'},\n",
       " '0sAYN8OJzFKu1rNoJBdSki:IfcMaterial:81->3oNJ9yHi5FJuFnK8yg68Yt': {'id': '0sAYN8OJzFKu1rNoJBdSki:IfcMaterial:81->3oNJ9yHi5FJuFnK8yg68Yt',\n",
       "  'labels': 'ASSOCIATED_MATERIAL',\n",
       "  'rel_class': 'IfcRelAssociatesMaterial',\n",
       "  'rel_id': '0sAYN8OJzFKu1rNoJBdSki',\n",
       "  'from': 'IfcMaterial:81',\n",
       "  'to': '3oNJ9yHi5FJuFnK8yg68Yt'},\n",
       " '0sAYN8OJzFKu1rNoJBdSki:IfcMaterial:81->3dkFAzOGrAIuOzY_RdrdVv': {'id': '0sAYN8OJzFKu1rNoJBdSki:IfcMaterial:81->3dkFAzOGrAIuOzY_RdrdVv',\n",
       "  'labels': 'ASSOCIATED_MATERIAL',\n",
       "  'rel_class': 'IfcRelAssociatesMaterial',\n",
       "  'rel_id': '0sAYN8OJzFKu1rNoJBdSki',\n",
       "  'from': 'IfcMaterial:81',\n",
       "  'to': '3dkFAzOGrAIuOzY_RdrdVv'},\n",
       " '0sAYN8OJzFKu1rNoJBdSki:IfcMaterial:81->2gTJhghMT81QThk15l2VwR': {'id': '0sAYN8OJzFKu1rNoJBdSki:IfcMaterial:81->2gTJhghMT81QThk15l2VwR',\n",
       "  'labels': 'ASSOCIATED_MATERIAL',\n",
       "  'rel_class': 'IfcRelAssociatesMaterial',\n",
       "  'rel_id': '0sAYN8OJzFKu1rNoJBdSki',\n",
       "  'from': 'IfcMaterial:81',\n",
       "  'to': '2gTJhghMT81QThk15l2VwR'},\n",
       " '2s9xg62oL3w8Vo4n0YcEZ3:IfcMaterial:164->1CjP_CWub368bZVuVHeHs3': {'id': '2s9xg62oL3w8Vo4n0YcEZ3:IfcMaterial:164->1CjP_CWub368bZVuVHeHs3',\n",
       "  'labels': 'ASSOCIATED_MATERIAL',\n",
       "  'rel_class': 'IfcRelAssociatesMaterial',\n",
       "  'rel_id': '2s9xg62oL3w8Vo4n0YcEZ3',\n",
       "  'from': 'IfcMaterial:164',\n",
       "  'to': '1CjP_CWub368bZVuVHeHs3'},\n",
       " '1NsDI1QVHFMfwizftDPlfC:IfcMaterial:218->0fqX614OH1YO1Njdxms2$Q': {'id': '1NsDI1QVHFMfwizftDPlfC:IfcMaterial:218->0fqX614OH1YO1Njdxms2$Q',\n",
       "  'labels': 'ASSOCIATED_MATERIAL',\n",
       "  'rel_class': 'IfcRelAssociatesMaterial',\n",
       "  'rel_id': '1NsDI1QVHFMfwizftDPlfC',\n",
       "  'from': 'IfcMaterial:218',\n",
       "  'to': '0fqX614OH1YO1Njdxms2$Q'},\n",
       " '1NsDI1QVHFMfwizftDPlfC:IfcMaterial:218->0rh7bRO0L9fg1NzgGKU$Ut': {'id': '1NsDI1QVHFMfwizftDPlfC:IfcMaterial:218->0rh7bRO0L9fg1NzgGKU$Ut',\n",
       "  'labels': 'ASSOCIATED_MATERIAL',\n",
       "  'rel_class': 'IfcRelAssociatesMaterial',\n",
       "  'rel_id': '1NsDI1QVHFMfwizftDPlfC',\n",
       "  'from': 'IfcMaterial:218',\n",
       "  'to': '0rh7bRO0L9fg1NzgGKU$Ut'},\n",
       " '1NsDI1QVHFMfwizftDPlfC:IfcMaterial:218->3roxUKbVv98xiUcl22_T07': {'id': '1NsDI1QVHFMfwizftDPlfC:IfcMaterial:218->3roxUKbVv98xiUcl22_T07',\n",
       "  'labels': 'ASSOCIATED_MATERIAL',\n",
       "  'rel_class': 'IfcRelAssociatesMaterial',\n",
       "  'rel_id': '1NsDI1QVHFMfwizftDPlfC',\n",
       "  'from': 'IfcMaterial:218',\n",
       "  'to': '3roxUKbVv98xiUcl22_T07'},\n",
       " '1NsDI1QVHFMfwizftDPlfC:IfcMaterial:218->0Lvk$Qa81D5et3l3a4S9Vk': {'id': '1NsDI1QVHFMfwizftDPlfC:IfcMaterial:218->0Lvk$Qa81D5et3l3a4S9Vk',\n",
       "  'labels': 'ASSOCIATED_MATERIAL',\n",
       "  'rel_class': 'IfcRelAssociatesMaterial',\n",
       "  'rel_id': '1NsDI1QVHFMfwizftDPlfC',\n",
       "  'from': 'IfcMaterial:218',\n",
       "  'to': '0Lvk$Qa81D5et3l3a4S9Vk'},\n",
       " '1NsDI1QVHFMfwizftDPlfC:IfcMaterial:218->2ddLgAnQf4mBfh5IpUp54U': {'id': '1NsDI1QVHFMfwizftDPlfC:IfcMaterial:218->2ddLgAnQf4mBfh5IpUp54U',\n",
       "  'labels': 'ASSOCIATED_MATERIAL',\n",
       "  'rel_class': 'IfcRelAssociatesMaterial',\n",
       "  'rel_id': '1NsDI1QVHFMfwizftDPlfC',\n",
       "  'from': 'IfcMaterial:218',\n",
       "  'to': '2ddLgAnQf4mBfh5IpUp54U'},\n",
       " '1NsDI1QVHFMfwizftDPlfC:IfcMaterial:218->2fjJuPht9EIQaZQYZfC1Op': {'id': '1NsDI1QVHFMfwizftDPlfC:IfcMaterial:218->2fjJuPht9EIQaZQYZfC1Op',\n",
       "  'labels': 'ASSOCIATED_MATERIAL',\n",
       "  'rel_class': 'IfcRelAssociatesMaterial',\n",
       "  'rel_id': '1NsDI1QVHFMfwizftDPlfC',\n",
       "  'from': 'IfcMaterial:218',\n",
       "  'to': '2fjJuPht9EIQaZQYZfC1Op'},\n",
       " '0h96c29SfAxQbCDOLFZN7y:IfcMaterial:347->2r_8UEywH9_RLHe8z$Xa8J': {'id': '0h96c29SfAxQbCDOLFZN7y:IfcMaterial:347->2r_8UEywH9_RLHe8z$Xa8J',\n",
       "  'labels': 'ASSOCIATED_MATERIAL',\n",
       "  'rel_class': 'IfcRelAssociatesMaterial',\n",
       "  'rel_id': '0h96c29SfAxQbCDOLFZN7y',\n",
       "  'from': 'IfcMaterial:347',\n",
       "  'to': '2r_8UEywH9_RLHe8z$Xa8J'},\n",
       " '0h96c29SfAxQbCDOLFZN7y:IfcMaterial:347->2cc4uJUVv5BevbidUpn1H3': {'id': '0h96c29SfAxQbCDOLFZN7y:IfcMaterial:347->2cc4uJUVv5BevbidUpn1H3',\n",
       "  'labels': 'ASSOCIATED_MATERIAL',\n",
       "  'rel_class': 'IfcRelAssociatesMaterial',\n",
       "  'rel_id': '0h96c29SfAxQbCDOLFZN7y',\n",
       "  'from': 'IfcMaterial:347',\n",
       "  'to': '2cc4uJUVv5BevbidUpn1H3'},\n",
       " '1QcTgcyaP1C9MT3_T1ZeJj:IfcMaterial:376->2F44QMqSH3TOkM$SZoqCBe': {'id': '1QcTgcyaP1C9MT3_T1ZeJj:IfcMaterial:376->2F44QMqSH3TOkM$SZoqCBe',\n",
       "  'labels': 'ASSOCIATED_MATERIAL',\n",
       "  'rel_class': 'IfcRelAssociatesMaterial',\n",
       "  'rel_id': '1QcTgcyaP1C9MT3_T1ZeJj',\n",
       "  'from': 'IfcMaterial:376',\n",
       "  'to': '2F44QMqSH3TOkM$SZoqCBe'},\n",
       " '2EBkr99ef9S8X3ZQxjf56M:IfcMaterial:395->3Fit2Fad92zf2f6aWdJtF5': {'id': '2EBkr99ef9S8X3ZQxjf56M:IfcMaterial:395->3Fit2Fad92zf2f6aWdJtF5',\n",
       "  'labels': 'ASSOCIATED_MATERIAL',\n",
       "  'rel_class': 'IfcRelAssociatesMaterial',\n",
       "  'rel_id': '2EBkr99ef9S8X3ZQxjf56M',\n",
       "  'from': 'IfcMaterial:395',\n",
       "  'to': '3Fit2Fad92zf2f6aWdJtF5'},\n",
       " '32VVuS88fAuuHaSNYFaS2D:1Ano2ZUxnEIvVQ_beukl8b->0pFmhV8oD1dB40_b4pscr8': {'id': '32VVuS88fAuuHaSNYFaS2D:1Ano2ZUxnEIvVQ_beukl8b->0pFmhV8oD1dB40_b4pscr8',\n",
       "  'labels': 'CONTAINED_IN',\n",
       "  'rel_class': 'IfcRelContainedInSpatialStructure',\n",
       "  'rel_id': '32VVuS88fAuuHaSNYFaS2D',\n",
       "  'from': '1Ano2ZUxnEIvVQ_beukl8b',\n",
       "  'to': '0pFmhV8oD1dB40_b4pscr8'},\n",
       " '32VVuS88fAuuHaSNYFaS2D:1Ano2ZUxnEIvVQ_beukl8b->0DyViLJJ175RvWQi1rE7a6': {'id': '32VVuS88fAuuHaSNYFaS2D:1Ano2ZUxnEIvVQ_beukl8b->0DyViLJJ175RvWQi1rE7a6',\n",
       "  'labels': 'CONTAINED_IN',\n",
       "  'rel_class': 'IfcRelContainedInSpatialStructure',\n",
       "  'rel_id': '32VVuS88fAuuHaSNYFaS2D',\n",
       "  'from': '1Ano2ZUxnEIvVQ_beukl8b',\n",
       "  'to': '0DyViLJJ175RvWQi1rE7a6'},\n",
       " '32VVuS88fAuuHaSNYFaS2D:1Ano2ZUxnEIvVQ_beukl8b->3SGBcf7Lv0r80vKtUCgOpf': {'id': '32VVuS88fAuuHaSNYFaS2D:1Ano2ZUxnEIvVQ_beukl8b->3SGBcf7Lv0r80vKtUCgOpf',\n",
       "  'labels': 'CONTAINED_IN',\n",
       "  'rel_class': 'IfcRelContainedInSpatialStructure',\n",
       "  'rel_id': '32VVuS88fAuuHaSNYFaS2D',\n",
       "  'from': '1Ano2ZUxnEIvVQ_beukl8b',\n",
       "  'to': '3SGBcf7Lv0r80vKtUCgOpf'},\n",
       " '32VVuS88fAuuHaSNYFaS2D:1Ano2ZUxnEIvVQ_beukl8b->3oNJ9yHi5FJuFnK8yg68Yt': {'id': '32VVuS88fAuuHaSNYFaS2D:1Ano2ZUxnEIvVQ_beukl8b->3oNJ9yHi5FJuFnK8yg68Yt',\n",
       "  'labels': 'CONTAINED_IN',\n",
       "  'rel_class': 'IfcRelContainedInSpatialStructure',\n",
       "  'rel_id': '32VVuS88fAuuHaSNYFaS2D',\n",
       "  'from': '1Ano2ZUxnEIvVQ_beukl8b',\n",
       "  'to': '3oNJ9yHi5FJuFnK8yg68Yt'},\n",
       " '32VVuS88fAuuHaSNYFaS2D:1Ano2ZUxnEIvVQ_beukl8b->3dkFAzOGrAIuOzY_RdrdVv': {'id': '32VVuS88fAuuHaSNYFaS2D:1Ano2ZUxnEIvVQ_beukl8b->3dkFAzOGrAIuOzY_RdrdVv',\n",
       "  'labels': 'CONTAINED_IN',\n",
       "  'rel_class': 'IfcRelContainedInSpatialStructure',\n",
       "  'rel_id': '32VVuS88fAuuHaSNYFaS2D',\n",
       "  'from': '1Ano2ZUxnEIvVQ_beukl8b',\n",
       "  'to': '3dkFAzOGrAIuOzY_RdrdVv'},\n",
       " '32VVuS88fAuuHaSNYFaS2D:1Ano2ZUxnEIvVQ_beukl8b->1CjP_CWub368bZVuVHeHs3': {'id': '32VVuS88fAuuHaSNYFaS2D:1Ano2ZUxnEIvVQ_beukl8b->1CjP_CWub368bZVuVHeHs3',\n",
       "  'labels': 'CONTAINED_IN',\n",
       "  'rel_class': 'IfcRelContainedInSpatialStructure',\n",
       "  'rel_id': '32VVuS88fAuuHaSNYFaS2D',\n",
       "  'from': '1Ano2ZUxnEIvVQ_beukl8b',\n",
       "  'to': '1CjP_CWub368bZVuVHeHs3'},\n",
       " '32VVuS88fAuuHaSNYFaS2D:1Ano2ZUxnEIvVQ_beukl8b->2gTJhghMT81QThk15l2VwR': {'id': '32VVuS88fAuuHaSNYFaS2D:1Ano2ZUxnEIvVQ_beukl8b->2gTJhghMT81QThk15l2VwR',\n",
       "  'labels': 'CONTAINED_IN',\n",
       "  'rel_class': 'IfcRelContainedInSpatialStructure',\n",
       "  'rel_id': '32VVuS88fAuuHaSNYFaS2D',\n",
       "  'from': '1Ano2ZUxnEIvVQ_beukl8b',\n",
       "  'to': '2gTJhghMT81QThk15l2VwR'},\n",
       " '29g4gBcuH0hgx5H$n5Th1$:0c$N1CTon2BB2Sp89385G8->2iPwJwpPDCSgMheXwk9cBT': {'id': '29g4gBcuH0hgx5H$n5Th1$:0c$N1CTon2BB2Sp89385G8->2iPwJwpPDCSgMheXwk9cBT',\n",
       "  'labels': 'CONTAINED_IN',\n",
       "  'rel_class': 'IfcRelContainedInSpatialStructure',\n",
       "  'rel_id': '29g4gBcuH0hgx5H$n5Th1$',\n",
       "  'from': '0c$N1CTon2BB2Sp89385G8',\n",
       "  'to': '2iPwJwpPDCSgMheXwk9cBT'},\n",
       " '1$fZ6Kw2z1gv8psHFPkgK8:1Pbuu0tu59NfhrTsztVBK1->2F44QMqSH3TOkM$SZoqCBe': {'id': '1$fZ6Kw2z1gv8psHFPkgK8:1Pbuu0tu59NfhrTsztVBK1->2F44QMqSH3TOkM$SZoqCBe',\n",
       "  'labels': 'CONTAINED_IN',\n",
       "  'rel_class': 'IfcRelContainedInSpatialStructure',\n",
       "  'rel_id': '1$fZ6Kw2z1gv8psHFPkgK8',\n",
       "  'from': '1Pbuu0tu59NfhrTsztVBK1',\n",
       "  'to': '2F44QMqSH3TOkM$SZoqCBe'},\n",
       " '2bJlx3esj7PwpKPmyqpeJk:23sFQGRy90RxVbRHD9iSE2->3Fit2Fad92zf2f6aWdJtF5': {'id': '2bJlx3esj7PwpKPmyqpeJk:23sFQGRy90RxVbRHD9iSE2->3Fit2Fad92zf2f6aWdJtF5',\n",
       "  'labels': 'CONTAINED_IN',\n",
       "  'rel_class': 'IfcRelContainedInSpatialStructure',\n",
       "  'rel_id': '2bJlx3esj7PwpKPmyqpeJk',\n",
       "  'from': '23sFQGRy90RxVbRHD9iSE2',\n",
       "  'to': '3Fit2Fad92zf2f6aWdJtF5'},\n",
       " '0oxik3NHL8WwNmRqfgUDeo:2Ndyd$OSX7s9A04nc4lyye->23sFQGRy90RxVbRHD9iSE2': {'id': '0oxik3NHL8WwNmRqfgUDeo:2Ndyd$OSX7s9A04nc4lyye->23sFQGRy90RxVbRHD9iSE2',\n",
       "  'labels': 'AGGREGATES',\n",
       "  'rel_class': 'IfcRelAggregates',\n",
       "  'rel_id': '0oxik3NHL8WwNmRqfgUDeo',\n",
       "  'from': '2Ndyd$OSX7s9A04nc4lyye',\n",
       "  'to': '23sFQGRy90RxVbRHD9iSE2'},\n",
       " '3zDClUSv10BgOdMB11_kd4:23sFQGRy90RxVbRHD9iSE2->1Pbuu0tu59NfhrTsztVBK1': {'id': '3zDClUSv10BgOdMB11_kd4:23sFQGRy90RxVbRHD9iSE2->1Pbuu0tu59NfhrTsztVBK1',\n",
       "  'labels': 'AGGREGATES',\n",
       "  'rel_class': 'IfcRelAggregates',\n",
       "  'rel_id': '3zDClUSv10BgOdMB11_kd4',\n",
       "  'from': '23sFQGRy90RxVbRHD9iSE2',\n",
       "  'to': '1Pbuu0tu59NfhrTsztVBK1'},\n",
       " '125RJLSU1E$x$3y4Ura4jb:1Pbuu0tu59NfhrTsztVBK1->0c$N1CTon2BB2Sp89385G8': {'id': '125RJLSU1E$x$3y4Ura4jb:1Pbuu0tu59NfhrTsztVBK1->0c$N1CTon2BB2Sp89385G8',\n",
       "  'labels': 'AGGREGATES',\n",
       "  'rel_class': 'IfcRelAggregates',\n",
       "  'rel_id': '125RJLSU1E$x$3y4Ura4jb',\n",
       "  'from': '1Pbuu0tu59NfhrTsztVBK1',\n",
       "  'to': '0c$N1CTon2BB2Sp89385G8'},\n",
       " '2Z0bwx$9T0uvCFhebTd6KT:0c$N1CTon2BB2Sp89385G8->1Ano2ZUxnEIvVQ_beukl8b': {'id': '2Z0bwx$9T0uvCFhebTd6KT:0c$N1CTon2BB2Sp89385G8->1Ano2ZUxnEIvVQ_beukl8b',\n",
       "  'labels': 'AGGREGATES',\n",
       "  'rel_class': 'IfcRelAggregates',\n",
       "  'rel_id': '2Z0bwx$9T0uvCFhebTd6KT',\n",
       "  'from': '0c$N1CTon2BB2Sp89385G8',\n",
       "  'to': '1Ano2ZUxnEIvVQ_beukl8b'},\n",
       " '29hd6AocXDXOth5fT8VPXL:2iPwJwpPDCSgMheXwk9cBT->0fqX614OH1YO1Njdxms2$Q': {'id': '29hd6AocXDXOth5fT8VPXL:2iPwJwpPDCSgMheXwk9cBT->0fqX614OH1YO1Njdxms2$Q',\n",
       "  'labels': 'AGGREGATES',\n",
       "  'rel_class': 'IfcRelAggregates',\n",
       "  'rel_id': '29hd6AocXDXOth5fT8VPXL',\n",
       "  'from': '2iPwJwpPDCSgMheXwk9cBT',\n",
       "  'to': '0fqX614OH1YO1Njdxms2$Q'},\n",
       " '29hd6AocXDXOth5fT8VPXL:2iPwJwpPDCSgMheXwk9cBT->0rh7bRO0L9fg1NzgGKU$Ut': {'id': '29hd6AocXDXOth5fT8VPXL:2iPwJwpPDCSgMheXwk9cBT->0rh7bRO0L9fg1NzgGKU$Ut',\n",
       "  'labels': 'AGGREGATES',\n",
       "  'rel_class': 'IfcRelAggregates',\n",
       "  'rel_id': '29hd6AocXDXOth5fT8VPXL',\n",
       "  'from': '2iPwJwpPDCSgMheXwk9cBT',\n",
       "  'to': '0rh7bRO0L9fg1NzgGKU$Ut'},\n",
       " '29hd6AocXDXOth5fT8VPXL:2iPwJwpPDCSgMheXwk9cBT->3roxUKbVv98xiUcl22_T07': {'id': '29hd6AocXDXOth5fT8VPXL:2iPwJwpPDCSgMheXwk9cBT->3roxUKbVv98xiUcl22_T07',\n",
       "  'labels': 'AGGREGATES',\n",
       "  'rel_class': 'IfcRelAggregates',\n",
       "  'rel_id': '29hd6AocXDXOth5fT8VPXL',\n",
       "  'from': '2iPwJwpPDCSgMheXwk9cBT',\n",
       "  'to': '3roxUKbVv98xiUcl22_T07'},\n",
       " '29hd6AocXDXOth5fT8VPXL:2iPwJwpPDCSgMheXwk9cBT->0Lvk$Qa81D5et3l3a4S9Vk': {'id': '29hd6AocXDXOth5fT8VPXL:2iPwJwpPDCSgMheXwk9cBT->0Lvk$Qa81D5et3l3a4S9Vk',\n",
       "  'labels': 'AGGREGATES',\n",
       "  'rel_class': 'IfcRelAggregates',\n",
       "  'rel_id': '29hd6AocXDXOth5fT8VPXL',\n",
       "  'from': '2iPwJwpPDCSgMheXwk9cBT',\n",
       "  'to': '0Lvk$Qa81D5et3l3a4S9Vk'},\n",
       " '29hd6AocXDXOth5fT8VPXL:2iPwJwpPDCSgMheXwk9cBT->2ddLgAnQf4mBfh5IpUp54U': {'id': '29hd6AocXDXOth5fT8VPXL:2iPwJwpPDCSgMheXwk9cBT->2ddLgAnQf4mBfh5IpUp54U',\n",
       "  'labels': 'AGGREGATES',\n",
       "  'rel_class': 'IfcRelAggregates',\n",
       "  'rel_id': '29hd6AocXDXOth5fT8VPXL',\n",
       "  'from': '2iPwJwpPDCSgMheXwk9cBT',\n",
       "  'to': '2ddLgAnQf4mBfh5IpUp54U'},\n",
       " '29hd6AocXDXOth5fT8VPXL:2iPwJwpPDCSgMheXwk9cBT->2fjJuPht9EIQaZQYZfC1Op': {'id': '29hd6AocXDXOth5fT8VPXL:2iPwJwpPDCSgMheXwk9cBT->2fjJuPht9EIQaZQYZfC1Op',\n",
       "  'labels': 'AGGREGATES',\n",
       "  'rel_class': 'IfcRelAggregates',\n",
       "  'rel_id': '29hd6AocXDXOth5fT8VPXL',\n",
       "  'from': '2iPwJwpPDCSgMheXwk9cBT',\n",
       "  'to': '2fjJuPht9EIQaZQYZfC1Op'},\n",
       " '29hd6AocXDXOth5fT8VPXL:2iPwJwpPDCSgMheXwk9cBT->2r_8UEywH9_RLHe8z$Xa8J': {'id': '29hd6AocXDXOth5fT8VPXL:2iPwJwpPDCSgMheXwk9cBT->2r_8UEywH9_RLHe8z$Xa8J',\n",
       "  'labels': 'AGGREGATES',\n",
       "  'rel_class': 'IfcRelAggregates',\n",
       "  'rel_id': '29hd6AocXDXOth5fT8VPXL',\n",
       "  'from': '2iPwJwpPDCSgMheXwk9cBT',\n",
       "  'to': '2r_8UEywH9_RLHe8z$Xa8J'},\n",
       " '29hd6AocXDXOth5fT8VPXL:2iPwJwpPDCSgMheXwk9cBT->2cc4uJUVv5BevbidUpn1H3': {'id': '29hd6AocXDXOth5fT8VPXL:2iPwJwpPDCSgMheXwk9cBT->2cc4uJUVv5BevbidUpn1H3',\n",
       "  'labels': 'AGGREGATES',\n",
       "  'rel_class': 'IfcRelAggregates',\n",
       "  'rel_id': '29hd6AocXDXOth5fT8VPXL',\n",
       "  'from': '2iPwJwpPDCSgMheXwk9cBT',\n",
       "  'to': '2cc4uJUVv5BevbidUpn1H3'},\n",
       " '03PQtV4nbFoPd97bT_31oH:IfcClassificationReference:35->0c$N1CTon2BB2Sp89385G8': {'id': '03PQtV4nbFoPd97bT_31oH:IfcClassificationReference:35->0c$N1CTon2BB2Sp89385G8',\n",
       "  'labels': 'ASSOCIATED_CLASSIFICATION',\n",
       "  'rel_class': 'IfcRelAssociatesClassification',\n",
       "  'rel_id': '03PQtV4nbFoPd97bT_31oH',\n",
       "  'from': 'IfcClassificationReference:35',\n",
       "  'to': '0c$N1CTon2BB2Sp89385G8'}}"
      ]
     },
     "execution_count": 66,
     "metadata": {},
     "output_type": "execute_result"
    }
   ],
   "source": [
    "edges"
   ]
  },
  {
   "cell_type": "code",
   "execution_count": null,
   "id": "5776fa60-2523-4359-b99c-4680b9a40fa9",
   "metadata": {},
   "outputs": [],
   "source": []
  },
  {
   "cell_type": "markdown",
   "id": "5bcdd5a6-a479-4987-ab42-30c531cd5335",
   "metadata": {},
   "source": [
    "## 5.3. Relating nodes:"
   ]
  },
  {
   "cell_type": "code",
   "execution_count": 30,
   "id": "399f785a-5da2-474d-aa22-dd2fefe848dc",
   "metadata": {},
   "outputs": [],
   "source": [
    "# def get_relating_object(model, oid):\n",
    "\n",
    "#     if isinstance(oid, str) and (len(oid) == 22) and (\":\" not in oid):\n",
    "#         return model.by_guid(oid)\n",
    "\n",
    "#     elif \":\" in oid:\n",
    "#         try:\n",
    "#             step_id = int(oid.split(\":\")[-1])\n",
    "#             return model.by_id(step_id)\n",
    "#         except Exception:\n",
    "#             return None\n",
    "\n",
    "#     return None\n"
   ]
  },
  {
   "cell_type": "code",
   "execution_count": 84,
   "id": "d24a56e0-d556-4c60-a270-e09912012b6f",
   "metadata": {},
   "outputs": [],
   "source": [
    "def get_object_from_id(model, oid):\n",
    "\n",
    "    if isinstance(oid, str) and (len(oid) == 22) and (\":\" not in oid):\n",
    "        return model.by_guid(oid)\n",
    "\n",
    "    elif \":\" in oid:\n",
    "        try:\n",
    "            step_id = int(oid.split(\":\")[-1])\n",
    "            return model.by_id(step_id)\n",
    "        except Exception:\n",
    "            return None\n",
    "\n",
    "    return None"
   ]
  },
  {
   "cell_type": "code",
   "execution_count": 86,
   "id": "96a0e167-5677-4040-b999-a413011144ba",
   "metadata": {},
   "outputs": [],
   "source": [
    "def get_objects_from_edges(model, edges, typ):\n",
    "\n",
    "    objects_from_edges = []\n",
    "    \n",
    "    for edge in edges.values():\n",
    "        obj = get_object_from_id(model, edge[typ])\n",
    "        if obj:\n",
    "            objects_from_edges.append(obj) \n",
    "\n",
    "    return objects_from_edges"
   ]
  },
  {
   "cell_type": "code",
   "execution_count": 88,
   "id": "a4067ba6-111d-4b30-94dc-0905ef4a10d3",
   "metadata": {},
   "outputs": [],
   "source": [
    "relating_objects = get_objects_from_edges(model, edges, \"from\")"
   ]
  },
  {
   "cell_type": "code",
   "execution_count": 90,
   "id": "2d36a7b9-64a4-4145-8b6f-ff5e8e141e78",
   "metadata": {},
   "outputs": [],
   "source": [
    "related_objects = get_objects_from_edges(model, edges, \"to\")"
   ]
  },
  {
   "cell_type": "code",
   "execution_count": 92,
   "id": "67372749-6852-4bac-9261-3e449004e0f6",
   "metadata": {},
   "outputs": [
    {
     "data": {
      "text/plain": [
       "[#32=IfcPropertySet('18DB$FpSH4QhNntrrSRVGz',#1,'Pset_BuildingCommon',$,(#31)),\n",
       " #76=IfcPropertySet('0hVJYXG1r7ywQAq8Vpug40',#1,'Pset_WallCommon',$,(#72,#74,#75)),\n",
       " #86=IfcElementQuantity('0VVWsZ$_bFHgmAwNtcydte',#1,'Qto_WallBaseQuantities',$,$,(#82,#83,#84,#85)),\n",
       " #105=IfcPropertySet('0ek$CCUjnFefFg04xFxxG_',#1,'Pset_WallCommon',$,(#102,#103,#104)),\n",
       " #111=IfcElementQuantity('22KfX2yaj4UBecOFxQr$3y',#1,'Qto_WallBaseQuantities',$,$,(#107,#108,#109,#110)),\n",
       " #128=IfcPropertySet('2DaAsqJGPDexb$sFANyw0e',#1,'Pset_WallCommon',$,(#126,#127)),\n",
       " #134=IfcElementQuantity('16mzz5kV15mAyMAccFRkj4',#1,'Qto_WallBaseQuantities',$,$,(#130,#131,#132,#133)),\n",
       " #176=IfcPropertySet('3UegLqoYrB5QLJ1Fl0C0gk',#1,'Pset_WallCommon',$,(#173,#174,#175)),\n",
       " #182=IfcElementQuantity('3BkYHDW2b4LxsPRJLXlKa9',#1,'Qto_WallBaseQuantities',$,$,(#178,#179,#180,#181)),\n",
       " #199=IfcPropertySet('3IC75ptmHAcfynDO0H7l6Q',#1,'Pset_RoofCommon',$,(#197,#198)),\n",
       " #213=IfcPropertySet('2ups0JG6n1VvC4pdB0zluW',#1,'Pset_BeamCommon',$,(#210,#211,#212)),\n",
       " #222=IfcElementQuantity('2HMsp_L9P6I8CwQ6HNOQ_0',#1,'Qto_BeamBaseQuantities',$,$,(#219,#220,#221)),\n",
       " #240=IfcPropertySet('00EBcbCmP36Q43kDOMVxR1',#1,'Pset_BeamCommon',$,(#237,#238,#239)),\n",
       " #245=IfcElementQuantity('28d0zpbA1FDgNVOoP3DC9B',#1,'Qto_BeamBaseQuantities',$,$,(#242,#243,#244)),\n",
       " #261=IfcPropertySet('0fB$YzpQ9F5fXAwW3qqCyT',#1,'Pset_BeamCommon',$,(#258,#259,#260)),\n",
       " #266=IfcElementQuantity('30SHzCjOj6gPOjYeg44wl2',#1,'Qto_BeamBaseQuantities',$,$,(#263,#264,#265)),\n",
       " #282=IfcPropertySet('0PBH0wkMXC_RjGQReUd5h1',#1,'Pset_BeamCommon',$,(#279,#280,#281)),\n",
       " #287=IfcElementQuantity('0kLKoeMc5BnhcvmJ1GtKjL',#1,'Qto_BeamBaseQuantities',$,$,(#284,#285,#286)),\n",
       " #303=IfcPropertySet('2QF6RwHpj16gEJ1wh5SKZA',#1,'Pset_BeamCommon',$,(#300,#301,#302)),\n",
       " #308=IfcElementQuantity('0dIg8JLuXAjP9eWTNPMJjH',#1,'Qto_BeamBaseQuantities',$,$,(#305,#306,#307)),\n",
       " #324=IfcPropertySet('1l$mN4mE5EtgtEWbu7EEvJ',#1,'Pset_BeamCommon',$,(#321,#322,#323)),\n",
       " #329=IfcElementQuantity('3wSFIICx575gqnRY4FYR_E',#1,'Qto_BeamBaseQuantities',$,$,(#326,#327,#328)),\n",
       " #50=IfcFootingType('39zsrh6sTE69jN0aDa_2y3',#1,'house - foundation','A house strip footing, ensuring stability and support.',$,$,$,'884636','strip_footing',.STRIP_FOOTING.),\n",
       " #69=IfcWallType('0_8SeeJGr948J4bU1RPXce',#1,'house - outer wall - house back','A solid outer wall, forming the back of the house.',$,$,$,'919510','solidwall',.SOLIDWALL.),\n",
       " #99=IfcWallType('0KOC4PbVP4CgUUcPIljzX8',#1,'house - outer wall - house front','A solid outer wall, forming the front of the house.',$,$,$,'919267','solidwall',.SOLIDWALL.),\n",
       " #123=IfcWallType('2JyKYAYaHEEwkOiNxZBS0J',#1,'house - outer wall - house front right','A solid outer wall, forming the front right side of the house.',$,$,$,'919673','solidwall',.SOLIDWALL.),\n",
       " #146=IfcChimneyType('10FwQBcdzD9ve3W6PvBTti',#1,'house - chimney','A chimney, standing tall and proud, guiding smoke away from the home.',$,$,$,'884350','flue',.USERDEFINED.),\n",
       " #170=IfcWallType('3sv$5PJEr5hP_mSgN$A$GJ',#1,'house - inner wall','A solid inner wall, providing structural support within the house.',$,$,$,'919726','solidwall',.SOLIDWALL.),\n",
       " #194=IfcRoofType('0GE$iSXKL8jAEeHi$mszPq',#1,'house - roof','A sturdy roof, sheltering the house from the elements.',$,$,$,'902509','gable_roof',.GABLE_ROOF.),\n",
       " #207=IfcBeamType('1_UeVn6yDFiQNhUkRsBNZI',#1,'house - girder','A strong girder, providing essential support for structures.',$,$,$,'902302','girder_segment',.USERDEFINED.),\n",
       " #207=IfcBeamType('1_UeVn6yDFiQNhUkRsBNZI',#1,'house - girder','A strong girder, providing essential support for structures.',$,$,$,'902302','girder_segment',.USERDEFINED.),\n",
       " #207=IfcBeamType('1_UeVn6yDFiQNhUkRsBNZI',#1,'house - girder','A strong girder, providing essential support for structures.',$,$,$,'902302','girder_segment',.USERDEFINED.),\n",
       " #207=IfcBeamType('1_UeVn6yDFiQNhUkRsBNZI',#1,'house - girder','A strong girder, providing essential support for structures.',$,$,$,'902302','girder_segment',.USERDEFINED.),\n",
       " #207=IfcBeamType('1_UeVn6yDFiQNhUkRsBNZI',#1,'house - girder','A strong girder, providing essential support for structures.',$,$,$,'902302','girder_segment',.USERDEFINED.),\n",
       " #207=IfcBeamType('1_UeVn6yDFiQNhUkRsBNZI',#1,'house - girder','A strong girder, providing essential support for structures.',$,$,$,'902302','girder_segment',.USERDEFINED.),\n",
       " #341=IfcDiscreteAccessoryType('1i7uuLYVf6ShdGFfCgAhuD',#1,'beam shoe','A robust shoe, providing stable support for beams.',$,$,$,'880093','shoe',.SHOE.),\n",
       " #341=IfcDiscreteAccessoryType('1i7uuLYVf6ShdGFfCgAhuD',#1,'beam shoe','A robust shoe, providing stable support for beams.',$,$,$,'880093','shoe',.SHOE.),\n",
       " #370=IfcBuildingElementProxyType('3mjKLn_DjE4Beriey9bTvr',#1,'origin','The local position for coordination of aspect models.',$,$,$,'1028017','origin',.USERDEFINED.),\n",
       " #389=IfcBuildingElementProxyType('2IpkHFcdnD3xuZl6H52fWn',#1,'geo-reference','The reference point for transforming the local engineering coordinate system into the coordinate reference system of the underlying map.',$,$,$,'1028019','origin',.USERDEFINED.),\n",
       " #56=IfcMaterial('concrete_reinforced_in-situ',$,$),\n",
       " #81=IfcMaterial('stone_sand-lime',$,$),\n",
       " #81=IfcMaterial('stone_sand-lime',$,$),\n",
       " #81=IfcMaterial('stone_sand-lime',$,$),\n",
       " #81=IfcMaterial('stone_sand-lime',$,$),\n",
       " #81=IfcMaterial('stone_sand-lime',$,$),\n",
       " #164=IfcMaterial('Default',$,$),\n",
       " #218=IfcMaterial('wood_spruce_beam',$,$),\n",
       " #218=IfcMaterial('wood_spruce_beam',$,$),\n",
       " #218=IfcMaterial('wood_spruce_beam',$,$),\n",
       " #218=IfcMaterial('wood_spruce_beam',$,$),\n",
       " #218=IfcMaterial('wood_spruce_beam',$,$),\n",
       " #218=IfcMaterial('wood_spruce_beam',$,$),\n",
       " #347=IfcMaterial('metal_steel-galvanized',$,$),\n",
       " #347=IfcMaterial('metal_steel-galvanized',$,$),\n",
       " #376=IfcMaterial('virtual_white',$,$),\n",
       " #395=IfcMaterial('virtual_black',$,$),\n",
       " #43=IfcBuildingStorey('1Ano2ZUxnEIvVQ_beukl8b',#1,'00 groundfloor','The ground floor, forming the base level of the building.',$,#45,$,$,.ELEMENT.,-1.80477854883065E-12),\n",
       " #43=IfcBuildingStorey('1Ano2ZUxnEIvVQ_beukl8b',#1,'00 groundfloor','The ground floor, forming the base level of the building.',$,#45,$,$,.ELEMENT.,-1.80477854883065E-12),\n",
       " #43=IfcBuildingStorey('1Ano2ZUxnEIvVQ_beukl8b',#1,'00 groundfloor','The ground floor, forming the base level of the building.',$,#45,$,$,.ELEMENT.,-1.80477854883065E-12),\n",
       " #43=IfcBuildingStorey('1Ano2ZUxnEIvVQ_beukl8b',#1,'00 groundfloor','The ground floor, forming the base level of the building.',$,#45,$,$,.ELEMENT.,-1.80477854883065E-12),\n",
       " #43=IfcBuildingStorey('1Ano2ZUxnEIvVQ_beukl8b',#1,'00 groundfloor','The ground floor, forming the base level of the building.',$,#45,$,$,.ELEMENT.,-1.80477854883065E-12),\n",
       " #43=IfcBuildingStorey('1Ano2ZUxnEIvVQ_beukl8b',#1,'00 groundfloor','The ground floor, forming the base level of the building.',$,#45,$,$,.ELEMENT.,-1.80477854883065E-12),\n",
       " #43=IfcBuildingStorey('1Ano2ZUxnEIvVQ_beukl8b',#1,'00 groundfloor','The ground floor, forming the base level of the building.',$,#45,$,$,.ELEMENT.,-1.80477854883065E-12),\n",
       " #30=IfcBuilding('0c$N1CTon2BB2Sp89385G8',#1,'Single-family house','The main building structure, providing shelter and space.',$,#38,$,'house - building',.ELEMENT.,$,$,$),\n",
       " #23=IfcSite('1Pbuu0tu59NfhrTsztVBK1',#1,'house - site','Smoke curls from a friendly chimney, promising warmth within this idyllic hilltop house.',$,#25,$,$,.PARTIAL.,$,$,0.,$,$),\n",
       " #20=IfcSite('23sFQGRy90RxVbRHD9iSE2',#1,'environment - site','A sample scene environment, showcasing the surrounding landscape.',$,#22,$,$,.COMPLEX.,$,$,0.,$,$),\n",
       " #13=IfcProject('2Ndyd$OSX7s9A04nc4lyye',#1,'ifc silly sample scene - project','Demystifying IFC with a playful scene using diverse building elements and compositions.',$,$,$,(#11),#14),\n",
       " #20=IfcSite('23sFQGRy90RxVbRHD9iSE2',#1,'environment - site','A sample scene environment, showcasing the surrounding landscape.',$,#22,$,$,.COMPLEX.,$,$,0.,$,$),\n",
       " #23=IfcSite('1Pbuu0tu59NfhrTsztVBK1',#1,'house - site','Smoke curls from a friendly chimney, promising warmth within this idyllic hilltop house.',$,#25,$,$,.PARTIAL.,$,$,0.,$,$),\n",
       " #30=IfcBuilding('0c$N1CTon2BB2Sp89385G8',#1,'Single-family house','The main building structure, providing shelter and space.',$,#38,$,'house - building',.ELEMENT.,$,$,$),\n",
       " #196=IfcRoof('2iPwJwpPDCSgMheXwk9cBT',#1,'house - roof','A sturdy roof, sheltering the house from the elements.','gable_roof',#202,$,'454425.1027891.979946.932084',$),\n",
       " #196=IfcRoof('2iPwJwpPDCSgMheXwk9cBT',#1,'house - roof','A sturdy roof, sheltering the house from the elements.','gable_roof',#202,$,'454425.1027891.979946.932084',$),\n",
       " #196=IfcRoof('2iPwJwpPDCSgMheXwk9cBT',#1,'house - roof','A sturdy roof, sheltering the house from the elements.','gable_roof',#202,$,'454425.1027891.979946.932084',$),\n",
       " #196=IfcRoof('2iPwJwpPDCSgMheXwk9cBT',#1,'house - roof','A sturdy roof, sheltering the house from the elements.','gable_roof',#202,$,'454425.1027891.979946.932084',$),\n",
       " #196=IfcRoof('2iPwJwpPDCSgMheXwk9cBT',#1,'house - roof','A sturdy roof, sheltering the house from the elements.','gable_roof',#202,$,'454425.1027891.979946.932084',$),\n",
       " #196=IfcRoof('2iPwJwpPDCSgMheXwk9cBT',#1,'house - roof','A sturdy roof, sheltering the house from the elements.','gable_roof',#202,$,'454425.1027891.979946.932084',$),\n",
       " #196=IfcRoof('2iPwJwpPDCSgMheXwk9cBT',#1,'house - roof','A sturdy roof, sheltering the house from the elements.','gable_roof',#202,$,'454425.1027891.979946.932084',$),\n",
       " #196=IfcRoof('2iPwJwpPDCSgMheXwk9cBT',#1,'house - roof','A sturdy roof, sheltering the house from the elements.','gable_roof',#202,$,'454425.1027891.979946.932084',$),\n",
       " #35=IfcClassificationReference('https://identifier.buildingsmart.org/uri/molio/cciconstruction/1.0/class/E-AAA','E-AAA','Single-family house',#34,$,$)]"
      ]
     },
     "execution_count": 92,
     "metadata": {},
     "output_type": "execute_result"
    }
   ],
   "source": [
    "relating_objects"
   ]
  },
  {
   "cell_type": "code",
   "execution_count": 94,
   "id": "f2f7def0-4042-444d-b2a5-7e99779e04a4",
   "metadata": {},
   "outputs": [
    {
     "data": {
      "text/plain": [
       "[#30=IfcBuilding('0c$N1CTon2BB2Sp89385G8',#1,'Single-family house','The main building structure, providing shelter and space.',$,#38,$,'house - building',.ELEMENT.,$,$,$),\n",
       " #71=IfcWall('0DyViLJJ175RvWQi1rE7a6',#1,'house - outer wall - house back','A solid outer wall, forming the back of the house.','solidwall',#88,#98,'454425.1027891.979946.932083.920030',$),\n",
       " #71=IfcWall('0DyViLJJ175RvWQi1rE7a6',#1,'house - outer wall - house back','A solid outer wall, forming the back of the house.','solidwall',#88,#98,'454425.1027891.979946.932083.920030',$),\n",
       " #101=IfcWall('3SGBcf7Lv0r80vKtUCgOpf',#1,'house - outer wall - house front','A solid outer wall, forming the front of the house.','solidwall',#113,#122,'454425.1027891.979946.932083.920035',$),\n",
       " #101=IfcWall('3SGBcf7Lv0r80vKtUCgOpf',#1,'house - outer wall - house front','A solid outer wall, forming the front of the house.','solidwall',#113,#122,'454425.1027891.979946.932083.920035',$),\n",
       " #125=IfcWall('3oNJ9yHi5FJuFnK8yg68Yt',#1,'house - outer wall - house front right','A solid outer wall, forming the front right side of the house.','solidwall',#136,#145,'454425.1027891.979946.932083.920036',$),\n",
       " #125=IfcWall('3oNJ9yHi5FJuFnK8yg68Yt',#1,'house - outer wall - house front right','A solid outer wall, forming the front right side of the house.','solidwall',#136,#145,'454425.1027891.979946.932083.920036',$),\n",
       " #172=IfcWall('2gTJhghMT81QThk15l2VwR',#1,'house - inner wall','A solid inner wall, providing structural support within the house.','solidwall',#184,#193,'454425.1027891.979946.932083.2037932.920033',$),\n",
       " #172=IfcWall('2gTJhghMT81QThk15l2VwR',#1,'house - inner wall','A solid inner wall, providing structural support within the house.','solidwall',#184,#193,'454425.1027891.979946.932083.2037932.920033',$),\n",
       " #196=IfcRoof('2iPwJwpPDCSgMheXwk9cBT',#1,'house - roof','A sturdy roof, sheltering the house from the elements.','gable_roof',#202,$,'454425.1027891.979946.932084',$),\n",
       " #209=IfcBeam('0fqX614OH1YO1Njdxms2$Q',#1,'girder','A strong girder, providing essential support for structures.','girder_segment',#225,#235,'454425.1027891.979946.932084.902513',$),\n",
       " #209=IfcBeam('0fqX614OH1YO1Njdxms2$Q',#1,'girder','A strong girder, providing essential support for structures.','girder_segment',#225,#235,'454425.1027891.979946.932084.902513',$),\n",
       " #236=IfcBeam('0rh7bRO0L9fg1NzgGKU$Ut',#1,'girder','A strong girder, providing essential support for structures.','girder_segment',#247,#256,'454425.1027891.979946.932084.902515',$),\n",
       " #236=IfcBeam('0rh7bRO0L9fg1NzgGKU$Ut',#1,'girder','A strong girder, providing essential support for structures.','girder_segment',#247,#256,'454425.1027891.979946.932084.902515',$),\n",
       " #257=IfcBeam('3roxUKbVv98xiUcl22_T07',#1,'girder','A strong girder, providing essential support for structures.','girder_segment',#268,#277,'454425.1027891.979946.932084.902519',$),\n",
       " #257=IfcBeam('3roxUKbVv98xiUcl22_T07',#1,'girder','A strong girder, providing essential support for structures.','girder_segment',#268,#277,'454425.1027891.979946.932084.902519',$),\n",
       " #278=IfcBeam('0Lvk$Qa81D5et3l3a4S9Vk',#1,'girder','A strong girder, providing essential support for structures.','girder_segment',#289,#298,'454425.1027891.979946.932084.902516',$),\n",
       " #278=IfcBeam('0Lvk$Qa81D5et3l3a4S9Vk',#1,'girder','A strong girder, providing essential support for structures.','girder_segment',#289,#298,'454425.1027891.979946.932084.902516',$),\n",
       " #299=IfcBeam('2ddLgAnQf4mBfh5IpUp54U',#1,'girder','A strong girder, providing essential support for structures.','girder_segment',#310,#319,'454425.1027891.979946.932084.902517',$),\n",
       " #299=IfcBeam('2ddLgAnQf4mBfh5IpUp54U',#1,'girder','A strong girder, providing essential support for structures.','girder_segment',#310,#319,'454425.1027891.979946.932084.902517',$),\n",
       " #320=IfcBeam('2fjJuPht9EIQaZQYZfC1Op',#1,'girder','A strong girder, providing essential support for structures.','girder_segment',#331,#340,'454425.1027891.979946.932084.902512',$),\n",
       " #320=IfcBeam('2fjJuPht9EIQaZQYZfC1Op',#1,'girder','A strong girder, providing essential support for structures.','girder_segment',#331,#340,'454425.1027891.979946.932084.902512',$),\n",
       " #52=IfcFooting('0pFmhV8oD1dB40_b4pscr8',#1,'house - foundation','A house strip footing, ensuring stability and support.','strip_footing',#58,#68,'454425.1027891.979946.932083.920028',$),\n",
       " #71=IfcWall('0DyViLJJ175RvWQi1rE7a6',#1,'house - outer wall - house back','A solid outer wall, forming the back of the house.','solidwall',#88,#98,'454425.1027891.979946.932083.920030',$),\n",
       " #101=IfcWall('3SGBcf7Lv0r80vKtUCgOpf',#1,'house - outer wall - house front','A solid outer wall, forming the front of the house.','solidwall',#113,#122,'454425.1027891.979946.932083.920035',$),\n",
       " #125=IfcWall('3oNJ9yHi5FJuFnK8yg68Yt',#1,'house - outer wall - house front right','A solid outer wall, forming the front right side of the house.','solidwall',#136,#145,'454425.1027891.979946.932083.920036',$),\n",
       " #148=IfcChimney('3dkFAzOGrAIuOzY_RdrdVv',#1,'house - chimney','A chimney, standing tall and proud, guiding smoke away from the home.','flue',#149,#161,'454425.1027891.979946.932083.2023772',$),\n",
       " #172=IfcWall('2gTJhghMT81QThk15l2VwR',#1,'house - inner wall','A solid inner wall, providing structural support within the house.','solidwall',#184,#193,'454425.1027891.979946.932083.2037932.920033',$),\n",
       " #196=IfcRoof('2iPwJwpPDCSgMheXwk9cBT',#1,'house - roof','A sturdy roof, sheltering the house from the elements.','gable_roof',#202,$,'454425.1027891.979946.932084',$),\n",
       " #209=IfcBeam('0fqX614OH1YO1Njdxms2$Q',#1,'girder','A strong girder, providing essential support for structures.','girder_segment',#225,#235,'454425.1027891.979946.932084.902513',$),\n",
       " #236=IfcBeam('0rh7bRO0L9fg1NzgGKU$Ut',#1,'girder','A strong girder, providing essential support for structures.','girder_segment',#247,#256,'454425.1027891.979946.932084.902515',$),\n",
       " #257=IfcBeam('3roxUKbVv98xiUcl22_T07',#1,'girder','A strong girder, providing essential support for structures.','girder_segment',#268,#277,'454425.1027891.979946.932084.902519',$),\n",
       " #278=IfcBeam('0Lvk$Qa81D5et3l3a4S9Vk',#1,'girder','A strong girder, providing essential support for structures.','girder_segment',#289,#298,'454425.1027891.979946.932084.902516',$),\n",
       " #299=IfcBeam('2ddLgAnQf4mBfh5IpUp54U',#1,'girder','A strong girder, providing essential support for structures.','girder_segment',#310,#319,'454425.1027891.979946.932084.902517',$),\n",
       " #320=IfcBeam('2fjJuPht9EIQaZQYZfC1Op',#1,'girder','A strong girder, providing essential support for structures.','girder_segment',#331,#340,'454425.1027891.979946.932084.902512',$),\n",
       " #343=IfcDiscreteAccessory('2r_8UEywH9_RLHe8z$Xa8J',#1,'beam shoe','A robust shoe, providing stable support for beams.','shoe',#348,#358,'454425.1027891.979946.932084.2037920.2037925',$),\n",
       " #359=IfcDiscreteAccessory('2cc4uJUVv5BevbidUpn1H3',#1,'beam shoe','A robust shoe, providing stable support for beams.','shoe',#360,#369,'454425.1027891.979946.932084.2037920.2037924',$),\n",
       " #372=IfcBuildingElementProxy('2F44QMqSH3TOkM$SZoqCBe',#1,'origin','The local position for coordination of aspect models.','origin',#378,#388,'454425.1027891.1032757',$),\n",
       " #391=IfcBuildingElementProxy('3Fit2Fad92zf2f6aWdJtF5',#1,'geo-reference','The reference point for transforming the local engineering coordinate system into the coordinate reference system of the underlying map.','origin',#397,#407,'454425.1032696',$),\n",
       " #52=IfcFooting('0pFmhV8oD1dB40_b4pscr8',#1,'house - foundation','A house strip footing, ensuring stability and support.','strip_footing',#58,#68,'454425.1027891.979946.932083.920028',$),\n",
       " #71=IfcWall('0DyViLJJ175RvWQi1rE7a6',#1,'house - outer wall - house back','A solid outer wall, forming the back of the house.','solidwall',#88,#98,'454425.1027891.979946.932083.920030',$),\n",
       " #101=IfcWall('3SGBcf7Lv0r80vKtUCgOpf',#1,'house - outer wall - house front','A solid outer wall, forming the front of the house.','solidwall',#113,#122,'454425.1027891.979946.932083.920035',$),\n",
       " #125=IfcWall('3oNJ9yHi5FJuFnK8yg68Yt',#1,'house - outer wall - house front right','A solid outer wall, forming the front right side of the house.','solidwall',#136,#145,'454425.1027891.979946.932083.920036',$),\n",
       " #148=IfcChimney('3dkFAzOGrAIuOzY_RdrdVv',#1,'house - chimney','A chimney, standing tall and proud, guiding smoke away from the home.','flue',#149,#161,'454425.1027891.979946.932083.2023772',$),\n",
       " #172=IfcWall('2gTJhghMT81QThk15l2VwR',#1,'house - inner wall','A solid inner wall, providing structural support within the house.','solidwall',#184,#193,'454425.1027891.979946.932083.2037932.920033',$),\n",
       " #162=IfcBuildingElementProxy('1CjP_CWub368bZVuVHeHs3',#1,'Group#21',$,$,#165,$,'454425.1027891.979946.932083.2037932',$),\n",
       " #209=IfcBeam('0fqX614OH1YO1Njdxms2$Q',#1,'girder','A strong girder, providing essential support for structures.','girder_segment',#225,#235,'454425.1027891.979946.932084.902513',$),\n",
       " #236=IfcBeam('0rh7bRO0L9fg1NzgGKU$Ut',#1,'girder','A strong girder, providing essential support for structures.','girder_segment',#247,#256,'454425.1027891.979946.932084.902515',$),\n",
       " #257=IfcBeam('3roxUKbVv98xiUcl22_T07',#1,'girder','A strong girder, providing essential support for structures.','girder_segment',#268,#277,'454425.1027891.979946.932084.902519',$),\n",
       " #278=IfcBeam('0Lvk$Qa81D5et3l3a4S9Vk',#1,'girder','A strong girder, providing essential support for structures.','girder_segment',#289,#298,'454425.1027891.979946.932084.902516',$),\n",
       " #299=IfcBeam('2ddLgAnQf4mBfh5IpUp54U',#1,'girder','A strong girder, providing essential support for structures.','girder_segment',#310,#319,'454425.1027891.979946.932084.902517',$),\n",
       " #320=IfcBeam('2fjJuPht9EIQaZQYZfC1Op',#1,'girder','A strong girder, providing essential support for structures.','girder_segment',#331,#340,'454425.1027891.979946.932084.902512',$),\n",
       " #343=IfcDiscreteAccessory('2r_8UEywH9_RLHe8z$Xa8J',#1,'beam shoe','A robust shoe, providing stable support for beams.','shoe',#348,#358,'454425.1027891.979946.932084.2037920.2037925',$),\n",
       " #359=IfcDiscreteAccessory('2cc4uJUVv5BevbidUpn1H3',#1,'beam shoe','A robust shoe, providing stable support for beams.','shoe',#360,#369,'454425.1027891.979946.932084.2037920.2037924',$),\n",
       " #372=IfcBuildingElementProxy('2F44QMqSH3TOkM$SZoqCBe',#1,'origin','The local position for coordination of aspect models.','origin',#378,#388,'454425.1027891.1032757',$),\n",
       " #391=IfcBuildingElementProxy('3Fit2Fad92zf2f6aWdJtF5',#1,'geo-reference','The reference point for transforming the local engineering coordinate system into the coordinate reference system of the underlying map.','origin',#397,#407,'454425.1032696',$),\n",
       " #52=IfcFooting('0pFmhV8oD1dB40_b4pscr8',#1,'house - foundation','A house strip footing, ensuring stability and support.','strip_footing',#58,#68,'454425.1027891.979946.932083.920028',$),\n",
       " #71=IfcWall('0DyViLJJ175RvWQi1rE7a6',#1,'house - outer wall - house back','A solid outer wall, forming the back of the house.','solidwall',#88,#98,'454425.1027891.979946.932083.920030',$),\n",
       " #101=IfcWall('3SGBcf7Lv0r80vKtUCgOpf',#1,'house - outer wall - house front','A solid outer wall, forming the front of the house.','solidwall',#113,#122,'454425.1027891.979946.932083.920035',$),\n",
       " #125=IfcWall('3oNJ9yHi5FJuFnK8yg68Yt',#1,'house - outer wall - house front right','A solid outer wall, forming the front right side of the house.','solidwall',#136,#145,'454425.1027891.979946.932083.920036',$),\n",
       " #148=IfcChimney('3dkFAzOGrAIuOzY_RdrdVv',#1,'house - chimney','A chimney, standing tall and proud, guiding smoke away from the home.','flue',#149,#161,'454425.1027891.979946.932083.2023772',$),\n",
       " #162=IfcBuildingElementProxy('1CjP_CWub368bZVuVHeHs3',#1,'Group#21',$,$,#165,$,'454425.1027891.979946.932083.2037932',$),\n",
       " #172=IfcWall('2gTJhghMT81QThk15l2VwR',#1,'house - inner wall','A solid inner wall, providing structural support within the house.','solidwall',#184,#193,'454425.1027891.979946.932083.2037932.920033',$),\n",
       " #196=IfcRoof('2iPwJwpPDCSgMheXwk9cBT',#1,'house - roof','A sturdy roof, sheltering the house from the elements.','gable_roof',#202,$,'454425.1027891.979946.932084',$),\n",
       " #372=IfcBuildingElementProxy('2F44QMqSH3TOkM$SZoqCBe',#1,'origin','The local position for coordination of aspect models.','origin',#378,#388,'454425.1027891.1032757',$),\n",
       " #391=IfcBuildingElementProxy('3Fit2Fad92zf2f6aWdJtF5',#1,'geo-reference','The reference point for transforming the local engineering coordinate system into the coordinate reference system of the underlying map.','origin',#397,#407,'454425.1032696',$),\n",
       " #20=IfcSite('23sFQGRy90RxVbRHD9iSE2',#1,'environment - site','A sample scene environment, showcasing the surrounding landscape.',$,#22,$,$,.COMPLEX.,$,$,0.,$,$),\n",
       " #23=IfcSite('1Pbuu0tu59NfhrTsztVBK1',#1,'house - site','Smoke curls from a friendly chimney, promising warmth within this idyllic hilltop house.',$,#25,$,$,.PARTIAL.,$,$,0.,$,$),\n",
       " #30=IfcBuilding('0c$N1CTon2BB2Sp89385G8',#1,'Single-family house','The main building structure, providing shelter and space.',$,#38,$,'house - building',.ELEMENT.,$,$,$),\n",
       " #43=IfcBuildingStorey('1Ano2ZUxnEIvVQ_beukl8b',#1,'00 groundfloor','The ground floor, forming the base level of the building.',$,#45,$,$,.ELEMENT.,-1.80477854883065E-12),\n",
       " #209=IfcBeam('0fqX614OH1YO1Njdxms2$Q',#1,'girder','A strong girder, providing essential support for structures.','girder_segment',#225,#235,'454425.1027891.979946.932084.902513',$),\n",
       " #236=IfcBeam('0rh7bRO0L9fg1NzgGKU$Ut',#1,'girder','A strong girder, providing essential support for structures.','girder_segment',#247,#256,'454425.1027891.979946.932084.902515',$),\n",
       " #257=IfcBeam('3roxUKbVv98xiUcl22_T07',#1,'girder','A strong girder, providing essential support for structures.','girder_segment',#268,#277,'454425.1027891.979946.932084.902519',$),\n",
       " #278=IfcBeam('0Lvk$Qa81D5et3l3a4S9Vk',#1,'girder','A strong girder, providing essential support for structures.','girder_segment',#289,#298,'454425.1027891.979946.932084.902516',$),\n",
       " #299=IfcBeam('2ddLgAnQf4mBfh5IpUp54U',#1,'girder','A strong girder, providing essential support for structures.','girder_segment',#310,#319,'454425.1027891.979946.932084.902517',$),\n",
       " #320=IfcBeam('2fjJuPht9EIQaZQYZfC1Op',#1,'girder','A strong girder, providing essential support for structures.','girder_segment',#331,#340,'454425.1027891.979946.932084.902512',$),\n",
       " #343=IfcDiscreteAccessory('2r_8UEywH9_RLHe8z$Xa8J',#1,'beam shoe','A robust shoe, providing stable support for beams.','shoe',#348,#358,'454425.1027891.979946.932084.2037920.2037925',$),\n",
       " #359=IfcDiscreteAccessory('2cc4uJUVv5BevbidUpn1H3',#1,'beam shoe','A robust shoe, providing stable support for beams.','shoe',#360,#369,'454425.1027891.979946.932084.2037920.2037924',$),\n",
       " #30=IfcBuilding('0c$N1CTon2BB2Sp89385G8',#1,'Single-family house','The main building structure, providing shelter and space.',$,#38,$,'house - building',.ELEMENT.,$,$,$)]"
      ]
     },
     "execution_count": 94,
     "metadata": {},
     "output_type": "execute_result"
    }
   ],
   "source": [
    "related_objects"
   ]
  },
  {
   "cell_type": "code",
   "execution_count": 100,
   "id": "798a94ca-dcd3-49dd-b9d5-4ec65daa2272",
   "metadata": {},
   "outputs": [
    {
     "data": {
      "text/plain": [
       "79"
      ]
     },
     "execution_count": 100,
     "metadata": {},
     "output_type": "execute_result"
    }
   ],
   "source": [
    "len(relating_objects)"
   ]
  },
  {
   "cell_type": "code",
   "execution_count": 102,
   "id": "6e811c94-4f43-488b-b224-1475ba25a173",
   "metadata": {},
   "outputs": [
    {
     "data": {
      "text/plain": [
       "79"
      ]
     },
     "execution_count": 102,
     "metadata": {},
     "output_type": "execute_result"
    }
   ],
   "source": [
    "len(related_objects)"
   ]
  },
  {
   "cell_type": "code",
   "execution_count": 104,
   "id": "34ffe88e-3718-4139-9588-8a78ff217159",
   "metadata": {},
   "outputs": [],
   "source": [
    "def merge_unique(obj1, obj2):\n",
    "    merged = dict()\n",
    "    for o in obj1 + obj2:\n",
    "        if o:\n",
    "            merged[obj_id(o)] = o\n",
    "    return list(merged.values())"
   ]
  },
  {
   "cell_type": "code",
   "execution_count": 172,
   "id": "fa90c2c7-baa7-4a8c-b392-6bf42a2b337b",
   "metadata": {},
   "outputs": [
    {
     "name": "stdout",
     "output_type": "stream",
     "text": [
      "64\n"
     ]
    }
   ],
   "source": [
    "all_objects = merge_unique(relating_objects, related_objects)\n",
    "print(len(all_objects))"
   ]
  },
  {
   "cell_type": "code",
   "execution_count": 174,
   "id": "cab366c8-b9f4-4c09-9414-3bbc77125946",
   "metadata": {},
   "outputs": [
    {
     "name": "stdout",
     "output_type": "stream",
     "text": [
      "[#32=IfcPropertySet('18DB$FpSH4QhNntrrSRVGz',#1,'Pset_BuildingCommon',$,(#31)), #76=IfcPropertySet('0hVJYXG1r7ywQAq8Vpug40',#1,'Pset_WallCommon',$,(#72,#74,#75)), #86=IfcElementQuantity('0VVWsZ$_bFHgmAwNtcydte',#1,'Qto_WallBaseQuantities',$,$,(#82,#83,#84,#85)), #105=IfcPropertySet('0ek$CCUjnFefFg04xFxxG_',#1,'Pset_WallCommon',$,(#102,#103,#104)), #111=IfcElementQuantity('22KfX2yaj4UBecOFxQr$3y',#1,'Qto_WallBaseQuantities',$,$,(#107,#108,#109,#110)), #128=IfcPropertySet('2DaAsqJGPDexb$sFANyw0e',#1,'Pset_WallCommon',$,(#126,#127)), #134=IfcElementQuantity('16mzz5kV15mAyMAccFRkj4',#1,'Qto_WallBaseQuantities',$,$,(#130,#131,#132,#133)), #176=IfcPropertySet('3UegLqoYrB5QLJ1Fl0C0gk',#1,'Pset_WallCommon',$,(#173,#174,#175)), #182=IfcElementQuantity('3BkYHDW2b4LxsPRJLXlKa9',#1,'Qto_WallBaseQuantities',$,$,(#178,#179,#180,#181)), #199=IfcPropertySet('3IC75ptmHAcfynDO0H7l6Q',#1,'Pset_RoofCommon',$,(#197,#198)), #213=IfcPropertySet('2ups0JG6n1VvC4pdB0zluW',#1,'Pset_BeamCommon',$,(#210,#211,#212)), #222=IfcElementQuantity('2HMsp_L9P6I8CwQ6HNOQ_0',#1,'Qto_BeamBaseQuantities',$,$,(#219,#220,#221)), #240=IfcPropertySet('00EBcbCmP36Q43kDOMVxR1',#1,'Pset_BeamCommon',$,(#237,#238,#239)), #245=IfcElementQuantity('28d0zpbA1FDgNVOoP3DC9B',#1,'Qto_BeamBaseQuantities',$,$,(#242,#243,#244)), #261=IfcPropertySet('0fB$YzpQ9F5fXAwW3qqCyT',#1,'Pset_BeamCommon',$,(#258,#259,#260)), #266=IfcElementQuantity('30SHzCjOj6gPOjYeg44wl2',#1,'Qto_BeamBaseQuantities',$,$,(#263,#264,#265)), #282=IfcPropertySet('0PBH0wkMXC_RjGQReUd5h1',#1,'Pset_BeamCommon',$,(#279,#280,#281)), #287=IfcElementQuantity('0kLKoeMc5BnhcvmJ1GtKjL',#1,'Qto_BeamBaseQuantities',$,$,(#284,#285,#286)), #303=IfcPropertySet('2QF6RwHpj16gEJ1wh5SKZA',#1,'Pset_BeamCommon',$,(#300,#301,#302)), #308=IfcElementQuantity('0dIg8JLuXAjP9eWTNPMJjH',#1,'Qto_BeamBaseQuantities',$,$,(#305,#306,#307)), #324=IfcPropertySet('1l$mN4mE5EtgtEWbu7EEvJ',#1,'Pset_BeamCommon',$,(#321,#322,#323)), #329=IfcElementQuantity('3wSFIICx575gqnRY4FYR_E',#1,'Qto_BeamBaseQuantities',$,$,(#326,#327,#328)), #50=IfcFootingType('39zsrh6sTE69jN0aDa_2y3',#1,'house - foundation','A house strip footing, ensuring stability and support.',$,$,$,'884636','strip_footing',.STRIP_FOOTING.), #69=IfcWallType('0_8SeeJGr948J4bU1RPXce',#1,'house - outer wall - house back','A solid outer wall, forming the back of the house.',$,$,$,'919510','solidwall',.SOLIDWALL.), #99=IfcWallType('0KOC4PbVP4CgUUcPIljzX8',#1,'house - outer wall - house front','A solid outer wall, forming the front of the house.',$,$,$,'919267','solidwall',.SOLIDWALL.), #123=IfcWallType('2JyKYAYaHEEwkOiNxZBS0J',#1,'house - outer wall - house front right','A solid outer wall, forming the front right side of the house.',$,$,$,'919673','solidwall',.SOLIDWALL.), #146=IfcChimneyType('10FwQBcdzD9ve3W6PvBTti',#1,'house - chimney','A chimney, standing tall and proud, guiding smoke away from the home.',$,$,$,'884350','flue',.USERDEFINED.), #170=IfcWallType('3sv$5PJEr5hP_mSgN$A$GJ',#1,'house - inner wall','A solid inner wall, providing structural support within the house.',$,$,$,'919726','solidwall',.SOLIDWALL.), #194=IfcRoofType('0GE$iSXKL8jAEeHi$mszPq',#1,'house - roof','A sturdy roof, sheltering the house from the elements.',$,$,$,'902509','gable_roof',.GABLE_ROOF.), #207=IfcBeamType('1_UeVn6yDFiQNhUkRsBNZI',#1,'house - girder','A strong girder, providing essential support for structures.',$,$,$,'902302','girder_segment',.USERDEFINED.), #341=IfcDiscreteAccessoryType('1i7uuLYVf6ShdGFfCgAhuD',#1,'beam shoe','A robust shoe, providing stable support for beams.',$,$,$,'880093','shoe',.SHOE.), #370=IfcBuildingElementProxyType('3mjKLn_DjE4Beriey9bTvr',#1,'origin','The local position for coordination of aspect models.',$,$,$,'1028017','origin',.USERDEFINED.), #389=IfcBuildingElementProxyType('2IpkHFcdnD3xuZl6H52fWn',#1,'geo-reference','The reference point for transforming the local engineering coordinate system into the coordinate reference system of the underlying map.',$,$,$,'1028019','origin',.USERDEFINED.), #56=IfcMaterial('concrete_reinforced_in-situ',$,$), #81=IfcMaterial('stone_sand-lime',$,$), #164=IfcMaterial('Default',$,$), #218=IfcMaterial('wood_spruce_beam',$,$), #347=IfcMaterial('metal_steel-galvanized',$,$), #376=IfcMaterial('virtual_white',$,$), #395=IfcMaterial('virtual_black',$,$), #43=IfcBuildingStorey('1Ano2ZUxnEIvVQ_beukl8b',#1,'00 groundfloor','The ground floor, forming the base level of the building.',$,#45,$,$,.ELEMENT.,-1.80477854883065E-12), #30=IfcBuilding('0c$N1CTon2BB2Sp89385G8',#1,'Single-family house','The main building structure, providing shelter and space.',$,#38,$,'house - building',.ELEMENT.,$,$,$), #23=IfcSite('1Pbuu0tu59NfhrTsztVBK1',#1,'house - site','Smoke curls from a friendly chimney, promising warmth within this idyllic hilltop house.',$,#25,$,$,.PARTIAL.,$,$,0.,$,$), #20=IfcSite('23sFQGRy90RxVbRHD9iSE2',#1,'environment - site','A sample scene environment, showcasing the surrounding landscape.',$,#22,$,$,.COMPLEX.,$,$,0.,$,$), #13=IfcProject('2Ndyd$OSX7s9A04nc4lyye',#1,'ifc silly sample scene - project','Demystifying IFC with a playful scene using diverse building elements and compositions.',$,$,$,(#11),#14), #196=IfcRoof('2iPwJwpPDCSgMheXwk9cBT',#1,'house - roof','A sturdy roof, sheltering the house from the elements.','gable_roof',#202,$,'454425.1027891.979946.932084',$), #35=IfcClassificationReference('https://identifier.buildingsmart.org/uri/molio/cciconstruction/1.0/class/E-AAA','E-AAA','Single-family house',#34,$,$), #71=IfcWall('0DyViLJJ175RvWQi1rE7a6',#1,'house - outer wall - house back','A solid outer wall, forming the back of the house.','solidwall',#88,#98,'454425.1027891.979946.932083.920030',$), #101=IfcWall('3SGBcf7Lv0r80vKtUCgOpf',#1,'house - outer wall - house front','A solid outer wall, forming the front of the house.','solidwall',#113,#122,'454425.1027891.979946.932083.920035',$), #125=IfcWall('3oNJ9yHi5FJuFnK8yg68Yt',#1,'house - outer wall - house front right','A solid outer wall, forming the front right side of the house.','solidwall',#136,#145,'454425.1027891.979946.932083.920036',$), #172=IfcWall('2gTJhghMT81QThk15l2VwR',#1,'house - inner wall','A solid inner wall, providing structural support within the house.','solidwall',#184,#193,'454425.1027891.979946.932083.2037932.920033',$), #209=IfcBeam('0fqX614OH1YO1Njdxms2$Q',#1,'girder','A strong girder, providing essential support for structures.','girder_segment',#225,#235,'454425.1027891.979946.932084.902513',$), #236=IfcBeam('0rh7bRO0L9fg1NzgGKU$Ut',#1,'girder','A strong girder, providing essential support for structures.','girder_segment',#247,#256,'454425.1027891.979946.932084.902515',$), #257=IfcBeam('3roxUKbVv98xiUcl22_T07',#1,'girder','A strong girder, providing essential support for structures.','girder_segment',#268,#277,'454425.1027891.979946.932084.902519',$), #278=IfcBeam('0Lvk$Qa81D5et3l3a4S9Vk',#1,'girder','A strong girder, providing essential support for structures.','girder_segment',#289,#298,'454425.1027891.979946.932084.902516',$), #299=IfcBeam('2ddLgAnQf4mBfh5IpUp54U',#1,'girder','A strong girder, providing essential support for structures.','girder_segment',#310,#319,'454425.1027891.979946.932084.902517',$), #320=IfcBeam('2fjJuPht9EIQaZQYZfC1Op',#1,'girder','A strong girder, providing essential support for structures.','girder_segment',#331,#340,'454425.1027891.979946.932084.902512',$), #52=IfcFooting('0pFmhV8oD1dB40_b4pscr8',#1,'house - foundation','A house strip footing, ensuring stability and support.','strip_footing',#58,#68,'454425.1027891.979946.932083.920028',$), #148=IfcChimney('3dkFAzOGrAIuOzY_RdrdVv',#1,'house - chimney','A chimney, standing tall and proud, guiding smoke away from the home.','flue',#149,#161,'454425.1027891.979946.932083.2023772',$), #343=IfcDiscreteAccessory('2r_8UEywH9_RLHe8z$Xa8J',#1,'beam shoe','A robust shoe, providing stable support for beams.','shoe',#348,#358,'454425.1027891.979946.932084.2037920.2037925',$), #359=IfcDiscreteAccessory('2cc4uJUVv5BevbidUpn1H3',#1,'beam shoe','A robust shoe, providing stable support for beams.','shoe',#360,#369,'454425.1027891.979946.932084.2037920.2037924',$), #372=IfcBuildingElementProxy('2F44QMqSH3TOkM$SZoqCBe',#1,'origin','The local position for coordination of aspect models.','origin',#378,#388,'454425.1027891.1032757',$), #391=IfcBuildingElementProxy('3Fit2Fad92zf2f6aWdJtF5',#1,'geo-reference','The reference point for transforming the local engineering coordinate system into the coordinate reference system of the underlying map.','origin',#397,#407,'454425.1032696',$), #162=IfcBuildingElementProxy('1CjP_CWub368bZVuVHeHs3',#1,'Group#21',$,$,#165,$,'454425.1027891.979946.932083.2037932',$)]\n"
     ]
    }
   ],
   "source": [
    "print(all_objects)"
   ]
  },
  {
   "cell_type": "code",
   "execution_count": null,
   "id": "e9a4a597-c1dc-4c4c-a69d-5b85a1de98bf",
   "metadata": {},
   "outputs": [],
   "source": []
  },
  {
   "cell_type": "code",
   "execution_count": 187,
   "id": "697ea223-a346-48d7-93ba-f139ec252eb2",
   "metadata": {},
   "outputs": [],
   "source": [
    "def objects_classes_identify(all_objects):\n",
    "\n",
    "    clss = set()\n",
    "    \n",
    "    for o in all_objects:\n",
    "        if o.is_a(\"IfcElement\"):\n",
    "            clss.add(\"IfcElement\")\n",
    "        elif \"Type\" in o.is_a():\n",
    "            clss.add(\"IfcTypeObject\")\n",
    "        else:\n",
    "            clss.add(o.is_a())\n",
    "\n",
    "    return clss"
   ]
  },
  {
   "cell_type": "code",
   "execution_count": 189,
   "id": "ed47825a-16e3-43c1-84a7-826aae2557b0",
   "metadata": {},
   "outputs": [
    {
     "data": {
      "text/plain": [
       "{'IfcBuilding',\n",
       " 'IfcBuildingStorey',\n",
       " 'IfcClassificationReference',\n",
       " 'IfcElement',\n",
       " 'IfcElementQuantity',\n",
       " 'IfcMaterial',\n",
       " 'IfcProject',\n",
       " 'IfcPropertySet',\n",
       " 'IfcSite',\n",
       " 'IfcTypeObject'}"
      ]
     },
     "execution_count": 189,
     "metadata": {},
     "output_type": "execute_result"
    }
   ],
   "source": [
    "objects_classes_identify(all_objects)"
   ]
  },
  {
   "cell_type": "code",
   "execution_count": 181,
   "id": "03bc6053-1384-45df-959d-6c53583c5061",
   "metadata": {},
   "outputs": [],
   "source": [
    "# def props_identify(all_objects):\n",
    "\n",
    "#     props = {}\n",
    "\n",
    "#     pset = \"IfcPropertySet\"\n",
    "#     qset = \"IfcElementQuantity\"\n",
    "\n",
    "#     for o in all_objects:\n",
    "#         if o.is_a(pset):\n",
    "#             props.setdefault(pset, set())\n",
    "#             for p in o.HasProperties:\n",
    "#                 props[pset].add(p.Name)\n",
    "                    \n",
    "#         elif o.is_a(qset):\n",
    "#             props.setdefault(qset, set())\n",
    "#             for q in o.Quantities:\n",
    "#                 props[qset].add(q.Name)\n",
    "\n",
    "#     # only IfcMaterial class, no specific material properties to extract beyond the material name.\n",
    "                \n",
    "#     return props"
   ]
  },
  {
   "cell_type": "code",
   "execution_count": 207,
   "id": "8e9c964a-0914-447f-979d-d56f9cd88a65",
   "metadata": {},
   "outputs": [],
   "source": [
    "def props_identify(all_objects):\n",
    "\n",
    "    props = {}\n",
    "\n",
    "    pset = \"IfcPropertySet\"\n",
    "    qset = \"IfcElementQuantity\"\n",
    "\n",
    "    for o in all_objects:\n",
    "        if o.is_a(pset):\n",
    "            props.setdefault(pset, dict())\n",
    "            for p in o.HasProperties:\n",
    "                props[pset][p.Name] = {\n",
    "                    \"property_type\": p.is_a()\n",
    "                }\n",
    "                \n",
    "        elif o.is_a(qset):\n",
    "            props.setdefault(qset, dict())\n",
    "            for q in o.Quantities:\n",
    "                props[qset][q.Name] = {\n",
    "                    \"property_type\": q.is_a()\n",
    "                }\n",
    "\n",
    "    # only IfcMaterial class, no specific material properties to extract beyond the material name.\n",
    "                \n",
    "    return props"
   ]
  },
  {
   "cell_type": "code",
   "execution_count": 209,
   "id": "d404503a-a17e-4c8f-9c9a-48453b497c68",
   "metadata": {},
   "outputs": [
    {
     "data": {
      "text/plain": [
       "['NetVolume', 'Width', 'Length', 'NetSideArea', 'CrossSectionArea']"
      ]
     },
     "execution_count": 209,
     "metadata": {},
     "output_type": "execute_result"
    }
   ],
   "source": [
    "props = props_identify(all_objects)\n",
    "qto_props = list(props[\"IfcElementQuantity\"])\n",
    "qto_props"
   ]
  },
  {
   "cell_type": "code",
   "execution_count": 211,
   "id": "913522b3-812a-4467-baec-c0507d7c46fc",
   "metadata": {},
   "outputs": [
    {
     "data": {
      "text/plain": [
       "{'IfcPropertySet': {'ConstructionMethod': {'property_type': 'IfcPropertySingleValue'},\n",
       "  'Status': {'property_type': 'IfcPropertyEnumeratedValue'},\n",
       "  'IsExternal': {'property_type': 'IfcPropertySingleValue'},\n",
       "  'LoadBearing': {'property_type': 'IfcPropertySingleValue'}},\n",
       " 'IfcElementQuantity': {'NetVolume': {'property_type': 'IfcQuantityVolume'},\n",
       "  'Width': {'property_type': 'IfcQuantityLength'},\n",
       "  'Length': {'property_type': 'IfcQuantityLength'},\n",
       "  'NetSideArea': {'property_type': 'IfcQuantityArea'},\n",
       "  'CrossSectionArea': {'property_type': 'IfcQuantityArea'}}}"
      ]
     },
     "execution_count": 211,
     "metadata": {},
     "output_type": "execute_result"
    }
   ],
   "source": [
    "props"
   ]
  },
  {
   "cell_type": "code",
   "execution_count": 213,
   "id": "9d56d758-df59-46f1-81d0-0bf739250227",
   "metadata": {},
   "outputs": [
    {
     "ename": "SyntaxError",
     "evalue": "invalid syntax (1367782974.py, line 13)",
     "output_type": "error",
     "traceback": [
      "\u001b[1;36m  Cell \u001b[1;32mIn[213], line 13\u001b[1;36m\u001b[0m\n\u001b[1;33m    ......\u001b[0m\n\u001b[1;37m       ^\u001b[0m\n\u001b[1;31mSyntaxError\u001b[0m\u001b[1;31m:\u001b[0m invalid syntax\n"
     ]
    }
   ],
   "source": [
    "def pset_props_collect(o):\n",
    "\n",
    "    def unwrap(v):\n",
    "        if v is None:\n",
    "            return None\n",
    "        else:\n",
    "            return getattr(v, \"wrappedValue\", v)\n",
    "\n",
    "    props = {}\n",
    "    \n",
    "    for p in o.HasProperties:\n",
    "        if p.is_a(\"IfcPropertySingleValue\"):\n",
    "            nv = getattr(p, \"NominalValue\", none)\n",
    "            props[p.Name]= {\n",
    "                \"kind\": \"SingleValue\",\n",
    "                \"value\": unwrap(nv)\n",
    "        elif p.is_a(\"IfcPropertyEnumeratedValue\"):\n",
    "            ......\n",
    "\n",
    "    return props"
   ]
  },
  {
   "cell_type": "code",
   "execution_count": null,
   "id": "7067835c-07e5-4902-b873-78a0d3da0450",
   "metadata": {},
   "outputs": [],
   "source": []
  },
  {
   "cell_type": "code",
   "execution_count": 142,
   "id": "37b14777-db96-4423-a3a8-9e4344309432",
   "metadata": {},
   "outputs": [],
   "source": [
    "def node_set(o):\n",
    "\n",
    "    nodes = dict()\n",
    "\n",
    "    def g_n(o, name, default=None):\n",
    "        return getattr(o, name, default)\n",
    "\n",
    "    cls = o.is_a()\n",
    "\n",
    "    if cls == \"IfcProject\":\n",
    "        nodes[obj_id(o)] = {\n",
    "            \"id\": obj_id(o),\n",
    "            \"labels\": [\"PROJECT\", cls],\n",
    "            \"name\": g_n(o, \"Name\"),\n",
    "        }\n",
    "\n",
    "    elif o.is_a(\"IfcElement\"):\n",
    "        nodes[obj_id(o)] = {\n",
    "            \"id\": obj_id(o),\n",
    "            \"labels\": [\"Element\", o.is_a()],\n",
    "            \"name\": g_n(o, \"Name\"),\n",
    "            \"predefined_type\": getattr(o, \"ObjectType\", None)\n",
    "        }\n",
    "\n",
    "    elif csl == \"IfcPropertySet\":\n",
    "        nodes[obj_id(o)] = {\n",
    "            \"id\": obj_id(o),\n",
    "            \"labels\": [\"PSET\", cls],\n",
    "            \"name\": g_n(o, \"Name\"),\n",
    "            \"properties\": {}\n",
    "        }\n",
    "    elif cls == \"IfcElementQuantity\":\n",
    "        nodes[obj_id(o)] = {\n",
    "            \"id\": obj_id(o),\n",
    "            \"labels\": [\"QSET\", cls],\n",
    "            \"name\": g_n(o, \"Name\"),\n",
    "            \"properties\": {}\n",
    "        }\n",
    "    elif \"Type\" in cls:\n",
    "        nodes[obj_id(o)] = {\n",
    "            \"id\": obj_id(o),\n",
    "            \"labels\": [\"TYPE\", cls],\n",
    "            \"name\": g_n(o, \"Name\")\n",
    "        }\n",
    "    elif cls == \"IfcMaterial\":\n",
    "        nodes[obj_id(o)] = {\n",
    "            \"id\": obj_id(o),\n",
    "            \"labels\": [\"MATERIAL\", cls],\n",
    "            \"name\": g_n(o, \"Name\")\n",
    "        }\n",
    "    elif cls in (\"IfcSite\", \"IfcBuilding\", \"IfcBuildingStorey\", \"IfcSpace\"):\n",
    "        nodes[obj_id(o)] = {\n",
    "            \"id\": obj_id(o),\n",
    "            \"labels\": [\"SPATIAL\", cls],\n",
    "            \"name\": g_n(o, \"Name\")\n",
    "        }\n",
    "    # RelatingClassification in IfcRelassociatesClassification can point to:\n",
    "    # - IfcClassificationReference\n",
    "    # - IfcClassification\n",
    "    \n",
    "    elif cls == \"IfcClassificationReference\":\n",
    "        scheme = g_n(o, \"ReferencedSource\") # IfcClassification\n",
    "        nodes[obj_id(o)]:{\n",
    "            \"id\": obj_id(o),\n",
    "            \"labels\": [\"CLASSIFICATION_REF\", cls],\n",
    "            \"name\": g_n(o, \"Name\"),\n",
    "            \"code\": g_n(o, \"Identification\"),\n",
    "            \"uri\": g_n(o, \"Location\"),\n",
    "            # link to IfcClassification by id:\n",
    "            \"scheme_id\": obj_id(scheme) if scheme else None,\n",
    "        }\n",
    "    # elif cls == \"IfcClassification\":\n",
    "    #     nodes[obj_id(o)]:{\n",
    "    #         \"id\": obj_id(o),\n",
    "    #         \"labels\": [\"CLASSIFICATION\", cls],\n",
    "    #         \"name\": g_n(o, \"Name\"),\n",
    "    #         \"publisher\": g_n(o, \"Source\"),\n",
    "    #         \"edition\": g_n(o, \"Edition\"),\n",
    "    #         \"edition_date\": str(g_n(o, \"EditionDate\")) if g_n(o, \"EditionDate\") else None\n",
    "    #     }\n",
    "\n",
    "    return nodes        "
   ]
  },
  {
   "cell_type": "code",
   "execution_count": null,
   "id": "e6181f34-70de-4ed6-b0b6-bef3c98bd6c6",
   "metadata": {},
   "outputs": [],
   "source": [
    "def nodes_maker(all_objects):\n",
    "    "
   ]
  },
  {
   "cell_type": "code",
   "execution_count": null,
   "id": "3883738b-f6b0-437f-870d-678125b49624",
   "metadata": {},
   "outputs": [],
   "source": [
    "for qset in ifc_file.by_type(\"IfcElementQuantity\"):\n",
    "    print(\"Qto name:\", qset.Name)\n",
    "    for q in qset.Quantities:\n",
    "        print(\"   Quantity name:\", q.Name, \"| type:\", q.is_a())\n",
    "        \n",
    "        # value depends on the subtype\n",
    "        if q.is_a(\"IfcQuantityLength\"):\n",
    "            print(\"      Value:\", q.LengthValue)\n",
    "        elif q.is_a(\"IfcQuantityArea\"):\n",
    "            print(\"      Value:\", q.AreaValue)\n",
    "        elif q.is_a(\"IfcQuantityVolume\"):\n",
    "            print(\"      Value:\", q.VolumeValue)\n",
    "        elif q.is_a(\"IfcQuantityCount\"):\n",
    "            print(\"      Value:\", q.CountValue)\n",
    "        elif q.is_a(\"IfcQuantityWeight\"):\n",
    "            print(\"      Value:\", q.WeightValue)"
   ]
  },
  {
   "cell_type": "code",
   "execution_count": null,
   "id": "56d83e60-278a-41c4-a5b2-429ed817df36",
   "metadata": {},
   "outputs": [],
   "source": []
  },
  {
   "cell_type": "code",
   "execution_count": null,
   "id": "8d33a8da-5e7c-4072-a52f-2018bbab8738",
   "metadata": {},
   "outputs": [],
   "source": []
  },
  {
   "cell_type": "code",
   "execution_count": null,
   "id": "e95a140a-ba1a-4363-8585-491039d503f6",
   "metadata": {},
   "outputs": [],
   "source": []
  },
  {
   "cell_type": "markdown",
   "id": "17c12f93-b616-402a-a0db-5a4ecf34a2a0",
   "metadata": {},
   "source": [
    "# 6. Neo4J graph:"
   ]
  },
  {
   "cell_type": "code",
   "execution_count": null,
   "id": "d459f016-5c67-4e7e-921a-ae0fccac8857",
   "metadata": {},
   "outputs": [],
   "source": []
  },
  {
   "cell_type": "code",
   "execution_count": null,
   "id": "f1b07826-fa19-4622-b08a-d3455566a311",
   "metadata": {},
   "outputs": [],
   "source": []
  },
  {
   "cell_type": "code",
   "execution_count": null,
   "id": "97dc8dfb-a45a-458f-8682-f437bedf922d",
   "metadata": {},
   "outputs": [],
   "source": []
  },
  {
   "cell_type": "code",
   "execution_count": null,
   "id": "0fd87403-7937-4590-80a0-b2c107598aff",
   "metadata": {},
   "outputs": [],
   "source": []
  },
  {
   "cell_type": "code",
   "execution_count": null,
   "id": "2ab957f3-1e43-4bb7-a43b-68148e72581d",
   "metadata": {},
   "outputs": [],
   "source": []
  },
  {
   "cell_type": "code",
   "execution_count": null,
   "id": "41b18f0b-b798-409f-b12f-91a572e139bb",
   "metadata": {},
   "outputs": [],
   "source": []
  },
  {
   "cell_type": "code",
   "execution_count": null,
   "id": "25a57f9d-46ed-442f-8954-497ec297936b",
   "metadata": {},
   "outputs": [],
   "source": []
  },
  {
   "cell_type": "code",
   "execution_count": null,
   "id": "3c4af5e2-a00d-420a-843c-1207b0ff04d8",
   "metadata": {},
   "outputs": [],
   "source": []
  },
  {
   "cell_type": "code",
   "execution_count": null,
   "id": "7e437b67-d516-400c-998c-eebbdc4801bc",
   "metadata": {},
   "outputs": [],
   "source": []
  }
 ],
 "metadata": {
  "kernelspec": {
   "display_name": "Python (capstone_env)",
   "language": "python",
   "name": "capstone_env"
  },
  "language_info": {
   "codemirror_mode": {
    "name": "ipython",
    "version": 3
   },
   "file_extension": ".py",
   "mimetype": "text/x-python",
   "name": "python",
   "nbconvert_exporter": "python",
   "pygments_lexer": "ipython3",
   "version": "3.11.13"
  }
 },
 "nbformat": 4,
 "nbformat_minor": 5
}

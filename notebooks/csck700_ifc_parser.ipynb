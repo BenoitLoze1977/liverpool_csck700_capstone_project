{
 "cells": [
  {
   "cell_type": "markdown",
   "id": "9fc2e2b4-33ed-45d7-af4b-964dae4971a1",
   "metadata": {},
   "source": [
    "# Title: csck700_ifc_parser"
   ]
  },
  {
   "cell_type": "markdown",
   "id": "97740413-1bd3-4438-afeb-4f2abf7760cf",
   "metadata": {},
   "source": [
    "### The module parses an IFC model to extract the IFcElements, their properties and relationships and loads them to nodes and edges into Neo4J."
   ]
  },
  {
   "cell_type": "markdown",
   "id": "7344a75e-b155-48d8-a350-db5f42b002a0",
   "metadata": {},
   "source": [
    "# 0. Table of content:"
   ]
  },
  {
   "cell_type": "markdown",
   "id": "904105a4-1938-4749-a674-dbaf1b90425b",
   "metadata": {},
   "source": [
    "- [1. Settings:](#1.-Settings:)  \n",
    "- [2. Imports:](#2.-Imports:)  \n",
    "- [3. Helper functions:](#3.-Helper-functions:)  \n",
    "    - [3.1. IfcRelationships - Edges:](#3.1.-IfcRelationships---Edges:)  \n",
    "    - [3.2. IfcEntities - Nodes:](#3.2.-IfcEntities---Nodes:)  \n",
    "    - [3.3. Sanity Checks:](#3.3.-Sanity-Checks:)  \n",
    "- [4. Data load:](#4.-Data-load:)    \n",
    "- [5. IFC Parsing:](#5.-IFC-Parsing:)  \n",
    "    - [5.1. IfcRelationships - Edges Preparation:](#5.1.-IfcRelationships---Edges-Preparation:)  \n",
    "    - [5.2. IfcEntities - Nodes Preparation:](#5.2.-IfcEntities---Nodes-Preparation:)  \n",
    "    - [5.3. Sanity Checks:](#5.3.-Sanity-Checks:)  \n",
    "- [6. Neo4J graph:](#6.-Neo4J-graph:)   "
   ]
  },
  {
   "cell_type": "markdown",
   "id": "62008d32-c40c-472b-a1cb-d4a975892ffd",
   "metadata": {},
   "source": [
    "# 1. Settings:"
   ]
  },
  {
   "cell_type": "code",
   "execution_count": 1,
   "id": "27b591f4-2277-45a7-8c04-ea87b8fb0a07",
   "metadata": {},
   "outputs": [],
   "source": [
    "IFC_PATH = r\"..\\data\\raw\\Building-Structural.ifc\"\n",
    "\n",
    "NEO4J_URI = \"bolt://localhost:7687\"\n",
    "NEO4J_USER = \"neo4j\"\n",
    "NEO4J_PASSWORD = \"TitineTiteFiro@1952\"\n",
    "DATABASE = \"capstone\""
   ]
  },
  {
   "cell_type": "code",
   "execution_count": 2,
   "id": "2d693dc5-6e28-4bd9-9fc4-cd504cd45307",
   "metadata": {},
   "outputs": [],
   "source": [
    "REL_MAP ={\n",
    "    \"IfcRelDefinesByProperties\": (\"RelatingPropertyDefinition\", \"RelatedObjects\", None),\n",
    "    \"IfcRelDefinesByType\": (\"RelatingType\", \"RelatedObjects\", \"DEFINED_BY_TYPE\"),\n",
    "    \"IfcRelAssociatesMaterial\": (\"RelatingMaterial\", \"RelatedObjects\", \"ASSOCIATED_MATERIAL\"),\n",
    "    \"IfcRelContainedInSpatialStructure\": (\"RelatingStructure\", \"RelatedElements\", \"CONTAINED_IN\"),\n",
    "    \"IfcRelAggregates\": (\"RelatingObject\", \"RelatedObjects\", \"AGGREGATES\"),\n",
    "    \"IfcRelAssociatesClassification\": (\"RelatingClassification\", \"RelatedObjects\", \"ASSOCIATED_CLASSIFICATION\")\n",
    "} "
   ]
  },
  {
   "cell_type": "markdown",
   "id": "a35a9c22-6640-4d92-a41e-05df562afeb9",
   "metadata": {},
   "source": [
    "# 2. Imports:"
   ]
  },
  {
   "cell_type": "code",
   "execution_count": 3,
   "id": "ea7c2f06-2f88-4f66-afa6-8793e5f7d349",
   "metadata": {},
   "outputs": [],
   "source": [
    "import ifcopenshell\n",
    "import ifcopenshell.util.element as util\n",
    "from neo4j import GraphDatabase\n",
    "from collections import Counter, defaultdict"
   ]
  },
  {
   "cell_type": "markdown",
   "id": "6c2bef45-a675-4ddf-b80e-f977cf088940",
   "metadata": {},
   "source": [
    "# 3. Helper functions:"
   ]
  },
  {
   "cell_type": "markdown",
   "id": "78d3829a-e361-4f1e-b269-0bd0b783d942",
   "metadata": {},
   "source": [
    "## 3.1. IfcRelationships - Edges:"
   ]
  },
  {
   "cell_type": "code",
   "execution_count": 4,
   "id": "781fbab0-84bd-41ca-b3c5-a9f0492707a5",
   "metadata": {},
   "outputs": [],
   "source": [
    "def identify_rel(model):\n",
    "    \"\"\"\n",
    "    Identify all distinct IfcRelationship classes present in the model.\n",
    "    \"\"\"\n",
    "\n",
    "    rel_classes = set()\n",
    "\n",
    "    rels = model.by_type(\"IfcRelationship\")\n",
    "\n",
    "    for rel in rels:\n",
    "        rel_classes.add(rel.is_a())\n",
    "\n",
    "    print(\"Identified relationship classes:\")  \n",
    "    for r in rel_classes:\n",
    "        print(f\"- {r}.\")\n",
    "        \n",
    "    return rel_classes"
   ]
  },
  {
   "cell_type": "code",
   "execution_count": 5,
   "id": "698d3c83-a658-4565-ae5a-6b90632cde98",
   "metadata": {},
   "outputs": [],
   "source": [
    "def obj_id(o):\n",
    "    \"\"\"\n",
    "    Returns the GUID of the given object, if present, else synthetic ClassName:step_id.\n",
    "\n",
    "    Non-IfcRoot entities (e.g. IfcMaterial, IfcClassificationReference)\n",
    "    do not have a GlobalId, so the fallback ensures uniqueness.\n",
    "    \"\"\"\n",
    "    return getattr(o, \"GlobalId\", f\"{o.is_a()}:{o.id()}\")"
   ]
  },
  {
   "cell_type": "code",
   "execution_count": 6,
   "id": "9db862f9-e5bf-47ba-8140-2500e4496500",
   "metadata": {},
   "outputs": [],
   "source": [
    "def as_list(v):\n",
    "    \"\"\"\n",
    "    Ensures the value is returned as a list.\n",
    "    \"\"\"\n",
    "    if v is None:\n",
    "        return []\n",
    "    return v if isinstance(v, (list, tuple)) else [v]"
   ]
  },
  {
   "cell_type": "code",
   "execution_count": 7,
   "id": "c2d8b711-29e8-4bed-8b3e-a3333305c08a",
   "metadata": {},
   "outputs": [],
   "source": [
    "def edges_maker(model, rel_map=REL_MAP, pset_qto=True):\n",
    "    \"\"\"\n",
    "    For a given model, creates a dictionary of edges (IfcRelationships exploded into from -> to pairs.\n",
    "    Returns:\n",
    "        - edges: a dictionary of edges with keys:\n",
    "            - id, labels, rel_class, rel_id, from, to.\n",
    "    \"\"\"\n",
    "\n",
    "    edges = dict()\n",
    "    pairs = set()\n",
    "\n",
    "    for rel_class, (relating_attr, related_attr, label) in rel_map.items():\n",
    "        for rel in model.by_type(rel_class):\n",
    "            relating = getattr(rel, relating_attr, None)\n",
    "            related = getattr(rel, related_attr, None)\n",
    "            if relating is None:\n",
    "                continue\n",
    "            \n",
    "            # distinction property set vs quantity set:\n",
    "            if rel_class == \"IfcRelDefinesByProperties\":\n",
    "                if pset_qto and relating.is_a(\"IfcElementQuantity\"):\n",
    "                    edge_label = \"DEFINED_BY_QUANTITIES\"\n",
    "                else:\n",
    "                    edge_label = \"DEFINED_BY_PROPERTIES\"\n",
    "            else:\n",
    "                edge_label = label\n",
    "\n",
    "            frm = obj_id(relating)\n",
    "            rel_gid = obj_id(rel)\n",
    "\n",
    "            # one-to-many relationships:\n",
    "            for r in as_list(related):\n",
    "                if r is None:\n",
    "                    continue\n",
    "                to  = obj_id(r)\n",
    "                \n",
    "                # sanity check:\n",
    "                pairs.add((rel_gid, frm, to))\n",
    "                \n",
    "                edge_id = f\"{rel_gid}:{frm}->{to}\"\n",
    "                edges[edge_id]={\n",
    "                    \"id\": edge_id,\n",
    "                    \"labels\": edge_label,\n",
    "                    \"rel_class\": rel_class,\n",
    "                    \"rel_id\": rel_gid,\n",
    "                    \"from\": frm,\n",
    "                    \"to\": to\n",
    "                }\n",
    "\n",
    "    expected = len(pairs)\n",
    "    actual = len(edges)\n",
    "    \n",
    "    # print(f\"Expected number of edges: {expected}.\")\n",
    "    # print(f\"Number of edges: {actual}.\")\n",
    "    \n",
    "    return expected, actual, edges"
   ]
  },
  {
   "cell_type": "markdown",
   "id": "7d981202-d014-40b7-be43-da4b8b2d2198",
   "metadata": {},
   "source": [
    "## 3.2. IfcEntities - Nodes:"
   ]
  },
  {
   "cell_type": "code",
   "execution_count": 8,
   "id": "42667233-2fff-46a6-b2b2-5d3d79b13bfb",
   "metadata": {},
   "outputs": [],
   "source": [
    "def get_entity_from_id(model, oid):\n",
    "    \"\"\"\n",
    "    Returns the Ifc entity from the given id or GUID.\n",
    "    \"\"\"\n",
    "\n",
    "    if isinstance(oid, str) and (len(oid) == 22) and (\":\" not in oid):\n",
    "        return model.by_guid(oid)\n",
    "\n",
    "    elif \":\" in oid:\n",
    "        try:\n",
    "            step_id = int(oid.split(\":\")[-1])\n",
    "            return model.by_id(step_id)\n",
    "        except Exception:\n",
    "            return None\n",
    "\n",
    "    return None"
   ]
  },
  {
   "cell_type": "code",
   "execution_count": 9,
   "id": "2b9a8bb9-7838-4334-8872-bc3b4ef4cf20",
   "metadata": {},
   "outputs": [],
   "source": [
    "def get_entities_from_edges(model, edges, typ):\n",
    "    \"\"\"\n",
    "    Returns the relating or related Ifc entities from a dict of edges.\n",
    "    \"\"\"\n",
    "\n",
    "    entities_from_edges = []\n",
    "    \n",
    "    for edge in edges.values():\n",
    "        obj = get_entity_from_id(model, edge[typ])\n",
    "        if obj:\n",
    "            entities_from_edges.append(obj) \n",
    "\n",
    "    return entities_from_edges"
   ]
  },
  {
   "cell_type": "code",
   "execution_count": 10,
   "id": "197319f5-5631-459a-91b9-6103be5c24c9",
   "metadata": {},
   "outputs": [],
   "source": [
    "def merge_unique(obj1, obj2):\n",
    "    \"\"\"\n",
    "    Returns a list of unique Ifc entities from two lists of Ifc entities.\n",
    "    \"\"\"\n",
    "    merged = dict()\n",
    "    for o in obj1 + obj2:\n",
    "        if o:\n",
    "            merged[obj_id(o)] = o\n",
    "    return list(merged.values())"
   ]
  },
  {
   "cell_type": "code",
   "execution_count": 11,
   "id": "5b2b4128-99c9-4d1e-9f8b-c9db9ae4199d",
   "metadata": {},
   "outputs": [],
   "source": [
    "def entities_classes_identify(all_objects):\n",
    "    \"\"\"\n",
    "    Identifies the Ifc entity classes present in the model.\n",
    "    All IfcElements subtypes collapse to 'IfcElement'.\n",
    "    All *Type classes collapse to 'IfcTypeObject'.\n",
    "    \"\"\"\n",
    "\n",
    "    clss = set()\n",
    "    \n",
    "    for o in all_objects:\n",
    "        if o.is_a(\"IfcElement\"):\n",
    "            clss.add(\"IfcElement\")\n",
    "        elif \"Type\" in o.is_a():\n",
    "            clss.add(\"IfcTypeObject\")\n",
    "        else:\n",
    "            clss.add(o.is_a())\n",
    "\n",
    "    return clss"
   ]
  },
  {
   "cell_type": "code",
   "execution_count": 12,
   "id": "c3f9100f-fddf-4f47-8616-0f54d6ae6f4f",
   "metadata": {},
   "outputs": [],
   "source": [
    "def props_identify(all_objects):\n",
    "\n",
    "    props = {}\n",
    "\n",
    "    pset = \"IfcPropertySet\"\n",
    "    qset = \"IfcElementQuantity\"\n",
    "\n",
    "    for o in all_objects:\n",
    "        if o.is_a(pset):\n",
    "            props.setdefault(pset, dict())\n",
    "            for p in o.HasProperties:\n",
    "                props[pset][p.Name] = {\n",
    "                    \"property_type\": p.is_a()\n",
    "                }\n",
    "                \n",
    "        elif o.is_a(qset):\n",
    "            props.setdefault(qset, dict())\n",
    "            for q in o.Quantities:\n",
    "                props[qset][q.Name] = {\n",
    "                    \"property_type\": q.is_a()\n",
    "                }\n",
    "\n",
    "    # only IfcMaterial class, no specific material properties to extract beyond the material name.\n",
    "                \n",
    "    return props"
   ]
  },
  {
   "cell_type": "code",
   "execution_count": 13,
   "id": "227d9d1c-04c1-41ca-aa9f-8872bb8f2020",
   "metadata": {},
   "outputs": [],
   "source": [
    "def pset_props_collect(o):\n",
    "    \"\"\"\n",
    "    Extracts the properties from an IfcPropertySet entity. \n",
    "    \"\"\"\n",
    "\n",
    "    def unwrap(v):\n",
    "        \"\"\"\n",
    "        Converts an Ifc value wrapper to a plain Python type.\n",
    "        \"\"\"\n",
    "        if v is None:\n",
    "            return None\n",
    "        else:\n",
    "            return getattr(v, \"wrappedValue\", v)\n",
    "\n",
    "    props = {}\n",
    "    \n",
    "    for p in o.HasProperties:\n",
    "        if p.is_a(\"IfcPropertySingleValue\"):\n",
    "            nv = getattr(p, \"NominalValue\", None)\n",
    "            props[p.Name] = {\n",
    "                \"kind\": \"SingleValue\",\n",
    "                \"value\": unwrap(nv)\n",
    "            }\n",
    "        elif p.is_a(\"IfcPropertyEnumeratedValue\"):\n",
    "            vals = [unwrap(v) for v in (getattr(p, \"EnumerationValues\", []) or [])]\n",
    "            enum_ref = getattr(p, \"EnumerationReference\", None)\n",
    "            domain = (\n",
    "                [unwrap(v) for v in (getattr(enum_ref, \"EnumerationValues\", []) or [])]\n",
    "                if enum_ref else None\n",
    "            )\n",
    "            props[p.Name] = {\n",
    "                \"kind\": \"EnumeratedValue\",\n",
    "                \"value\": vals if len(vals) != 1 else vals[0],\n",
    "                \"enumeration_name\": getattr(enum_ref, \"Name\", None) if enum_ref else None,\n",
    "                \"domain\": domain\n",
    "            }\n",
    "\n",
    "    # if needed, to be developed to handle other kinds of properties.\n",
    "        \n",
    "    return props"
   ]
  },
  {
   "cell_type": "code",
   "execution_count": 14,
   "id": "ce996f9a-086c-4070-82bb-600d91aeab7f",
   "metadata": {},
   "outputs": [],
   "source": [
    "def qset_props_collect(o, include_none=False):\n",
    "    \"\"\"\n",
    "    Extracts the quantitiy properties from an IfcElementQuantity. \n",
    "    \"\"\"\n",
    "\n",
    "    props = {}\n",
    "    \n",
    "    for q in getattr(o, \"Quantities\", []) or []:\n",
    "        val = None\n",
    "        if q.is_a(\"IfcQuantityLength\"):\n",
    "            val = q.LengthValue\n",
    "        elif q.is_a(\"IfcQuantityArea\"):\n",
    "            val = q.AreaValue\n",
    "        elif q.is_a(\"IfcQuantityVolume\"):\n",
    "            val = q.VolumeValue\n",
    "        elif q.is_a(\"IfcQuantityCount\"):\n",
    "            val = q.CountValue\n",
    "        elif q.is_a(\"IfcQuantityWeight\"):\n",
    "            val = q.WeightValue\n",
    "\n",
    "        if include_none or val is not None:  \n",
    "            props[q.Name] = {\n",
    "                \"kind\": q.is_a(),\n",
    "                \"value\": val\n",
    "            }\n",
    "\n",
    "    return props"
   ]
  },
  {
   "cell_type": "code",
   "execution_count": 15,
   "id": "6a94ef54-c879-4cc1-89a2-9fb5d431e291",
   "metadata": {},
   "outputs": [],
   "source": [
    "def node_set(o):\n",
    "    \"\"\"\n",
    "    Extract the node information for a single Ifc entity.\n",
    "    \"\"\"\n",
    "\n",
    "    node = dict()\n",
    "\n",
    "    # helpers:\n",
    "    def g_n(o, name, default=None):\n",
    "        \"\"\"\n",
    "        Extract an attribute for an Ifc entity.\n",
    "        \"\"\"\n",
    "        return getattr(o, name, default)\n",
    "\n",
    "    def basic_props(label, addition=None):\n",
    "        \"\"\"\n",
    "        Set the base node dictionary for an Ifc entity and add it to \"node\".\n",
    "        \"\"\"\n",
    "        node_id = obj_id(o)\n",
    "        base = {\n",
    "            \"id\": node_id,\n",
    "            \"labels\": [label, o.is_a()],\n",
    "            \"name\": g_n(o, \"Name\")\n",
    "        }\n",
    "        if addition:\n",
    "            base.update(addition)\n",
    "        node[node_id] = base\n",
    "\n",
    "    \n",
    "    cls = o.is_a()\n",
    "\n",
    "    if cls == \"IfcProject\":\n",
    "        basic_props(\"PROJECT\")\n",
    "        \n",
    "    elif o.is_a(\"IfcElement\"):\n",
    "        # ObjectType fallback:\n",
    "        basic_props(\"ELEMENT\", {\n",
    "            \"predefined_type\": g_n(o, \"PredefinedType\", g_n(o, \"ObjectType\"))\n",
    "        })\n",
    "        \n",
    "    elif cls == \"IfcPropertySet\":\n",
    "        basic_props(\"PSET\", {\n",
    "            \"properties\": pset_props_collect(o)\n",
    "        })\n",
    "        \n",
    "    elif cls == \"IfcElementQuantity\":\n",
    "        basic_props(\"QSET\", {\n",
    "            \"properties\": qset_props_collect(o)\n",
    "        })\n",
    "        \n",
    "    elif \"Type\" in cls:\n",
    "        basic_props(\"TYPE\")\n",
    "        \n",
    "    elif cls == \"IfcMaterial\":\n",
    "        basic_props(\"MATERIAL\")\n",
    "        \n",
    "    elif cls in (\"IfcSite\", \"IfcBuilding\", \"IfcBuildingStorey\", \"IfcSpace\"):\n",
    "        basic_props(\"SPATIAL\")\n",
    "        \n",
    "    elif cls == \"IfcClassificationReference\":\n",
    "        scheme = g_n(o, \"ReferencedSource\") # IfcClassification\n",
    "        basic_props(\"CLASSIFICATION_REF\",{\n",
    "            \"code\": g_n(o, \"Identification\"),\n",
    "            \"uri\": g_n(o, \"Location\"),\n",
    "            # link to IfcClassification by id:\n",
    "            \"scheme_id\": obj_id(scheme) if scheme else None,\n",
    "        })\n",
    "\n",
    "    return node        "
   ]
  },
  {
   "cell_type": "code",
   "execution_count": 16,
   "id": "48f424a4-16b1-41fe-ac59-2d08931ae163",
   "metadata": {},
   "outputs": [],
   "source": [
    "def nodes_maker(all_objects):\n",
    "    \"\"\"\n",
    "    For a given model, creates a dictionary of nodes from a list of Ifc entities.\n",
    "    \"\"\"\n",
    "\n",
    "    nodes = {}\n",
    "\n",
    "    for o in all_objects:\n",
    "        nodes.update(node_set(o))\n",
    "\n",
    "    return nodes"
   ]
  },
  {
   "cell_type": "markdown",
   "id": "a1bc0d2a-195f-463a-a4e1-d52ecd3cdd03",
   "metadata": {},
   "source": [
    "## 3.3. Sanity Checks:  "
   ]
  },
  {
   "cell_type": "code",
   "execution_count": 17,
   "id": "6b79927c-6072-4f43-9bc6-67e285a9de49",
   "metadata": {},
   "outputs": [],
   "source": [
    "def elements_inspection(model, ifc_type=\"IfcProduct\"):\n",
    "    \"\"\"\n",
    "    Counts and lists IfcElements (excluding proxies in this case) grouped by class.\n",
    "    Returns:\n",
    "        - elements: list.\n",
    "        - classes_counter: Counter.\n",
    "    \"\"\"\n",
    "    \n",
    "    products = model.by_type(ifc_type)\n",
    "    elements = [p for p in products if (p.is_a(\"IfcElement\")) and not (p.is_a(\"IfcBuildingElementProxy\"))]\n",
    "    elements_classes = [el.is_a() for el in elements]\n",
    "    classes_counter = Counter(elements_classes)\n",
    "\n",
    "    print(f\"Total number of elements: {len(elements)}\")\n",
    "    for cl, count in classes_counter.items():\n",
    "        print(f\"{cl}: {count}.\")\n",
    "\n",
    "    return classes_counter"
   ]
  },
  {
   "cell_type": "code",
   "execution_count": 18,
   "id": "8eb8dcd8-acf4-4feb-9af9-e10441b43329",
   "metadata": {},
   "outputs": [],
   "source": [
    "def sanity(expected, actual, relating, related):\n",
    "    \"\"\"\n",
    "    Sanity checks:\n",
    "        - Proxies presence.\n",
    "        - Edge count.\n",
    "        - Relating entities count.\n",
    "        - Related entities count.\n",
    "        - Union nodes.\n",
    "    Returns:\n",
    "        bool: True if all checks pass, else False.\n",
    "    \"\"\"\n",
    "    passed = True\n",
    "\n",
    "    proxies = []\n",
    "    \n",
    "    for e in all_ents:\n",
    "        if \"Proxy\" in e.is_a():\n",
    "            proxies.append(e.id())\n",
    "\n",
    "    if len(proxies) == 0:\n",
    "        print(\"Proxy check passed, there is no Proxy entity.\")\n",
    "    else:\n",
    "        print(f\"ERROR: Presence of Proxy entities: {proxies}\")\n",
    "        passed = False \n",
    "            \n",
    "    if expected == actual:\n",
    "        print(f\"Edge count check passed: expected and actual are consistent ({actual}).\")\n",
    "    else:\n",
    "        print(f\"ERROR: edges count mismatch - expected {expected} but got {actual}.\")\n",
    "        passed = False\n",
    "        \n",
    "    if len(relating) == actual:\n",
    "        print(f\"Relating entities count check passed: {len(relating)} = number of edges ({actual}).\")\n",
    "    else:\n",
    "        print(f\"ERROR: relating entities count mismatch - edges {actual}, relating entities {len(relating)}.\")\n",
    "        passed = False\n",
    "        \n",
    "    if len(related) == actual:\n",
    "        print(f\"Related entities count check passed: {len(related)} = number of edges ({actual}).\")\n",
    "    else:\n",
    "        print(f\"ERROR: related entities count mismatch - edges {actual}, related entities {len(related)}.\")\n",
    "        passed = False\n",
    "\n",
    "    relating_set = set(relating)\n",
    "    related_set = set(related)\n",
    "    union_nodes = relating_set | related_set\n",
    "\n",
    "    if len(union_nodes) >= max(len(relating_set), len(related_set)):\n",
    "        print(f\"Unique node union check passed: |union|={len(union_nodes)}, |relating|={len(relating_set)}, |related|={len(related_set)}\")\n",
    "    else:\n",
    "        print(f\"ERROR: union size invalind - |union|={len(union_nodes)}, |relating|={len(relating_set)}, |related|={len(related_set)}\")\n",
    "\n",
    "    print(f\"The overall sanity check has been succesfully passed: {passed}.\")"
   ]
  },
  {
   "cell_type": "markdown",
   "id": "d815fafa-ae9e-4c59-aa1b-6856f1a4adc2",
   "metadata": {},
   "source": [
    "## 6.1. Graph schema definition:"
   ]
  },
  {
   "cell_type": "code",
   "execution_count": 19,
   "id": "d03b44ff-6370-4227-98ac-7909ead53334",
   "metadata": {},
   "outputs": [],
   "source": [
    "def ent_labels(ent_type, input, verbose=False):\n",
    "    \"\"\"\n",
    "    Returns:\n",
    "    - if ent_type == \"nodes\": (labels, categories, types).\n",
    "    - if ent_type == \"edges\": edges types.\n",
    "    \"\"\"\n",
    "    if ent_type == \"edges\":\n",
    "        \n",
    "        input_types = set()\n",
    "        type_counter = Counter()\n",
    "    \n",
    "        for i in input.values():\n",
    "            label = i[\"labels\"]\n",
    "            input_types.add(label)\n",
    "            type_counter[label] += 1 \n",
    "            \n",
    "        print(f\"Number of edge types: {len(input_types)}.\")\n",
    "\n",
    "        if verbose:\n",
    "                print()\n",
    "                print(f\"TOTAL NUMBER OF NODES: {len(input)}\")\n",
    "                print()\n",
    "                print(\"EDGE TYPES:\")\n",
    "                for t in sorted(type_counter):\n",
    "                    print(f\" - {t}: {type_counter[t]}.\")\n",
    "            \n",
    "        return type_counter\n",
    "    \n",
    "    elif ent_type == \"nodes\":\n",
    "        \n",
    "        input_labels = set()\n",
    "        input_cats = set()\n",
    "        input_types = set()\n",
    "        cat_counter = Counter()\n",
    "        type_counter = Counter()\n",
    "        \n",
    "        for i in input.values():\n",
    "            labels = i[\"labels\"]\n",
    "            cat, typ = labels\n",
    "            input_labels.add((cat, typ))\n",
    "            input_cats.add(cat)\n",
    "            input_types.add(typ)\n",
    "            cat_counter[cat] += 1\n",
    "            type_counter[typ] += 1\n",
    "        \n",
    "        print(f\"Number of node categories: {len(input_cats)}.\")\n",
    "        print(f\"Number of node types: {len(input_types)}.\")\n",
    "    \n",
    "        if verbose:\n",
    "            print()\n",
    "            print(f\"TOTAL NUMBER OF NODES: {len(input)}\")\n",
    "            print()\n",
    "            print(\"NODE CATEGORIES:\")\n",
    "            for c in sorted(cat_counter):\n",
    "                print(f\" - {c}: {cat_counter[c]}.\")\n",
    "            print()\n",
    "            print(\"NODE TYPES:\")\n",
    "            for t in sorted(type_counter):\n",
    "                print(f\" - {t}: {type_counter[t]}.\")\n",
    "        \n",
    "        return cat_counter, type_counter"
   ]
  },
  {
   "cell_type": "code",
   "execution_count": 20,
   "id": "6caae0c5-eb59-43dd-afba-733308a79701",
   "metadata": {},
   "outputs": [],
   "source": [
    "def search_attr(ents, verbose=False, entity=None):\n",
    "    \"\"\"\n",
    "    Analyse the node or edge attributes by category and collect the schema profiles.\n",
    "    \"\"\"\n",
    "\n",
    "    vals = ents.values()\n",
    "    \n",
    "    # CATEGORY: top level attributes per category\n",
    "    cat_attr = defaultdict(set)\n",
    "    cat_attr_counts = defaultdict(Counter)\n",
    "    cat_totals = Counter()\n",
    "    \n",
    "    for v in vals:\n",
    "        if entity == \"node\":\n",
    "            cat = v[\"labels\"][0]\n",
    "        else:\n",
    "            cat = v[\"labels\"]\n",
    "        cat_totals[cat] += 1\n",
    "        for a in v.keys():\n",
    "            if a == \"labels\":\n",
    "                continue\n",
    "            cat_attr[cat].add(a)\n",
    "            cat_attr_counts[cat][a] += 1\n",
    "\n",
    "    if entity == \"node\":\n",
    "    \n",
    "        # PSET: property names per PSET\n",
    "        pset_prop = defaultdict(set)\n",
    "        pset_prop_counts = defaultdict(Counter)\n",
    "        \n",
    "        for v in vals:\n",
    "            cat = v[\"labels\"][0]\n",
    "            if cat != \"PSET\":\n",
    "                continue\n",
    "            name = v.get(\"name\")\n",
    "            for k in (v.get(\"properties\", {}) or {}).keys():\n",
    "                pset_prop[name].add(k)\n",
    "                pset_prop_counts[name][k] += 1\n",
    "        \n",
    "        # QSET: quantity names per Qset\n",
    "        qset_prop = defaultdict(set)\n",
    "        qset_prop_counts = defaultdict(Counter)\n",
    "        \n",
    "        for v in vals:\n",
    "            cat = v[\"labels\"][0]\n",
    "            if cat != \"QSET\":\n",
    "                continue\n",
    "            name = v.get(\"name\")\n",
    "            for k in (v.get(\"properties\", {}) or {}).keys():\n",
    "                qset_prop[name].add(k)\n",
    "                qset_prop_counts[name][k] += 1\n",
    "\n",
    "    if not verbose:\n",
    "\n",
    "        print(f\"\\n==={entity.upper()} ATTRIBUTE ANALYSIS===\\n\")\n",
    "        print(\"Top-level attributes per category:\")\n",
    "        print(cat_attr)\n",
    "        print(cat_attr_counts)\n",
    "        print(cat_totals)\n",
    "        print()\n",
    "        \n",
    "        if entity == \"node\":\n",
    "            \n",
    "            print(\"Property names per Pset:\")\n",
    "            print(pset_prop)\n",
    "            print()\n",
    "            print(\"Quantities names per Qset:\")\n",
    "            print(qset_prop)\n",
    "            print(qset_prop_counts)\n",
    "\n",
    "    if verbose:\n",
    "\n",
    "        print(f\"\\n==={entity.upper()} ATTRIBUTE ANALYSIS===\\n\")\n",
    "        print(\"Top-level attributes per category:\")\n",
    "        for cat in sorted(cat_attr):\n",
    "            print(f\" - {cat} ({cat_totals[cat]} nodes): {sorted(cat_attr[cat])}\")\n",
    "            for a, c in cat_attr_counts[cat].most_common():\n",
    "                print(f\"    • {a}: {c}/{cat_totals[cat]}\")\n",
    "            print()\n",
    "\n",
    "        if entity == \"node\":\n",
    "    \n",
    "            print(\"\\n PSET property keys per set:\")\n",
    "            for pset in sorted(pset_prop):\n",
    "                print(f\" - {pset}: {sorted(pset_prop[pset])}\")\n",
    "                for k, c in pset_prop_counts[pset].most_common():\n",
    "                    print(f\"    • {k}: {c}\")\n",
    "                print()\n",
    "        \n",
    "            print(\"\\n QSET quantity keys per set:\")\n",
    "            for qset in sorted(qset_prop):\n",
    "                print(f\" - {qset}: {sorted(qset_prop[qset])}\")\n",
    "                for k, c in qset_prop_counts[qset].most_common():\n",
    "                    print(f\"    • {k}: {c}\")\n",
    "                print()\n",
    "\n",
    "    if entity == \"node\":\n",
    "    \n",
    "        return (\n",
    "            cat_attr, cat_attr_counts, cat_totals, \n",
    "            pset_prop, pset_prop_counts, \n",
    "            qset_prop, qset_prop_counts\n",
    "        )\n",
    "\n",
    "    if entity == \"edge\":\n",
    "\n",
    "        return (\n",
    "            cat_attr, cat_attr_counts, cat_totals\n",
    "        )"
   ]
  },
  {
   "cell_type": "markdown",
   "id": "49306d21-094b-4eb0-9ef2-e1fda90ac885",
   "metadata": {},
   "source": [
    "## 6.2. Nodes insertion / 6.3. Relationshsips/edges insertion:"
   ]
  },
  {
   "cell_type": "code",
   "execution_count": 21,
   "id": "ea418eb7-8da2-4bc9-9e96-9b032f5655d5",
   "metadata": {},
   "outputs": [],
   "source": [
    "def flatten_dict(dico, parent_key = \"\", sep=\"_\"):\n",
    "    \"\"\"Flatten a nested dictionary recursively.\"\"\"\n",
    "\n",
    "    flattened = dict()\n",
    "\n",
    "    for k, v in dico.items():\n",
    "        new_key = f\"{parent_key}{sep}{k}\" if parent_key else k\n",
    "        if isinstance(v, dict):\n",
    "            flattened.update(flatten_dict(v, new_key, sep=sep))\n",
    "        else:\n",
    "            flattened[new_key] = v\n",
    "\n",
    "    return flattened"
   ]
  },
  {
   "cell_type": "code",
   "execution_count": 22,
   "id": "eccb6cf3-bdfd-46bd-97c7-717b3eea9df4",
   "metadata": {},
   "outputs": [],
   "source": [
    "def driver_merge(ents, entity=None):\n",
    "    \"\"\"\n",
    "    Merge nodes or edges into Neo4J from prepared dictionaries.\n",
    "    \"\"\"\n",
    "\n",
    "    with driver.session(database=DATABASE) as session:\n",
    "\n",
    "        if entity == \"node\":\n",
    "\n",
    "            for node in nodes_ready.values():\n",
    "                labels = \":\"+\":\".join(node[\"labels\"])\n",
    "                attr = {k: v for k, v in node.items() if k not in (\"labels\", \"id\")}\n",
    "        \n",
    "                cypher_node = f\"\"\"\n",
    "                MERGE (n{labels}{{id: $id}})\n",
    "                SET n += $attr\n",
    "                \"\"\"\n",
    "        \n",
    "                session.run(cypher_node, {\"id\": node[\"id\"], \"attr\": attr}) \n",
    "\n",
    "        elif entity == \"edge\":\n",
    "\n",
    "            for edge in edges.values():\n",
    "                attr = {k: v for k, v in edge.items() if k not in (\"from\", \"to\", \"labels\", \"rel_id\")}\n",
    "        \n",
    "                cypher_edge = f\"\"\"\n",
    "                MATCH (a {{id: $from_id }}), (b {{id: $to_id}})\n",
    "                MERGE (a)-[r:{edge[\"labels\"]}{{rel_id: $rel_id}}]->(b)\n",
    "                SET r += $attr\n",
    "                \"\"\"\n",
    "        \n",
    "                session.run(cypher_edge, {\n",
    "                    \"from_id\": edge[\"from\"],\n",
    "                    \"to_id\": edge[\"to\"],\n",
    "                    \"rel_id\": edge[\"rel_id\"],\n",
    "                    \"attr\": attr\n",
    "                        })  "
   ]
  },
  {
   "cell_type": "markdown",
   "id": "25cc3f39-46cb-42c1-840b-cfe106004113",
   "metadata": {},
   "source": [
    "## 6.4. Graph integrity:"
   ]
  },
  {
   "cell_type": "code",
   "execution_count": null,
   "id": "414eba5e-c5ba-4c6c-bc24-4680e38cdc36",
   "metadata": {},
   "outputs": [],
   "source": []
  },
  {
   "cell_type": "code",
   "execution_count": null,
   "id": "70ca9d0e-f799-48b0-a76b-20b377a35714",
   "metadata": {},
   "outputs": [],
   "source": []
  },
  {
   "cell_type": "code",
   "execution_count": null,
   "id": "b6f2b634-febe-40ab-920b-a180bd03708c",
   "metadata": {},
   "outputs": [],
   "source": []
  },
  {
   "cell_type": "code",
   "execution_count": null,
   "id": "24a3b5a2-2b2e-402d-bd0c-8c3f27d4f679",
   "metadata": {},
   "outputs": [],
   "source": []
  },
  {
   "cell_type": "code",
   "execution_count": null,
   "id": "ee4a29af-f5f8-4ba1-b4b4-3f62608bc0c9",
   "metadata": {},
   "outputs": [],
   "source": []
  },
  {
   "cell_type": "markdown",
   "id": "fe3f578c-c5a0-402e-8888-46d2a19962e6",
   "metadata": {},
   "source": [
    "# 4. Data load:"
   ]
  },
  {
   "cell_type": "code",
   "execution_count": 23,
   "id": "50286e9a-dbf7-421e-8908-156e8d8a129e",
   "metadata": {},
   "outputs": [],
   "source": [
    "model = ifcopenshell.open(IFC_PATH)"
   ]
  },
  {
   "cell_type": "code",
   "execution_count": 24,
   "id": "d94ac786-274b-4a84-b40a-33ad43a4bc1a",
   "metadata": {},
   "outputs": [],
   "source": [
    "driver = GraphDatabase.driver(NEO4J_URI, auth=(NEO4J_USER, NEO4J_PASSWORD))"
   ]
  },
  {
   "cell_type": "markdown",
   "id": "6ce5faaa-864b-4285-9e08-26ebe6e12848",
   "metadata": {},
   "source": [
    "# 5. IFC Parsing:"
   ]
  },
  {
   "cell_type": "markdown",
   "id": "6f278f33-fdb3-41fe-a9bf-313108a54101",
   "metadata": {},
   "source": [
    "The parsing process begins with the IfcRelationships, from which a dictionary of Edges is created to support Neo4j graph construction. Each edge captures the \"from\" and \"to\" attributes that define the connected IFC entities. Based on these connections, all distinct entities can be identified and represented in a dictionary of Nodes. Inverse relationships are not included, as Neo4j inherently supports bidirectional traversal of edges; storing them explicitly would only duplicate information and increase memory usage. Proxy entities are removed in this model, as they are not significant building elements but instead geolocation artifacts.   \n",
    "\n",
    "To ensure consistency, node identifiers are normalized (e.g. through unique obj_id values), and key metadata such as IFC class labels and relevant properties are attached to nodes and edges. This guarantees that the resulting graph remains both semantically clear and efficient for querying.  "
   ]
  },
  {
   "cell_type": "markdown",
   "id": "66a957a1-61ad-453d-b0f6-641dbd4e16d6",
   "metadata": {},
   "source": [
    "## 5.1. IfcRelationships - Edges Preparation:"
   ]
  },
  {
   "cell_type": "markdown",
   "id": "15f50d7a-7c39-43be-b87d-241a53741efa",
   "metadata": {},
   "source": [
    "### 5.1.1. Functions Building Guidance:"
   ]
  },
  {
   "cell_type": "markdown",
   "id": "fa786b20-0dd3-4112-a216-d9ec7bb168ef",
   "metadata": {},
   "source": [
    "**edges_maker:**"
   ]
  },
  {
   "cell_type": "code",
   "execution_count": 25,
   "id": "80cd2090-4d6a-4b2c-adfa-7631ec57398c",
   "metadata": {},
   "outputs": [
    {
     "name": "stdout",
     "output_type": "stream",
     "text": [
      "Identified relationship classes:\n",
      "- IfcRelAggregates.\n",
      "- IfcRelDefinesByProperties.\n",
      "- IfcRelDefinesByType.\n",
      "- IfcRelContainedInSpatialStructure.\n",
      "- IfcRelAssociatesMaterial.\n",
      "- IfcRelAssociatesClassification.\n"
     ]
    },
    {
     "data": {
      "text/plain": [
       "{'IfcRelAggregates',\n",
       " 'IfcRelAssociatesClassification',\n",
       " 'IfcRelAssociatesMaterial',\n",
       " 'IfcRelContainedInSpatialStructure',\n",
       " 'IfcRelDefinesByProperties',\n",
       " 'IfcRelDefinesByType'}"
      ]
     },
     "execution_count": 25,
     "metadata": {},
     "output_type": "execute_result"
    }
   ],
   "source": [
    "identify_rel(model)"
   ]
  },
  {
   "cell_type": "markdown",
   "id": "605ffa18-653d-4eac-b3e8-bb620632d40e",
   "metadata": {},
   "source": [
    "### 5.1.2. Edges Dictionary:"
   ]
  },
  {
   "cell_type": "code",
   "execution_count": 26,
   "id": "786ae565-6fd8-4964-b279-5fdace1ea22b",
   "metadata": {},
   "outputs": [],
   "source": [
    "expected, actual, edges = edges_maker(model)"
   ]
  },
  {
   "cell_type": "markdown",
   "id": "7d283d2b-644f-455d-9a7b-1fcf7568e27f",
   "metadata": {},
   "source": [
    "## 5.2. IfcEntities - Nodes Preparation:"
   ]
  },
  {
   "cell_type": "markdown",
   "id": "17b70331-f847-4b72-9b5e-ee0c1d354e1a",
   "metadata": {},
   "source": [
    "### 5.2.1. Collect IfcEntities:"
   ]
  },
  {
   "cell_type": "code",
   "execution_count": 27,
   "id": "a4067ba6-111d-4b30-94dc-0905ef4a10d3",
   "metadata": {},
   "outputs": [],
   "source": [
    "relating_ents = get_entities_from_edges(model, edges, \"from\")"
   ]
  },
  {
   "cell_type": "code",
   "execution_count": 28,
   "id": "2d36a7b9-64a4-4145-8b6f-ff5e8e141e78",
   "metadata": {},
   "outputs": [],
   "source": [
    "related_ents = get_entities_from_edges(model, edges, \"to\")"
   ]
  },
  {
   "cell_type": "code",
   "execution_count": 29,
   "id": "fa90c2c7-baa7-4a8c-b392-6bf42a2b337b",
   "metadata": {},
   "outputs": [],
   "source": [
    "all_ents = merge_unique(relating_ents, related_ents)"
   ]
  },
  {
   "cell_type": "markdown",
   "id": "33926fbb-6d47-4abf-a237-9f45ce9de4cf",
   "metadata": {},
   "source": [
    "### 5.2.2. Proxies:"
   ]
  },
  {
   "cell_type": "markdown",
   "id": "8839033f-945a-40b3-baf3-0733f67d1193",
   "metadata": {},
   "source": [
    "# ALSO DROP RELATIONSHIPS IMPACTED BY PROXIES = **ERROR CAUSE**"
   ]
  },
  {
   "cell_type": "code",
   "execution_count": 30,
   "id": "c123d334-a2c7-4ed8-a12a-347fc11db27a",
   "metadata": {},
   "outputs": [],
   "source": [
    "# all_ents = [o for o in all_ents if \"Proxy\" not in o.is_a()]"
   ]
  },
  {
   "cell_type": "markdown",
   "id": "a3de85f1-6002-4d62-9ab4-d4692d745bf6",
   "metadata": {},
   "source": [
    "### 5.2.3. Functions Building Guidance:"
   ]
  },
  {
   "cell_type": "markdown",
   "id": "a8704e3a-b31d-496d-b861-d64d46f0adc1",
   "metadata": {},
   "source": [
    "**node_set:**"
   ]
  },
  {
   "cell_type": "code",
   "execution_count": 31,
   "id": "ed47825a-16e3-43c1-84a7-826aae2557b0",
   "metadata": {},
   "outputs": [
    {
     "data": {
      "text/plain": [
       "{'IfcBuilding',\n",
       " 'IfcBuildingStorey',\n",
       " 'IfcClassificationReference',\n",
       " 'IfcElement',\n",
       " 'IfcElementQuantity',\n",
       " 'IfcMaterial',\n",
       " 'IfcProject',\n",
       " 'IfcPropertySet',\n",
       " 'IfcSite',\n",
       " 'IfcTypeObject'}"
      ]
     },
     "execution_count": 31,
     "metadata": {},
     "output_type": "execute_result"
    }
   ],
   "source": [
    "entities_classes_identify(all_ents)"
   ]
  },
  {
   "cell_type": "markdown",
   "id": "64005188-bda1-4b50-8581-24496ed8b415",
   "metadata": {},
   "source": [
    "**pset_props_collect & qset_props_collect:**"
   ]
  },
  {
   "cell_type": "code",
   "execution_count": 32,
   "id": "d404503a-a17e-4c8f-9c9a-48453b497c68",
   "metadata": {},
   "outputs": [
    {
     "data": {
      "text/plain": [
       "{'IfcPropertySet': {'ConstructionMethod': {'property_type': 'IfcPropertySingleValue'},\n",
       "  'Status': {'property_type': 'IfcPropertyEnumeratedValue'},\n",
       "  'IsExternal': {'property_type': 'IfcPropertySingleValue'},\n",
       "  'LoadBearing': {'property_type': 'IfcPropertySingleValue'}},\n",
       " 'IfcElementQuantity': {'NetVolume': {'property_type': 'IfcQuantityVolume'},\n",
       "  'Width': {'property_type': 'IfcQuantityLength'},\n",
       "  'Length': {'property_type': 'IfcQuantityLength'},\n",
       "  'NetSideArea': {'property_type': 'IfcQuantityArea'},\n",
       "  'CrossSectionArea': {'property_type': 'IfcQuantityArea'}}}"
      ]
     },
     "execution_count": 32,
     "metadata": {},
     "output_type": "execute_result"
    }
   ],
   "source": [
    "props = props_identify(all_ents)\n",
    "props"
   ]
  },
  {
   "cell_type": "markdown",
   "id": "d93b81bf-4f42-49c4-8d45-1e2523c9fdec",
   "metadata": {},
   "source": [
    "### 5.2.4. Nodes Dictionary:"
   ]
  },
  {
   "cell_type": "code",
   "execution_count": 33,
   "id": "ea193e91-1539-435f-8873-70a3cba0da7a",
   "metadata": {},
   "outputs": [],
   "source": [
    "nodes = nodes_maker(all_ents)"
   ]
  },
  {
   "cell_type": "markdown",
   "id": "17e5b461-1b45-4b48-88b1-433bf9a24d9d",
   "metadata": {},
   "source": [
    "## 5.3. Sanity Checks:"
   ]
  },
  {
   "cell_type": "code",
   "execution_count": 34,
   "id": "12cd67ff-dd30-4ba8-b2a4-08c58677f6c5",
   "metadata": {},
   "outputs": [
    {
     "name": "stdout",
     "output_type": "stream",
     "text": [
      "Total number of elements: 15\n",
      "IfcBeam: 6.\n",
      "IfcChimney: 1.\n",
      "IfcFooting: 1.\n",
      "IfcRoof: 1.\n",
      "IfcWall: 4.\n",
      "IfcDiscreteAccessory: 2.\n"
     ]
    }
   ],
   "source": [
    "elements_distribution = elements_inspection(model)\n",
    "# elements_distribution"
   ]
  },
  {
   "cell_type": "code",
   "execution_count": 35,
   "id": "e95a140a-ba1a-4363-8585-491039d503f6",
   "metadata": {},
   "outputs": [
    {
     "name": "stdout",
     "output_type": "stream",
     "text": [
      "ERROR: Presence of Proxy entities: [370, 389, 372, 391, 162]\n",
      "Edge count check passed: expected and actual are consistent (79).\n",
      "Relating entities count check passed: 79 = number of edges (79).\n",
      "Related entities count check passed: 79 = number of edges (79).\n",
      "Unique node union check passed: |union|=64, |relating|=47, |related|=22\n",
      "The overall sanity check has been succesfully passed: False.\n"
     ]
    }
   ],
   "source": [
    "sanity(expected, actual, relating_ents, related_ents)"
   ]
  },
  {
   "cell_type": "markdown",
   "id": "17c12f93-b616-402a-a0db-5a4ecf34a2a0",
   "metadata": {},
   "source": [
    "# 6. Neo4J graph:"
   ]
  },
  {
   "cell_type": "markdown",
   "id": "14561b03-9537-4eae-bc00-bbc03a891d3d",
   "metadata": {},
   "source": [
    "## 6.1. Graph schema definition:"
   ]
  },
  {
   "cell_type": "markdown",
   "id": "5b8c3310-3a32-4c4f-93d9-109256efc09a",
   "metadata": {},
   "source": [
    "By collecting node labels, categories, types, edge types, and the attributes and properties of both nodes and edges during IFC parsing, a baseline schema profile of the model is established. Once the data is imported into Neo4j, the same metrics can be recomputed with Cypher and compared against this baseline. This provides a sanity check to confirm that the Neo4j graph faithfully reflects the IFC structure, preserves attributes and relationships, and has not lost or altered information during transformation. In this way, the metrics act as a fingerprint of the IFC dataset, supporting the integrity and consistency of the final graph.  "
   ]
  },
  {
   "cell_type": "markdown",
   "id": "8ac77259-592b-45d5-a6f2-f3bcf04be529",
   "metadata": {},
   "source": [
    "### 6.1.1. Nodes labels, categories and types:"
   ]
  },
  {
   "cell_type": "code",
   "execution_count": 36,
   "id": "fbc753b4-f022-4cb3-ab95-30b3d6aae7cb",
   "metadata": {},
   "outputs": [
    {
     "name": "stdout",
     "output_type": "stream",
     "text": [
      "Number of node categories: 8.\n",
      "Number of node types: 22.\n",
      "\n",
      "TOTAL NUMBER OF NODES: 64\n",
      "\n",
      "NODE CATEGORIES:\n",
      " - CLASSIFICATION_REF: 1.\n",
      " - ELEMENT: 18.\n",
      " - MATERIAL: 7.\n",
      " - PROJECT: 1.\n",
      " - PSET: 12.\n",
      " - QSET: 10.\n",
      " - SPATIAL: 4.\n",
      " - TYPE: 11.\n",
      "\n",
      "NODE TYPES:\n",
      " - IfcBeam: 6.\n",
      " - IfcBeamType: 1.\n",
      " - IfcBuilding: 1.\n",
      " - IfcBuildingElementProxy: 3.\n",
      " - IfcBuildingElementProxyType: 2.\n",
      " - IfcBuildingStorey: 1.\n",
      " - IfcChimney: 1.\n",
      " - IfcChimneyType: 1.\n",
      " - IfcClassificationReference: 1.\n",
      " - IfcDiscreteAccessory: 2.\n",
      " - IfcDiscreteAccessoryType: 1.\n",
      " - IfcElementQuantity: 10.\n",
      " - IfcFooting: 1.\n",
      " - IfcFootingType: 1.\n",
      " - IfcMaterial: 7.\n",
      " - IfcProject: 1.\n",
      " - IfcPropertySet: 12.\n",
      " - IfcRoof: 1.\n",
      " - IfcRoofType: 1.\n",
      " - IfcSite: 2.\n",
      " - IfcWall: 4.\n",
      " - IfcWallType: 4.\n"
     ]
    }
   ],
   "source": [
    "n_cat_counter, n_type_counter = ent_labels(\"nodes\", nodes, True)"
   ]
  },
  {
   "cell_type": "markdown",
   "id": "0991cd6a-5b95-4b5c-959f-926775b9b760",
   "metadata": {},
   "source": [
    "### 6.1.2. Relationships/edges types:"
   ]
  },
  {
   "cell_type": "code",
   "execution_count": 37,
   "id": "7ca54d8b-e820-4589-9804-7b78e35195ad",
   "metadata": {},
   "outputs": [
    {
     "name": "stdout",
     "output_type": "stream",
     "text": [
      "Number of edge types: 7.\n",
      "\n",
      "TOTAL NUMBER OF NODES: 79\n",
      "\n",
      "EDGE TYPES:\n",
      " - AGGREGATES: 12.\n",
      " - ASSOCIATED_CLASSIFICATION: 1.\n",
      " - ASSOCIATED_MATERIAL: 17.\n",
      " - CONTAINED_IN: 10.\n",
      " - DEFINED_BY_PROPERTIES: 12.\n",
      " - DEFINED_BY_QUANTITIES: 10.\n",
      " - DEFINED_BY_TYPE: 17.\n"
     ]
    }
   ],
   "source": [
    "e_type_counter = ent_labels(\"edges\", edges, True)"
   ]
  },
  {
   "cell_type": "markdown",
   "id": "490a62c0-0937-4260-9ac4-d46d2259bbc8",
   "metadata": {},
   "source": [
    "### 6.1.3. Nodes & edges attributes:"
   ]
  },
  {
   "cell_type": "markdown",
   "id": "d54ed334-0c2e-42cb-860e-dc5fa8bfa466",
   "metadata": {},
   "source": [
    "**NODES ATTRIBUTES & PROPERTIES:**"
   ]
  },
  {
   "cell_type": "code",
   "execution_count": 38,
   "id": "72b8eabd-adb1-489d-8c4c-b53a77affdcb",
   "metadata": {},
   "outputs": [
    {
     "name": "stdout",
     "output_type": "stream",
     "text": [
      "\n",
      "===NODE ATTRIBUTE ANALYSIS===\n",
      "\n",
      "Top-level attributes per category:\n",
      " - CLASSIFICATION_REF (1 nodes): ['code', 'id', 'name', 'scheme_id', 'uri']\n",
      "    • id: 1/1\n",
      "    • name: 1/1\n",
      "    • code: 1/1\n",
      "    • uri: 1/1\n",
      "    • scheme_id: 1/1\n",
      "\n",
      " - ELEMENT (18 nodes): ['id', 'name', 'predefined_type']\n",
      "    • id: 18/18\n",
      "    • name: 18/18\n",
      "    • predefined_type: 18/18\n",
      "\n",
      " - MATERIAL (7 nodes): ['id', 'name']\n",
      "    • id: 7/7\n",
      "    • name: 7/7\n",
      "\n",
      " - PROJECT (1 nodes): ['id', 'name']\n",
      "    • id: 1/1\n",
      "    • name: 1/1\n",
      "\n",
      " - PSET (12 nodes): ['id', 'name', 'properties']\n",
      "    • id: 12/12\n",
      "    • name: 12/12\n",
      "    • properties: 12/12\n",
      "\n",
      " - QSET (10 nodes): ['id', 'name', 'properties']\n",
      "    • id: 10/10\n",
      "    • name: 10/10\n",
      "    • properties: 10/10\n",
      "\n",
      " - SPATIAL (4 nodes): ['id', 'name']\n",
      "    • id: 4/4\n",
      "    • name: 4/4\n",
      "\n",
      " - TYPE (11 nodes): ['id', 'name']\n",
      "    • id: 11/11\n",
      "    • name: 11/11\n",
      "\n",
      "\n",
      " PSET property keys per set:\n",
      " - Pset_BeamCommon: ['IsExternal', 'LoadBearing', 'Status']\n",
      "    • Status: 6\n",
      "    • IsExternal: 6\n",
      "    • LoadBearing: 6\n",
      "\n",
      " - Pset_BuildingCommon: ['ConstructionMethod']\n",
      "    • ConstructionMethod: 1\n",
      "\n",
      " - Pset_RoofCommon: ['IsExternal', 'Status']\n",
      "    • Status: 1\n",
      "    • IsExternal: 1\n",
      "\n",
      " - Pset_WallCommon: ['IsExternal', 'LoadBearing', 'Status']\n",
      "    • Status: 4\n",
      "    • IsExternal: 4\n",
      "    • LoadBearing: 3\n",
      "\n",
      "\n",
      " QSET quantity keys per set:\n",
      " - Qto_BeamBaseQuantities: ['CrossSectionArea', 'Length', 'NetVolume']\n",
      "    • NetVolume: 6\n",
      "    • Length: 6\n",
      "    • CrossSectionArea: 6\n",
      "\n",
      " - Qto_WallBaseQuantities: ['Length', 'NetSideArea', 'NetVolume', 'Width']\n",
      "    • NetVolume: 4\n",
      "    • Width: 4\n",
      "    • Length: 4\n",
      "    • NetSideArea: 4\n",
      "\n"
     ]
    }
   ],
   "source": [
    "n_cat_attr, n_cat_attr_counts, n_cat_totals, n_pset_prop, n_pset_prop_counts, n_qset_prop, n_qset_prop_counts = search_attr(nodes, True, \"node\")"
   ]
  },
  {
   "cell_type": "markdown",
   "id": "d43aa26e-60b9-4fd2-b4a6-9cc7e475a2b9",
   "metadata": {},
   "source": [
    "**EDGES ATTRIBUTES:**"
   ]
  },
  {
   "cell_type": "code",
   "execution_count": 39,
   "id": "e5710992-0cae-4ad9-8208-1368c8941b5b",
   "metadata": {},
   "outputs": [
    {
     "name": "stdout",
     "output_type": "stream",
     "text": [
      "\n",
      "===EDGE ATTRIBUTE ANALYSIS===\n",
      "\n",
      "Top-level attributes per category:\n",
      " - AGGREGATES (12 nodes): ['from', 'id', 'rel_class', 'rel_id', 'to']\n",
      "    • id: 12/12\n",
      "    • rel_class: 12/12\n",
      "    • rel_id: 12/12\n",
      "    • from: 12/12\n",
      "    • to: 12/12\n",
      "\n",
      " - ASSOCIATED_CLASSIFICATION (1 nodes): ['from', 'id', 'rel_class', 'rel_id', 'to']\n",
      "    • id: 1/1\n",
      "    • rel_class: 1/1\n",
      "    • rel_id: 1/1\n",
      "    • from: 1/1\n",
      "    • to: 1/1\n",
      "\n",
      " - ASSOCIATED_MATERIAL (17 nodes): ['from', 'id', 'rel_class', 'rel_id', 'to']\n",
      "    • id: 17/17\n",
      "    • rel_class: 17/17\n",
      "    • rel_id: 17/17\n",
      "    • from: 17/17\n",
      "    • to: 17/17\n",
      "\n",
      " - CONTAINED_IN (10 nodes): ['from', 'id', 'rel_class', 'rel_id', 'to']\n",
      "    • id: 10/10\n",
      "    • rel_class: 10/10\n",
      "    • rel_id: 10/10\n",
      "    • from: 10/10\n",
      "    • to: 10/10\n",
      "\n",
      " - DEFINED_BY_PROPERTIES (12 nodes): ['from', 'id', 'rel_class', 'rel_id', 'to']\n",
      "    • id: 12/12\n",
      "    • rel_class: 12/12\n",
      "    • rel_id: 12/12\n",
      "    • from: 12/12\n",
      "    • to: 12/12\n",
      "\n",
      " - DEFINED_BY_QUANTITIES (10 nodes): ['from', 'id', 'rel_class', 'rel_id', 'to']\n",
      "    • id: 10/10\n",
      "    • rel_class: 10/10\n",
      "    • rel_id: 10/10\n",
      "    • from: 10/10\n",
      "    • to: 10/10\n",
      "\n",
      " - DEFINED_BY_TYPE (17 nodes): ['from', 'id', 'rel_class', 'rel_id', 'to']\n",
      "    • id: 17/17\n",
      "    • rel_class: 17/17\n",
      "    • rel_id: 17/17\n",
      "    • from: 17/17\n",
      "    • to: 17/17\n",
      "\n"
     ]
    }
   ],
   "source": [
    "e_cat_attr, e_cat_attr_counts, e_cat_totals = search_attr(edges, True, \"edge\")"
   ]
  },
  {
   "cell_type": "markdown",
   "id": "1810e53a-94aa-46b4-bb36-11d21954bcdc",
   "metadata": {},
   "source": [
    "## 6.2. Nodes insertion:"
   ]
  },
  {
   "cell_type": "markdown",
   "id": "57f7fca4-bfc9-489a-9922-f6c950bc097f",
   "metadata": {},
   "source": [
    "To set up the Neo4j graph, both the **\"nodes\"** dictionary and the **\"edges\"** dictionary generated during the IFC parsing stage will serve as the input. These dictionaries represent the essential building blocks of the graph:  \n",
    "- the **\"nodes\"** (with their labels, categories, types, attributes and properties/quantities)  \n",
    "- the **\"edges\"** (with their relationship categories and endpoints)\n",
    "\n",
    "They will be passed into Neo4j through the **Neo4j Python driver**, which manages the connection and Cypher queries used to create the graph."
   ]
  },
  {
   "cell_type": "markdown",
   "id": "009f4755-4032-4636-b738-30548dbcd4a2",
   "metadata": {},
   "source": [
    "### 6.2.1. Dictionary preparation:"
   ]
  },
  {
   "cell_type": "code",
   "execution_count": 40,
   "id": "741c7cd9-e52b-42a9-be9a-13f89b109346",
   "metadata": {},
   "outputs": [],
   "source": [
    "nodes_ready = dict()\n",
    "\n",
    "for node in nodes.values():\n",
    "    # preserve \"labels\"\n",
    "    base = {k: v for k, v in node.items() if k != \"labels\"}\n",
    "    flat = flatten_dict(base)\n",
    "    flat[\"labels\"] = node[\"labels\"]\n",
    "    nodes_ready[node[\"id\"]] = flat"
   ]
  },
  {
   "cell_type": "markdown",
   "id": "c9c2cce3-62f5-42a8-b2ae-edab5fbbd206",
   "metadata": {},
   "source": [
    "### 6.2.2. Driver run:"
   ]
  },
  {
   "cell_type": "code",
   "execution_count": 41,
   "id": "1eea165b-527d-428f-8762-535840adb193",
   "metadata": {},
   "outputs": [],
   "source": [
    "driver_merge(nodes_ready, \"node\")"
   ]
  },
  {
   "cell_type": "markdown",
   "id": "7050ba0d-3ddf-40af-9204-61083b477f17",
   "metadata": {},
   "source": [
    "## 6.3. Relationships/edges insertion:"
   ]
  },
  {
   "cell_type": "markdown",
   "id": "f79e9445-3fa6-4d68-8171-5c2a3f82c8ee",
   "metadata": {},
   "source": [
    "### 6.3.1. Driver run:"
   ]
  },
  {
   "cell_type": "code",
   "execution_count": 42,
   "id": "f164f6d3-2069-4921-9d1f-5ae0fb9bf3b2",
   "metadata": {},
   "outputs": [],
   "source": [
    "driver_merge(edges, \"edge\")"
   ]
  },
  {
   "cell_type": "markdown",
   "id": "55424773-ec19-409d-9403-b02d4b5e1c82",
   "metadata": {},
   "source": [
    "## 6.4. Graph integrity:"
   ]
  },
  {
   "cell_type": "markdown",
   "id": "31c3de1f-4656-40f0-8e01-411c88ca84c2",
   "metadata": {},
   "source": [
    "### 6.4.1. Nodes labels, categories and types:"
   ]
  },
  {
   "cell_type": "code",
   "execution_count": 43,
   "id": "91dd8ad2-b7b5-44d5-a4dc-1f2a79d439db",
   "metadata": {},
   "outputs": [],
   "source": [
    "# cat_passed, cat_actual = check_nodes_labels(n_cat_counter, \"categories\")"
   ]
  },
  {
   "cell_type": "code",
   "execution_count": 44,
   "id": "5f69160e-a87f-48a2-a823-5b968f4aa7ee",
   "metadata": {},
   "outputs": [],
   "source": [
    "# typ_passed, typ_actual = check_nodes_labels(n_type_counter, \"types\")"
   ]
  },
  {
   "cell_type": "markdown",
   "id": "f71355c4-bdf8-476a-90db-f35ab3ebc708",
   "metadata": {},
   "source": [
    "### 6.4.2. Edges labels:"
   ]
  },
  {
   "cell_type": "code",
   "execution_count": 45,
   "id": "78294e13-41f4-4aeb-b723-5109a696a69a",
   "metadata": {},
   "outputs": [],
   "source": [
    "def check_labels(expected, entities=None, label_kind=None):\n",
    "    \"\"\"\n",
    "    Compare the expected vs the actual counts in Neo4J:\n",
    "        - Node categories/types (if entities == \"nodes\")\n",
    "        - Edge types (if entities == \"edges\")\n",
    "    \"\"\"\n",
    "\n",
    "    exp_k = list(expected.keys())\n",
    "\n",
    "    if entities == \"nodes\":\n",
    "        cypher = \"\"\"\n",
    "        UNWIND $exp_k AS k\n",
    "        MATCH (n)\n",
    "        WHERE k IN labels(n)\n",
    "        RETURN k AS item, count(*) AS c\n",
    "        \"\"\"\n",
    "        \n",
    "    elif entities == \"edges\":\n",
    "        cypher = \"\"\"\n",
    "        UNWIND $exp_k AS k\n",
    "        MATCH ()-[r]->()\n",
    "        WHERE type(r) = k\n",
    "        RETURN k AS item, count(*) As c\n",
    "        \"\"\"\n",
    "        \n",
    "    else:\n",
    "        raise ValueError(\"entities must be 'nodes' or 'edges'.\")\n",
    "    \n",
    "    with driver.session(database=DATABASE) as session:\n",
    "        results = session.run(cypher, {\"exp_k\": exp_k}).data()\n",
    "\n",
    "    actual = { r[\"item\"]: r[\"c\"] for r in results}\n",
    "    \n",
    "    # check:\n",
    "    all_keys = sorted(set(expected) | set(actual))\n",
    "    passed = True\n",
    "    \n",
    "    for a in all_keys:\n",
    "        exp = expected.get(a, 0)\n",
    "        act = actual.get(a, 0)\n",
    "        if exp != act:\n",
    "            print(f\"{a}, expected = {exp}, actual = {act}, difference = {abs(exp - act)}.\")\n",
    "            passed = False\n",
    "            \n",
    "    print(f\"The {entities} {label_kind} match: {passed}.\")\n",
    "\n",
    "    return passed, actual"
   ]
  },
  {
   "cell_type": "code",
   "execution_count": 46,
   "id": "fe5be2b5-5292-4210-92aa-79592540575e",
   "metadata": {},
   "outputs": [
    {
     "name": "stdout",
     "output_type": "stream",
     "text": [
      "The nodes categories match: True.\n"
     ]
    },
    {
     "data": {
      "text/plain": [
       "(True,\n",
       " {'PSET': 12,\n",
       "  'QSET': 10,\n",
       "  'TYPE': 11,\n",
       "  'MATERIAL': 7,\n",
       "  'SPATIAL': 4,\n",
       "  'PROJECT': 1,\n",
       "  'ELEMENT': 18,\n",
       "  'CLASSIFICATION_REF': 1})"
      ]
     },
     "execution_count": 46,
     "metadata": {},
     "output_type": "execute_result"
    }
   ],
   "source": [
    "check_labels(n_cat_counter, \"nodes\", \"categories\")"
   ]
  },
  {
   "cell_type": "code",
   "execution_count": 47,
   "id": "767f6b78-0220-4102-84cb-4c19fbd0d7d4",
   "metadata": {},
   "outputs": [
    {
     "name": "stdout",
     "output_type": "stream",
     "text": [
      "The nodes types match: True.\n"
     ]
    },
    {
     "data": {
      "text/plain": [
       "(True,\n",
       " {'IfcPropertySet': 12,\n",
       "  'IfcElementQuantity': 10,\n",
       "  'IfcFootingType': 1,\n",
       "  'IfcWallType': 4,\n",
       "  'IfcChimneyType': 1,\n",
       "  'IfcRoofType': 1,\n",
       "  'IfcBeamType': 1,\n",
       "  'IfcDiscreteAccessoryType': 1,\n",
       "  'IfcBuildingElementProxyType': 2,\n",
       "  'IfcMaterial': 7,\n",
       "  'IfcBuildingStorey': 1,\n",
       "  'IfcBuilding': 1,\n",
       "  'IfcSite': 2,\n",
       "  'IfcProject': 1,\n",
       "  'IfcRoof': 1,\n",
       "  'IfcClassificationReference': 1,\n",
       "  'IfcWall': 4,\n",
       "  'IfcBeam': 6,\n",
       "  'IfcFooting': 1,\n",
       "  'IfcChimney': 1,\n",
       "  'IfcDiscreteAccessory': 2,\n",
       "  'IfcBuildingElementProxy': 3})"
      ]
     },
     "execution_count": 47,
     "metadata": {},
     "output_type": "execute_result"
    }
   ],
   "source": [
    "check_labels(n_type_counter, \"nodes\", \"types\")"
   ]
  },
  {
   "cell_type": "code",
   "execution_count": 48,
   "id": "6ce569a9-1fc8-43bf-95f6-8e4872be7ac0",
   "metadata": {},
   "outputs": [
    {
     "name": "stdout",
     "output_type": "stream",
     "text": [
      "The edges types match: True.\n"
     ]
    },
    {
     "data": {
      "text/plain": [
       "(True,\n",
       " {'DEFINED_BY_PROPERTIES': 12,\n",
       "  'DEFINED_BY_QUANTITIES': 10,\n",
       "  'DEFINED_BY_TYPE': 17,\n",
       "  'ASSOCIATED_MATERIAL': 17,\n",
       "  'CONTAINED_IN': 10,\n",
       "  'AGGREGATES': 12,\n",
       "  'ASSOCIATED_CLASSIFICATION': 1})"
      ]
     },
     "execution_count": 48,
     "metadata": {},
     "output_type": "execute_result"
    }
   ],
   "source": [
    "check_labels(e_type_counter, \"edges\", \"types\")"
   ]
  },
  {
   "cell_type": "code",
   "execution_count": 49,
   "id": "7e9d0c2e-b215-414b-b366-904cd36aeed1",
   "metadata": {},
   "outputs": [
    {
     "data": {
      "text/plain": [
       "{'141p4IPfrBnRJ5dWbakDZK:18DB$FpSH4QhNntrrSRVGz->0c$N1CTon2BB2Sp89385G8': {'id': '141p4IPfrBnRJ5dWbakDZK:18DB$FpSH4QhNntrrSRVGz->0c$N1CTon2BB2Sp89385G8',\n",
       "  'labels': 'DEFINED_BY_PROPERTIES',\n",
       "  'rel_class': 'IfcRelDefinesByProperties',\n",
       "  'rel_id': '141p4IPfrBnRJ5dWbakDZK',\n",
       "  'from': '18DB$FpSH4QhNntrrSRVGz',\n",
       "  'to': '0c$N1CTon2BB2Sp89385G8'},\n",
       " '37JtmMF1HE8uDDbwzFG43E:0hVJYXG1r7ywQAq8Vpug40->0DyViLJJ175RvWQi1rE7a6': {'id': '37JtmMF1HE8uDDbwzFG43E:0hVJYXG1r7ywQAq8Vpug40->0DyViLJJ175RvWQi1rE7a6',\n",
       "  'labels': 'DEFINED_BY_PROPERTIES',\n",
       "  'rel_class': 'IfcRelDefinesByProperties',\n",
       "  'rel_id': '37JtmMF1HE8uDDbwzFG43E',\n",
       "  'from': '0hVJYXG1r7ywQAq8Vpug40',\n",
       "  'to': '0DyViLJJ175RvWQi1rE7a6'},\n",
       " '1SWTv4zQ95LhMduNc2qS5N:0VVWsZ$_bFHgmAwNtcydte->0DyViLJJ175RvWQi1rE7a6': {'id': '1SWTv4zQ95LhMduNc2qS5N:0VVWsZ$_bFHgmAwNtcydte->0DyViLJJ175RvWQi1rE7a6',\n",
       "  'labels': 'DEFINED_BY_QUANTITIES',\n",
       "  'rel_class': 'IfcRelDefinesByProperties',\n",
       "  'rel_id': '1SWTv4zQ95LhMduNc2qS5N',\n",
       "  'from': '0VVWsZ$_bFHgmAwNtcydte',\n",
       "  'to': '0DyViLJJ175RvWQi1rE7a6'},\n",
       " '19ODOikkP12ekL3tHCBrti:0ek$CCUjnFefFg04xFxxG_->3SGBcf7Lv0r80vKtUCgOpf': {'id': '19ODOikkP12ekL3tHCBrti:0ek$CCUjnFefFg04xFxxG_->3SGBcf7Lv0r80vKtUCgOpf',\n",
       "  'labels': 'DEFINED_BY_PROPERTIES',\n",
       "  'rel_class': 'IfcRelDefinesByProperties',\n",
       "  'rel_id': '19ODOikkP12ekL3tHCBrti',\n",
       "  'from': '0ek$CCUjnFefFg04xFxxG_',\n",
       "  'to': '3SGBcf7Lv0r80vKtUCgOpf'},\n",
       " '3i60ni0ojBxOwszT3oi472:22KfX2yaj4UBecOFxQr$3y->3SGBcf7Lv0r80vKtUCgOpf': {'id': '3i60ni0ojBxOwszT3oi472:22KfX2yaj4UBecOFxQr$3y->3SGBcf7Lv0r80vKtUCgOpf',\n",
       "  'labels': 'DEFINED_BY_QUANTITIES',\n",
       "  'rel_class': 'IfcRelDefinesByProperties',\n",
       "  'rel_id': '3i60ni0ojBxOwszT3oi472',\n",
       "  'from': '22KfX2yaj4UBecOFxQr$3y',\n",
       "  'to': '3SGBcf7Lv0r80vKtUCgOpf'},\n",
       " '0yeZtWBK50_x61UkYOEKtO:2DaAsqJGPDexb$sFANyw0e->3oNJ9yHi5FJuFnK8yg68Yt': {'id': '0yeZtWBK50_x61UkYOEKtO:2DaAsqJGPDexb$sFANyw0e->3oNJ9yHi5FJuFnK8yg68Yt',\n",
       "  'labels': 'DEFINED_BY_PROPERTIES',\n",
       "  'rel_class': 'IfcRelDefinesByProperties',\n",
       "  'rel_id': '0yeZtWBK50_x61UkYOEKtO',\n",
       "  'from': '2DaAsqJGPDexb$sFANyw0e',\n",
       "  'to': '3oNJ9yHi5FJuFnK8yg68Yt'},\n",
       " '1BA0VHArv909Ms582hMplk:16mzz5kV15mAyMAccFRkj4->3oNJ9yHi5FJuFnK8yg68Yt': {'id': '1BA0VHArv909Ms582hMplk:16mzz5kV15mAyMAccFRkj4->3oNJ9yHi5FJuFnK8yg68Yt',\n",
       "  'labels': 'DEFINED_BY_QUANTITIES',\n",
       "  'rel_class': 'IfcRelDefinesByProperties',\n",
       "  'rel_id': '1BA0VHArv909Ms582hMplk',\n",
       "  'from': '16mzz5kV15mAyMAccFRkj4',\n",
       "  'to': '3oNJ9yHi5FJuFnK8yg68Yt'},\n",
       " '3pBPuLNjn30eidIcFKyIfx:3UegLqoYrB5QLJ1Fl0C0gk->2gTJhghMT81QThk15l2VwR': {'id': '3pBPuLNjn30eidIcFKyIfx:3UegLqoYrB5QLJ1Fl0C0gk->2gTJhghMT81QThk15l2VwR',\n",
       "  'labels': 'DEFINED_BY_PROPERTIES',\n",
       "  'rel_class': 'IfcRelDefinesByProperties',\n",
       "  'rel_id': '3pBPuLNjn30eidIcFKyIfx',\n",
       "  'from': '3UegLqoYrB5QLJ1Fl0C0gk',\n",
       "  'to': '2gTJhghMT81QThk15l2VwR'},\n",
       " '3vxMmWz_j0mgJTa6nPhy_B:3BkYHDW2b4LxsPRJLXlKa9->2gTJhghMT81QThk15l2VwR': {'id': '3vxMmWz_j0mgJTa6nPhy_B:3BkYHDW2b4LxsPRJLXlKa9->2gTJhghMT81QThk15l2VwR',\n",
       "  'labels': 'DEFINED_BY_QUANTITIES',\n",
       "  'rel_class': 'IfcRelDefinesByProperties',\n",
       "  'rel_id': '3vxMmWz_j0mgJTa6nPhy_B',\n",
       "  'from': '3BkYHDW2b4LxsPRJLXlKa9',\n",
       "  'to': '2gTJhghMT81QThk15l2VwR'},\n",
       " '0PA6R2Jzr52AHk58oxcy4K:3IC75ptmHAcfynDO0H7l6Q->2iPwJwpPDCSgMheXwk9cBT': {'id': '0PA6R2Jzr52AHk58oxcy4K:3IC75ptmHAcfynDO0H7l6Q->2iPwJwpPDCSgMheXwk9cBT',\n",
       "  'labels': 'DEFINED_BY_PROPERTIES',\n",
       "  'rel_class': 'IfcRelDefinesByProperties',\n",
       "  'rel_id': '0PA6R2Jzr52AHk58oxcy4K',\n",
       "  'from': '3IC75ptmHAcfynDO0H7l6Q',\n",
       "  'to': '2iPwJwpPDCSgMheXwk9cBT'},\n",
       " '1ZAknfDjDF1eszlAeNdiun:2ups0JG6n1VvC4pdB0zluW->0fqX614OH1YO1Njdxms2$Q': {'id': '1ZAknfDjDF1eszlAeNdiun:2ups0JG6n1VvC4pdB0zluW->0fqX614OH1YO1Njdxms2$Q',\n",
       "  'labels': 'DEFINED_BY_PROPERTIES',\n",
       "  'rel_class': 'IfcRelDefinesByProperties',\n",
       "  'rel_id': '1ZAknfDjDF1eszlAeNdiun',\n",
       "  'from': '2ups0JG6n1VvC4pdB0zluW',\n",
       "  'to': '0fqX614OH1YO1Njdxms2$Q'},\n",
       " '18SCBIM$j6SxZvzgf0z8dm:2HMsp_L9P6I8CwQ6HNOQ_0->0fqX614OH1YO1Njdxms2$Q': {'id': '18SCBIM$j6SxZvzgf0z8dm:2HMsp_L9P6I8CwQ6HNOQ_0->0fqX614OH1YO1Njdxms2$Q',\n",
       "  'labels': 'DEFINED_BY_QUANTITIES',\n",
       "  'rel_class': 'IfcRelDefinesByProperties',\n",
       "  'rel_id': '18SCBIM$j6SxZvzgf0z8dm',\n",
       "  'from': '2HMsp_L9P6I8CwQ6HNOQ_0',\n",
       "  'to': '0fqX614OH1YO1Njdxms2$Q'},\n",
       " '256YYp2JL6Cx0WbxeIKq$J:00EBcbCmP36Q43kDOMVxR1->0rh7bRO0L9fg1NzgGKU$Ut': {'id': '256YYp2JL6Cx0WbxeIKq$J:00EBcbCmP36Q43kDOMVxR1->0rh7bRO0L9fg1NzgGKU$Ut',\n",
       "  'labels': 'DEFINED_BY_PROPERTIES',\n",
       "  'rel_class': 'IfcRelDefinesByProperties',\n",
       "  'rel_id': '256YYp2JL6Cx0WbxeIKq$J',\n",
       "  'from': '00EBcbCmP36Q43kDOMVxR1',\n",
       "  'to': '0rh7bRO0L9fg1NzgGKU$Ut'},\n",
       " '13Ef3vovv1FBMPINZDiMkh:28d0zpbA1FDgNVOoP3DC9B->0rh7bRO0L9fg1NzgGKU$Ut': {'id': '13Ef3vovv1FBMPINZDiMkh:28d0zpbA1FDgNVOoP3DC9B->0rh7bRO0L9fg1NzgGKU$Ut',\n",
       "  'labels': 'DEFINED_BY_QUANTITIES',\n",
       "  'rel_class': 'IfcRelDefinesByProperties',\n",
       "  'rel_id': '13Ef3vovv1FBMPINZDiMkh',\n",
       "  'from': '28d0zpbA1FDgNVOoP3DC9B',\n",
       "  'to': '0rh7bRO0L9fg1NzgGKU$Ut'},\n",
       " '3s2cOWY_f7xgExVmLuOC1F:0fB$YzpQ9F5fXAwW3qqCyT->3roxUKbVv98xiUcl22_T07': {'id': '3s2cOWY_f7xgExVmLuOC1F:0fB$YzpQ9F5fXAwW3qqCyT->3roxUKbVv98xiUcl22_T07',\n",
       "  'labels': 'DEFINED_BY_PROPERTIES',\n",
       "  'rel_class': 'IfcRelDefinesByProperties',\n",
       "  'rel_id': '3s2cOWY_f7xgExVmLuOC1F',\n",
       "  'from': '0fB$YzpQ9F5fXAwW3qqCyT',\n",
       "  'to': '3roxUKbVv98xiUcl22_T07'},\n",
       " '2RqoGRc4HDKxh0mXR9aubO:30SHzCjOj6gPOjYeg44wl2->3roxUKbVv98xiUcl22_T07': {'id': '2RqoGRc4HDKxh0mXR9aubO:30SHzCjOj6gPOjYeg44wl2->3roxUKbVv98xiUcl22_T07',\n",
       "  'labels': 'DEFINED_BY_QUANTITIES',\n",
       "  'rel_class': 'IfcRelDefinesByProperties',\n",
       "  'rel_id': '2RqoGRc4HDKxh0mXR9aubO',\n",
       "  'from': '30SHzCjOj6gPOjYeg44wl2',\n",
       "  'to': '3roxUKbVv98xiUcl22_T07'},\n",
       " '1kfOxVaUn7igK3ixTIT1mm:0PBH0wkMXC_RjGQReUd5h1->0Lvk$Qa81D5et3l3a4S9Vk': {'id': '1kfOxVaUn7igK3ixTIT1mm:0PBH0wkMXC_RjGQReUd5h1->0Lvk$Qa81D5et3l3a4S9Vk',\n",
       "  'labels': 'DEFINED_BY_PROPERTIES',\n",
       "  'rel_class': 'IfcRelDefinesByProperties',\n",
       "  'rel_id': '1kfOxVaUn7igK3ixTIT1mm',\n",
       "  'from': '0PBH0wkMXC_RjGQReUd5h1',\n",
       "  'to': '0Lvk$Qa81D5et3l3a4S9Vk'},\n",
       " '3xGoWtpb5DkfUR1FSc5StW:0kLKoeMc5BnhcvmJ1GtKjL->0Lvk$Qa81D5et3l3a4S9Vk': {'id': '3xGoWtpb5DkfUR1FSc5StW:0kLKoeMc5BnhcvmJ1GtKjL->0Lvk$Qa81D5et3l3a4S9Vk',\n",
       "  'labels': 'DEFINED_BY_QUANTITIES',\n",
       "  'rel_class': 'IfcRelDefinesByProperties',\n",
       "  'rel_id': '3xGoWtpb5DkfUR1FSc5StW',\n",
       "  'from': '0kLKoeMc5BnhcvmJ1GtKjL',\n",
       "  'to': '0Lvk$Qa81D5et3l3a4S9Vk'},\n",
       " '1_Mz54MgPEf8invct8zsn4:2QF6RwHpj16gEJ1wh5SKZA->2ddLgAnQf4mBfh5IpUp54U': {'id': '1_Mz54MgPEf8invct8zsn4:2QF6RwHpj16gEJ1wh5SKZA->2ddLgAnQf4mBfh5IpUp54U',\n",
       "  'labels': 'DEFINED_BY_PROPERTIES',\n",
       "  'rel_class': 'IfcRelDefinesByProperties',\n",
       "  'rel_id': '1_Mz54MgPEf8invct8zsn4',\n",
       "  'from': '2QF6RwHpj16gEJ1wh5SKZA',\n",
       "  'to': '2ddLgAnQf4mBfh5IpUp54U'},\n",
       " '1Re7jJq7TFuwWj5pYY61Bl:0dIg8JLuXAjP9eWTNPMJjH->2ddLgAnQf4mBfh5IpUp54U': {'id': '1Re7jJq7TFuwWj5pYY61Bl:0dIg8JLuXAjP9eWTNPMJjH->2ddLgAnQf4mBfh5IpUp54U',\n",
       "  'labels': 'DEFINED_BY_QUANTITIES',\n",
       "  'rel_class': 'IfcRelDefinesByProperties',\n",
       "  'rel_id': '1Re7jJq7TFuwWj5pYY61Bl',\n",
       "  'from': '0dIg8JLuXAjP9eWTNPMJjH',\n",
       "  'to': '2ddLgAnQf4mBfh5IpUp54U'},\n",
       " '1A$xLWc2zFTAP4pjkGmuxr:1l$mN4mE5EtgtEWbu7EEvJ->2fjJuPht9EIQaZQYZfC1Op': {'id': '1A$xLWc2zFTAP4pjkGmuxr:1l$mN4mE5EtgtEWbu7EEvJ->2fjJuPht9EIQaZQYZfC1Op',\n",
       "  'labels': 'DEFINED_BY_PROPERTIES',\n",
       "  'rel_class': 'IfcRelDefinesByProperties',\n",
       "  'rel_id': '1A$xLWc2zFTAP4pjkGmuxr',\n",
       "  'from': '1l$mN4mE5EtgtEWbu7EEvJ',\n",
       "  'to': '2fjJuPht9EIQaZQYZfC1Op'},\n",
       " '2AUcjx78L3PAQTSMpi8$sr:3wSFIICx575gqnRY4FYR_E->2fjJuPht9EIQaZQYZfC1Op': {'id': '2AUcjx78L3PAQTSMpi8$sr:3wSFIICx575gqnRY4FYR_E->2fjJuPht9EIQaZQYZfC1Op',\n",
       "  'labels': 'DEFINED_BY_QUANTITIES',\n",
       "  'rel_class': 'IfcRelDefinesByProperties',\n",
       "  'rel_id': '2AUcjx78L3PAQTSMpi8$sr',\n",
       "  'from': '3wSFIICx575gqnRY4FYR_E',\n",
       "  'to': '2fjJuPht9EIQaZQYZfC1Op'},\n",
       " '2Ca0YqD5bBUxjYPcKrr8dB:39zsrh6sTE69jN0aDa_2y3->0pFmhV8oD1dB40_b4pscr8': {'id': '2Ca0YqD5bBUxjYPcKrr8dB:39zsrh6sTE69jN0aDa_2y3->0pFmhV8oD1dB40_b4pscr8',\n",
       "  'labels': 'DEFINED_BY_TYPE',\n",
       "  'rel_class': 'IfcRelDefinesByType',\n",
       "  'rel_id': '2Ca0YqD5bBUxjYPcKrr8dB',\n",
       "  'from': '39zsrh6sTE69jN0aDa_2y3',\n",
       "  'to': '0pFmhV8oD1dB40_b4pscr8'},\n",
       " '1Dq$Dv2C19kvvXmEBQkP5l:0_8SeeJGr948J4bU1RPXce->0DyViLJJ175RvWQi1rE7a6': {'id': '1Dq$Dv2C19kvvXmEBQkP5l:0_8SeeJGr948J4bU1RPXce->0DyViLJJ175RvWQi1rE7a6',\n",
       "  'labels': 'DEFINED_BY_TYPE',\n",
       "  'rel_class': 'IfcRelDefinesByType',\n",
       "  'rel_id': '1Dq$Dv2C19kvvXmEBQkP5l',\n",
       "  'from': '0_8SeeJGr948J4bU1RPXce',\n",
       "  'to': '0DyViLJJ175RvWQi1rE7a6'},\n",
       " '2j$nW3pT9Fewa4SjRDvSsa:0KOC4PbVP4CgUUcPIljzX8->3SGBcf7Lv0r80vKtUCgOpf': {'id': '2j$nW3pT9Fewa4SjRDvSsa:0KOC4PbVP4CgUUcPIljzX8->3SGBcf7Lv0r80vKtUCgOpf',\n",
       "  'labels': 'DEFINED_BY_TYPE',\n",
       "  'rel_class': 'IfcRelDefinesByType',\n",
       "  'rel_id': '2j$nW3pT9Fewa4SjRDvSsa',\n",
       "  'from': '0KOC4PbVP4CgUUcPIljzX8',\n",
       "  'to': '3SGBcf7Lv0r80vKtUCgOpf'},\n",
       " '0Lutqys6D3UQmJeJXWcI9a:2JyKYAYaHEEwkOiNxZBS0J->3oNJ9yHi5FJuFnK8yg68Yt': {'id': '0Lutqys6D3UQmJeJXWcI9a:2JyKYAYaHEEwkOiNxZBS0J->3oNJ9yHi5FJuFnK8yg68Yt',\n",
       "  'labels': 'DEFINED_BY_TYPE',\n",
       "  'rel_class': 'IfcRelDefinesByType',\n",
       "  'rel_id': '0Lutqys6D3UQmJeJXWcI9a',\n",
       "  'from': '2JyKYAYaHEEwkOiNxZBS0J',\n",
       "  'to': '3oNJ9yHi5FJuFnK8yg68Yt'},\n",
       " '22pEICzjP0uQNvM7rXMZ6g:10FwQBcdzD9ve3W6PvBTti->3dkFAzOGrAIuOzY_RdrdVv': {'id': '22pEICzjP0uQNvM7rXMZ6g:10FwQBcdzD9ve3W6PvBTti->3dkFAzOGrAIuOzY_RdrdVv',\n",
       "  'labels': 'DEFINED_BY_TYPE',\n",
       "  'rel_class': 'IfcRelDefinesByType',\n",
       "  'rel_id': '22pEICzjP0uQNvM7rXMZ6g',\n",
       "  'from': '10FwQBcdzD9ve3W6PvBTti',\n",
       "  'to': '3dkFAzOGrAIuOzY_RdrdVv'},\n",
       " '03jzp7gAn8ZhZ3yNm_TOEt:3sv$5PJEr5hP_mSgN$A$GJ->2gTJhghMT81QThk15l2VwR': {'id': '03jzp7gAn8ZhZ3yNm_TOEt:3sv$5PJEr5hP_mSgN$A$GJ->2gTJhghMT81QThk15l2VwR',\n",
       "  'labels': 'DEFINED_BY_TYPE',\n",
       "  'rel_class': 'IfcRelDefinesByType',\n",
       "  'rel_id': '03jzp7gAn8ZhZ3yNm_TOEt',\n",
       "  'from': '3sv$5PJEr5hP_mSgN$A$GJ',\n",
       "  'to': '2gTJhghMT81QThk15l2VwR'},\n",
       " '3vwqwSGfL8LeMOHvcbNbYk:0GE$iSXKL8jAEeHi$mszPq->2iPwJwpPDCSgMheXwk9cBT': {'id': '3vwqwSGfL8LeMOHvcbNbYk:0GE$iSXKL8jAEeHi$mszPq->2iPwJwpPDCSgMheXwk9cBT',\n",
       "  'labels': 'DEFINED_BY_TYPE',\n",
       "  'rel_class': 'IfcRelDefinesByType',\n",
       "  'rel_id': '3vwqwSGfL8LeMOHvcbNbYk',\n",
       "  'from': '0GE$iSXKL8jAEeHi$mszPq',\n",
       "  'to': '2iPwJwpPDCSgMheXwk9cBT'},\n",
       " '0QaU_JWFP0egFTAfCdiIGO:1_UeVn6yDFiQNhUkRsBNZI->0fqX614OH1YO1Njdxms2$Q': {'id': '0QaU_JWFP0egFTAfCdiIGO:1_UeVn6yDFiQNhUkRsBNZI->0fqX614OH1YO1Njdxms2$Q',\n",
       "  'labels': 'DEFINED_BY_TYPE',\n",
       "  'rel_class': 'IfcRelDefinesByType',\n",
       "  'rel_id': '0QaU_JWFP0egFTAfCdiIGO',\n",
       "  'from': '1_UeVn6yDFiQNhUkRsBNZI',\n",
       "  'to': '0fqX614OH1YO1Njdxms2$Q'},\n",
       " '0QaU_JWFP0egFTAfCdiIGO:1_UeVn6yDFiQNhUkRsBNZI->0rh7bRO0L9fg1NzgGKU$Ut': {'id': '0QaU_JWFP0egFTAfCdiIGO:1_UeVn6yDFiQNhUkRsBNZI->0rh7bRO0L9fg1NzgGKU$Ut',\n",
       "  'labels': 'DEFINED_BY_TYPE',\n",
       "  'rel_class': 'IfcRelDefinesByType',\n",
       "  'rel_id': '0QaU_JWFP0egFTAfCdiIGO',\n",
       "  'from': '1_UeVn6yDFiQNhUkRsBNZI',\n",
       "  'to': '0rh7bRO0L9fg1NzgGKU$Ut'},\n",
       " '0QaU_JWFP0egFTAfCdiIGO:1_UeVn6yDFiQNhUkRsBNZI->3roxUKbVv98xiUcl22_T07': {'id': '0QaU_JWFP0egFTAfCdiIGO:1_UeVn6yDFiQNhUkRsBNZI->3roxUKbVv98xiUcl22_T07',\n",
       "  'labels': 'DEFINED_BY_TYPE',\n",
       "  'rel_class': 'IfcRelDefinesByType',\n",
       "  'rel_id': '0QaU_JWFP0egFTAfCdiIGO',\n",
       "  'from': '1_UeVn6yDFiQNhUkRsBNZI',\n",
       "  'to': '3roxUKbVv98xiUcl22_T07'},\n",
       " '0QaU_JWFP0egFTAfCdiIGO:1_UeVn6yDFiQNhUkRsBNZI->0Lvk$Qa81D5et3l3a4S9Vk': {'id': '0QaU_JWFP0egFTAfCdiIGO:1_UeVn6yDFiQNhUkRsBNZI->0Lvk$Qa81D5et3l3a4S9Vk',\n",
       "  'labels': 'DEFINED_BY_TYPE',\n",
       "  'rel_class': 'IfcRelDefinesByType',\n",
       "  'rel_id': '0QaU_JWFP0egFTAfCdiIGO',\n",
       "  'from': '1_UeVn6yDFiQNhUkRsBNZI',\n",
       "  'to': '0Lvk$Qa81D5et3l3a4S9Vk'},\n",
       " '0QaU_JWFP0egFTAfCdiIGO:1_UeVn6yDFiQNhUkRsBNZI->2ddLgAnQf4mBfh5IpUp54U': {'id': '0QaU_JWFP0egFTAfCdiIGO:1_UeVn6yDFiQNhUkRsBNZI->2ddLgAnQf4mBfh5IpUp54U',\n",
       "  'labels': 'DEFINED_BY_TYPE',\n",
       "  'rel_class': 'IfcRelDefinesByType',\n",
       "  'rel_id': '0QaU_JWFP0egFTAfCdiIGO',\n",
       "  'from': '1_UeVn6yDFiQNhUkRsBNZI',\n",
       "  'to': '2ddLgAnQf4mBfh5IpUp54U'},\n",
       " '0QaU_JWFP0egFTAfCdiIGO:1_UeVn6yDFiQNhUkRsBNZI->2fjJuPht9EIQaZQYZfC1Op': {'id': '0QaU_JWFP0egFTAfCdiIGO:1_UeVn6yDFiQNhUkRsBNZI->2fjJuPht9EIQaZQYZfC1Op',\n",
       "  'labels': 'DEFINED_BY_TYPE',\n",
       "  'rel_class': 'IfcRelDefinesByType',\n",
       "  'rel_id': '0QaU_JWFP0egFTAfCdiIGO',\n",
       "  'from': '1_UeVn6yDFiQNhUkRsBNZI',\n",
       "  'to': '2fjJuPht9EIQaZQYZfC1Op'},\n",
       " '2WxkgoJp57vPJ9Jr6S$j_w:1i7uuLYVf6ShdGFfCgAhuD->2r_8UEywH9_RLHe8z$Xa8J': {'id': '2WxkgoJp57vPJ9Jr6S$j_w:1i7uuLYVf6ShdGFfCgAhuD->2r_8UEywH9_RLHe8z$Xa8J',\n",
       "  'labels': 'DEFINED_BY_TYPE',\n",
       "  'rel_class': 'IfcRelDefinesByType',\n",
       "  'rel_id': '2WxkgoJp57vPJ9Jr6S$j_w',\n",
       "  'from': '1i7uuLYVf6ShdGFfCgAhuD',\n",
       "  'to': '2r_8UEywH9_RLHe8z$Xa8J'},\n",
       " '2WxkgoJp57vPJ9Jr6S$j_w:1i7uuLYVf6ShdGFfCgAhuD->2cc4uJUVv5BevbidUpn1H3': {'id': '2WxkgoJp57vPJ9Jr6S$j_w:1i7uuLYVf6ShdGFfCgAhuD->2cc4uJUVv5BevbidUpn1H3',\n",
       "  'labels': 'DEFINED_BY_TYPE',\n",
       "  'rel_class': 'IfcRelDefinesByType',\n",
       "  'rel_id': '2WxkgoJp57vPJ9Jr6S$j_w',\n",
       "  'from': '1i7uuLYVf6ShdGFfCgAhuD',\n",
       "  'to': '2cc4uJUVv5BevbidUpn1H3'},\n",
       " '21U96ixejDwQmHCVkbTd2U:3mjKLn_DjE4Beriey9bTvr->2F44QMqSH3TOkM$SZoqCBe': {'id': '21U96ixejDwQmHCVkbTd2U:3mjKLn_DjE4Beriey9bTvr->2F44QMqSH3TOkM$SZoqCBe',\n",
       "  'labels': 'DEFINED_BY_TYPE',\n",
       "  'rel_class': 'IfcRelDefinesByType',\n",
       "  'rel_id': '21U96ixejDwQmHCVkbTd2U',\n",
       "  'from': '3mjKLn_DjE4Beriey9bTvr',\n",
       "  'to': '2F44QMqSH3TOkM$SZoqCBe'},\n",
       " '3530pFWy94WO4ESJ$CWAXG:2IpkHFcdnD3xuZl6H52fWn->3Fit2Fad92zf2f6aWdJtF5': {'id': '3530pFWy94WO4ESJ$CWAXG:2IpkHFcdnD3xuZl6H52fWn->3Fit2Fad92zf2f6aWdJtF5',\n",
       "  'labels': 'DEFINED_BY_TYPE',\n",
       "  'rel_class': 'IfcRelDefinesByType',\n",
       "  'rel_id': '3530pFWy94WO4ESJ$CWAXG',\n",
       "  'from': '2IpkHFcdnD3xuZl6H52fWn',\n",
       "  'to': '3Fit2Fad92zf2f6aWdJtF5'},\n",
       " '0oKrXjQf58gwTDmoHg_xVx:IfcMaterial:56->0pFmhV8oD1dB40_b4pscr8': {'id': '0oKrXjQf58gwTDmoHg_xVx:IfcMaterial:56->0pFmhV8oD1dB40_b4pscr8',\n",
       "  'labels': 'ASSOCIATED_MATERIAL',\n",
       "  'rel_class': 'IfcRelAssociatesMaterial',\n",
       "  'rel_id': '0oKrXjQf58gwTDmoHg_xVx',\n",
       "  'from': 'IfcMaterial:56',\n",
       "  'to': '0pFmhV8oD1dB40_b4pscr8'},\n",
       " '0sAYN8OJzFKu1rNoJBdSki:IfcMaterial:81->0DyViLJJ175RvWQi1rE7a6': {'id': '0sAYN8OJzFKu1rNoJBdSki:IfcMaterial:81->0DyViLJJ175RvWQi1rE7a6',\n",
       "  'labels': 'ASSOCIATED_MATERIAL',\n",
       "  'rel_class': 'IfcRelAssociatesMaterial',\n",
       "  'rel_id': '0sAYN8OJzFKu1rNoJBdSki',\n",
       "  'from': 'IfcMaterial:81',\n",
       "  'to': '0DyViLJJ175RvWQi1rE7a6'},\n",
       " '0sAYN8OJzFKu1rNoJBdSki:IfcMaterial:81->3SGBcf7Lv0r80vKtUCgOpf': {'id': '0sAYN8OJzFKu1rNoJBdSki:IfcMaterial:81->3SGBcf7Lv0r80vKtUCgOpf',\n",
       "  'labels': 'ASSOCIATED_MATERIAL',\n",
       "  'rel_class': 'IfcRelAssociatesMaterial',\n",
       "  'rel_id': '0sAYN8OJzFKu1rNoJBdSki',\n",
       "  'from': 'IfcMaterial:81',\n",
       "  'to': '3SGBcf7Lv0r80vKtUCgOpf'},\n",
       " '0sAYN8OJzFKu1rNoJBdSki:IfcMaterial:81->3oNJ9yHi5FJuFnK8yg68Yt': {'id': '0sAYN8OJzFKu1rNoJBdSki:IfcMaterial:81->3oNJ9yHi5FJuFnK8yg68Yt',\n",
       "  'labels': 'ASSOCIATED_MATERIAL',\n",
       "  'rel_class': 'IfcRelAssociatesMaterial',\n",
       "  'rel_id': '0sAYN8OJzFKu1rNoJBdSki',\n",
       "  'from': 'IfcMaterial:81',\n",
       "  'to': '3oNJ9yHi5FJuFnK8yg68Yt'},\n",
       " '0sAYN8OJzFKu1rNoJBdSki:IfcMaterial:81->3dkFAzOGrAIuOzY_RdrdVv': {'id': '0sAYN8OJzFKu1rNoJBdSki:IfcMaterial:81->3dkFAzOGrAIuOzY_RdrdVv',\n",
       "  'labels': 'ASSOCIATED_MATERIAL',\n",
       "  'rel_class': 'IfcRelAssociatesMaterial',\n",
       "  'rel_id': '0sAYN8OJzFKu1rNoJBdSki',\n",
       "  'from': 'IfcMaterial:81',\n",
       "  'to': '3dkFAzOGrAIuOzY_RdrdVv'},\n",
       " '0sAYN8OJzFKu1rNoJBdSki:IfcMaterial:81->2gTJhghMT81QThk15l2VwR': {'id': '0sAYN8OJzFKu1rNoJBdSki:IfcMaterial:81->2gTJhghMT81QThk15l2VwR',\n",
       "  'labels': 'ASSOCIATED_MATERIAL',\n",
       "  'rel_class': 'IfcRelAssociatesMaterial',\n",
       "  'rel_id': '0sAYN8OJzFKu1rNoJBdSki',\n",
       "  'from': 'IfcMaterial:81',\n",
       "  'to': '2gTJhghMT81QThk15l2VwR'},\n",
       " '2s9xg62oL3w8Vo4n0YcEZ3:IfcMaterial:164->1CjP_CWub368bZVuVHeHs3': {'id': '2s9xg62oL3w8Vo4n0YcEZ3:IfcMaterial:164->1CjP_CWub368bZVuVHeHs3',\n",
       "  'labels': 'ASSOCIATED_MATERIAL',\n",
       "  'rel_class': 'IfcRelAssociatesMaterial',\n",
       "  'rel_id': '2s9xg62oL3w8Vo4n0YcEZ3',\n",
       "  'from': 'IfcMaterial:164',\n",
       "  'to': '1CjP_CWub368bZVuVHeHs3'},\n",
       " '1NsDI1QVHFMfwizftDPlfC:IfcMaterial:218->0fqX614OH1YO1Njdxms2$Q': {'id': '1NsDI1QVHFMfwizftDPlfC:IfcMaterial:218->0fqX614OH1YO1Njdxms2$Q',\n",
       "  'labels': 'ASSOCIATED_MATERIAL',\n",
       "  'rel_class': 'IfcRelAssociatesMaterial',\n",
       "  'rel_id': '1NsDI1QVHFMfwizftDPlfC',\n",
       "  'from': 'IfcMaterial:218',\n",
       "  'to': '0fqX614OH1YO1Njdxms2$Q'},\n",
       " '1NsDI1QVHFMfwizftDPlfC:IfcMaterial:218->0rh7bRO0L9fg1NzgGKU$Ut': {'id': '1NsDI1QVHFMfwizftDPlfC:IfcMaterial:218->0rh7bRO0L9fg1NzgGKU$Ut',\n",
       "  'labels': 'ASSOCIATED_MATERIAL',\n",
       "  'rel_class': 'IfcRelAssociatesMaterial',\n",
       "  'rel_id': '1NsDI1QVHFMfwizftDPlfC',\n",
       "  'from': 'IfcMaterial:218',\n",
       "  'to': '0rh7bRO0L9fg1NzgGKU$Ut'},\n",
       " '1NsDI1QVHFMfwizftDPlfC:IfcMaterial:218->3roxUKbVv98xiUcl22_T07': {'id': '1NsDI1QVHFMfwizftDPlfC:IfcMaterial:218->3roxUKbVv98xiUcl22_T07',\n",
       "  'labels': 'ASSOCIATED_MATERIAL',\n",
       "  'rel_class': 'IfcRelAssociatesMaterial',\n",
       "  'rel_id': '1NsDI1QVHFMfwizftDPlfC',\n",
       "  'from': 'IfcMaterial:218',\n",
       "  'to': '3roxUKbVv98xiUcl22_T07'},\n",
       " '1NsDI1QVHFMfwizftDPlfC:IfcMaterial:218->0Lvk$Qa81D5et3l3a4S9Vk': {'id': '1NsDI1QVHFMfwizftDPlfC:IfcMaterial:218->0Lvk$Qa81D5et3l3a4S9Vk',\n",
       "  'labels': 'ASSOCIATED_MATERIAL',\n",
       "  'rel_class': 'IfcRelAssociatesMaterial',\n",
       "  'rel_id': '1NsDI1QVHFMfwizftDPlfC',\n",
       "  'from': 'IfcMaterial:218',\n",
       "  'to': '0Lvk$Qa81D5et3l3a4S9Vk'},\n",
       " '1NsDI1QVHFMfwizftDPlfC:IfcMaterial:218->2ddLgAnQf4mBfh5IpUp54U': {'id': '1NsDI1QVHFMfwizftDPlfC:IfcMaterial:218->2ddLgAnQf4mBfh5IpUp54U',\n",
       "  'labels': 'ASSOCIATED_MATERIAL',\n",
       "  'rel_class': 'IfcRelAssociatesMaterial',\n",
       "  'rel_id': '1NsDI1QVHFMfwizftDPlfC',\n",
       "  'from': 'IfcMaterial:218',\n",
       "  'to': '2ddLgAnQf4mBfh5IpUp54U'},\n",
       " '1NsDI1QVHFMfwizftDPlfC:IfcMaterial:218->2fjJuPht9EIQaZQYZfC1Op': {'id': '1NsDI1QVHFMfwizftDPlfC:IfcMaterial:218->2fjJuPht9EIQaZQYZfC1Op',\n",
       "  'labels': 'ASSOCIATED_MATERIAL',\n",
       "  'rel_class': 'IfcRelAssociatesMaterial',\n",
       "  'rel_id': '1NsDI1QVHFMfwizftDPlfC',\n",
       "  'from': 'IfcMaterial:218',\n",
       "  'to': '2fjJuPht9EIQaZQYZfC1Op'},\n",
       " '0h96c29SfAxQbCDOLFZN7y:IfcMaterial:347->2r_8UEywH9_RLHe8z$Xa8J': {'id': '0h96c29SfAxQbCDOLFZN7y:IfcMaterial:347->2r_8UEywH9_RLHe8z$Xa8J',\n",
       "  'labels': 'ASSOCIATED_MATERIAL',\n",
       "  'rel_class': 'IfcRelAssociatesMaterial',\n",
       "  'rel_id': '0h96c29SfAxQbCDOLFZN7y',\n",
       "  'from': 'IfcMaterial:347',\n",
       "  'to': '2r_8UEywH9_RLHe8z$Xa8J'},\n",
       " '0h96c29SfAxQbCDOLFZN7y:IfcMaterial:347->2cc4uJUVv5BevbidUpn1H3': {'id': '0h96c29SfAxQbCDOLFZN7y:IfcMaterial:347->2cc4uJUVv5BevbidUpn1H3',\n",
       "  'labels': 'ASSOCIATED_MATERIAL',\n",
       "  'rel_class': 'IfcRelAssociatesMaterial',\n",
       "  'rel_id': '0h96c29SfAxQbCDOLFZN7y',\n",
       "  'from': 'IfcMaterial:347',\n",
       "  'to': '2cc4uJUVv5BevbidUpn1H3'},\n",
       " '1QcTgcyaP1C9MT3_T1ZeJj:IfcMaterial:376->2F44QMqSH3TOkM$SZoqCBe': {'id': '1QcTgcyaP1C9MT3_T1ZeJj:IfcMaterial:376->2F44QMqSH3TOkM$SZoqCBe',\n",
       "  'labels': 'ASSOCIATED_MATERIAL',\n",
       "  'rel_class': 'IfcRelAssociatesMaterial',\n",
       "  'rel_id': '1QcTgcyaP1C9MT3_T1ZeJj',\n",
       "  'from': 'IfcMaterial:376',\n",
       "  'to': '2F44QMqSH3TOkM$SZoqCBe'},\n",
       " '2EBkr99ef9S8X3ZQxjf56M:IfcMaterial:395->3Fit2Fad92zf2f6aWdJtF5': {'id': '2EBkr99ef9S8X3ZQxjf56M:IfcMaterial:395->3Fit2Fad92zf2f6aWdJtF5',\n",
       "  'labels': 'ASSOCIATED_MATERIAL',\n",
       "  'rel_class': 'IfcRelAssociatesMaterial',\n",
       "  'rel_id': '2EBkr99ef9S8X3ZQxjf56M',\n",
       "  'from': 'IfcMaterial:395',\n",
       "  'to': '3Fit2Fad92zf2f6aWdJtF5'},\n",
       " '32VVuS88fAuuHaSNYFaS2D:1Ano2ZUxnEIvVQ_beukl8b->0pFmhV8oD1dB40_b4pscr8': {'id': '32VVuS88fAuuHaSNYFaS2D:1Ano2ZUxnEIvVQ_beukl8b->0pFmhV8oD1dB40_b4pscr8',\n",
       "  'labels': 'CONTAINED_IN',\n",
       "  'rel_class': 'IfcRelContainedInSpatialStructure',\n",
       "  'rel_id': '32VVuS88fAuuHaSNYFaS2D',\n",
       "  'from': '1Ano2ZUxnEIvVQ_beukl8b',\n",
       "  'to': '0pFmhV8oD1dB40_b4pscr8'},\n",
       " '32VVuS88fAuuHaSNYFaS2D:1Ano2ZUxnEIvVQ_beukl8b->0DyViLJJ175RvWQi1rE7a6': {'id': '32VVuS88fAuuHaSNYFaS2D:1Ano2ZUxnEIvVQ_beukl8b->0DyViLJJ175RvWQi1rE7a6',\n",
       "  'labels': 'CONTAINED_IN',\n",
       "  'rel_class': 'IfcRelContainedInSpatialStructure',\n",
       "  'rel_id': '32VVuS88fAuuHaSNYFaS2D',\n",
       "  'from': '1Ano2ZUxnEIvVQ_beukl8b',\n",
       "  'to': '0DyViLJJ175RvWQi1rE7a6'},\n",
       " '32VVuS88fAuuHaSNYFaS2D:1Ano2ZUxnEIvVQ_beukl8b->3SGBcf7Lv0r80vKtUCgOpf': {'id': '32VVuS88fAuuHaSNYFaS2D:1Ano2ZUxnEIvVQ_beukl8b->3SGBcf7Lv0r80vKtUCgOpf',\n",
       "  'labels': 'CONTAINED_IN',\n",
       "  'rel_class': 'IfcRelContainedInSpatialStructure',\n",
       "  'rel_id': '32VVuS88fAuuHaSNYFaS2D',\n",
       "  'from': '1Ano2ZUxnEIvVQ_beukl8b',\n",
       "  'to': '3SGBcf7Lv0r80vKtUCgOpf'},\n",
       " '32VVuS88fAuuHaSNYFaS2D:1Ano2ZUxnEIvVQ_beukl8b->3oNJ9yHi5FJuFnK8yg68Yt': {'id': '32VVuS88fAuuHaSNYFaS2D:1Ano2ZUxnEIvVQ_beukl8b->3oNJ9yHi5FJuFnK8yg68Yt',\n",
       "  'labels': 'CONTAINED_IN',\n",
       "  'rel_class': 'IfcRelContainedInSpatialStructure',\n",
       "  'rel_id': '32VVuS88fAuuHaSNYFaS2D',\n",
       "  'from': '1Ano2ZUxnEIvVQ_beukl8b',\n",
       "  'to': '3oNJ9yHi5FJuFnK8yg68Yt'},\n",
       " '32VVuS88fAuuHaSNYFaS2D:1Ano2ZUxnEIvVQ_beukl8b->3dkFAzOGrAIuOzY_RdrdVv': {'id': '32VVuS88fAuuHaSNYFaS2D:1Ano2ZUxnEIvVQ_beukl8b->3dkFAzOGrAIuOzY_RdrdVv',\n",
       "  'labels': 'CONTAINED_IN',\n",
       "  'rel_class': 'IfcRelContainedInSpatialStructure',\n",
       "  'rel_id': '32VVuS88fAuuHaSNYFaS2D',\n",
       "  'from': '1Ano2ZUxnEIvVQ_beukl8b',\n",
       "  'to': '3dkFAzOGrAIuOzY_RdrdVv'},\n",
       " '32VVuS88fAuuHaSNYFaS2D:1Ano2ZUxnEIvVQ_beukl8b->1CjP_CWub368bZVuVHeHs3': {'id': '32VVuS88fAuuHaSNYFaS2D:1Ano2ZUxnEIvVQ_beukl8b->1CjP_CWub368bZVuVHeHs3',\n",
       "  'labels': 'CONTAINED_IN',\n",
       "  'rel_class': 'IfcRelContainedInSpatialStructure',\n",
       "  'rel_id': '32VVuS88fAuuHaSNYFaS2D',\n",
       "  'from': '1Ano2ZUxnEIvVQ_beukl8b',\n",
       "  'to': '1CjP_CWub368bZVuVHeHs3'},\n",
       " '32VVuS88fAuuHaSNYFaS2D:1Ano2ZUxnEIvVQ_beukl8b->2gTJhghMT81QThk15l2VwR': {'id': '32VVuS88fAuuHaSNYFaS2D:1Ano2ZUxnEIvVQ_beukl8b->2gTJhghMT81QThk15l2VwR',\n",
       "  'labels': 'CONTAINED_IN',\n",
       "  'rel_class': 'IfcRelContainedInSpatialStructure',\n",
       "  'rel_id': '32VVuS88fAuuHaSNYFaS2D',\n",
       "  'from': '1Ano2ZUxnEIvVQ_beukl8b',\n",
       "  'to': '2gTJhghMT81QThk15l2VwR'},\n",
       " '29g4gBcuH0hgx5H$n5Th1$:0c$N1CTon2BB2Sp89385G8->2iPwJwpPDCSgMheXwk9cBT': {'id': '29g4gBcuH0hgx5H$n5Th1$:0c$N1CTon2BB2Sp89385G8->2iPwJwpPDCSgMheXwk9cBT',\n",
       "  'labels': 'CONTAINED_IN',\n",
       "  'rel_class': 'IfcRelContainedInSpatialStructure',\n",
       "  'rel_id': '29g4gBcuH0hgx5H$n5Th1$',\n",
       "  'from': '0c$N1CTon2BB2Sp89385G8',\n",
       "  'to': '2iPwJwpPDCSgMheXwk9cBT'},\n",
       " '1$fZ6Kw2z1gv8psHFPkgK8:1Pbuu0tu59NfhrTsztVBK1->2F44QMqSH3TOkM$SZoqCBe': {'id': '1$fZ6Kw2z1gv8psHFPkgK8:1Pbuu0tu59NfhrTsztVBK1->2F44QMqSH3TOkM$SZoqCBe',\n",
       "  'labels': 'CONTAINED_IN',\n",
       "  'rel_class': 'IfcRelContainedInSpatialStructure',\n",
       "  'rel_id': '1$fZ6Kw2z1gv8psHFPkgK8',\n",
       "  'from': '1Pbuu0tu59NfhrTsztVBK1',\n",
       "  'to': '2F44QMqSH3TOkM$SZoqCBe'},\n",
       " '2bJlx3esj7PwpKPmyqpeJk:23sFQGRy90RxVbRHD9iSE2->3Fit2Fad92zf2f6aWdJtF5': {'id': '2bJlx3esj7PwpKPmyqpeJk:23sFQGRy90RxVbRHD9iSE2->3Fit2Fad92zf2f6aWdJtF5',\n",
       "  'labels': 'CONTAINED_IN',\n",
       "  'rel_class': 'IfcRelContainedInSpatialStructure',\n",
       "  'rel_id': '2bJlx3esj7PwpKPmyqpeJk',\n",
       "  'from': '23sFQGRy90RxVbRHD9iSE2',\n",
       "  'to': '3Fit2Fad92zf2f6aWdJtF5'},\n",
       " '0oxik3NHL8WwNmRqfgUDeo:2Ndyd$OSX7s9A04nc4lyye->23sFQGRy90RxVbRHD9iSE2': {'id': '0oxik3NHL8WwNmRqfgUDeo:2Ndyd$OSX7s9A04nc4lyye->23sFQGRy90RxVbRHD9iSE2',\n",
       "  'labels': 'AGGREGATES',\n",
       "  'rel_class': 'IfcRelAggregates',\n",
       "  'rel_id': '0oxik3NHL8WwNmRqfgUDeo',\n",
       "  'from': '2Ndyd$OSX7s9A04nc4lyye',\n",
       "  'to': '23sFQGRy90RxVbRHD9iSE2'},\n",
       " '3zDClUSv10BgOdMB11_kd4:23sFQGRy90RxVbRHD9iSE2->1Pbuu0tu59NfhrTsztVBK1': {'id': '3zDClUSv10BgOdMB11_kd4:23sFQGRy90RxVbRHD9iSE2->1Pbuu0tu59NfhrTsztVBK1',\n",
       "  'labels': 'AGGREGATES',\n",
       "  'rel_class': 'IfcRelAggregates',\n",
       "  'rel_id': '3zDClUSv10BgOdMB11_kd4',\n",
       "  'from': '23sFQGRy90RxVbRHD9iSE2',\n",
       "  'to': '1Pbuu0tu59NfhrTsztVBK1'},\n",
       " '125RJLSU1E$x$3y4Ura4jb:1Pbuu0tu59NfhrTsztVBK1->0c$N1CTon2BB2Sp89385G8': {'id': '125RJLSU1E$x$3y4Ura4jb:1Pbuu0tu59NfhrTsztVBK1->0c$N1CTon2BB2Sp89385G8',\n",
       "  'labels': 'AGGREGATES',\n",
       "  'rel_class': 'IfcRelAggregates',\n",
       "  'rel_id': '125RJLSU1E$x$3y4Ura4jb',\n",
       "  'from': '1Pbuu0tu59NfhrTsztVBK1',\n",
       "  'to': '0c$N1CTon2BB2Sp89385G8'},\n",
       " '2Z0bwx$9T0uvCFhebTd6KT:0c$N1CTon2BB2Sp89385G8->1Ano2ZUxnEIvVQ_beukl8b': {'id': '2Z0bwx$9T0uvCFhebTd6KT:0c$N1CTon2BB2Sp89385G8->1Ano2ZUxnEIvVQ_beukl8b',\n",
       "  'labels': 'AGGREGATES',\n",
       "  'rel_class': 'IfcRelAggregates',\n",
       "  'rel_id': '2Z0bwx$9T0uvCFhebTd6KT',\n",
       "  'from': '0c$N1CTon2BB2Sp89385G8',\n",
       "  'to': '1Ano2ZUxnEIvVQ_beukl8b'},\n",
       " '29hd6AocXDXOth5fT8VPXL:2iPwJwpPDCSgMheXwk9cBT->0fqX614OH1YO1Njdxms2$Q': {'id': '29hd6AocXDXOth5fT8VPXL:2iPwJwpPDCSgMheXwk9cBT->0fqX614OH1YO1Njdxms2$Q',\n",
       "  'labels': 'AGGREGATES',\n",
       "  'rel_class': 'IfcRelAggregates',\n",
       "  'rel_id': '29hd6AocXDXOth5fT8VPXL',\n",
       "  'from': '2iPwJwpPDCSgMheXwk9cBT',\n",
       "  'to': '0fqX614OH1YO1Njdxms2$Q'},\n",
       " '29hd6AocXDXOth5fT8VPXL:2iPwJwpPDCSgMheXwk9cBT->0rh7bRO0L9fg1NzgGKU$Ut': {'id': '29hd6AocXDXOth5fT8VPXL:2iPwJwpPDCSgMheXwk9cBT->0rh7bRO0L9fg1NzgGKU$Ut',\n",
       "  'labels': 'AGGREGATES',\n",
       "  'rel_class': 'IfcRelAggregates',\n",
       "  'rel_id': '29hd6AocXDXOth5fT8VPXL',\n",
       "  'from': '2iPwJwpPDCSgMheXwk9cBT',\n",
       "  'to': '0rh7bRO0L9fg1NzgGKU$Ut'},\n",
       " '29hd6AocXDXOth5fT8VPXL:2iPwJwpPDCSgMheXwk9cBT->3roxUKbVv98xiUcl22_T07': {'id': '29hd6AocXDXOth5fT8VPXL:2iPwJwpPDCSgMheXwk9cBT->3roxUKbVv98xiUcl22_T07',\n",
       "  'labels': 'AGGREGATES',\n",
       "  'rel_class': 'IfcRelAggregates',\n",
       "  'rel_id': '29hd6AocXDXOth5fT8VPXL',\n",
       "  'from': '2iPwJwpPDCSgMheXwk9cBT',\n",
       "  'to': '3roxUKbVv98xiUcl22_T07'},\n",
       " '29hd6AocXDXOth5fT8VPXL:2iPwJwpPDCSgMheXwk9cBT->0Lvk$Qa81D5et3l3a4S9Vk': {'id': '29hd6AocXDXOth5fT8VPXL:2iPwJwpPDCSgMheXwk9cBT->0Lvk$Qa81D5et3l3a4S9Vk',\n",
       "  'labels': 'AGGREGATES',\n",
       "  'rel_class': 'IfcRelAggregates',\n",
       "  'rel_id': '29hd6AocXDXOth5fT8VPXL',\n",
       "  'from': '2iPwJwpPDCSgMheXwk9cBT',\n",
       "  'to': '0Lvk$Qa81D5et3l3a4S9Vk'},\n",
       " '29hd6AocXDXOth5fT8VPXL:2iPwJwpPDCSgMheXwk9cBT->2ddLgAnQf4mBfh5IpUp54U': {'id': '29hd6AocXDXOth5fT8VPXL:2iPwJwpPDCSgMheXwk9cBT->2ddLgAnQf4mBfh5IpUp54U',\n",
       "  'labels': 'AGGREGATES',\n",
       "  'rel_class': 'IfcRelAggregates',\n",
       "  'rel_id': '29hd6AocXDXOth5fT8VPXL',\n",
       "  'from': '2iPwJwpPDCSgMheXwk9cBT',\n",
       "  'to': '2ddLgAnQf4mBfh5IpUp54U'},\n",
       " '29hd6AocXDXOth5fT8VPXL:2iPwJwpPDCSgMheXwk9cBT->2fjJuPht9EIQaZQYZfC1Op': {'id': '29hd6AocXDXOth5fT8VPXL:2iPwJwpPDCSgMheXwk9cBT->2fjJuPht9EIQaZQYZfC1Op',\n",
       "  'labels': 'AGGREGATES',\n",
       "  'rel_class': 'IfcRelAggregates',\n",
       "  'rel_id': '29hd6AocXDXOth5fT8VPXL',\n",
       "  'from': '2iPwJwpPDCSgMheXwk9cBT',\n",
       "  'to': '2fjJuPht9EIQaZQYZfC1Op'},\n",
       " '29hd6AocXDXOth5fT8VPXL:2iPwJwpPDCSgMheXwk9cBT->2r_8UEywH9_RLHe8z$Xa8J': {'id': '29hd6AocXDXOth5fT8VPXL:2iPwJwpPDCSgMheXwk9cBT->2r_8UEywH9_RLHe8z$Xa8J',\n",
       "  'labels': 'AGGREGATES',\n",
       "  'rel_class': 'IfcRelAggregates',\n",
       "  'rel_id': '29hd6AocXDXOth5fT8VPXL',\n",
       "  'from': '2iPwJwpPDCSgMheXwk9cBT',\n",
       "  'to': '2r_8UEywH9_RLHe8z$Xa8J'},\n",
       " '29hd6AocXDXOth5fT8VPXL:2iPwJwpPDCSgMheXwk9cBT->2cc4uJUVv5BevbidUpn1H3': {'id': '29hd6AocXDXOth5fT8VPXL:2iPwJwpPDCSgMheXwk9cBT->2cc4uJUVv5BevbidUpn1H3',\n",
       "  'labels': 'AGGREGATES',\n",
       "  'rel_class': 'IfcRelAggregates',\n",
       "  'rel_id': '29hd6AocXDXOth5fT8VPXL',\n",
       "  'from': '2iPwJwpPDCSgMheXwk9cBT',\n",
       "  'to': '2cc4uJUVv5BevbidUpn1H3'},\n",
       " '03PQtV4nbFoPd97bT_31oH:IfcClassificationReference:35->0c$N1CTon2BB2Sp89385G8': {'id': '03PQtV4nbFoPd97bT_31oH:IfcClassificationReference:35->0c$N1CTon2BB2Sp89385G8',\n",
       "  'labels': 'ASSOCIATED_CLASSIFICATION',\n",
       "  'rel_class': 'IfcRelAssociatesClassification',\n",
       "  'rel_id': '03PQtV4nbFoPd97bT_31oH',\n",
       "  'from': 'IfcClassificationReference:35',\n",
       "  'to': '0c$N1CTon2BB2Sp89385G8'}}"
      ]
     },
     "execution_count": 49,
     "metadata": {},
     "output_type": "execute_result"
    }
   ],
   "source": [
    "edges"
   ]
  },
  {
   "cell_type": "code",
   "execution_count": 50,
   "id": "2deba51d-62b8-492a-af8e-835a5a6e76dc",
   "metadata": {},
   "outputs": [
    {
     "name": "stdout",
     "output_type": "stream",
     "text": [
      "Missing FROM endpoints: 0\n",
      "Missing TO endpoints:   0\n",
      "Missing FROM by type: Counter()\n",
      "Missing TO by type: Counter()\n"
     ]
    }
   ],
   "source": [
    "node_ids = set(nodes_ready.keys())\n",
    "\n",
    "missing_from = []\n",
    "missing_to = []\n",
    "\n",
    "for e in edges.values():\n",
    "    if e[\"from\"] not in node_ids:\n",
    "        missing_from.append((e[\"labels\"], e[\"rel_id\"], e[\"from\"], e[\"to\"]))\n",
    "    if e[\"to\"] not in node_ids:\n",
    "        missing_to.append((e[\"labels\"], e[\"rel_id\"], e[\"from\"], e[\"to\"]))\n",
    "\n",
    "print(f\"Missing FROM endpoints: {len(missing_from)}\")\n",
    "print(f\"Missing TO endpoints:   {len(missing_to)}\")\n",
    "\n",
    "# (optional) see which relationship types are affected\n",
    "from collections import Counter\n",
    "print(\"Missing FROM by type:\", Counter(t for t, *_ in missing_from))\n",
    "print(\"Missing TO by type:\",   Counter(t for t, *_ in missing_to))"
   ]
  },
  {
   "cell_type": "code",
   "execution_count": null,
   "id": "fa786878-e66b-4ac3-be51-3eca0208cfab",
   "metadata": {},
   "outputs": [],
   "source": []
  },
  {
   "cell_type": "code",
   "execution_count": null,
   "id": "e5ebd075-32bf-4df0-bd8c-3087cd3b4e53",
   "metadata": {},
   "outputs": [],
   "source": []
  },
  {
   "cell_type": "markdown",
   "id": "e9c1b61f-d9b1-4fc8-827d-b6eeb6ff5634",
   "metadata": {},
   "source": [
    "### 6.4.3. Nodes attributes and properties:"
   ]
  },
  {
   "cell_type": "markdown",
   "id": "02cd55d7-769d-4c11-bc72-19eb9fd3ad6b",
   "metadata": {},
   "source": [
    "## THE NESTED PROPERTIES DICTIONARY HAS BEEN FLATTENED!!!!  \n",
    "## CAPTURE ATTRIBUTES AND PROPERTIES AFTER FLATTENING FOR COMPARISON.  "
   ]
  },
  {
   "cell_type": "code",
   "execution_count": null,
   "id": "3f8cc61f-54fa-4825-8340-df0ab2596c64",
   "metadata": {},
   "outputs": [],
   "source": []
  },
  {
   "cell_type": "markdown",
   "id": "28be0289-8e04-4f02-a79e-1678f3bd4031",
   "metadata": {},
   "source": [
    "### 6.4.4. Edges attributes:"
   ]
  },
  {
   "cell_type": "code",
   "execution_count": null,
   "id": "1190cc22-b197-4a7e-a6c1-21e40630f96c",
   "metadata": {},
   "outputs": [],
   "source": []
  },
  {
   "cell_type": "code",
   "execution_count": null,
   "id": "b1a1204a-2d14-4dd5-bb1a-759dbbf04061",
   "metadata": {},
   "outputs": [],
   "source": []
  },
  {
   "cell_type": "markdown",
   "id": "57ea0579-4f4e-4280-b062-af6451d34696",
   "metadata": {},
   "source": [
    "## 6.5. Exploration & visualization:"
   ]
  },
  {
   "cell_type": "code",
   "execution_count": null,
   "id": "599114ad-9fcb-42c3-9e6e-c99579e772a0",
   "metadata": {},
   "outputs": [],
   "source": []
  },
  {
   "cell_type": "markdown",
   "id": "5cca96b9-91d8-4cb3-b878-8e6a422928fb",
   "metadata": {},
   "source": [
    "## 6.6. Graph summary:"
   ]
  },
  {
   "cell_type": "code",
   "execution_count": null,
   "id": "3c8653ed-e56a-4bc2-a4c5-d5af248b4129",
   "metadata": {},
   "outputs": [],
   "source": []
  },
  {
   "cell_type": "code",
   "execution_count": null,
   "id": "00b73d03-87cc-4e5f-b225-25f001233818",
   "metadata": {},
   "outputs": [],
   "source": []
  },
  {
   "cell_type": "code",
   "execution_count": 51,
   "id": "3c4af5e2-a00d-420a-843c-1207b0ff04d8",
   "metadata": {},
   "outputs": [],
   "source": [
    "# driver.close()"
   ]
  },
  {
   "cell_type": "code",
   "execution_count": null,
   "id": "7e437b67-d516-400c-998c-eebbdc4801bc",
   "metadata": {},
   "outputs": [],
   "source": []
  }
 ],
 "metadata": {
  "kernelspec": {
   "display_name": "Python (capstone_env)",
   "language": "python",
   "name": "capstone_env"
  },
  "language_info": {
   "codemirror_mode": {
    "name": "ipython",
    "version": 3
   },
   "file_extension": ".py",
   "mimetype": "text/x-python",
   "name": "python",
   "nbconvert_exporter": "python",
   "pygments_lexer": "ipython3",
   "version": "3.11.13"
  }
 },
 "nbformat": 4,
 "nbformat_minor": 5
}
